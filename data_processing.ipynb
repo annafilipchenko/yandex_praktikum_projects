{
 "cells": [
  {
   "cell_type": "markdown",
   "metadata": {},
   "source": [
    "## Исследование надёжности заёмщиков\n",
    "\n",
    "Заказчик — кредитный отдел банка. Нужно разобраться, влияет ли семейное положение и количество детей клиента на факт погашения кредита в срок. Входные данные от банка — статистика о платёжеспособности клиентов.\n",
    "\n",
    "Результаты исследования будут учтены при построении модели **кредитного скоринга** — специальной системы, которая оценивает способность потенциального заёмщика вернуть кредит банку."
   ]
  },
  {
   "cell_type": "markdown",
   "metadata": {},
   "source": [
    "### Шаг 1. Откройте файл с данными и изучите общую информацию. "
   ]
  },
  {
   "cell_type": "code",
   "execution_count": 1,
   "metadata": {},
   "outputs": [],
   "source": [
    "import pandas as pd\n",
    "df = pd.read_csv('/datasets/data.csv')"
   ]
  },
  {
   "cell_type": "code",
   "execution_count": 2,
   "metadata": {},
   "outputs": [
    {
     "data": {
      "text/html": [
       "<div>\n",
       "<style scoped>\n",
       "    .dataframe tbody tr th:only-of-type {\n",
       "        vertical-align: middle;\n",
       "    }\n",
       "\n",
       "    .dataframe tbody tr th {\n",
       "        vertical-align: top;\n",
       "    }\n",
       "\n",
       "    .dataframe thead th {\n",
       "        text-align: right;\n",
       "    }\n",
       "</style>\n",
       "<table border=\"1\" class=\"dataframe\">\n",
       "  <thead>\n",
       "    <tr style=\"text-align: right;\">\n",
       "      <th></th>\n",
       "      <th>children</th>\n",
       "      <th>days_employed</th>\n",
       "      <th>dob_years</th>\n",
       "      <th>education</th>\n",
       "      <th>education_id</th>\n",
       "      <th>family_status</th>\n",
       "      <th>family_status_id</th>\n",
       "      <th>gender</th>\n",
       "      <th>income_type</th>\n",
       "      <th>debt</th>\n",
       "      <th>total_income</th>\n",
       "      <th>purpose</th>\n",
       "    </tr>\n",
       "  </thead>\n",
       "  <tbody>\n",
       "    <tr>\n",
       "      <td>0</td>\n",
       "      <td>1</td>\n",
       "      <td>-8437.673028</td>\n",
       "      <td>42</td>\n",
       "      <td>высшее</td>\n",
       "      <td>0</td>\n",
       "      <td>женат / замужем</td>\n",
       "      <td>0</td>\n",
       "      <td>F</td>\n",
       "      <td>сотрудник</td>\n",
       "      <td>0</td>\n",
       "      <td>253875.639453</td>\n",
       "      <td>покупка жилья</td>\n",
       "    </tr>\n",
       "    <tr>\n",
       "      <td>1</td>\n",
       "      <td>1</td>\n",
       "      <td>-4024.803754</td>\n",
       "      <td>36</td>\n",
       "      <td>среднее</td>\n",
       "      <td>1</td>\n",
       "      <td>женат / замужем</td>\n",
       "      <td>0</td>\n",
       "      <td>F</td>\n",
       "      <td>сотрудник</td>\n",
       "      <td>0</td>\n",
       "      <td>112080.014102</td>\n",
       "      <td>приобретение автомобиля</td>\n",
       "    </tr>\n",
       "    <tr>\n",
       "      <td>2</td>\n",
       "      <td>0</td>\n",
       "      <td>-5623.422610</td>\n",
       "      <td>33</td>\n",
       "      <td>Среднее</td>\n",
       "      <td>1</td>\n",
       "      <td>женат / замужем</td>\n",
       "      <td>0</td>\n",
       "      <td>M</td>\n",
       "      <td>сотрудник</td>\n",
       "      <td>0</td>\n",
       "      <td>145885.952297</td>\n",
       "      <td>покупка жилья</td>\n",
       "    </tr>\n",
       "    <tr>\n",
       "      <td>3</td>\n",
       "      <td>3</td>\n",
       "      <td>-4124.747207</td>\n",
       "      <td>32</td>\n",
       "      <td>среднее</td>\n",
       "      <td>1</td>\n",
       "      <td>женат / замужем</td>\n",
       "      <td>0</td>\n",
       "      <td>M</td>\n",
       "      <td>сотрудник</td>\n",
       "      <td>0</td>\n",
       "      <td>267628.550329</td>\n",
       "      <td>дополнительное образование</td>\n",
       "    </tr>\n",
       "    <tr>\n",
       "      <td>4</td>\n",
       "      <td>0</td>\n",
       "      <td>340266.072047</td>\n",
       "      <td>53</td>\n",
       "      <td>среднее</td>\n",
       "      <td>1</td>\n",
       "      <td>гражданский брак</td>\n",
       "      <td>1</td>\n",
       "      <td>F</td>\n",
       "      <td>пенсионер</td>\n",
       "      <td>0</td>\n",
       "      <td>158616.077870</td>\n",
       "      <td>сыграть свадьбу</td>\n",
       "    </tr>\n",
       "  </tbody>\n",
       "</table>\n",
       "</div>"
      ],
      "text/plain": [
       "   children  days_employed  dob_years education  education_id  \\\n",
       "0         1   -8437.673028         42    высшее             0   \n",
       "1         1   -4024.803754         36   среднее             1   \n",
       "2         0   -5623.422610         33   Среднее             1   \n",
       "3         3   -4124.747207         32   среднее             1   \n",
       "4         0  340266.072047         53   среднее             1   \n",
       "\n",
       "      family_status  family_status_id gender income_type  debt   total_income  \\\n",
       "0   женат / замужем                 0      F   сотрудник     0  253875.639453   \n",
       "1   женат / замужем                 0      F   сотрудник     0  112080.014102   \n",
       "2   женат / замужем                 0      M   сотрудник     0  145885.952297   \n",
       "3   женат / замужем                 0      M   сотрудник     0  267628.550329   \n",
       "4  гражданский брак                 1      F   пенсионер     0  158616.077870   \n",
       "\n",
       "                      purpose  \n",
       "0               покупка жилья  \n",
       "1     приобретение автомобиля  \n",
       "2               покупка жилья  \n",
       "3  дополнительное образование  \n",
       "4             сыграть свадьбу  "
      ]
     },
     "execution_count": 2,
     "metadata": {},
     "output_type": "execute_result"
    }
   ],
   "source": [
    "df.head()"
   ]
  },
  {
   "cell_type": "code",
   "execution_count": 3,
   "metadata": {},
   "outputs": [
    {
     "name": "stdout",
     "output_type": "stream",
     "text": [
      "<class 'pandas.core.frame.DataFrame'>\n",
      "RangeIndex: 21525 entries, 0 to 21524\n",
      "Data columns (total 12 columns):\n",
      "children            21525 non-null int64\n",
      "days_employed       19351 non-null float64\n",
      "dob_years           21525 non-null int64\n",
      "education           21525 non-null object\n",
      "education_id        21525 non-null int64\n",
      "family_status       21525 non-null object\n",
      "family_status_id    21525 non-null int64\n",
      "gender              21525 non-null object\n",
      "income_type         21525 non-null object\n",
      "debt                21525 non-null int64\n",
      "total_income        19351 non-null float64\n",
      "purpose             21525 non-null object\n",
      "dtypes: float64(2), int64(5), object(5)\n",
      "memory usage: 2.0+ MB\n"
     ]
    }
   ],
   "source": [
    "df.info()"
   ]
  },
  {
   "cell_type": "markdown",
   "metadata": {},
   "source": [
    "### Вывод"
   ]
  },
  {
   "cell_type": "markdown",
   "metadata": {},
   "source": [
    "1. Общее количество строк в таблице: 21525\n",
    "2. Названия всех столбцов корректные и не требуют переименования\n",
    "3. В столбцах 'days_employed' и 'total_income' есть пропущенные значения. Количество пропущенных значений в каждом столбце: 2174 (10% от общего количества)"
   ]
  },
  {
   "cell_type": "markdown",
   "metadata": {},
   "source": [
    "### Обработка пропусков"
   ]
  },
  {
   "cell_type": "code",
   "execution_count": 4,
   "metadata": {},
   "outputs": [
    {
     "data": {
      "text/plain": [
       " 0     14149\n",
       " 1      4818\n",
       " 2      2055\n",
       " 3       330\n",
       " 20       76\n",
       "-1        47\n",
       " 4        41\n",
       " 5         9\n",
       "Name: children, dtype: int64"
      ]
     },
     "execution_count": 4,
     "metadata": {},
     "output_type": "execute_result"
    }
   ],
   "source": [
    "df['children'].value_counts()"
   ]
  },
  {
   "cell_type": "markdown",
   "metadata": {},
   "source": [
    "В столбце 'children' есть значения '-1' и '20'. Видимо, это ошибки ввода. \n",
    "Заменяю на 1 и 2, это оптимально так как ошибочных данных менее 1%."
   ]
  },
  {
   "cell_type": "code",
   "execution_count": 5,
   "metadata": {},
   "outputs": [],
   "source": [
    "df['children'] = df['children'].replace(-1, 1)\n",
    "df['children'] = df['children'].replace(20, 2)"
   ]
  },
  {
   "cell_type": "code",
   "execution_count": 6,
   "metadata": {},
   "outputs": [
    {
     "data": {
      "text/plain": [
       "0    14149\n",
       "1     4865\n",
       "2     2131\n",
       "3      330\n",
       "4       41\n",
       "5        9\n",
       "Name: children, dtype: int64"
      ]
     },
     "execution_count": 6,
     "metadata": {},
     "output_type": "execute_result"
    }
   ],
   "source": [
    "#Проверяем результат\n",
    "df['children'].value_counts()"
   ]
  },
  {
   "cell_type": "code",
   "execution_count": 7,
   "metadata": {},
   "outputs": [
    {
     "data": {
      "text/plain": [
       "F      14236\n",
       "M       7288\n",
       "XNA        1\n",
       "Name: gender, dtype: int64"
      ]
     },
     "execution_count": 7,
     "metadata": {},
     "output_type": "execute_result"
    }
   ],
   "source": [
    "df['gender'].value_counts()"
   ]
  },
  {
   "cell_type": "markdown",
   "metadata": {},
   "source": [
    "Столбец 'gender' - есть одно пропущенное значение 'XNA'. Заменяю на F случайным образом, так как это не повлияет на результат исследования."
   ]
  },
  {
   "cell_type": "code",
   "execution_count": 8,
   "metadata": {},
   "outputs": [],
   "source": [
    "df['gender'] = df['gender'].replace('XNA', 'F')"
   ]
  },
  {
   "cell_type": "code",
   "execution_count": 9,
   "metadata": {},
   "outputs": [
    {
     "data": {
      "text/plain": [
       "F    14237\n",
       "M     7288\n",
       "Name: gender, dtype: int64"
      ]
     },
     "execution_count": 9,
     "metadata": {},
     "output_type": "execute_result"
    }
   ],
   "source": [
    "#Проверяем результат\n",
    "df['gender'].value_counts()"
   ]
  },
  {
   "cell_type": "code",
   "execution_count": 10,
   "metadata": {},
   "outputs": [
    {
     "name": "stdout",
     "output_type": "stream",
     "text": [
      "[ 0 19 20 21 22 23 24 25 26 27 28 29 30 31 32 33 34 35 36 37 38 39 40 41\n",
      " 42 43 44 45 46 47 48 49 50 51 52 53 54 55 56 57 58 59 60 61 62 63 64 65\n",
      " 66 67 68 69 70 71 72 73 74 75]\n"
     ]
    }
   ],
   "source": [
    "unique_dob_years = df['dob_years'].unique()\n",
    "unique_dob_years.sort()\n",
    "print(unique_dob_years)"
   ]
  },
  {
   "cell_type": "code",
   "execution_count": 11,
   "metadata": {},
   "outputs": [
    {
     "data": {
      "text/plain": [
       "(30.0, 45.0]      0.395075\n",
       "(45.0, 60.0]      0.327851\n",
       "(15.0, 30.0]      0.172962\n",
       "(60.0, 75.0]      0.099419\n",
       "(-0.076, 15.0]    0.004692\n",
       "Name: dob_years, dtype: float64"
      ]
     },
     "execution_count": 11,
     "metadata": {},
     "output_type": "execute_result"
    }
   ],
   "source": [
    "df['dob_years'].value_counts(normalize=True, bins = 5)"
   ]
  },
  {
   "cell_type": "markdown",
   "metadata": {},
   "source": [
    "В столбце 'dob_years' есть значения '0' (менее 0,5%). Заменяю медианой по всему столбцу. "
   ]
  },
  {
   "cell_type": "code",
   "execution_count": 12,
   "metadata": {},
   "outputs": [],
   "source": [
    "median_dob_years = df['dob_years'].median()\n",
    "def change_dob_years(years):\n",
    "    if years == 0:\n",
    "        return median_dob_years\n",
    "    return years\n",
    "\n",
    "df['dob_years'] = df['dob_years'].apply(change_dob_years)"
   ]
  },
  {
   "cell_type": "code",
   "execution_count": 13,
   "metadata": {},
   "outputs": [
    {
     "name": "stdout",
     "output_type": "stream",
     "text": [
      "[19. 20. 21. 22. 23. 24. 25. 26. 27. 28. 29. 30. 31. 32. 33. 34. 35. 36.\n",
      " 37. 38. 39. 40. 41. 42. 43. 44. 45. 46. 47. 48. 49. 50. 51. 52. 53. 54.\n",
      " 55. 56. 57. 58. 59. 60. 61. 62. 63. 64. 65. 66. 67. 68. 69. 70. 71. 72.\n",
      " 73. 74. 75.]\n"
     ]
    }
   ],
   "source": [
    "#Проверяем результат\n",
    "unique_dob_years = df['dob_years'].unique()\n",
    "unique_dob_years.sort()\n",
    "print(unique_dob_years)"
   ]
  },
  {
   "cell_type": "code",
   "execution_count": 14,
   "metadata": {
    "scrolled": true
   },
   "outputs": [
    {
     "data": {
      "text/plain": [
       "count     19351.000000\n",
       "mean      63046.497661\n",
       "std      140827.311974\n",
       "min      -18388.949901\n",
       "25%       -2747.423625\n",
       "50%       -1203.369529\n",
       "75%        -291.095954\n",
       "max      401755.400475\n",
       "Name: days_employed, dtype: float64"
      ]
     },
     "execution_count": 14,
     "metadata": {},
     "output_type": "execute_result"
    }
   ],
   "source": [
    "df['days_employed'].describe()"
   ]
  },
  {
   "cell_type": "code",
   "execution_count": 15,
   "metadata": {},
   "outputs": [
    {
     "name": "stdout",
     "output_type": "stream",
     "text": [
      "count      3445.000000\n",
      "mean     365004.309916\n",
      "std       21075.016396\n",
      "min      328728.720605\n",
      "25%      346639.413916\n",
      "50%      365213.306266\n",
      "75%      383246.444219\n",
      "max      401755.400475\n",
      "Name: days_employed, dtype: float64\n"
     ]
    }
   ],
   "source": [
    "print(df['days_employed'].loc[df['days_employed'] >= 0 ].describe())"
   ]
  },
  {
   "cell_type": "code",
   "execution_count": 16,
   "metadata": {},
   "outputs": [
    {
     "name": "stdout",
     "output_type": "stream",
     "text": [
      "count    15906.000000\n",
      "mean     -2353.015932\n",
      "std       2304.243851\n",
      "min     -18388.949901\n",
      "25%      -3157.480084\n",
      "50%      -1630.019381\n",
      "75%       -756.371964\n",
      "max        -24.141633\n",
      "Name: days_employed, dtype: float64\n"
     ]
    }
   ],
   "source": [
    "print(df['days_employed'].loc[df['days_employed'] < 0 ].describe())"
   ]
  },
  {
   "cell_type": "markdown",
   "metadata": {},
   "source": [
    "В столбце 'days_employed' присутствуют значения с минусом, а положительные значения нереалистично большие. Видимо, данные были собраны с использованием разных методов. \n",
    "Установим максимальное значение трудового стажа - 20 075 дней (55 лет трудового стажа умноженные на 365).\n",
    "Как видно, значения с минусом похожи на правду, их приведем к модулю. "
   ]
  },
  {
   "cell_type": "code",
   "execution_count": 17,
   "metadata": {},
   "outputs": [],
   "source": [
    "df['days_employed'] = df['days_employed'].abs()"
   ]
  },
  {
   "cell_type": "markdown",
   "metadata": {},
   "source": [
    "Предположим, что нереалистично большие значения трудового стажа это значения в часах. В таком случае переведем часы в дни."
   ]
  },
  {
   "cell_type": "code",
   "execution_count": 18,
   "metadata": {},
   "outputs": [],
   "source": [
    "max_days_employed = 55*365\n",
    "def converting_hours_to_days(days):\n",
    "    if days > max_days_employed:\n",
    "        return days/24\n",
    "    return days\n",
    "\n",
    "df['days_employed'] = df['days_employed'].apply(converting_hours_to_days)"
   ]
  },
  {
   "cell_type": "code",
   "execution_count": 19,
   "metadata": {},
   "outputs": [
    {
     "data": {
      "text/plain": [
       "count    19351.000000\n",
       "mean      4641.641176\n",
       "std       5355.964289\n",
       "min         24.141633\n",
       "25%        927.009265\n",
       "50%       2194.220567\n",
       "75%       5537.882441\n",
       "max      18388.949901\n",
       "Name: days_employed, dtype: float64"
      ]
     },
     "execution_count": 19,
     "metadata": {},
     "output_type": "execute_result"
    }
   ],
   "source": [
    "#Проверяем результат\n",
    "df['days_employed'].describe()"
   ]
  },
  {
   "cell_type": "markdown",
   "metadata": {},
   "source": [
    "В целом данные выглядят реалистично."
   ]
  },
  {
   "cell_type": "code",
   "execution_count": 20,
   "metadata": {
    "scrolled": true
   },
   "outputs": [
    {
     "data": {
      "text/html": [
       "<div>\n",
       "<style scoped>\n",
       "    .dataframe tbody tr th:only-of-type {\n",
       "        vertical-align: middle;\n",
       "    }\n",
       "\n",
       "    .dataframe tbody tr th {\n",
       "        vertical-align: top;\n",
       "    }\n",
       "\n",
       "    .dataframe thead th {\n",
       "        text-align: right;\n",
       "    }\n",
       "</style>\n",
       "<table border=\"1\" class=\"dataframe\">\n",
       "  <thead>\n",
       "    <tr style=\"text-align: right;\">\n",
       "      <th></th>\n",
       "      <th>mean</th>\n",
       "      <th>median</th>\n",
       "      <th>max</th>\n",
       "    </tr>\n",
       "    <tr>\n",
       "      <th>dob_years</th>\n",
       "      <th></th>\n",
       "      <th></th>\n",
       "      <th></th>\n",
       "    </tr>\n",
       "  </thead>\n",
       "  <tbody>\n",
       "    <tr>\n",
       "      <td>19.0</td>\n",
       "      <td>633.678086</td>\n",
       "      <td>724.492610</td>\n",
       "      <td>1020.183130</td>\n",
       "    </tr>\n",
       "    <tr>\n",
       "      <td>20.0</td>\n",
       "      <td>684.944308</td>\n",
       "      <td>674.838979</td>\n",
       "      <td>1547.804060</td>\n",
       "    </tr>\n",
       "    <tr>\n",
       "      <td>21.0</td>\n",
       "      <td>709.440930</td>\n",
       "      <td>618.733817</td>\n",
       "      <td>1948.929810</td>\n",
       "    </tr>\n",
       "    <tr>\n",
       "      <td>22.0</td>\n",
       "      <td>860.696860</td>\n",
       "      <td>703.310078</td>\n",
       "      <td>13948.510826</td>\n",
       "    </tr>\n",
       "    <tr>\n",
       "      <td>23.0</td>\n",
       "      <td>827.309437</td>\n",
       "      <td>690.204208</td>\n",
       "      <td>2571.577635</td>\n",
       "    </tr>\n",
       "    <tr>\n",
       "      <td>24.0</td>\n",
       "      <td>1026.405485</td>\n",
       "      <td>947.731043</td>\n",
       "      <td>3385.118897</td>\n",
       "    </tr>\n",
       "    <tr>\n",
       "      <td>25.0</td>\n",
       "      <td>1088.406453</td>\n",
       "      <td>919.199388</td>\n",
       "      <td>3896.705122</td>\n",
       "    </tr>\n",
       "    <tr>\n",
       "      <td>26.0</td>\n",
       "      <td>1278.050735</td>\n",
       "      <td>1083.658132</td>\n",
       "      <td>16224.881982</td>\n",
       "    </tr>\n",
       "    <tr>\n",
       "      <td>27.0</td>\n",
       "      <td>1448.262099</td>\n",
       "      <td>1166.212160</td>\n",
       "      <td>15812.170938</td>\n",
       "    </tr>\n",
       "    <tr>\n",
       "      <td>28.0</td>\n",
       "      <td>1427.268949</td>\n",
       "      <td>1141.705450</td>\n",
       "      <td>14597.531676</td>\n",
       "    </tr>\n",
       "    <tr>\n",
       "      <td>29.0</td>\n",
       "      <td>1553.823200</td>\n",
       "      <td>1315.453550</td>\n",
       "      <td>5673.867214</td>\n",
       "    </tr>\n",
       "    <tr>\n",
       "      <td>30.0</td>\n",
       "      <td>1696.039355</td>\n",
       "      <td>1420.586863</td>\n",
       "      <td>5359.151457</td>\n",
       "    </tr>\n",
       "    <tr>\n",
       "      <td>31.0</td>\n",
       "      <td>1677.790261</td>\n",
       "      <td>1308.901135</td>\n",
       "      <td>14063.519451</td>\n",
       "    </tr>\n",
       "    <tr>\n",
       "      <td>32.0</td>\n",
       "      <td>1814.457339</td>\n",
       "      <td>1446.622542</td>\n",
       "      <td>14710.668755</td>\n",
       "    </tr>\n",
       "    <tr>\n",
       "      <td>33.0</td>\n",
       "      <td>1919.095714</td>\n",
       "      <td>1426.415003</td>\n",
       "      <td>16579.375133</td>\n",
       "    </tr>\n",
       "    <tr>\n",
       "      <td>34.0</td>\n",
       "      <td>2062.940824</td>\n",
       "      <td>1615.910188</td>\n",
       "      <td>16564.531969</td>\n",
       "    </tr>\n",
       "    <tr>\n",
       "      <td>35.0</td>\n",
       "      <td>2132.158017</td>\n",
       "      <td>1613.494818</td>\n",
       "      <td>14980.733146</td>\n",
       "    </tr>\n",
       "    <tr>\n",
       "      <td>36.0</td>\n",
       "      <td>2352.149679</td>\n",
       "      <td>1799.520465</td>\n",
       "      <td>15717.042032</td>\n",
       "    </tr>\n",
       "    <tr>\n",
       "      <td>37.0</td>\n",
       "      <td>2311.543412</td>\n",
       "      <td>1816.713382</td>\n",
       "      <td>15993.010180</td>\n",
       "    </tr>\n",
       "    <tr>\n",
       "      <td>38.0</td>\n",
       "      <td>2496.816814</td>\n",
       "      <td>1817.194286</td>\n",
       "      <td>16456.219944</td>\n",
       "    </tr>\n",
       "    <tr>\n",
       "      <td>39.0</td>\n",
       "      <td>2508.512137</td>\n",
       "      <td>1891.388566</td>\n",
       "      <td>16635.852021</td>\n",
       "    </tr>\n",
       "    <tr>\n",
       "      <td>40.0</td>\n",
       "      <td>2513.445105</td>\n",
       "      <td>1728.936706</td>\n",
       "      <td>16591.942999</td>\n",
       "    </tr>\n",
       "    <tr>\n",
       "      <td>41.0</td>\n",
       "      <td>2573.381726</td>\n",
       "      <td>1864.657692</td>\n",
       "      <td>16526.957458</td>\n",
       "    </tr>\n",
       "    <tr>\n",
       "      <td>42.0</td>\n",
       "      <td>3236.832069</td>\n",
       "      <td>2210.575665</td>\n",
       "      <td>16708.015654</td>\n",
       "    </tr>\n",
       "    <tr>\n",
       "      <td>43.0</td>\n",
       "      <td>2734.788800</td>\n",
       "      <td>1869.019899</td>\n",
       "      <td>16514.886370</td>\n",
       "    </tr>\n",
       "    <tr>\n",
       "      <td>44.0</td>\n",
       "      <td>3058.158214</td>\n",
       "      <td>2084.330015</td>\n",
       "      <td>16272.364035</td>\n",
       "    </tr>\n",
       "    <tr>\n",
       "      <td>45.0</td>\n",
       "      <td>3098.676466</td>\n",
       "      <td>2254.431130</td>\n",
       "      <td>16569.646038</td>\n",
       "    </tr>\n",
       "    <tr>\n",
       "      <td>46.0</td>\n",
       "      <td>3252.380146</td>\n",
       "      <td>2100.473217</td>\n",
       "      <td>16689.842433</td>\n",
       "    </tr>\n",
       "    <tr>\n",
       "      <td>47.0</td>\n",
       "      <td>3344.879667</td>\n",
       "      <td>2203.078545</td>\n",
       "      <td>16689.225363</td>\n",
       "    </tr>\n",
       "    <tr>\n",
       "      <td>48.0</td>\n",
       "      <td>3420.771949</td>\n",
       "      <td>2429.674518</td>\n",
       "      <td>16648.338473</td>\n",
       "    </tr>\n",
       "    <tr>\n",
       "      <td>49.0</td>\n",
       "      <td>3885.156869</td>\n",
       "      <td>2560.317106</td>\n",
       "      <td>16706.426994</td>\n",
       "    </tr>\n",
       "    <tr>\n",
       "      <td>50.0</td>\n",
       "      <td>4680.323093</td>\n",
       "      <td>2626.986257</td>\n",
       "      <td>16716.204891</td>\n",
       "    </tr>\n",
       "    <tr>\n",
       "      <td>51.0</td>\n",
       "      <td>5238.136963</td>\n",
       "      <td>2846.080700</td>\n",
       "      <td>16646.857243</td>\n",
       "    </tr>\n",
       "    <tr>\n",
       "      <td>52.0</td>\n",
       "      <td>5887.726606</td>\n",
       "      <td>3395.639568</td>\n",
       "      <td>16724.239006</td>\n",
       "    </tr>\n",
       "    <tr>\n",
       "      <td>53.0</td>\n",
       "      <td>6268.328040</td>\n",
       "      <td>3650.007523</td>\n",
       "      <td>16709.193441</td>\n",
       "    </tr>\n",
       "    <tr>\n",
       "      <td>54.0</td>\n",
       "      <td>7160.744930</td>\n",
       "      <td>4026.541145</td>\n",
       "      <td>16732.246054</td>\n",
       "    </tr>\n",
       "    <tr>\n",
       "      <td>55.0</td>\n",
       "      <td>8366.739367</td>\n",
       "      <td>7043.471139</td>\n",
       "      <td>16732.299864</td>\n",
       "    </tr>\n",
       "    <tr>\n",
       "      <td>56.0</td>\n",
       "      <td>8361.815553</td>\n",
       "      <td>6850.179463</td>\n",
       "      <td>16739.808353</td>\n",
       "    </tr>\n",
       "    <tr>\n",
       "      <td>57.0</td>\n",
       "      <td>9635.488911</td>\n",
       "      <td>13926.326157</td>\n",
       "      <td>16730.177465</td>\n",
       "    </tr>\n",
       "    <tr>\n",
       "      <td>58.0</td>\n",
       "      <td>9381.056663</td>\n",
       "      <td>13817.626857</td>\n",
       "      <td>16732.935510</td>\n",
       "    </tr>\n",
       "    <tr>\n",
       "      <td>59.0</td>\n",
       "      <td>10888.522019</td>\n",
       "      <td>14417.103080</td>\n",
       "      <td>16733.936484</td>\n",
       "    </tr>\n",
       "    <tr>\n",
       "      <td>60.0</td>\n",
       "      <td>11976.070870</td>\n",
       "      <td>14574.440068</td>\n",
       "      <td>16736.436110</td>\n",
       "    </tr>\n",
       "    <tr>\n",
       "      <td>61.0</td>\n",
       "      <td>11536.474713</td>\n",
       "      <td>14371.636007</td>\n",
       "      <td>18388.949901</td>\n",
       "    </tr>\n",
       "    <tr>\n",
       "      <td>62.0</td>\n",
       "      <td>12162.903348</td>\n",
       "      <td>14790.904924</td>\n",
       "      <td>16726.701431</td>\n",
       "    </tr>\n",
       "    <tr>\n",
       "      <td>63.0</td>\n",
       "      <td>13064.947300</td>\n",
       "      <td>14936.762331</td>\n",
       "      <td>16734.151387</td>\n",
       "    </tr>\n",
       "    <tr>\n",
       "      <td>64.0</td>\n",
       "      <td>12819.442547</td>\n",
       "      <td>14840.866936</td>\n",
       "      <td>16728.612781</td>\n",
       "    </tr>\n",
       "    <tr>\n",
       "      <td>65.0</td>\n",
       "      <td>12826.601390</td>\n",
       "      <td>14902.851210</td>\n",
       "      <td>16721.748525</td>\n",
       "    </tr>\n",
       "    <tr>\n",
       "      <td>66.0</td>\n",
       "      <td>13617.535941</td>\n",
       "      <td>15159.476623</td>\n",
       "      <td>16722.746947</td>\n",
       "    </tr>\n",
       "    <tr>\n",
       "      <td>67.0</td>\n",
       "      <td>13670.378087</td>\n",
       "      <td>14884.285634</td>\n",
       "      <td>16724.107115</td>\n",
       "    </tr>\n",
       "    <tr>\n",
       "      <td>68.0</td>\n",
       "      <td>14105.341962</td>\n",
       "      <td>15219.924774</td>\n",
       "      <td>16731.531398</td>\n",
       "    </tr>\n",
       "    <tr>\n",
       "      <td>69.0</td>\n",
       "      <td>14369.789848</td>\n",
       "      <td>15096.390637</td>\n",
       "      <td>16738.158823</td>\n",
       "    </tr>\n",
       "    <tr>\n",
       "      <td>70.0</td>\n",
       "      <td>13830.027920</td>\n",
       "      <td>15116.157187</td>\n",
       "      <td>16722.152873</td>\n",
       "    </tr>\n",
       "    <tr>\n",
       "      <td>71.0</td>\n",
       "      <td>14115.537934</td>\n",
       "      <td>14987.539109</td>\n",
       "      <td>16655.669174</td>\n",
       "    </tr>\n",
       "    <tr>\n",
       "      <td>72.0</td>\n",
       "      <td>14494.869602</td>\n",
       "      <td>15307.457215</td>\n",
       "      <td>16667.023051</td>\n",
       "    </tr>\n",
       "    <tr>\n",
       "      <td>73.0</td>\n",
       "      <td>13546.481526</td>\n",
       "      <td>15178.793719</td>\n",
       "      <td>16648.495110</td>\n",
       "    </tr>\n",
       "    <tr>\n",
       "      <td>74.0</td>\n",
       "      <td>11396.274039</td>\n",
       "      <td>14294.832547</td>\n",
       "      <td>15839.599460</td>\n",
       "    </tr>\n",
       "    <tr>\n",
       "      <td>75.0</td>\n",
       "      <td>1678.969771</td>\n",
       "      <td>1678.969771</td>\n",
       "      <td>1678.969771</td>\n",
       "    </tr>\n",
       "  </tbody>\n",
       "</table>\n",
       "</div>"
      ],
      "text/plain": [
       "                   mean        median           max\n",
       "dob_years                                          \n",
       "19.0         633.678086    724.492610   1020.183130\n",
       "20.0         684.944308    674.838979   1547.804060\n",
       "21.0         709.440930    618.733817   1948.929810\n",
       "22.0         860.696860    703.310078  13948.510826\n",
       "23.0         827.309437    690.204208   2571.577635\n",
       "24.0        1026.405485    947.731043   3385.118897\n",
       "25.0        1088.406453    919.199388   3896.705122\n",
       "26.0        1278.050735   1083.658132  16224.881982\n",
       "27.0        1448.262099   1166.212160  15812.170938\n",
       "28.0        1427.268949   1141.705450  14597.531676\n",
       "29.0        1553.823200   1315.453550   5673.867214\n",
       "30.0        1696.039355   1420.586863   5359.151457\n",
       "31.0        1677.790261   1308.901135  14063.519451\n",
       "32.0        1814.457339   1446.622542  14710.668755\n",
       "33.0        1919.095714   1426.415003  16579.375133\n",
       "34.0        2062.940824   1615.910188  16564.531969\n",
       "35.0        2132.158017   1613.494818  14980.733146\n",
       "36.0        2352.149679   1799.520465  15717.042032\n",
       "37.0        2311.543412   1816.713382  15993.010180\n",
       "38.0        2496.816814   1817.194286  16456.219944\n",
       "39.0        2508.512137   1891.388566  16635.852021\n",
       "40.0        2513.445105   1728.936706  16591.942999\n",
       "41.0        2573.381726   1864.657692  16526.957458\n",
       "42.0        3236.832069   2210.575665  16708.015654\n",
       "43.0        2734.788800   1869.019899  16514.886370\n",
       "44.0        3058.158214   2084.330015  16272.364035\n",
       "45.0        3098.676466   2254.431130  16569.646038\n",
       "46.0        3252.380146   2100.473217  16689.842433\n",
       "47.0        3344.879667   2203.078545  16689.225363\n",
       "48.0        3420.771949   2429.674518  16648.338473\n",
       "49.0        3885.156869   2560.317106  16706.426994\n",
       "50.0        4680.323093   2626.986257  16716.204891\n",
       "51.0        5238.136963   2846.080700  16646.857243\n",
       "52.0        5887.726606   3395.639568  16724.239006\n",
       "53.0        6268.328040   3650.007523  16709.193441\n",
       "54.0        7160.744930   4026.541145  16732.246054\n",
       "55.0        8366.739367   7043.471139  16732.299864\n",
       "56.0        8361.815553   6850.179463  16739.808353\n",
       "57.0        9635.488911  13926.326157  16730.177465\n",
       "58.0        9381.056663  13817.626857  16732.935510\n",
       "59.0       10888.522019  14417.103080  16733.936484\n",
       "60.0       11976.070870  14574.440068  16736.436110\n",
       "61.0       11536.474713  14371.636007  18388.949901\n",
       "62.0       12162.903348  14790.904924  16726.701431\n",
       "63.0       13064.947300  14936.762331  16734.151387\n",
       "64.0       12819.442547  14840.866936  16728.612781\n",
       "65.0       12826.601390  14902.851210  16721.748525\n",
       "66.0       13617.535941  15159.476623  16722.746947\n",
       "67.0       13670.378087  14884.285634  16724.107115\n",
       "68.0       14105.341962  15219.924774  16731.531398\n",
       "69.0       14369.789848  15096.390637  16738.158823\n",
       "70.0       13830.027920  15116.157187  16722.152873\n",
       "71.0       14115.537934  14987.539109  16655.669174\n",
       "72.0       14494.869602  15307.457215  16667.023051\n",
       "73.0       13546.481526  15178.793719  16648.495110\n",
       "74.0       11396.274039  14294.832547  15839.599460\n",
       "75.0        1678.969771   1678.969771   1678.969771"
      ]
     },
     "execution_count": 20,
     "metadata": {},
     "output_type": "execute_result"
    }
   ],
   "source": [
    "df.groupby('dob_years')['days_employed'].agg(['mean','median','max'])"
   ]
  },
  {
   "cell_type": "markdown",
   "metadata": {},
   "source": [
    "При дополнительной проверке видно, что максимальные значения стажа во многих случаях нереалистичны по отношению к возрасту клиентов. Также странным выглядит скачок значения медианы после 56 лет. \n",
    "Оставляем полученные значения, так как для решения этой проблемы нужна дополнительная информация. На итоговые выводы признак 'days_employed' не повлияет. "
   ]
  },
  {
   "cell_type": "markdown",
   "metadata": {},
   "source": [
    "Также мы знаем, что в данном столбце есть пропущенные значения. Можем ничего не делать с пропущенными значениями, так как у человека просто может не быть трудового стажа.  Но если предположить, что кредит одобряют только при наличии минимального трудового стажа, то пропущенные значения  - это ошибки при сборе данных. Заполняем пропуски средней по возрасту."
   ]
  },
  {
   "cell_type": "code",
   "execution_count": 21,
   "metadata": {},
   "outputs": [],
   "source": [
    "df['days_employed'] = df.groupby('dob_years') ['days_employed'].transform(lambda x: x.fillna(x.mean()))"
   ]
  },
  {
   "cell_type": "code",
   "execution_count": 22,
   "metadata": {},
   "outputs": [
    {
     "data": {
      "text/plain": [
       "21525"
      ]
     },
     "execution_count": 22,
     "metadata": {},
     "output_type": "execute_result"
    }
   ],
   "source": [
    "#Проверяем результат\n",
    "df['days_employed'].count()"
   ]
  },
  {
   "cell_type": "code",
   "execution_count": 23,
   "metadata": {},
   "outputs": [
    {
     "data": {
      "text/plain": [
       "count    1.935100e+04\n",
       "mean     1.674223e+05\n",
       "std      1.029716e+05\n",
       "min      2.066726e+04\n",
       "25%      1.030532e+05\n",
       "50%      1.450179e+05\n",
       "75%      2.034351e+05\n",
       "max      2.265604e+06\n",
       "Name: total_income, dtype: float64"
      ]
     },
     "execution_count": 23,
     "metadata": {},
     "output_type": "execute_result"
    }
   ],
   "source": [
    "df['total_income'].describe()"
   ]
  },
  {
   "cell_type": "markdown",
   "metadata": {},
   "source": [
    "В столбце 'total_income' есть пропущенные значения. Можем ничего не делать с пропущенными значениями, так как у человека может не быть дохода.  Но если предположить, что кредит не одобряют без дохода, то пропущенные значения  - это ошибки при сборе данных. Заполняем пропуски медианой по типу занятости."
   ]
  },
  {
   "cell_type": "code",
   "execution_count": 24,
   "metadata": {},
   "outputs": [],
   "source": [
    "df['total_income'] = df.groupby('income_type') ['total_income'].transform(lambda x: x.fillna(x.median()))"
   ]
  },
  {
   "cell_type": "code",
   "execution_count": 25,
   "metadata": {},
   "outputs": [
    {
     "name": "stdout",
     "output_type": "stream",
     "text": [
      "<class 'pandas.core.frame.DataFrame'>\n",
      "RangeIndex: 21525 entries, 0 to 21524\n",
      "Data columns (total 12 columns):\n",
      "children            21525 non-null int64\n",
      "days_employed       21525 non-null float64\n",
      "dob_years           21525 non-null float64\n",
      "education           21525 non-null object\n",
      "education_id        21525 non-null int64\n",
      "family_status       21525 non-null object\n",
      "family_status_id    21525 non-null int64\n",
      "gender              21525 non-null object\n",
      "income_type         21525 non-null object\n",
      "debt                21525 non-null int64\n",
      "total_income        21525 non-null float64\n",
      "purpose             21525 non-null object\n",
      "dtypes: float64(3), int64(4), object(5)\n",
      "memory usage: 2.0+ MB\n"
     ]
    }
   ],
   "source": [
    "df.info()"
   ]
  },
  {
   "cell_type": "markdown",
   "metadata": {},
   "source": [
    "### Вывод"
   ]
  },
  {
   "cell_type": "markdown",
   "metadata": {},
   "source": [
    "1. В столбцах days_employed и total_income были найдены и заменены пропущенные значения. \n",
    "2. В столбцах children, dob_years, gender были найдены и заменены ошибочные значения.\n",
    "3. Причинами могут быть ошибки ввода данных, сокрытие информации, фрод."
   ]
  },
  {
   "cell_type": "markdown",
   "metadata": {},
   "source": [
    "### Замена типа данных"
   ]
  },
  {
   "cell_type": "code",
   "execution_count": 26,
   "metadata": {},
   "outputs": [
    {
     "name": "stdout",
     "output_type": "stream",
     "text": [
      "<class 'pandas.core.frame.DataFrame'>\n",
      "RangeIndex: 21525 entries, 0 to 21524\n",
      "Data columns (total 12 columns):\n",
      "children            21525 non-null int64\n",
      "days_employed       21525 non-null float64\n",
      "dob_years           21525 non-null float64\n",
      "education           21525 non-null object\n",
      "education_id        21525 non-null int64\n",
      "family_status       21525 non-null object\n",
      "family_status_id    21525 non-null int64\n",
      "gender              21525 non-null object\n",
      "income_type         21525 non-null object\n",
      "debt                21525 non-null int64\n",
      "total_income        21525 non-null float64\n",
      "purpose             21525 non-null object\n",
      "dtypes: float64(3), int64(4), object(5)\n",
      "memory usage: 2.0+ MB\n"
     ]
    }
   ],
   "source": [
    "df.info()"
   ]
  },
  {
   "cell_type": "code",
   "execution_count": 27,
   "metadata": {},
   "outputs": [],
   "source": [
    "df['days_employed'] = df['days_employed'].astype('int')"
   ]
  },
  {
   "cell_type": "code",
   "execution_count": 28,
   "metadata": {},
   "outputs": [],
   "source": [
    "df['dob_years'] = df['dob_years'].astype('int')"
   ]
  },
  {
   "cell_type": "code",
   "execution_count": 29,
   "metadata": {},
   "outputs": [],
   "source": [
    "df['total_income'] = df['total_income'].astype('int')"
   ]
  },
  {
   "cell_type": "code",
   "execution_count": 30,
   "metadata": {},
   "outputs": [
    {
     "name": "stdout",
     "output_type": "stream",
     "text": [
      "<class 'pandas.core.frame.DataFrame'>\n",
      "RangeIndex: 21525 entries, 0 to 21524\n",
      "Data columns (total 12 columns):\n",
      "children            21525 non-null int64\n",
      "days_employed       21525 non-null int64\n",
      "dob_years           21525 non-null int64\n",
      "education           21525 non-null object\n",
      "education_id        21525 non-null int64\n",
      "family_status       21525 non-null object\n",
      "family_status_id    21525 non-null int64\n",
      "gender              21525 non-null object\n",
      "income_type         21525 non-null object\n",
      "debt                21525 non-null int64\n",
      "total_income        21525 non-null int64\n",
      "purpose             21525 non-null object\n",
      "dtypes: int64(7), object(5)\n",
      "memory usage: 2.0+ MB\n"
     ]
    }
   ],
   "source": [
    "df.info()"
   ]
  },
  {
   "cell_type": "markdown",
   "metadata": {},
   "source": [
    "### Вывод"
   ]
  },
  {
   "cell_type": "markdown",
   "metadata": {},
   "source": [
    "1. Столбцы, в которых необходимо изменить тип данных float на int:\n",
    "days_employed,\n",
    "dob_years,\n",
    "total_income.\n",
    "\n",
    "2. Применила метод astype(), так как этот метод обеспечит перевод в необходимый нам тип данных int."
   ]
  },
  {
   "cell_type": "markdown",
   "metadata": {},
   "source": [
    "### Обработка дубликатов"
   ]
  },
  {
   "cell_type": "code",
   "execution_count": 31,
   "metadata": {},
   "outputs": [
    {
     "data": {
      "text/plain": [
       "среднее                13750\n",
       "высшее                  4718\n",
       "СРЕДНЕЕ                  772\n",
       "Среднее                  711\n",
       "неоконченное высшее      668\n",
       "ВЫСШЕЕ                   274\n",
       "Высшее                   268\n",
       "начальное                250\n",
       "Неоконченное высшее       47\n",
       "НЕОКОНЧЕННОЕ ВЫСШЕЕ       29\n",
       "НАЧАЛЬНОЕ                 17\n",
       "Начальное                 15\n",
       "ученая степень             4\n",
       "Ученая степень             1\n",
       "УЧЕНАЯ СТЕПЕНЬ             1\n",
       "Name: education, dtype: int64"
      ]
     },
     "execution_count": 31,
     "metadata": {},
     "output_type": "execute_result"
    }
   ],
   "source": [
    "df['education'].value_counts()"
   ]
  },
  {
   "cell_type": "code",
   "execution_count": 32,
   "metadata": {},
   "outputs": [],
   "source": [
    "df['education'] = df['education'].str.lower()"
   ]
  },
  {
   "cell_type": "code",
   "execution_count": 33,
   "metadata": {},
   "outputs": [
    {
     "data": {
      "text/plain": [
       "среднее                15233\n",
       "высшее                  5260\n",
       "неоконченное высшее      744\n",
       "начальное                282\n",
       "ученая степень             6\n",
       "Name: education, dtype: int64"
      ]
     },
     "execution_count": 33,
     "metadata": {},
     "output_type": "execute_result"
    }
   ],
   "source": [
    "df['education'].value_counts()"
   ]
  },
  {
   "cell_type": "code",
   "execution_count": 34,
   "metadata": {},
   "outputs": [
    {
     "data": {
      "text/plain": [
       "72"
      ]
     },
     "execution_count": 34,
     "metadata": {},
     "output_type": "execute_result"
    }
   ],
   "source": [
    "df.duplicated().sum()"
   ]
  },
  {
   "cell_type": "code",
   "execution_count": 35,
   "metadata": {},
   "outputs": [],
   "source": [
    "df = df.drop_duplicates().reset_index(drop = True)"
   ]
  },
  {
   "cell_type": "code",
   "execution_count": 36,
   "metadata": {},
   "outputs": [
    {
     "data": {
      "text/plain": [
       "0"
      ]
     },
     "execution_count": 36,
     "metadata": {},
     "output_type": "execute_result"
    }
   ],
   "source": [
    "#Проверяем результат\n",
    "df.duplicated().sum()"
   ]
  },
  {
   "cell_type": "code",
   "execution_count": 37,
   "metadata": {},
   "outputs": [],
   "source": [
    "df['family_status'] = df['family_status'].str.lower()"
   ]
  },
  {
   "cell_type": "markdown",
   "metadata": {},
   "source": [
    "### Вывод"
   ]
  },
  {
   "cell_type": "markdown",
   "metadata": {},
   "source": [
    "1. Для корректного удаления дубликатов значения столбца 'education' приведены к одинаковому регистру.\n",
    "2. После удаляем дубликаты."
   ]
  },
  {
   "cell_type": "markdown",
   "metadata": {},
   "source": [
    "### Лемматизация"
   ]
  },
  {
   "cell_type": "code",
   "execution_count": 38,
   "metadata": {},
   "outputs": [],
   "source": [
    "from pymystem3 import Mystem\n",
    "m = Mystem()"
   ]
  },
  {
   "cell_type": "markdown",
   "metadata": {},
   "source": [
    "Лемматизируем столбец 'purpose':"
   ]
  },
  {
   "cell_type": "code",
   "execution_count": 39,
   "metadata": {},
   "outputs": [],
   "source": [
    "def lemmas_search(column):\n",
    "    return m.lemmatize(column)\n",
    "\n",
    "df['purpose_lemmas'] = df['purpose'].apply(lemmas_search)"
   ]
  },
  {
   "cell_type": "code",
   "execution_count": 40,
   "metadata": {},
   "outputs": [],
   "source": [
    "lemmas = []\n",
    "for row in df['purpose_lemmas']:\n",
    "    for lemma in row:\n",
    "        lemmas.append(lemma)"
   ]
  },
  {
   "cell_type": "code",
   "execution_count": 41,
   "metadata": {},
   "outputs": [
    {
     "name": "stdout",
     "output_type": "stream",
     "text": [
      "Counter({' ': 33568, '\\n': 21453, 'недвижимость': 6351, 'покупка': 5897, 'жилье': 4460, 'автомобиль': 4306, 'образование': 4013, 'с': 2918, 'операция': 2604, 'свадьба': 2323, 'свой': 2230, 'на': 2221, 'строительство': 1878, 'высокий': 1374, 'получение': 1314, 'коммерческий': 1311, 'для': 1289, 'жилой': 1230, 'сделка': 941, 'дополнительный': 906, 'заниматься': 904, 'проведение': 767, 'сыграть': 765, 'сдача': 651, 'семья': 638, 'собственный': 635, 'со': 627, 'ремонт': 607, 'подержанный': 486, 'подержать': 478, 'приобретение': 461, 'профильный': 436})\n"
     ]
    }
   ],
   "source": [
    "from collections import Counter\n",
    "print(Counter(lemmas))"
   ]
  },
  {
   "cell_type": "markdown",
   "metadata": {},
   "source": [
    "Проанализировав леммы, можно выделить категории:\n",
    "1. Недвижимость\n",
    "2. Автомобиль\n",
    "3. Образование\n",
    "4. Свадьба"
   ]
  },
  {
   "cell_type": "markdown",
   "metadata": {},
   "source": [
    "Присваиваем категорию, создав новый столбец:"
   ]
  },
  {
   "cell_type": "code",
   "execution_count": 42,
   "metadata": {},
   "outputs": [],
   "source": [
    "categories = set(['недвижимость', 'жилье', 'автомобиль', 'образование', 'свадьба'])\n",
    "\n",
    "def categorisation(data):\n",
    "    n = set(data['purpose_lemmas']) & categories\n",
    "    if len(n) > 0:\n",
    "        for i in n:\n",
    "            return i\n",
    "    return 'нет категории'\n",
    "\n",
    "df['purpose_category'] = df.apply(categorisation, axis = 1)"
   ]
  },
  {
   "cell_type": "code",
   "execution_count": 43,
   "metadata": {},
   "outputs": [
    {
     "data": {
      "text/html": [
       "<div>\n",
       "<style scoped>\n",
       "    .dataframe tbody tr th:only-of-type {\n",
       "        vertical-align: middle;\n",
       "    }\n",
       "\n",
       "    .dataframe tbody tr th {\n",
       "        vertical-align: top;\n",
       "    }\n",
       "\n",
       "    .dataframe thead th {\n",
       "        text-align: right;\n",
       "    }\n",
       "</style>\n",
       "<table border=\"1\" class=\"dataframe\">\n",
       "  <thead>\n",
       "    <tr style=\"text-align: right;\">\n",
       "      <th></th>\n",
       "      <th>children</th>\n",
       "      <th>days_employed</th>\n",
       "      <th>dob_years</th>\n",
       "      <th>education</th>\n",
       "      <th>education_id</th>\n",
       "      <th>family_status</th>\n",
       "      <th>family_status_id</th>\n",
       "      <th>gender</th>\n",
       "      <th>income_type</th>\n",
       "      <th>debt</th>\n",
       "      <th>total_income</th>\n",
       "      <th>purpose</th>\n",
       "      <th>purpose_lemmas</th>\n",
       "      <th>purpose_category</th>\n",
       "    </tr>\n",
       "  </thead>\n",
       "  <tbody>\n",
       "    <tr>\n",
       "      <td>0</td>\n",
       "      <td>1</td>\n",
       "      <td>8437</td>\n",
       "      <td>42</td>\n",
       "      <td>высшее</td>\n",
       "      <td>0</td>\n",
       "      <td>женат / замужем</td>\n",
       "      <td>0</td>\n",
       "      <td>F</td>\n",
       "      <td>сотрудник</td>\n",
       "      <td>0</td>\n",
       "      <td>253875</td>\n",
       "      <td>покупка жилья</td>\n",
       "      <td>[покупка,  , жилье, \\n]</td>\n",
       "      <td>жилье</td>\n",
       "    </tr>\n",
       "    <tr>\n",
       "      <td>1</td>\n",
       "      <td>1</td>\n",
       "      <td>4024</td>\n",
       "      <td>36</td>\n",
       "      <td>среднее</td>\n",
       "      <td>1</td>\n",
       "      <td>женат / замужем</td>\n",
       "      <td>0</td>\n",
       "      <td>F</td>\n",
       "      <td>сотрудник</td>\n",
       "      <td>0</td>\n",
       "      <td>112080</td>\n",
       "      <td>приобретение автомобиля</td>\n",
       "      <td>[приобретение,  , автомобиль, \\n]</td>\n",
       "      <td>автомобиль</td>\n",
       "    </tr>\n",
       "    <tr>\n",
       "      <td>2</td>\n",
       "      <td>0</td>\n",
       "      <td>5623</td>\n",
       "      <td>33</td>\n",
       "      <td>среднее</td>\n",
       "      <td>1</td>\n",
       "      <td>женат / замужем</td>\n",
       "      <td>0</td>\n",
       "      <td>M</td>\n",
       "      <td>сотрудник</td>\n",
       "      <td>0</td>\n",
       "      <td>145885</td>\n",
       "      <td>покупка жилья</td>\n",
       "      <td>[покупка,  , жилье, \\n]</td>\n",
       "      <td>жилье</td>\n",
       "    </tr>\n",
       "    <tr>\n",
       "      <td>3</td>\n",
       "      <td>3</td>\n",
       "      <td>4124</td>\n",
       "      <td>32</td>\n",
       "      <td>среднее</td>\n",
       "      <td>1</td>\n",
       "      <td>женат / замужем</td>\n",
       "      <td>0</td>\n",
       "      <td>M</td>\n",
       "      <td>сотрудник</td>\n",
       "      <td>0</td>\n",
       "      <td>267628</td>\n",
       "      <td>дополнительное образование</td>\n",
       "      <td>[дополнительный,  , образование, \\n]</td>\n",
       "      <td>образование</td>\n",
       "    </tr>\n",
       "    <tr>\n",
       "      <td>4</td>\n",
       "      <td>0</td>\n",
       "      <td>14177</td>\n",
       "      <td>53</td>\n",
       "      <td>среднее</td>\n",
       "      <td>1</td>\n",
       "      <td>гражданский брак</td>\n",
       "      <td>1</td>\n",
       "      <td>F</td>\n",
       "      <td>пенсионер</td>\n",
       "      <td>0</td>\n",
       "      <td>158616</td>\n",
       "      <td>сыграть свадьбу</td>\n",
       "      <td>[сыграть,  , свадьба, \\n]</td>\n",
       "      <td>свадьба</td>\n",
       "    </tr>\n",
       "  </tbody>\n",
       "</table>\n",
       "</div>"
      ],
      "text/plain": [
       "   children  days_employed  dob_years education  education_id  \\\n",
       "0         1           8437         42    высшее             0   \n",
       "1         1           4024         36   среднее             1   \n",
       "2         0           5623         33   среднее             1   \n",
       "3         3           4124         32   среднее             1   \n",
       "4         0          14177         53   среднее             1   \n",
       "\n",
       "      family_status  family_status_id gender income_type  debt  total_income  \\\n",
       "0   женат / замужем                 0      F   сотрудник     0        253875   \n",
       "1   женат / замужем                 0      F   сотрудник     0        112080   \n",
       "2   женат / замужем                 0      M   сотрудник     0        145885   \n",
       "3   женат / замужем                 0      M   сотрудник     0        267628   \n",
       "4  гражданский брак                 1      F   пенсионер     0        158616   \n",
       "\n",
       "                      purpose                        purpose_lemmas  \\\n",
       "0               покупка жилья               [покупка,  , жилье, \\n]   \n",
       "1     приобретение автомобиля     [приобретение,  , автомобиль, \\n]   \n",
       "2               покупка жилья               [покупка,  , жилье, \\n]   \n",
       "3  дополнительное образование  [дополнительный,  , образование, \\n]   \n",
       "4             сыграть свадьбу             [сыграть,  , свадьба, \\n]   \n",
       "\n",
       "  purpose_category  \n",
       "0            жилье  \n",
       "1       автомобиль  \n",
       "2            жилье  \n",
       "3      образование  \n",
       "4          свадьба  "
      ]
     },
     "execution_count": 43,
     "metadata": {},
     "output_type": "execute_result"
    }
   ],
   "source": [
    "df.head()"
   ]
  },
  {
   "cell_type": "markdown",
   "metadata": {},
   "source": [
    "Объединяем категорию 'жилье' и 'недвижимость' в одну общую категорию 'недвижимость':"
   ]
  },
  {
   "cell_type": "code",
   "execution_count": 44,
   "metadata": {},
   "outputs": [],
   "source": [
    "df['purpose_category'] = df['purpose_category'].replace('жилье', 'недвижимость')"
   ]
  },
  {
   "cell_type": "code",
   "execution_count": 45,
   "metadata": {},
   "outputs": [
    {
     "data": {
      "text/plain": [
       "недвижимость    10811\n",
       "автомобиль       4306\n",
       "образование      4013\n",
       "свадьба          2323\n",
       "Name: purpose_category, dtype: int64"
      ]
     },
     "execution_count": 45,
     "metadata": {},
     "output_type": "execute_result"
    }
   ],
   "source": [
    "#Проверяем результат\n",
    "df['purpose_category'].value_counts()"
   ]
  },
  {
   "cell_type": "markdown",
   "metadata": {},
   "source": [
    "### Вывод"
   ]
  },
  {
   "cell_type": "markdown",
   "metadata": {},
   "source": [
    "После анализа лемм вручную были выделены 4 категории целей. Я объединила 'жилье' и 'недвижимость' в одну категорию, без деления на жилую и коммерческую недвижимость. В итоге все данные полностью поделились на 4 категории (Total: 21 453):\n",
    "1. Недвижимость\n",
    "2. Автомобиль\n",
    "3. Образование\n",
    "4. Свадьба"
   ]
  },
  {
   "cell_type": "markdown",
   "metadata": {},
   "source": [
    "### Категоризация данных"
   ]
  },
  {
   "cell_type": "code",
   "execution_count": 46,
   "metadata": {},
   "outputs": [],
   "source": [
    "def children_group(children):\n",
    "    if children == 0:\n",
    "        return 'детей нет'\n",
    "    if 1 <= children <= 2:\n",
    "        return '1-2 ребенка'\n",
    "    return 'многодетные'\n",
    "\n",
    "df['children_income_category'] = df['children'].apply(children_group)"
   ]
  },
  {
   "cell_type": "code",
   "execution_count": 47,
   "metadata": {},
   "outputs": [
    {
     "data": {
      "text/plain": [
       "детей нет      14090\n",
       "1-2 ребенка     6983\n",
       "многодетные      380\n",
       "Name: children_income_category, dtype: int64"
      ]
     },
     "execution_count": 47,
     "metadata": {},
     "output_type": "execute_result"
    }
   ],
   "source": [
    "df['children_income_category'].value_counts()"
   ]
  },
  {
   "cell_type": "code",
   "execution_count": 48,
   "metadata": {},
   "outputs": [],
   "source": [
    "def total_income_group(income):\n",
    "    if income < 100000:\n",
    "        return 'до 100 000'\n",
    "    if 100000 <= income < 300000:\n",
    "        return 'от 100 000 до 300 000'\n",
    "    return 'более 300 000'\n",
    "\n",
    "df['total_income_category'] = df['total_income'].apply(total_income_group)"
   ]
  },
  {
   "cell_type": "code",
   "execution_count": 49,
   "metadata": {},
   "outputs": [
    {
     "data": {
      "text/plain": [
       "от 100 000 до 300 000    15507\n",
       "до 100 000                4463\n",
       "более 300 000             1483\n",
       "Name: total_income_category, dtype: int64"
      ]
     },
     "execution_count": 49,
     "metadata": {},
     "output_type": "execute_result"
    }
   ],
   "source": [
    "df['total_income_category'].value_counts()"
   ]
  },
  {
   "cell_type": "markdown",
   "metadata": {},
   "source": [
    "### Вывод"
   ]
  },
  {
   "cell_type": "markdown",
   "metadata": {},
   "source": [
    "Для того, чтобы ответить на вопроcы задания, были категоризированы следующие признаки:\n",
    "1. Наличие детей\n",
    "2. Доходы"
   ]
  },
  {
   "cell_type": "markdown",
   "metadata": {},
   "source": [
    "### Шаг 3. Ответьте на вопросы"
   ]
  },
  {
   "cell_type": "markdown",
   "metadata": {},
   "source": [
    "**1. Есть ли зависимость между наличием детей и возвратом кредита в срок?**"
   ]
  },
  {
   "cell_type": "code",
   "execution_count": 50,
   "metadata": {},
   "outputs": [],
   "source": [
    "import numpy as np"
   ]
  },
  {
   "cell_type": "code",
   "execution_count": 51,
   "metadata": {},
   "outputs": [],
   "source": [
    "children_pivot = df.pivot_table(index=['children_income_category'], values=['debt'])\n",
    "children_pivot_sort = children_pivot.reindex(children_pivot['debt'].sort_values(ascending=False).index)"
   ]
  },
  {
   "cell_type": "code",
   "execution_count": 52,
   "metadata": {},
   "outputs": [
    {
     "data": {
      "text/html": [
       "<div>\n",
       "<style scoped>\n",
       "    .dataframe tbody tr th:only-of-type {\n",
       "        vertical-align: middle;\n",
       "    }\n",
       "\n",
       "    .dataframe tbody tr th {\n",
       "        vertical-align: top;\n",
       "    }\n",
       "\n",
       "    .dataframe thead th {\n",
       "        text-align: right;\n",
       "    }\n",
       "</style>\n",
       "<table border=\"1\" class=\"dataframe\">\n",
       "  <thead>\n",
       "    <tr style=\"text-align: right;\">\n",
       "      <th></th>\n",
       "      <th>debt</th>\n",
       "    </tr>\n",
       "    <tr>\n",
       "      <th>children_income_category</th>\n",
       "      <th></th>\n",
       "    </tr>\n",
       "  </thead>\n",
       "  <tbody>\n",
       "    <tr>\n",
       "      <td>1-2 ребенка</td>\n",
       "      <td>0.092654</td>\n",
       "    </tr>\n",
       "    <tr>\n",
       "      <td>многодетные</td>\n",
       "      <td>0.081579</td>\n",
       "    </tr>\n",
       "    <tr>\n",
       "      <td>детей нет</td>\n",
       "      <td>0.075444</td>\n",
       "    </tr>\n",
       "  </tbody>\n",
       "</table>\n",
       "</div>"
      ],
      "text/plain": [
       "                              debt\n",
       "children_income_category          \n",
       "1-2 ребенка               0.092654\n",
       "многодетные               0.081579\n",
       "детей нет                 0.075444"
      ]
     },
     "execution_count": 52,
     "metadata": {},
     "output_type": "execute_result"
    }
   ],
   "source": [
    "children_pivot_sort"
   ]
  },
  {
   "cell_type": "markdown",
   "metadata": {},
   "source": [
    "### Вывод"
   ]
  },
  {
   "cell_type": "markdown",
   "metadata": {},
   "source": [
    "Процент клиентов с задолженностью в группе:\n",
    "1. 1-2 ребенка\t - 9.3%\n",
    "2. многодетные\t - 8%\n",
    "3. детей нет\t - 7.5%\n",
    "\n",
    "Самый большой процент просрочки среди семей с 1-2 детьми. Самый маленький - у бездетных заемщиков.\n",
    "У семей с детьми процент просрочки меньше среди многодетных семей. Возможно, это связано со льготами, которые предоставляются многодетным семьям.\n",
    "\n",
    "Можно сделать вывод, что наличие детей повышает вероятность просрочки платежа."
   ]
  },
  {
   "cell_type": "markdown",
   "metadata": {},
   "source": [
    "**2. Есть ли зависимость между семейным положением и возвратом кредита в срок?**"
   ]
  },
  {
   "cell_type": "code",
   "execution_count": 53,
   "metadata": {},
   "outputs": [],
   "source": [
    "family_status_pivot = df.pivot_table(index=['family_status'], values=['debt'])\n",
    "family_status_sort = family_status_pivot.reindex(family_status_pivot['debt'].sort_values(ascending=False).index)"
   ]
  },
  {
   "cell_type": "code",
   "execution_count": 54,
   "metadata": {},
   "outputs": [
    {
     "data": {
      "text/html": [
       "<div>\n",
       "<style scoped>\n",
       "    .dataframe tbody tr th:only-of-type {\n",
       "        vertical-align: middle;\n",
       "    }\n",
       "\n",
       "    .dataframe tbody tr th {\n",
       "        vertical-align: top;\n",
       "    }\n",
       "\n",
       "    .dataframe thead th {\n",
       "        text-align: right;\n",
       "    }\n",
       "</style>\n",
       "<table border=\"1\" class=\"dataframe\">\n",
       "  <thead>\n",
       "    <tr style=\"text-align: right;\">\n",
       "      <th></th>\n",
       "      <th>debt</th>\n",
       "    </tr>\n",
       "    <tr>\n",
       "      <th>family_status</th>\n",
       "      <th></th>\n",
       "    </tr>\n",
       "  </thead>\n",
       "  <tbody>\n",
       "    <tr>\n",
       "      <td>не женат / не замужем</td>\n",
       "      <td>0.097509</td>\n",
       "    </tr>\n",
       "    <tr>\n",
       "      <td>гражданский брак</td>\n",
       "      <td>0.093494</td>\n",
       "    </tr>\n",
       "    <tr>\n",
       "      <td>женат / замужем</td>\n",
       "      <td>0.075452</td>\n",
       "    </tr>\n",
       "    <tr>\n",
       "      <td>в разводе</td>\n",
       "      <td>0.071130</td>\n",
       "    </tr>\n",
       "    <tr>\n",
       "      <td>вдовец / вдова</td>\n",
       "      <td>0.065693</td>\n",
       "    </tr>\n",
       "  </tbody>\n",
       "</table>\n",
       "</div>"
      ],
      "text/plain": [
       "                           debt\n",
       "family_status                  \n",
       "не женат / не замужем  0.097509\n",
       "гражданский брак       0.093494\n",
       "женат / замужем        0.075452\n",
       "в разводе              0.071130\n",
       "вдовец / вдова         0.065693"
      ]
     },
     "execution_count": 54,
     "metadata": {},
     "output_type": "execute_result"
    }
   ],
   "source": [
    "family_status_sort"
   ]
  },
  {
   "cell_type": "markdown",
   "metadata": {},
   "source": [
    "### Вывод"
   ]
  },
  {
   "cell_type": "markdown",
   "metadata": {},
   "source": [
    "Процент клиентов с задолженностью в группе:\n",
    "1. не женат / не замужем - 9.8%\n",
    "2. гражданский брак\t- 9.3%\n",
    "3. женат / замужем\t- 7.5%\n",
    "4. в разводе - 7.1%\n",
    "5. вдовец / вдова - 6.5%\n",
    "\n",
    "Самый большой процент просрочки у тех, кто одинок или чей брак не зарегестрирован официально. Среди людей, которые находятся или были в браке, процент просрочки меньше.\n",
    "\n",
    "Можно сделать вывод, что семейное пложение заемщиков влияет на вероятность просрочки по кредиту."
   ]
  },
  {
   "cell_type": "markdown",
   "metadata": {},
   "source": [
    "**3. Есть ли зависимость между уровнем дохода и возвратом кредита в срок?**"
   ]
  },
  {
   "cell_type": "code",
   "execution_count": 55,
   "metadata": {},
   "outputs": [],
   "source": [
    "total_income_pivot = df.pivot_table(index=['total_income_category'], values=['debt'])\n",
    "total_income_sort = total_income_pivot.reindex(total_income_pivot['debt'].sort_values(ascending=False).index)"
   ]
  },
  {
   "cell_type": "code",
   "execution_count": 56,
   "metadata": {},
   "outputs": [
    {
     "data": {
      "text/html": [
       "<div>\n",
       "<style scoped>\n",
       "    .dataframe tbody tr th:only-of-type {\n",
       "        vertical-align: middle;\n",
       "    }\n",
       "\n",
       "    .dataframe tbody tr th {\n",
       "        vertical-align: top;\n",
       "    }\n",
       "\n",
       "    .dataframe thead th {\n",
       "        text-align: right;\n",
       "    }\n",
       "</style>\n",
       "<table border=\"1\" class=\"dataframe\">\n",
       "  <thead>\n",
       "    <tr style=\"text-align: right;\">\n",
       "      <th></th>\n",
       "      <th>debt</th>\n",
       "    </tr>\n",
       "    <tr>\n",
       "      <th>total_income_category</th>\n",
       "      <th></th>\n",
       "    </tr>\n",
       "  </thead>\n",
       "  <tbody>\n",
       "    <tr>\n",
       "      <td>от 100 000 до 300 000</td>\n",
       "      <td>0.082608</td>\n",
       "    </tr>\n",
       "    <tr>\n",
       "      <td>до 100 000</td>\n",
       "      <td>0.079319</td>\n",
       "    </tr>\n",
       "    <tr>\n",
       "      <td>более 300 000</td>\n",
       "      <td>0.071477</td>\n",
       "    </tr>\n",
       "  </tbody>\n",
       "</table>\n",
       "</div>"
      ],
      "text/plain": [
       "                           debt\n",
       "total_income_category          \n",
       "от 100 000 до 300 000  0.082608\n",
       "до 100 000             0.079319\n",
       "более 300 000          0.071477"
      ]
     },
     "execution_count": 56,
     "metadata": {},
     "output_type": "execute_result"
    }
   ],
   "source": [
    "total_income_sort"
   ]
  },
  {
   "cell_type": "markdown",
   "metadata": {},
   "source": [
    "### Вывод"
   ]
  },
  {
   "cell_type": "markdown",
   "metadata": {},
   "source": [
    "Процент клиентов с задолженностью в группе:\n",
    "1. от 100 000 до 300 000 - 8.3%\n",
    "2. до 100 000\t- 7.9%\n",
    "3. более 300 000\t- 7.1%\n",
    "\n",
    "Наибольший процент просрочек у клиентов с доходом в диапазоне от 100 т. до 300 т., чуть меньше у клиентов с доходом до 100 т.\n",
    "Наименьший процент просрочек у самой платежеспособной группы клиентов с доходом более 300 т.\n",
    "\n",
    "Не было выявлено линейной взаимосвязи между уровнем дохода и процентом просрочки. Самый большой процент просрочки у самой многочисленной группы со средним доходом. "
   ]
  },
  {
   "cell_type": "markdown",
   "metadata": {},
   "source": [
    "**4. Как разные цели кредита влияют на его возврат в срок?**"
   ]
  },
  {
   "cell_type": "code",
   "execution_count": 57,
   "metadata": {},
   "outputs": [],
   "source": [
    "purpose_pivot = df.pivot_table(index=['purpose_category'], values=['debt'])\n",
    "purpose_sort = purpose_pivot.reindex(purpose_pivot['debt'].sort_values(ascending=False).index)"
   ]
  },
  {
   "cell_type": "code",
   "execution_count": 58,
   "metadata": {},
   "outputs": [
    {
     "data": {
      "text/html": [
       "<div>\n",
       "<style scoped>\n",
       "    .dataframe tbody tr th:only-of-type {\n",
       "        vertical-align: middle;\n",
       "    }\n",
       "\n",
       "    .dataframe tbody tr th {\n",
       "        vertical-align: top;\n",
       "    }\n",
       "\n",
       "    .dataframe thead th {\n",
       "        text-align: right;\n",
       "    }\n",
       "</style>\n",
       "<table border=\"1\" class=\"dataframe\">\n",
       "  <thead>\n",
       "    <tr style=\"text-align: right;\">\n",
       "      <th></th>\n",
       "      <th>debt</th>\n",
       "    </tr>\n",
       "    <tr>\n",
       "      <th>purpose_category</th>\n",
       "      <th></th>\n",
       "    </tr>\n",
       "  </thead>\n",
       "  <tbody>\n",
       "    <tr>\n",
       "      <td>автомобиль</td>\n",
       "      <td>0.093590</td>\n",
       "    </tr>\n",
       "    <tr>\n",
       "      <td>образование</td>\n",
       "      <td>0.092200</td>\n",
       "    </tr>\n",
       "    <tr>\n",
       "      <td>свадьба</td>\n",
       "      <td>0.080069</td>\n",
       "    </tr>\n",
       "    <tr>\n",
       "      <td>недвижимость</td>\n",
       "      <td>0.072334</td>\n",
       "    </tr>\n",
       "  </tbody>\n",
       "</table>\n",
       "</div>"
      ],
      "text/plain": [
       "                      debt\n",
       "purpose_category          \n",
       "автомобиль        0.093590\n",
       "образование       0.092200\n",
       "свадьба           0.080069\n",
       "недвижимость      0.072334"
      ]
     },
     "execution_count": 58,
     "metadata": {},
     "output_type": "execute_result"
    }
   ],
   "source": [
    "purpose_sort"
   ]
  },
  {
   "cell_type": "markdown",
   "metadata": {},
   "source": [
    "### Вывод"
   ]
  },
  {
   "cell_type": "markdown",
   "metadata": {},
   "source": [
    "Процент клиентов с задолженностью в группе:\n",
    "1. автомобиль - 9.3%\n",
    "2. образование\t- 9.2%\n",
    "3. свадьба\t- 8%\n",
    "4. недвижимость - 7.2% \n",
    "\n",
    "Самый высокий процент просрочек среди клиентов, взявших кредит на автомобиль и образование. Значительно меньший процент просрочки по кредитам на недвижимость. \n",
    "\n",
    "Можно сделать вывод, что клиенты, которые берут кредит для операций с недвижимостью, надежнее остальных."
   ]
  },
  {
   "cell_type": "markdown",
   "metadata": {},
   "source": [
    "### Шаг 4. Общий вывод"
   ]
  },
  {
   "cell_type": "markdown",
   "metadata": {},
   "source": [
    "Цель исследования  - разобраться, влияет ли семейное положение и количество детей клиента на факт погашения кредита в срок. Входные данные от банка — статистика о платёжеспособности клиентов.\n",
    "\n",
    "На этапе предобработки данных были выявлены ошибочные и пропущенные значения. Пропущенные значения составили 11% от общего числа и были заменены средним или медианой, в зависимости от признака.\n",
    "\n",
    "Общий процент просрочки: 8.8%\n",
    "\n",
    "Общие выводы:\n",
    "1. Наличие детей увеличивает вероятность просрочки по кредиту.\n",
    "2. Отсутствие опыта семейной жизни увеличивает вероятность просрочки по кредиту.\n",
    "3. Увеличение дохода не напрямую уменьшает вероятность просрочки.\n",
    "4. По кредитам на недвижимость наименьший процент просрочек."
   ]
  }
 ],
 "metadata": {
  "kernelspec": {
   "display_name": "Python 3",
   "language": "python",
   "name": "python3"
  },
  "language_info": {
   "codemirror_mode": {
    "name": "ipython",
    "version": 3
   },
   "file_extension": ".py",
   "mimetype": "text/x-python",
   "name": "python",
   "nbconvert_exporter": "python",
   "pygments_lexer": "ipython3",
   "version": "3.9.5"
  },
  "toc": {
   "base_numbering": 1,
   "nav_menu": {},
   "number_sections": true,
   "sideBar": true,
   "skip_h1_title": true,
   "title_cell": "Table of Contents",
   "title_sidebar": "Contents",
   "toc_cell": false,
   "toc_position": {},
   "toc_section_display": true,
   "toc_window_display": false
  }
 },
 "nbformat": 4,
 "nbformat_minor": 2
}
