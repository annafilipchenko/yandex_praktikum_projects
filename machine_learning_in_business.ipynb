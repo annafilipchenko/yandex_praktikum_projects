{
 "cells": [
  {
   "cell_type": "markdown",
   "metadata": {},
   "source": [
    "# Выбор локации для скважины"
   ]
  },
  {
   "cell_type": "markdown",
   "metadata": {},
   "source": [
    "Допустим, вы работаете в добывающей компании «ГлавРосГосНефть». Нужно решить, где бурить новую скважину.\n",
    "\n",
    "Вам предоставлены пробы нефти в трёх регионах: в каждом 10 000 месторождений, где измерили качество нефти и объём её запасов. Постройте модель машинного обучения, которая поможет определить регион, где добыча принесёт наибольшую прибыль. Проанализируйте возможную прибыль и риски техникой *Bootstrap.*\n",
    "\n",
    "Шаги для выбора локации:\n",
    "\n",
    "- В избранном регионе ищут месторождения, для каждого определяют значения признаков;\n",
    "- Строят модель и оценивают объём запасов;\n",
    "- Выбирают месторождения с самым высокими оценками значений. Количество месторождений зависит от бюджета компании и стоимости разработки одной скважины;\n",
    "- Прибыль равна суммарной прибыли отобранных месторождений."
   ]
  },
  {
   "cell_type": "markdown",
   "metadata": {},
   "source": [
    "Условия задачи:\n",
    "- Для обучения модели подходит только линейная регрессия (остальные — недостаточно предсказуемые).\n",
    "- При разведке региона исследуют 500 точек, из которых с помощью машинного обучения выбирают 200 лучших для разработки.\n",
    "- Бюджет на разработку скважин в регионе — 10 млрд рублей.\n",
    "- При нынешних ценах один баррель сырья приносит 450 рублей дохода. Доход с каждой единицы продукта составляет 450 тыс. рублей, поскольку объём указан в тысячах баррелей.\n",
    "- После оценки рисков нужно оставить лишь те регионы, в которых вероятность убытков меньше 2.5%. Среди них выбирают регион с наибольшей средней прибылью."
   ]
  },
  {
   "cell_type": "markdown",
   "metadata": {},
   "source": [
    "## Загрузка и подготовка данных"
   ]
  },
  {
   "cell_type": "code",
   "execution_count": 119,
   "metadata": {},
   "outputs": [],
   "source": [
    "import pandas as pd\n",
    "import numpy as np\n",
    "import matplotlib.pyplot as plt\n",
    "import seaborn as sns\n",
    "sns.set(color_codes=True)\n",
    "from sklearn.model_selection import train_test_split\n",
    "from sklearn.preprocessing import StandardScaler\n",
    "from sklearn.linear_model import LinearRegression\n",
    "from sklearn.metrics import mean_squared_error, r2_score, mean_absolute_error\n",
    "from numpy.random import RandomState\n",
    "from tqdm import tqdm"
   ]
  },
  {
   "cell_type": "code",
   "execution_count": 2,
   "metadata": {},
   "outputs": [],
   "source": [
    "df0 = pd.read_csv('/datasets/geo_data_0.csv')\n",
    "df1 = pd.read_csv('/datasets/geo_data_1.csv')\n",
    "df2 = pd.read_csv('/datasets/geo_data_2.csv')"
   ]
  },
  {
   "cell_type": "code",
   "execution_count": 3,
   "metadata": {},
   "outputs": [
    {
     "data": {
      "text/html": [
       "<div>\n",
       "<style scoped>\n",
       "    .dataframe tbody tr th:only-of-type {\n",
       "        vertical-align: middle;\n",
       "    }\n",
       "\n",
       "    .dataframe tbody tr th {\n",
       "        vertical-align: top;\n",
       "    }\n",
       "\n",
       "    .dataframe thead th {\n",
       "        text-align: right;\n",
       "    }\n",
       "</style>\n",
       "<table border=\"1\" class=\"dataframe\">\n",
       "  <thead>\n",
       "    <tr style=\"text-align: right;\">\n",
       "      <th></th>\n",
       "      <th>id</th>\n",
       "      <th>f0</th>\n",
       "      <th>f1</th>\n",
       "      <th>f2</th>\n",
       "      <th>product</th>\n",
       "    </tr>\n",
       "  </thead>\n",
       "  <tbody>\n",
       "    <tr>\n",
       "      <td>0</td>\n",
       "      <td>txEyH</td>\n",
       "      <td>0.705745</td>\n",
       "      <td>-0.497823</td>\n",
       "      <td>1.221170</td>\n",
       "      <td>105.280062</td>\n",
       "    </tr>\n",
       "    <tr>\n",
       "      <td>1</td>\n",
       "      <td>2acmU</td>\n",
       "      <td>1.334711</td>\n",
       "      <td>-0.340164</td>\n",
       "      <td>4.365080</td>\n",
       "      <td>73.037750</td>\n",
       "    </tr>\n",
       "    <tr>\n",
       "      <td>2</td>\n",
       "      <td>409Wp</td>\n",
       "      <td>1.022732</td>\n",
       "      <td>0.151990</td>\n",
       "      <td>1.419926</td>\n",
       "      <td>85.265647</td>\n",
       "    </tr>\n",
       "    <tr>\n",
       "      <td>3</td>\n",
       "      <td>iJLyR</td>\n",
       "      <td>-0.032172</td>\n",
       "      <td>0.139033</td>\n",
       "      <td>2.978566</td>\n",
       "      <td>168.620776</td>\n",
       "    </tr>\n",
       "    <tr>\n",
       "      <td>4</td>\n",
       "      <td>Xdl7t</td>\n",
       "      <td>1.988431</td>\n",
       "      <td>0.155413</td>\n",
       "      <td>4.751769</td>\n",
       "      <td>154.036647</td>\n",
       "    </tr>\n",
       "  </tbody>\n",
       "</table>\n",
       "</div>"
      ],
      "text/plain": [
       "      id        f0        f1        f2     product\n",
       "0  txEyH  0.705745 -0.497823  1.221170  105.280062\n",
       "1  2acmU  1.334711 -0.340164  4.365080   73.037750\n",
       "2  409Wp  1.022732  0.151990  1.419926   85.265647\n",
       "3  iJLyR -0.032172  0.139033  2.978566  168.620776\n",
       "4  Xdl7t  1.988431  0.155413  4.751769  154.036647"
      ]
     },
     "metadata": {},
     "output_type": "display_data"
    },
    {
     "data": {
      "text/html": [
       "<div>\n",
       "<style scoped>\n",
       "    .dataframe tbody tr th:only-of-type {\n",
       "        vertical-align: middle;\n",
       "    }\n",
       "\n",
       "    .dataframe tbody tr th {\n",
       "        vertical-align: top;\n",
       "    }\n",
       "\n",
       "    .dataframe thead th {\n",
       "        text-align: right;\n",
       "    }\n",
       "</style>\n",
       "<table border=\"1\" class=\"dataframe\">\n",
       "  <thead>\n",
       "    <tr style=\"text-align: right;\">\n",
       "      <th></th>\n",
       "      <th>id</th>\n",
       "      <th>f0</th>\n",
       "      <th>f1</th>\n",
       "      <th>f2</th>\n",
       "      <th>product</th>\n",
       "    </tr>\n",
       "  </thead>\n",
       "  <tbody>\n",
       "    <tr>\n",
       "      <td>0</td>\n",
       "      <td>kBEdx</td>\n",
       "      <td>-15.001348</td>\n",
       "      <td>-8.276000</td>\n",
       "      <td>-0.005876</td>\n",
       "      <td>3.179103</td>\n",
       "    </tr>\n",
       "    <tr>\n",
       "      <td>1</td>\n",
       "      <td>62mP7</td>\n",
       "      <td>14.272088</td>\n",
       "      <td>-3.475083</td>\n",
       "      <td>0.999183</td>\n",
       "      <td>26.953261</td>\n",
       "    </tr>\n",
       "    <tr>\n",
       "      <td>2</td>\n",
       "      <td>vyE1P</td>\n",
       "      <td>6.263187</td>\n",
       "      <td>-5.948386</td>\n",
       "      <td>5.001160</td>\n",
       "      <td>134.766305</td>\n",
       "    </tr>\n",
       "    <tr>\n",
       "      <td>3</td>\n",
       "      <td>KcrkZ</td>\n",
       "      <td>-13.081196</td>\n",
       "      <td>-11.506057</td>\n",
       "      <td>4.999415</td>\n",
       "      <td>137.945408</td>\n",
       "    </tr>\n",
       "    <tr>\n",
       "      <td>4</td>\n",
       "      <td>AHL4O</td>\n",
       "      <td>12.702195</td>\n",
       "      <td>-8.147433</td>\n",
       "      <td>5.004363</td>\n",
       "      <td>134.766305</td>\n",
       "    </tr>\n",
       "  </tbody>\n",
       "</table>\n",
       "</div>"
      ],
      "text/plain": [
       "      id         f0         f1        f2     product\n",
       "0  kBEdx -15.001348  -8.276000 -0.005876    3.179103\n",
       "1  62mP7  14.272088  -3.475083  0.999183   26.953261\n",
       "2  vyE1P   6.263187  -5.948386  5.001160  134.766305\n",
       "3  KcrkZ -13.081196 -11.506057  4.999415  137.945408\n",
       "4  AHL4O  12.702195  -8.147433  5.004363  134.766305"
      ]
     },
     "metadata": {},
     "output_type": "display_data"
    },
    {
     "data": {
      "text/html": [
       "<div>\n",
       "<style scoped>\n",
       "    .dataframe tbody tr th:only-of-type {\n",
       "        vertical-align: middle;\n",
       "    }\n",
       "\n",
       "    .dataframe tbody tr th {\n",
       "        vertical-align: top;\n",
       "    }\n",
       "\n",
       "    .dataframe thead th {\n",
       "        text-align: right;\n",
       "    }\n",
       "</style>\n",
       "<table border=\"1\" class=\"dataframe\">\n",
       "  <thead>\n",
       "    <tr style=\"text-align: right;\">\n",
       "      <th></th>\n",
       "      <th>id</th>\n",
       "      <th>f0</th>\n",
       "      <th>f1</th>\n",
       "      <th>f2</th>\n",
       "      <th>product</th>\n",
       "    </tr>\n",
       "  </thead>\n",
       "  <tbody>\n",
       "    <tr>\n",
       "      <td>0</td>\n",
       "      <td>fwXo0</td>\n",
       "      <td>-1.146987</td>\n",
       "      <td>0.963328</td>\n",
       "      <td>-0.828965</td>\n",
       "      <td>27.758673</td>\n",
       "    </tr>\n",
       "    <tr>\n",
       "      <td>1</td>\n",
       "      <td>WJtFt</td>\n",
       "      <td>0.262778</td>\n",
       "      <td>0.269839</td>\n",
       "      <td>-2.530187</td>\n",
       "      <td>56.069697</td>\n",
       "    </tr>\n",
       "    <tr>\n",
       "      <td>2</td>\n",
       "      <td>ovLUW</td>\n",
       "      <td>0.194587</td>\n",
       "      <td>0.289035</td>\n",
       "      <td>-5.586433</td>\n",
       "      <td>62.871910</td>\n",
       "    </tr>\n",
       "    <tr>\n",
       "      <td>3</td>\n",
       "      <td>q6cA6</td>\n",
       "      <td>2.236060</td>\n",
       "      <td>-0.553760</td>\n",
       "      <td>0.930038</td>\n",
       "      <td>114.572842</td>\n",
       "    </tr>\n",
       "    <tr>\n",
       "      <td>4</td>\n",
       "      <td>WPMUX</td>\n",
       "      <td>-0.515993</td>\n",
       "      <td>1.716266</td>\n",
       "      <td>5.899011</td>\n",
       "      <td>149.600746</td>\n",
       "    </tr>\n",
       "  </tbody>\n",
       "</table>\n",
       "</div>"
      ],
      "text/plain": [
       "      id        f0        f1        f2     product\n",
       "0  fwXo0 -1.146987  0.963328 -0.828965   27.758673\n",
       "1  WJtFt  0.262778  0.269839 -2.530187   56.069697\n",
       "2  ovLUW  0.194587  0.289035 -5.586433   62.871910\n",
       "3  q6cA6  2.236060 -0.553760  0.930038  114.572842\n",
       "4  WPMUX -0.515993  1.716266  5.899011  149.600746"
      ]
     },
     "metadata": {},
     "output_type": "display_data"
    }
   ],
   "source": [
    "display(df0.head())\n",
    "display(df1.head())\n",
    "display(df2.head())"
   ]
  },
  {
   "cell_type": "markdown",
   "metadata": {},
   "source": [
    "Данные синтетические: детали контрактов и характеристики месторождений не разглашаются.\n",
    "- id — уникальный идентификатор скважины;\n",
    "- f0, f1, f2 — три признака точек; (features)\n",
    "- product — объём запасов в скважине (тыс. баррелей); (target)"
   ]
  },
  {
   "cell_type": "code",
   "execution_count": 37,
   "metadata": {},
   "outputs": [],
   "source": [
    "tables = [df0, df1, df2]"
   ]
  },
  {
   "cell_type": "code",
   "execution_count": 47,
   "metadata": {},
   "outputs": [],
   "source": [
    "def info (df):\n",
    "    print('Общая информация')\n",
    "    print(df.info())\n",
    "    print('-'*40)\n",
    "    print('Описание признаков')\n",
    "    print(df.describe())\n",
    "    print('-'*40)\n",
    "    print('Количество дубликатов в таблице:', df.duplicated().sum())\n",
    "    print('='*80)"
   ]
  },
  {
   "cell_type": "code",
   "execution_count": 48,
   "metadata": {},
   "outputs": [
    {
     "name": "stdout",
     "output_type": "stream",
     "text": [
      "Общая информация\n",
      "<class 'pandas.core.frame.DataFrame'>\n",
      "RangeIndex: 100000 entries, 0 to 99999\n",
      "Data columns (total 5 columns):\n",
      "id         100000 non-null object\n",
      "f0         100000 non-null float64\n",
      "f1         100000 non-null float64\n",
      "f2         100000 non-null float64\n",
      "product    100000 non-null float64\n",
      "dtypes: float64(4), object(1)\n",
      "memory usage: 3.8+ MB\n",
      "None\n",
      "----------------------------------------\n",
      "Описание признаков\n",
      "                  f0             f1             f2        product\n",
      "count  100000.000000  100000.000000  100000.000000  100000.000000\n",
      "mean        0.500419       0.250143       2.502647      92.500000\n",
      "std         0.871832       0.504433       3.248248      44.288691\n",
      "min        -1.408605      -0.848218     -12.088328       0.000000\n",
      "25%        -0.072580      -0.200881       0.287748      56.497507\n",
      "50%         0.502360       0.250252       2.515969      91.849972\n",
      "75%         1.073581       0.700646       4.715088     128.564089\n",
      "max         2.362331       1.343769      16.003790     185.364347\n",
      "----------------------------------------\n",
      "Количество дубликатов в таблице: 0\n",
      "================================================================================\n",
      "Общая информация\n",
      "<class 'pandas.core.frame.DataFrame'>\n",
      "RangeIndex: 100000 entries, 0 to 99999\n",
      "Data columns (total 5 columns):\n",
      "id         100000 non-null object\n",
      "f0         100000 non-null float64\n",
      "f1         100000 non-null float64\n",
      "f2         100000 non-null float64\n",
      "product    100000 non-null float64\n",
      "dtypes: float64(4), object(1)\n",
      "memory usage: 3.8+ MB\n",
      "None\n",
      "----------------------------------------\n",
      "Описание признаков\n",
      "                  f0             f1             f2        product\n",
      "count  100000.000000  100000.000000  100000.000000  100000.000000\n",
      "mean        1.141296      -4.796579       2.494541      68.825000\n",
      "std         8.965932       5.119872       1.703572      45.944423\n",
      "min       -31.609576     -26.358598      -0.018144       0.000000\n",
      "25%        -6.298551      -8.267985       1.000021      26.953261\n",
      "50%         1.153055      -4.813172       2.011479      57.085625\n",
      "75%         8.621015      -1.332816       3.999904     107.813044\n",
      "max        29.421755      18.734063       5.019721     137.945408\n",
      "----------------------------------------\n",
      "Количество дубликатов в таблице: 0\n",
      "================================================================================\n",
      "Общая информация\n",
      "<class 'pandas.core.frame.DataFrame'>\n",
      "RangeIndex: 100000 entries, 0 to 99999\n",
      "Data columns (total 5 columns):\n",
      "id         100000 non-null object\n",
      "f0         100000 non-null float64\n",
      "f1         100000 non-null float64\n",
      "f2         100000 non-null float64\n",
      "product    100000 non-null float64\n",
      "dtypes: float64(4), object(1)\n",
      "memory usage: 3.8+ MB\n",
      "None\n",
      "----------------------------------------\n",
      "Описание признаков\n",
      "                  f0             f1             f2        product\n",
      "count  100000.000000  100000.000000  100000.000000  100000.000000\n",
      "mean        0.002023      -0.002081       2.495128      95.000000\n",
      "std         1.732045       1.730417       3.473445      44.749921\n",
      "min        -8.760004      -7.084020     -11.970335       0.000000\n",
      "25%        -1.162288      -1.174820       0.130359      59.450441\n",
      "50%         0.009424      -0.009482       2.484236      94.925613\n",
      "75%         1.158535       1.163678       4.858794     130.595027\n",
      "max         7.238262       7.844801      16.739402     190.029838\n",
      "----------------------------------------\n",
      "Количество дубликатов в таблице: 0\n",
      "================================================================================\n"
     ]
    }
   ],
   "source": [
    "for i in tables:\n",
    "    info(i)"
   ]
  },
  {
   "cell_type": "markdown",
   "metadata": {},
   "source": [
    "Разделяем данные, также удаляем поле 'id', так как не будем использовать его для обучения модели."
   ]
  },
  {
   "cell_type": "code",
   "execution_count": 49,
   "metadata": {},
   "outputs": [],
   "source": [
    "def split(df):\n",
    "    X = df.drop(['product', 'id'], axis = 1)\n",
    "    y = df['product']\n",
    "    return X, y"
   ]
  },
  {
   "cell_type": "code",
   "execution_count": 50,
   "metadata": {},
   "outputs": [],
   "source": [
    "X0, y0 = split(df0)\n",
    "X1, y1 = split(df1)\n",
    "X2, y2 = split(df2)"
   ]
  },
  {
   "cell_type": "code",
   "execution_count": 77,
   "metadata": {},
   "outputs": [
    {
     "data": {
      "image/png": "[encoded data removed]",
      "text/plain": [
       "<Figure size 864x432 with 1 Axes>"
      ]
     },
     "metadata": {},
     "output_type": "display_data"
    }
   ],
   "source": [
    "plt.figure(figsize = (12,6))\n",
    "plt.title('Распределение объемов запасов в скважинах по регионам', size = 18)\n",
    "plt.xlabel('Количество скважин')\n",
    "plt.ylabel('Объем запасов нефти, тыс. баррелей')\n",
    "y0.hist(alpha = 0.5, bins = 50) \n",
    "y1.hist(alpha = 0.5, bins = 50)\n",
    "y2.hist(alpha = 0.5, bins = 50)\n",
    "plt.legend(['Регион 1', 'Регион 2', 'Регион 3']);"
   ]
  },
  {
   "cell_type": "markdown",
   "metadata": {},
   "source": [
    "**Выводы**\n",
    "- В данных нет дубликатов и пропусков.\n",
    "- Удалили столбец 'id' и разделили данные на фичи и таргет.\n",
    "- Распределение в регионе 2 ненормальное.\n",
    "- По условиям задачи не меняем данные."
   ]
  },
  {
   "cell_type": "markdown",
   "metadata": {},
   "source": [
    "## Обучение и проверка модели"
   ]
  },
  {
   "cell_type": "code",
   "execution_count": 78,
   "metadata": {},
   "outputs": [],
   "source": [
    "RNS = 2021"
   ]
  },
  {
   "cell_type": "markdown",
   "metadata": {},
   "source": [
    "**Разделим данные на обучающую и тестовую выборки.**"
   ]
  },
  {
   "cell_type": "code",
   "execution_count": 80,
   "metadata": {},
   "outputs": [],
   "source": [
    "X0_train, X0_test, y0_train, y0_test = train_test_split(X0, y0, test_size=0.25, random_state = RNS)\n",
    "X1_train, X1_test, y1_train, y1_test = train_test_split(X1, y1, test_size=0.25, random_state = RNS)\n",
    "X2_train, X2_test, y2_train, y2_test = train_test_split(X2, y2, test_size=0.25, random_state = RNS)"
   ]
  },
  {
   "cell_type": "markdown",
   "metadata": {},
   "source": [
    "**Сделаем стандартизацию признаков.**"
   ]
  },
  {
   "cell_type": "code",
   "execution_count": 82,
   "metadata": {},
   "outputs": [],
   "source": [
    "def scaler(x_train, x_test):\n",
    "    scaler = StandardScaler()\n",
    "    scaler.fit(x_train)\n",
    "    train = scaler.transform(x_train)\n",
    "    test = scaler.transform(x_test)\n",
    "    return train, test"
   ]
  },
  {
   "cell_type": "code",
   "execution_count": 83,
   "metadata": {},
   "outputs": [],
   "source": [
    "X0_train, X0_test = scaler(X0_train, X0_test)\n",
    "X1_train, X1_test = scaler(X1_train, X1_test)\n",
    "X2_train, X2_test = scaler(X2_train, X2_test)"
   ]
  },
  {
   "cell_type": "markdown",
   "metadata": {},
   "source": [
    "**Обучим модели и посмотрим на метрики.**"
   ]
  },
  {
   "cell_type": "code",
   "execution_count": 135,
   "metadata": {},
   "outputs": [],
   "source": [
    "def lr (x_train, y_train, x_test):\n",
    "    lr = LinearRegression()\n",
    "    lr.fit(x_train, y_train)\n",
    "    predictions = pd.Series(lr.predict(x_test))\n",
    "    return predictions"
   ]
  },
  {
   "cell_type": "code",
   "execution_count": 136,
   "metadata": {},
   "outputs": [],
   "source": [
    "pred0 = lr(X0_train, y0_train, X0_test)\n",
    "pred1 = lr(X1_train, y1_train, X1_test)\n",
    "pred2 = lr(X2_train, y2_train, X2_test)"
   ]
  },
  {
   "cell_type": "code",
   "execution_count": 109,
   "metadata": {},
   "outputs": [],
   "source": [
    "metrics = [{'RMSE': (mean_squared_error(y0_test, pred0))**(0.5), 'R2': r2_score(y0_test, pred0), 'predict_mean': pred0.mean()}, \n",
    "           {'RMSE': (mean_squared_error(y1_test, pred1))**(0.5), 'R2': r2_score(y1_test, pred1), 'predict_mean': pred1.mean()}, \n",
    "           {'RMSE': (mean_squared_error(y2_test, pred2))**(0.5), 'R2': r2_score(y2_test, pred2), 'predict_mean': pred2.mean()}]"
   ]
  },
  {
   "cell_type": "code",
   "execution_count": 110,
   "metadata": {},
   "outputs": [
    {
     "data": {
      "text/html": [
       "<div>\n",
       "<style scoped>\n",
       "    .dataframe tbody tr th:only-of-type {\n",
       "        vertical-align: middle;\n",
       "    }\n",
       "\n",
       "    .dataframe tbody tr th {\n",
       "        vertical-align: top;\n",
       "    }\n",
       "\n",
       "    .dataframe thead th {\n",
       "        text-align: right;\n",
       "    }\n",
       "</style>\n",
       "<table border=\"1\" class=\"dataframe\">\n",
       "  <thead>\n",
       "    <tr style=\"text-align: right;\">\n",
       "      <th></th>\n",
       "      <th>RMSE</th>\n",
       "      <th>R2</th>\n",
       "      <th>predict_mean</th>\n",
       "    </tr>\n",
       "  </thead>\n",
       "  <tbody>\n",
       "    <tr>\n",
       "      <td>0</td>\n",
       "      <td>37.584896</td>\n",
       "      <td>0.274169</td>\n",
       "      <td>92.675936</td>\n",
       "    </tr>\n",
       "    <tr>\n",
       "      <td>1</td>\n",
       "      <td>0.890342</td>\n",
       "      <td>0.999627</td>\n",
       "      <td>68.838718</td>\n",
       "    </tr>\n",
       "    <tr>\n",
       "      <td>2</td>\n",
       "      <td>39.995355</td>\n",
       "      <td>0.200185</td>\n",
       "      <td>94.989112</td>\n",
       "    </tr>\n",
       "  </tbody>\n",
       "</table>\n",
       "</div>"
      ],
      "text/plain": [
       "        RMSE        R2  predict_mean\n",
       "0  37.584896  0.274169     92.675936\n",
       "1   0.890342  0.999627     68.838718\n",
       "2  39.995355  0.200185     94.989112"
      ]
     },
     "execution_count": 110,
     "metadata": {},
     "output_type": "execute_result"
    }
   ],
   "source": [
    "pd.DataFrame(metrics)"
   ]
  },
  {
   "cell_type": "code",
   "execution_count": 111,
   "metadata": {},
   "outputs": [
    {
     "data": {
      "text/html": [
       "<div>\n",
       "<style scoped>\n",
       "    .dataframe tbody tr th:only-of-type {\n",
       "        vertical-align: middle;\n",
       "    }\n",
       "\n",
       "    .dataframe tbody tr th {\n",
       "        vertical-align: top;\n",
       "    }\n",
       "\n",
       "    .dataframe thead th {\n",
       "        text-align: right;\n",
       "    }\n",
       "</style>\n",
       "<table border=\"1\" class=\"dataframe\">\n",
       "  <thead>\n",
       "    <tr style=\"text-align: right;\">\n",
       "      <th></th>\n",
       "      <th>f0</th>\n",
       "      <th>f1</th>\n",
       "      <th>f2</th>\n",
       "      <th>product</th>\n",
       "    </tr>\n",
       "  </thead>\n",
       "  <tbody>\n",
       "    <tr>\n",
       "      <td>f0</td>\n",
       "      <td>1.000000</td>\n",
       "      <td>0.182287</td>\n",
       "      <td>-0.001777</td>\n",
       "      <td>-0.030491</td>\n",
       "    </tr>\n",
       "    <tr>\n",
       "      <td>f1</td>\n",
       "      <td>0.182287</td>\n",
       "      <td>1.000000</td>\n",
       "      <td>-0.002595</td>\n",
       "      <td>-0.010155</td>\n",
       "    </tr>\n",
       "    <tr>\n",
       "      <td>f2</td>\n",
       "      <td>-0.001777</td>\n",
       "      <td>-0.002595</td>\n",
       "      <td>1.000000</td>\n",
       "      <td>0.999397</td>\n",
       "    </tr>\n",
       "    <tr>\n",
       "      <td>product</td>\n",
       "      <td>-0.030491</td>\n",
       "      <td>-0.010155</td>\n",
       "      <td>0.999397</td>\n",
       "      <td>1.000000</td>\n",
       "    </tr>\n",
       "  </tbody>\n",
       "</table>\n",
       "</div>"
      ],
      "text/plain": [
       "               f0        f1        f2   product\n",
       "f0       1.000000  0.182287 -0.001777 -0.030491\n",
       "f1       0.182287  1.000000 -0.002595 -0.010155\n",
       "f2      -0.001777 -0.002595  1.000000  0.999397\n",
       "product -0.030491 -0.010155  0.999397  1.000000"
      ]
     },
     "execution_count": 111,
     "metadata": {},
     "output_type": "execute_result"
    }
   ],
   "source": [
    "df1.corr()"
   ]
  },
  {
   "cell_type": "markdown",
   "metadata": {},
   "source": [
    "**Вывод**\n",
    "- В датасете по региону 2 признак f2 сильно коррелирует с целевым признаком, поэтому модель получилась почти идеальной. Но если есть такой признак, который позволяет настолько хорошо предсказать объем скважины, есть ли вообще смысл в модели?\n",
    "- Остальные две модели примерно одинакового качества."
   ]
  },
  {
   "cell_type": "markdown",
   "metadata": {},
   "source": [
    "## Подготовка к расчёту прибыли"
   ]
  },
  {
   "cell_type": "code",
   "execution_count": 174,
   "metadata": {},
   "outputs": [
    {
     "name": "stdout",
     "output_type": "stream",
     "text": [
      "Минимальный объем скважины для для безубыточной разработки: 111.11111111111111\n"
     ]
    }
   ],
   "source": [
    "budget = 10e9\n",
    "points = 500\n",
    "best_points = 200\n",
    "barrel_income = 450000\n",
    "min_volume = budget/barrel_income/best_points\n",
    "print('Минимальный объем скважины для для безубыточной разработки:', min_volume)"
   ]
  },
  {
   "cell_type": "markdown",
   "metadata": {},
   "source": [
    "Во всех регионах средний объем скважины меньше необходимого, соответственно ценность предсказаний модели повышается."
   ]
  },
  {
   "cell_type": "markdown",
   "metadata": {},
   "source": [
    "## Расчёт прибыли и рисков "
   ]
  },
  {
   "cell_type": "code",
   "execution_count": 118,
   "metadata": {},
   "outputs": [],
   "source": [
    "state = RandomState(RNS)"
   ]
  },
  {
   "cell_type": "markdown",
   "metadata": {},
   "source": [
    "**Функция для расчета прибыли**"
   ]
  },
  {
   "cell_type": "markdown",
   "metadata": {},
   "source": [
    "- Выберите скважины с максимальными значениями предсказаний.\n",
    "- Просуммируйте целевое значение объёма сырья, соответствующее этим предсказаниям.\n",
    "- Рассчитайте прибыль для полученного объёма сырья."
   ]
  },
  {
   "cell_type": "code",
   "execution_count": 164,
   "metadata": {},
   "outputs": [],
   "source": [
    "def revenue(target, probabilities, count):\n",
    "    target.index = probabilities.index\n",
    "    probs_sorted = probabilities.sort_values(ascending=False)\n",
    "    selected = target[probs_sorted.index][:count]\n",
    "    profit = (selected.sum()*barrel_income-budget)\n",
    "    return profit"
   ]
  },
  {
   "cell_type": "markdown",
   "metadata": {},
   "source": [
    "Прибыль, предсказанная моделями:"
   ]
  },
  {
   "cell_type": "code",
   "execution_count": 173,
   "metadata": {},
   "outputs": [
    {
     "name": "stdout",
     "output_type": "stream",
     "text": [
      "Регион 1: 3.137 млрд. руб.\n",
      "Регион 2: 2.415 млрд. руб.\n",
      "Регион 3: 2.582 млрд. руб.\n"
     ]
    }
   ],
   "source": [
    "print('Регион 1:', np.around(revenue(y0_test, pred0, 200)/1e9, decimals = 3), 'млрд. руб.')\n",
    "print('Регион 2:', np.around(revenue(y1_test, pred1, 200)/1e9, decimals = 3), 'млрд. руб.')\n",
    "print('Регион 3:', np.around(revenue(y2_test, pred2, 200)/1e9, decimals = 3), 'млрд. руб.')"
   ]
  },
  {
   "cell_type": "markdown",
   "metadata": {},
   "source": [
    "**Bootstrap**"
   ]
  },
  {
   "cell_type": "code",
   "execution_count": 218,
   "metadata": {},
   "outputs": [],
   "source": [
    "def bootstrap (target, probabilities, N, count):\n",
    "    target.index = probabilities.index\n",
    "    values = []\n",
    "    for i in range(1000):\n",
    "        target_subsample = target.sample(n=N, replace=True, random_state=state)\n",
    "        probs_subsample = probabilities[target_subsample.index] \n",
    "        values.append(revenue(target_subsample, probs_subsample, count))\n",
    "    \n",
    "    values = pd.Series(values)\n",
    "    lower = values.quantile(0.025)\n",
    "    upper = values.quantile(0.975)\n",
    "    \n",
    "    print('Средняя прибыль:', np.around(values.mean()/1e6, decimals = 3), 'млн.руб.')\n",
    "    print('Доверительный интервал:')\n",
    "    print('От', np.around(lower/1e6, decimals = 3), 'млн.руб.')\n",
    "    print('До', np.around(upper/1e6, decimals = 3), 'млн.руб.')\n",
    "    print('Распределение прибыли:')\n",
    "    values.hist()\n",
    "    return values"
   ]
  },
  {
   "cell_type": "markdown",
   "metadata": {},
   "source": [
    "**Регион 1**"
   ]
  },
  {
   "cell_type": "code",
   "execution_count": 219,
   "metadata": {},
   "outputs": [
    {
     "name": "stdout",
     "output_type": "stream",
     "text": [
      "Средняя прибыль: 460.236 млн.руб.\n",
      "Доверительный интервал:\n",
      "От -86.638 млн.руб.\n",
      "До 993.793 млн.руб.\n",
      "Распределение прибыли:\n"
     ]
    },
    {
     "data": {
      "image/png": "[encoded data removed]",
      "text/plain": [
       "<Figure size 432x288 with 1 Axes>"
      ]
     },
     "metadata": {},
     "output_type": "display_data"
    }
   ],
   "source": [
    "df0_values = bootstrap(y0_test, pred0, 500, 200)"
   ]
  },
  {
   "cell_type": "markdown",
   "metadata": {},
   "source": [
    "**Регион 2**"
   ]
  },
  {
   "cell_type": "code",
   "execution_count": 220,
   "metadata": {},
   "outputs": [
    {
     "name": "stdout",
     "output_type": "stream",
     "text": [
      "Средняя прибыль: 533.898 млн.руб.\n",
      "Доверительный интервал:\n",
      "От 106.041 млн.руб.\n",
      "До 968.524 млн.руб.\n",
      "Распределение прибыли:\n"
     ]
    },
    {
     "data": {
      "image/png": "[encoded data removed]",
      "text/plain": [
       "<Figure size 432x288 with 1 Axes>"
      ]
     },
     "metadata": {},
     "output_type": "display_data"
    }
   ],
   "source": [
    "df1_values = bootstrap(y1_test, pred1, 500, 200)"
   ]
  },
  {
   "cell_type": "markdown",
   "metadata": {},
   "source": [
    "**Регион 3**"
   ]
  },
  {
   "cell_type": "code",
   "execution_count": 221,
   "metadata": {},
   "outputs": [
    {
     "name": "stdout",
     "output_type": "stream",
     "text": [
      "Средняя прибыль: 372.937 млн.руб.\n",
      "Доверительный интервал:\n",
      "От -158.515 млн.руб.\n",
      "До 914.134 млн.руб.\n",
      "Распределение прибыли:\n"
     ]
    },
    {
     "data": {
      "image/png": "[encoded data removed]",
      "text/plain": [
       "<Figure size 432x288 with 1 Axes>"
      ]
     },
     "metadata": {},
     "output_type": "display_data"
    }
   ],
   "source": [
    "df2_values = bootstrap(y2_test, pred2, 500, 200)"
   ]
  },
  {
   "cell_type": "markdown",
   "metadata": {},
   "source": [
    "**Риск получения убытка**"
   ]
  },
  {
   "cell_type": "code",
   "execution_count": 234,
   "metadata": {},
   "outputs": [
    {
     "name": "stdout",
     "output_type": "stream",
     "text": [
      "Регион 1: 4.60%\n",
      "Регион 2: 0.40%\n",
      "Регион 3: 8.80%\n"
     ]
    }
   ],
   "source": [
    "print(f'Регион 1: {(df0_values[df0_values<0].shape[0]/df0_values.shape[0]):.2%}')\n",
    "print(f'Регион 2: {(df1_values[df1_values<0].shape[0]/df1_values.shape[0]):.2%}')\n",
    "print(f'Регион 3: {(df2_values[df2_values<0].shape[0]/df2_values.shape[0]):.2%}')"
   ]
  },
  {
   "cell_type": "markdown",
   "metadata": {},
   "source": [
    "**Вывод**\n",
    "- С учетом рисков, для разработки данных подходит только второй регион. Риск получить отрицательную прибыль составляет 0,4%.\n",
    "- Средняя прибыль по второму региону - 533.898 млн.руб.\n",
    "- По региону 2 признак f2 сильно коррелирует с целевым признаком, поэтому модель получилась почти идеальной. "
   ]
  }
 ],
 "metadata": {
  "ExecuteTimeLog": [
   {
    "duration": 1489,
    "start_time": "2021-06-08T13:16:09.055Z"
   },
   {
    "duration": 471,
    "start_time": "2021-06-08T13:17:11.123Z"
   },
   {
    "duration": 37,
    "start_time": "2021-06-08T13:21:34.386Z"
   },
   {
    "duration": 1588,
    "start_time": "2021-06-08T15:50:52.618Z"
   },
   {
    "duration": 473,
    "start_time": "2021-06-08T15:50:54.209Z"
   },
   {
    "duration": 45,
    "start_time": "2021-06-08T15:50:54.685Z"
   },
   {
    "duration": 843,
    "start_time": "2021-06-08T16:39:51.556Z"
   },
   {
    "duration": 1328,
    "start_time": "2021-06-08T16:40:07.682Z"
   },
   {
    "duration": 2778,
    "start_time": "2021-06-08T16:40:18.917Z"
   },
   {
    "duration": 1963,
    "start_time": "2021-06-08T16:40:47.538Z"
   },
   {
    "duration": 2003,
    "start_time": "2021-06-08T16:41:20.045Z"
   },
   {
    "duration": 2064,
    "start_time": "2021-06-08T16:41:41.212Z"
   },
   {
    "duration": 1963,
    "start_time": "2021-06-08T16:41:43.279Z"
   },
   {
    "duration": 2111,
    "start_time": "2021-06-08T16:41:52.751Z"
   },
   {
    "duration": 25,
    "start_time": "2021-06-08T16:42:55.030Z"
   },
   {
    "duration": 23,
    "start_time": "2021-06-08T16:43:08.433Z"
   },
   {
    "duration": 16,
    "start_time": "2021-06-08T16:53:06.956Z"
   },
   {
    "duration": 14,
    "start_time": "2021-06-08T16:53:12.213Z"
   },
   {
    "duration": 3,
    "start_time": "2021-06-08T16:54:42.619Z"
   },
   {
    "duration": 121,
    "start_time": "2021-06-08T16:54:48.979Z"
   },
   {
    "duration": 125,
    "start_time": "2021-06-08T16:54:52.961Z"
   },
   {
    "duration": 4,
    "start_time": "2021-06-08T16:55:13.156Z"
   },
   {
    "duration": 115,
    "start_time": "2021-06-08T16:55:14.582Z"
   },
   {
    "duration": 117,
    "start_time": "2021-06-08T16:55:41.788Z"
   },
   {
    "duration": 120,
    "start_time": "2021-06-08T16:55:46.515Z"
   },
   {
    "duration": 4,
    "start_time": "2021-06-08T16:56:20.040Z"
   },
   {
    "duration": 115,
    "start_time": "2021-06-08T16:56:20.609Z"
   },
   {
    "duration": 5,
    "start_time": "2021-06-08T16:56:39.039Z"
   },
   {
    "duration": 149,
    "start_time": "2021-06-08T16:56:39.469Z"
   },
   {
    "duration": 4,
    "start_time": "2021-06-08T16:56:44.522Z"
   },
   {
    "duration": 117,
    "start_time": "2021-06-08T16:56:44.695Z"
   },
   {
    "duration": 5,
    "start_time": "2021-06-08T16:56:48.967Z"
   },
   {
    "duration": 117,
    "start_time": "2021-06-08T16:56:49.127Z"
   },
   {
    "duration": 5,
    "start_time": "2021-06-08T16:56:54.815Z"
   },
   {
    "duration": 118,
    "start_time": "2021-06-08T16:56:55.219Z"
   },
   {
    "duration": 4,
    "start_time": "2021-06-08T16:58:21.846Z"
   },
   {
    "duration": 581,
    "start_time": "2021-06-08T16:58:40.962Z"
   },
   {
    "duration": 617,
    "start_time": "2021-06-08T16:58:52.822Z"
   },
   {
    "duration": 445,
    "start_time": "2021-06-08T16:58:58.133Z"
   },
   {
    "duration": 4,
    "start_time": "2021-06-08T16:59:51.370Z"
   },
   {
    "duration": 338,
    "start_time": "2021-06-08T16:59:58.602Z"
   },
   {
    "duration": 5,
    "start_time": "2021-06-08T17:01:30.327Z"
   },
   {
    "duration": 704,
    "start_time": "2021-06-08T17:01:33.397Z"
   },
   {
    "duration": 5,
    "start_time": "2021-06-08T17:01:45.196Z"
   },
   {
    "duration": 734,
    "start_time": "2021-06-08T17:01:45.825Z"
   },
   {
    "duration": 342,
    "start_time": "2021-06-08T17:01:57.971Z"
   },
   {
    "duration": 334,
    "start_time": "2021-06-08T17:02:02.822Z"
   },
   {
    "duration": 5,
    "start_time": "2021-06-08T17:02:43.162Z"
   },
   {
    "duration": 355,
    "start_time": "2021-06-08T17:02:43.350Z"
   },
   {
    "duration": 5,
    "start_time": "2021-06-08T17:03:32.742Z"
   },
   {
    "duration": 325,
    "start_time": "2021-06-08T17:03:33.339Z"
   },
   {
    "duration": 5,
    "start_time": "2021-06-08T17:10:51.659Z"
   },
   {
    "duration": 12,
    "start_time": "2021-06-08T17:11:34.113Z"
   },
   {
    "duration": 14,
    "start_time": "2021-06-08T17:11:41.634Z"
   },
   {
    "duration": 6,
    "start_time": "2021-06-08T17:11:47.508Z"
   },
   {
    "duration": 16,
    "start_time": "2021-06-08T17:13:36.354Z"
   },
   {
    "duration": 19,
    "start_time": "2021-06-08T17:13:42.222Z"
   },
   {
    "duration": 4,
    "start_time": "2021-06-08T17:16:06.909Z"
   },
   {
    "duration": 497,
    "start_time": "2021-06-08T17:27:31.726Z"
   },
   {
    "duration": 531,
    "start_time": "2021-06-08T17:27:49.024Z"
   },
   {
    "duration": 6,
    "start_time": "2021-06-08T17:28:45.654Z"
   },
   {
    "duration": 777,
    "start_time": "2021-06-08T17:28:50.106Z"
   },
   {
    "duration": 814,
    "start_time": "2021-06-08T17:29:10.991Z"
   },
   {
    "duration": 666,
    "start_time": "2021-06-08T17:29:20.016Z"
   },
   {
    "duration": 675,
    "start_time": "2021-06-08T17:29:45.896Z"
   },
   {
    "duration": 685,
    "start_time": "2021-06-08T17:29:55.854Z"
   },
   {
    "duration": 339,
    "start_time": "2021-06-08T17:31:02.152Z"
   },
   {
    "duration": 872,
    "start_time": "2021-06-08T17:31:07.414Z"
   },
   {
    "duration": 751,
    "start_time": "2021-06-08T17:31:17.755Z"
   },
   {
    "duration": 765,
    "start_time": "2021-06-08T17:34:23.915Z"
   },
   {
    "duration": 993,
    "start_time": "2021-06-08T17:35:26.941Z"
   },
   {
    "duration": 1175,
    "start_time": "2021-06-08T17:35:41.372Z"
   },
   {
    "duration": 1188,
    "start_time": "2021-06-08T17:36:22.090Z"
   },
   {
    "duration": 1208,
    "start_time": "2021-06-08T17:36:33.503Z"
   },
   {
    "duration": 1317,
    "start_time": "2021-06-08T17:37:17.741Z"
   },
   {
    "duration": 1241,
    "start_time": "2021-06-08T17:38:10.938Z"
   },
   {
    "duration": 1253,
    "start_time": "2021-06-08T17:38:17.956Z"
   },
   {
    "duration": 1145,
    "start_time": "2021-06-08T17:38:23.044Z"
   },
   {
    "duration": 959,
    "start_time": "2021-06-08T17:41:04.432Z"
   },
   {
    "duration": 1167,
    "start_time": "2021-06-08T17:41:21.533Z"
   },
   {
    "duration": 4,
    "start_time": "2021-06-08T17:42:22.217Z"
   },
   {
    "duration": 5,
    "start_time": "2021-06-08T18:38:57.513Z"
   },
   {
    "duration": 47,
    "start_time": "2021-06-08T18:51:12.054Z"
   },
   {
    "duration": 15,
    "start_time": "2021-06-08T18:51:17.458Z"
   },
   {
    "duration": 5,
    "start_time": "2021-06-08T18:54:46.244Z"
   },
   {
    "duration": 29,
    "start_time": "2021-06-08T18:56:38.592Z"
   },
   {
    "duration": 468,
    "start_time": "2021-06-08T18:56:55.648Z"
   },
   {
    "duration": 6,
    "start_time": "2021-06-08T18:57:13.300Z"
   },
   {
    "duration": 6,
    "start_time": "2021-06-08T19:16:33.312Z"
   },
   {
    "duration": 7,
    "start_time": "2021-06-08T19:17:48.723Z"
   },
   {
    "duration": 327,
    "start_time": "2021-06-08T19:18:02.533Z"
   },
   {
    "duration": 129,
    "start_time": "2021-06-08T19:21:16.693Z"
   },
   {
    "duration": 5,
    "start_time": "2021-06-08T19:22:00.456Z"
   },
   {
    "duration": 4,
    "start_time": "2021-06-08T19:22:38.176Z"
   },
   {
    "duration": 20,
    "start_time": "2021-06-08T19:23:25.970Z"
   },
   {
    "duration": 15,
    "start_time": "2021-06-08T19:23:35.675Z"
   },
   {
    "duration": 17,
    "start_time": "2021-06-08T19:23:54.677Z"
   },
   {
    "duration": 16,
    "start_time": "2021-06-08T19:23:57.472Z"
   },
   {
    "duration": 5,
    "start_time": "2021-06-08T19:24:00.535Z"
   },
   {
    "duration": 15,
    "start_time": "2021-06-08T19:24:01.025Z"
   },
   {
    "duration": 17,
    "start_time": "2021-06-08T19:24:07.893Z"
   },
   {
    "duration": 65,
    "start_time": "2021-06-08T19:25:57.798Z"
   },
   {
    "duration": 169,
    "start_time": "2021-06-08T19:30:06.295Z"
   },
   {
    "duration": 4,
    "start_time": "2021-06-08T19:30:10.984Z"
   },
   {
    "duration": 6,
    "start_time": "2021-06-08T19:30:14.689Z"
   },
   {
    "duration": 5,
    "start_time": "2021-06-08T19:30:25.151Z"
   },
   {
    "duration": 8,
    "start_time": "2021-06-08T19:37:38.193Z"
   },
   {
    "duration": 6,
    "start_time": "2021-06-08T19:37:44.658Z"
   },
   {
    "duration": 11,
    "start_time": "2021-06-08T19:38:13.275Z"
   },
   {
    "duration": 11,
    "start_time": "2021-06-08T19:40:11.564Z"
   },
   {
    "duration": 11,
    "start_time": "2021-06-08T19:40:12.023Z"
   },
   {
    "duration": 12,
    "start_time": "2021-06-08T19:47:26.002Z"
   },
   {
    "duration": 11,
    "start_time": "2021-06-08T19:47:26.860Z"
   },
   {
    "duration": 20,
    "start_time": "2021-06-08T19:52:17.595Z"
   },
   {
    "duration": 3,
    "start_time": "2021-06-08T20:00:32.735Z"
   },
   {
    "duration": 5,
    "start_time": "2021-06-08T20:01:23.192Z"
   },
   {
    "duration": 4,
    "start_time": "2021-06-08T20:04:07.440Z"
   },
   {
    "duration": 5,
    "start_time": "2021-06-08T20:08:24.618Z"
   },
   {
    "duration": 127,
    "start_time": "2021-06-08T20:09:13.862Z"
   },
   {
    "duration": 7,
    "start_time": "2021-06-08T20:49:45.610Z"
   },
   {
    "duration": 4,
    "start_time": "2021-06-08T20:51:35.454Z"
   },
   {
    "duration": 24,
    "start_time": "2021-06-08T20:52:44.357Z"
   },
   {
    "duration": 5,
    "start_time": "2021-06-08T21:02:58.536Z"
   },
   {
    "duration": 16,
    "start_time": "2021-06-08T21:59:16.358Z"
   },
   {
    "duration": 14,
    "start_time": "2021-06-08T21:59:38.613Z"
   },
   {
    "duration": 14,
    "start_time": "2021-06-08T21:59:45.353Z"
   },
   {
    "duration": 7,
    "start_time": "2021-06-08T21:59:58.596Z"
   },
   {
    "duration": 7,
    "start_time": "2021-06-08T22:00:14.100Z"
   },
   {
    "duration": 4,
    "start_time": "2021-06-08T22:02:01.999Z"
   },
   {
    "duration": 30,
    "start_time": "2021-06-08T22:02:02.641Z"
   },
   {
    "duration": 6,
    "start_time": "2021-06-08T22:02:09.210Z"
   },
   {
    "duration": 4,
    "start_time": "2021-06-08T22:02:37.267Z"
   },
   {
    "duration": 107,
    "start_time": "2021-06-08T22:02:37.661Z"
   },
   {
    "duration": 7,
    "start_time": "2021-06-08T22:02:38.284Z"
   },
   {
    "duration": 44,
    "start_time": "2021-06-08T22:02:45.021Z"
   },
   {
    "duration": 6,
    "start_time": "2021-06-08T22:02:45.848Z"
   },
   {
    "duration": 748,
    "start_time": "2021-06-08T22:03:00.478Z"
   },
   {
    "duration": 4,
    "start_time": "2021-06-08T22:03:12.327Z"
   },
   {
    "duration": 125,
    "start_time": "2021-06-08T22:03:12.546Z"
   },
   {
    "duration": 5,
    "start_time": "2021-06-08T22:03:45.086Z"
   },
   {
    "duration": 12,
    "start_time": "2021-06-08T22:03:45.936Z"
   },
   {
    "duration": 7,
    "start_time": "2021-06-08T22:03:51.690Z"
   },
   {
    "duration": 8,
    "start_time": "2021-06-08T22:03:56.246Z"
   },
   {
    "duration": 14,
    "start_time": "2021-06-08T22:04:19.021Z"
   },
   {
    "duration": 12,
    "start_time": "2021-06-08T22:05:09.485Z"
   },
   {
    "duration": 13,
    "start_time": "2021-06-08T22:06:56.696Z"
   },
   {
    "duration": 13,
    "start_time": "2021-06-08T22:07:10.670Z"
   },
   {
    "duration": 11,
    "start_time": "2021-06-08T22:16:59.288Z"
   },
   {
    "duration": 12,
    "start_time": "2021-06-08T22:17:27.724Z"
   },
   {
    "duration": 13,
    "start_time": "2021-06-08T22:17:52.350Z"
   },
   {
    "duration": 4,
    "start_time": "2021-06-08T22:27:04.391Z"
   },
   {
    "duration": 13,
    "start_time": "2021-06-08T22:29:27.199Z"
   },
   {
    "duration": 128,
    "start_time": "2021-06-08T22:30:04.150Z"
   },
   {
    "duration": 12,
    "start_time": "2021-06-08T22:30:12.885Z"
   },
   {
    "duration": 12,
    "start_time": "2021-06-08T22:31:02.087Z"
   },
   {
    "duration": 12,
    "start_time": "2021-06-08T22:31:17.464Z"
   },
   {
    "duration": 12,
    "start_time": "2021-06-08T22:31:40.908Z"
   },
   {
    "duration": 14,
    "start_time": "2021-06-08T22:32:14.860Z"
   },
   {
    "duration": 13,
    "start_time": "2021-06-08T22:32:42.620Z"
   },
   {
    "duration": 12,
    "start_time": "2021-06-08T22:33:06.251Z"
   },
   {
    "duration": 13,
    "start_time": "2021-06-08T22:33:20.567Z"
   },
   {
    "duration": 13,
    "start_time": "2021-06-08T22:33:28.331Z"
   },
   {
    "duration": 13,
    "start_time": "2021-06-08T22:33:32.299Z"
   },
   {
    "duration": 12,
    "start_time": "2021-06-08T22:33:39.859Z"
   },
   {
    "duration": 5,
    "start_time": "2021-06-08T22:33:58.143Z"
   },
   {
    "duration": 12,
    "start_time": "2021-06-08T22:34:07.103Z"
   },
   {
    "duration": 4,
    "start_time": "2021-06-08T22:34:10.797Z"
   },
   {
    "duration": 13,
    "start_time": "2021-06-08T22:34:12.044Z"
   },
   {
    "duration": 13,
    "start_time": "2021-06-08T22:34:20.324Z"
   },
   {
    "duration": 13,
    "start_time": "2021-06-08T22:34:33.621Z"
   },
   {
    "duration": 118,
    "start_time": "2021-06-08T22:34:56.102Z"
   },
   {
    "duration": 13,
    "start_time": "2021-06-08T22:35:02.634Z"
   },
   {
    "duration": 13,
    "start_time": "2021-06-08T22:35:13.873Z"
   },
   {
    "duration": 30,
    "start_time": "2021-06-08T22:35:30.606Z"
   },
   {
    "duration": 28,
    "start_time": "2021-06-08T22:39:20.331Z"
   },
   {
    "duration": 28,
    "start_time": "2021-06-08T22:39:31.436Z"
   },
   {
    "duration": 4,
    "start_time": "2021-06-08T22:39:45.632Z"
   },
   {
    "duration": 192,
    "start_time": "2021-06-08T22:49:30.030Z"
   },
   {
    "duration": 347,
    "start_time": "2021-06-08T22:49:34.291Z"
   },
   {
    "duration": 6,
    "start_time": "2021-06-08T22:50:36.704Z"
   },
   {
    "duration": 350,
    "start_time": "2021-06-08T22:54:08.618Z"
   },
   {
    "duration": 6,
    "start_time": "2021-06-08T22:54:13.543Z"
   },
   {
    "duration": 366,
    "start_time": "2021-06-08T22:54:14.066Z"
   },
   {
    "duration": 5476,
    "start_time": "2021-06-08T22:54:20.096Z"
   },
   {
    "duration": 7,
    "start_time": "2021-06-08T22:54:41.658Z"
   },
   {
    "duration": 5,
    "start_time": "2021-06-08T22:54:49.899Z"
   },
   {
    "duration": 16535,
    "start_time": "2021-06-08T22:55:33.814Z"
   },
   {
    "duration": 6,
    "start_time": "2021-06-08T22:56:04.612Z"
   },
   {
    "duration": 7,
    "start_time": "2021-06-08T22:56:08.115Z"
   },
   {
    "duration": 6,
    "start_time": "2021-06-08T22:56:20.478Z"
   },
   {
    "duration": 7,
    "start_time": "2021-06-08T22:56:24.602Z"
   },
   {
    "duration": 7,
    "start_time": "2021-06-08T23:00:08.000Z"
   },
   {
    "duration": 7,
    "start_time": "2021-06-08T23:00:21.106Z"
   },
   {
    "duration": 5458,
    "start_time": "2021-06-08T23:00:24.632Z"
   },
   {
    "duration": 6,
    "start_time": "2021-06-08T23:00:52.788Z"
   },
   {
    "duration": 5446,
    "start_time": "2021-06-08T23:01:21.346Z"
   },
   {
    "duration": 5509,
    "start_time": "2021-06-08T23:01:30.515Z"
   },
   {
    "duration": 5593,
    "start_time": "2021-06-08T23:02:04.424Z"
   },
   {
    "duration": 8,
    "start_time": "2021-06-08T23:04:25.520Z"
   },
   {
    "duration": 5382,
    "start_time": "2021-06-08T23:04:26.495Z"
   },
   {
    "duration": 7,
    "start_time": "2021-06-08T23:05:01.362Z"
   },
   {
    "duration": 5355,
    "start_time": "2021-06-08T23:05:01.692Z"
   },
   {
    "duration": 5320,
    "start_time": "2021-06-08T23:05:29.958Z"
   },
   {
    "duration": 5477,
    "start_time": "2021-06-08T23:05:35.281Z"
   },
   {
    "duration": 8,
    "start_time": "2021-06-08T23:06:46.029Z"
   },
   {
    "duration": 5243,
    "start_time": "2021-06-08T23:06:47.578Z"
   },
   {
    "duration": 5260,
    "start_time": "2021-06-08T23:06:52.823Z"
   },
   {
    "duration": 5289,
    "start_time": "2021-06-08T23:06:58.086Z"
   },
   {
    "duration": 452,
    "start_time": "2021-06-08T23:08:15.847Z"
   },
   {
    "duration": 434,
    "start_time": "2021-06-08T23:08:26.820Z"
   },
   {
    "duration": 436,
    "start_time": "2021-06-08T23:08:40.017Z"
   },
   {
    "duration": 425,
    "start_time": "2021-06-08T23:08:44.610Z"
   },
   {
    "duration": 8,
    "start_time": "2021-06-08T23:09:12.951Z"
   },
   {
    "duration": 5726,
    "start_time": "2021-06-08T23:09:17.057Z"
   },
   {
    "duration": 8,
    "start_time": "2021-06-08T23:09:53.317Z"
   },
   {
    "duration": 7676,
    "start_time": "2021-06-08T23:09:54.390Z"
   },
   {
    "duration": 8,
    "start_time": "2021-06-08T23:10:40.954Z"
   },
   {
    "duration": 5542,
    "start_time": "2021-06-08T23:10:43.111Z"
   },
   {
    "duration": 5664,
    "start_time": "2021-06-08T23:11:05.012Z"
   },
   {
    "duration": 5647,
    "start_time": "2021-06-08T23:11:10.679Z"
   },
   {
    "duration": 8,
    "start_time": "2021-06-08T23:11:35.598Z"
   },
   {
    "duration": 5867,
    "start_time": "2021-06-08T23:11:38.889Z"
   },
   {
    "duration": 5690,
    "start_time": "2021-06-08T23:11:44.761Z"
   },
   {
    "duration": 5679,
    "start_time": "2021-06-08T23:11:50.453Z"
   },
   {
    "duration": 8,
    "start_time": "2021-06-08T23:15:36.618Z"
   },
   {
    "duration": 394,
    "start_time": "2021-06-08T23:15:40.699Z"
   },
   {
    "duration": 9,
    "start_time": "2021-06-08T23:15:45.647Z"
   },
   {
    "duration": 9,
    "start_time": "2021-06-08T23:15:51.596Z"
   },
   {
    "duration": 9,
    "start_time": "2021-06-08T23:15:55.989Z"
   },
   {
    "duration": 9,
    "start_time": "2021-06-08T23:16:05.704Z"
   },
   {
    "duration": 8,
    "start_time": "2021-06-08T23:16:38.916Z"
   },
   {
    "duration": 9,
    "start_time": "2021-06-08T23:17:01.902Z"
   },
   {
    "duration": 8,
    "start_time": "2021-06-08T23:17:23.860Z"
   },
   {
    "duration": 116,
    "start_time": "2021-06-08T23:18:47.586Z"
   },
   {
    "duration": 6,
    "start_time": "2021-06-08T23:19:07.536Z"
   },
   {
    "duration": 10,
    "start_time": "2021-06-08T23:19:21.338Z"
   },
   {
    "duration": 15,
    "start_time": "2021-06-08T23:20:02.570Z"
   }
  ],
  "kernelspec": {
   "display_name": "Python 3",
   "language": "python",
   "name": "python3"
  },
  "language_info": {
   "codemirror_mode": {
    "name": "ipython",
    "version": 3
   },
   "file_extension": ".py",
   "mimetype": "text/x-python",
   "name": "python",
   "nbconvert_exporter": "python",
   "pygments_lexer": "ipython3",
   "version": "3.9.5"
  },
  "toc": {
   "base_numbering": 1,
   "nav_menu": {},
   "number_sections": true,
   "sideBar": true,
   "skip_h1_title": true,
   "title_cell": "Table of Contents",
   "title_sidebar": "Contents",
   "toc_cell": false,
   "toc_position": {},
   "toc_section_display": true,
   "toc_window_display": false
  }
 },
 "nbformat": 4,
 "nbformat_minor": 2
}
