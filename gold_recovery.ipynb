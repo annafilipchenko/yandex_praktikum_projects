{
 "cells": [
  {
   "cell_type": "markdown",
   "metadata": {
    "toc": true
   },
   "source": [
    "<h1>Содержание<span class=\"tocSkip\"></span></h1>\n",
    "<div class=\"toc\"><ul class=\"toc-item\"><li><span><a href=\"#Подготовка-данных\" data-toc-modified-id=\"Подготовка-данных-1\"><span class=\"toc-item-num\">1&nbsp;&nbsp;</span>Подготовка данных</a></span><ul class=\"toc-item\"><li><span><a href=\"#Изучение-данных\" data-toc-modified-id=\"Изучение-данных-1.1\"><span class=\"toc-item-num\">1.1&nbsp;&nbsp;</span>Изучение данных</a></span></li><li><span><a href=\"#Проверка-расчета-эффективности-обогащения\" data-toc-modified-id=\"Проверка-расчета-эффективности-обогащения-1.2\"><span class=\"toc-item-num\">1.2&nbsp;&nbsp;</span>Проверка расчета эффективности обогащения</a></span></li><li><span><a href=\"#Анализ-признаков,-недоступных-в-тестовой-выборке\" data-toc-modified-id=\"Анализ-признаков,-недоступных-в-тестовой-выборке-1.3\"><span class=\"toc-item-num\">1.3&nbsp;&nbsp;</span>Анализ признаков, недоступных в тестовой выборке</a></span></li><li><span><a href=\"#Предобработка-данных\" data-toc-modified-id=\"Предобработка-данных-1.4\"><span class=\"toc-item-num\">1.4&nbsp;&nbsp;</span>Предобработка данных</a></span></li></ul></li><li><span><a href=\"#Анализ-данных\" data-toc-modified-id=\"Анализ-данных-2\"><span class=\"toc-item-num\">2&nbsp;&nbsp;</span>Анализ данных</a></span><ul class=\"toc-item\"><li><span><a href=\"#Анализ-концентрации-металлов-(Au,-Ag,-Pb)-на-различных-этапах-очистки.\" data-toc-modified-id=\"Анализ-концентрации-металлов-(Au,-Ag,-Pb)-на-различных-этапах-очистки.-2.1\"><span class=\"toc-item-num\">2.1&nbsp;&nbsp;</span>Анализ концентрации металлов (Au, Ag, Pb) на различных этапах очистки.</a></span></li><li><span><a href=\"#Сравнение-распределений-размеров-гранул-сырья-на-обучающей-и-тестовой-выборках.\" data-toc-modified-id=\"Сравнение-распределений-размеров-гранул-сырья-на-обучающей-и-тестовой-выборках.-2.2\"><span class=\"toc-item-num\">2.2&nbsp;&nbsp;</span>Сравнение распределений размеров гранул сырья на обучающей и тестовой выборках.</a></span></li><li><span><a href=\"#Исследование-суммарной-концентрации-всех-веществ-на-разных-стадиях.\" data-toc-modified-id=\"Исследование-суммарной-концентрации-всех-веществ-на-разных-стадиях.-2.3\"><span class=\"toc-item-num\">2.3&nbsp;&nbsp;</span>Исследование суммарной концентрации всех веществ на разных стадиях.</a></span></li></ul></li><li><span><a href=\"#Модель\" data-toc-modified-id=\"Модель-3\"><span class=\"toc-item-num\">3&nbsp;&nbsp;</span>Модель</a></span></li><li><span><a href=\"#Чек-лист-готовности-проекта\" data-toc-modified-id=\"Чек-лист-готовности-проекта-4\"><span class=\"toc-item-num\">4&nbsp;&nbsp;</span>Чек-лист готовности проекта</a></span></li></ul></div>"
   ]
  },
  {
   "cell_type": "markdown",
   "metadata": {},
   "source": [
    "# Восстановление золота из руды"
   ]
  },
  {
   "cell_type": "markdown",
   "metadata": {},
   "source": [
    "Подготовьте прототип модели машинного обучения для «Цифры». Компания разрабатывает решения для эффективной работы промышленных предприятий.\n",
    "\n",
    "Модель должна предсказать коэффициент восстановления золота из золотосодержащей руды. Используйте данные с параметрами добычи и очистки. \n",
    "\n",
    "Модель поможет оптимизировать производство, чтобы не запускать предприятие с убыточными характеристиками.\n",
    "\n",
    "Вам нужно:\n",
    "\n",
    "1. Подготовить данные;\n",
    "2. Провести исследовательский анализ данных;\n",
    "3. Построить и обучить модель.\n",
    "\n",
    "Чтобы выполнить проект, обращайтесь к библиотекам *pandas*, *matplotlib* и *sklearn.* Вам поможет их документация."
   ]
  },
  {
   "cell_type": "markdown",
   "metadata": {},
   "source": [
    "## Подготовка данных"
   ]
  },
  {
   "cell_type": "code",
   "execution_count": 1,
   "metadata": {},
   "outputs": [],
   "source": [
    "import pandas as pd\n",
    "import numpy as np\n",
    "import matplotlib.pyplot as plt\n",
    "import seaborn as sns\n",
    "sns.set(color_codes=True)\n",
    "from IPython.display import display\n",
    "pd.set_option('display.max_columns', None)\n",
    "from sklearn.metrics import mean_squared_error, r2_score, mean_absolute_error, make_scorer\n",
    "from sklearn.ensemble import RandomForestRegressor\n",
    "from sklearn.linear_model import LinearRegression\n",
    "from sklearn.model_selection import cross_val_score, KFold\n",
    "import warnings\n",
    "warnings.filterwarnings(\"ignore\")"
   ]
  },
  {
   "cell_type": "markdown",
   "metadata": {},
   "source": [
    "### Изучение данных"
   ]
  },
  {
   "cell_type": "code",
   "execution_count": 2,
   "metadata": {},
   "outputs": [],
   "source": [
    "train = pd.read_csv('/datasets/gold_recovery_train.csv')\n",
    "test = pd.read_csv('/datasets/gold_recovery_test.csv')\n",
    "full = pd.read_csv('/datasets/gold_recovery_full.csv')"
   ]
  },
  {
   "cell_type": "code",
   "execution_count": 3,
   "metadata": {},
   "outputs": [
    {
     "data": {
      "text/html": [
       "<div>\n",
       "<style scoped>\n",
       "    .dataframe tbody tr th:only-of-type {\n",
       "        vertical-align: middle;\n",
       "    }\n",
       "\n",
       "    .dataframe tbody tr th {\n",
       "        vertical-align: top;\n",
       "    }\n",
       "\n",
       "    .dataframe thead th {\n",
       "        text-align: right;\n",
       "    }\n",
       "</style>\n",
       "<table border=\"1\" class=\"dataframe\">\n",
       "  <thead>\n",
       "    <tr style=\"text-align: right;\">\n",
       "      <th></th>\n",
       "      <th>date</th>\n",
       "      <th>final.output.concentrate_ag</th>\n",
       "      <th>final.output.concentrate_pb</th>\n",
       "      <th>final.output.concentrate_sol</th>\n",
       "      <th>final.output.concentrate_au</th>\n",
       "      <th>final.output.recovery</th>\n",
       "      <th>final.output.tail_ag</th>\n",
       "      <th>final.output.tail_pb</th>\n",
       "      <th>final.output.tail_sol</th>\n",
       "      <th>final.output.tail_au</th>\n",
       "      <th>primary_cleaner.input.sulfate</th>\n",
       "      <th>primary_cleaner.input.depressant</th>\n",
       "      <th>primary_cleaner.input.feed_size</th>\n",
       "      <th>primary_cleaner.input.xanthate</th>\n",
       "      <th>primary_cleaner.output.concentrate_ag</th>\n",
       "      <th>primary_cleaner.output.concentrate_pb</th>\n",
       "      <th>primary_cleaner.output.concentrate_sol</th>\n",
       "      <th>primary_cleaner.output.concentrate_au</th>\n",
       "      <th>primary_cleaner.output.tail_ag</th>\n",
       "      <th>primary_cleaner.output.tail_pb</th>\n",
       "      <th>primary_cleaner.output.tail_sol</th>\n",
       "      <th>primary_cleaner.output.tail_au</th>\n",
       "      <th>primary_cleaner.state.floatbank8_a_air</th>\n",
       "      <th>primary_cleaner.state.floatbank8_a_level</th>\n",
       "      <th>primary_cleaner.state.floatbank8_b_air</th>\n",
       "      <th>primary_cleaner.state.floatbank8_b_level</th>\n",
       "      <th>primary_cleaner.state.floatbank8_c_air</th>\n",
       "      <th>primary_cleaner.state.floatbank8_c_level</th>\n",
       "      <th>primary_cleaner.state.floatbank8_d_air</th>\n",
       "      <th>primary_cleaner.state.floatbank8_d_level</th>\n",
       "      <th>rougher.calculation.sulfate_to_au_concentrate</th>\n",
       "      <th>rougher.calculation.floatbank10_sulfate_to_au_feed</th>\n",
       "      <th>rougher.calculation.floatbank11_sulfate_to_au_feed</th>\n",
       "      <th>rougher.calculation.au_pb_ratio</th>\n",
       "      <th>rougher.input.feed_ag</th>\n",
       "      <th>rougher.input.feed_pb</th>\n",
       "      <th>rougher.input.feed_rate</th>\n",
       "      <th>rougher.input.feed_size</th>\n",
       "      <th>rougher.input.feed_sol</th>\n",
       "      <th>rougher.input.feed_au</th>\n",
       "      <th>rougher.input.floatbank10_sulfate</th>\n",
       "      <th>rougher.input.floatbank10_xanthate</th>\n",
       "      <th>rougher.input.floatbank11_sulfate</th>\n",
       "      <th>rougher.input.floatbank11_xanthate</th>\n",
       "      <th>rougher.output.concentrate_ag</th>\n",
       "      <th>rougher.output.concentrate_pb</th>\n",
       "      <th>rougher.output.concentrate_sol</th>\n",
       "      <th>rougher.output.concentrate_au</th>\n",
       "      <th>rougher.output.recovery</th>\n",
       "      <th>rougher.output.tail_ag</th>\n",
       "      <th>rougher.output.tail_pb</th>\n",
       "      <th>rougher.output.tail_sol</th>\n",
       "      <th>rougher.output.tail_au</th>\n",
       "      <th>rougher.state.floatbank10_a_air</th>\n",
       "      <th>rougher.state.floatbank10_a_level</th>\n",
       "      <th>rougher.state.floatbank10_b_air</th>\n",
       "      <th>rougher.state.floatbank10_b_level</th>\n",
       "      <th>rougher.state.floatbank10_c_air</th>\n",
       "      <th>rougher.state.floatbank10_c_level</th>\n",
       "      <th>rougher.state.floatbank10_d_air</th>\n",
       "      <th>rougher.state.floatbank10_d_level</th>\n",
       "      <th>rougher.state.floatbank10_e_air</th>\n",
       "      <th>rougher.state.floatbank10_e_level</th>\n",
       "      <th>rougher.state.floatbank10_f_air</th>\n",
       "      <th>rougher.state.floatbank10_f_level</th>\n",
       "      <th>secondary_cleaner.output.tail_ag</th>\n",
       "      <th>secondary_cleaner.output.tail_pb</th>\n",
       "      <th>secondary_cleaner.output.tail_sol</th>\n",
       "      <th>secondary_cleaner.output.tail_au</th>\n",
       "      <th>secondary_cleaner.state.floatbank2_a_air</th>\n",
       "      <th>secondary_cleaner.state.floatbank2_a_level</th>\n",
       "      <th>secondary_cleaner.state.floatbank2_b_air</th>\n",
       "      <th>secondary_cleaner.state.floatbank2_b_level</th>\n",
       "      <th>secondary_cleaner.state.floatbank3_a_air</th>\n",
       "      <th>secondary_cleaner.state.floatbank3_a_level</th>\n",
       "      <th>secondary_cleaner.state.floatbank3_b_air</th>\n",
       "      <th>secondary_cleaner.state.floatbank3_b_level</th>\n",
       "      <th>secondary_cleaner.state.floatbank4_a_air</th>\n",
       "      <th>secondary_cleaner.state.floatbank4_a_level</th>\n",
       "      <th>secondary_cleaner.state.floatbank4_b_air</th>\n",
       "      <th>secondary_cleaner.state.floatbank4_b_level</th>\n",
       "      <th>secondary_cleaner.state.floatbank5_a_air</th>\n",
       "      <th>secondary_cleaner.state.floatbank5_a_level</th>\n",
       "      <th>secondary_cleaner.state.floatbank5_b_air</th>\n",
       "      <th>secondary_cleaner.state.floatbank5_b_level</th>\n",
       "      <th>secondary_cleaner.state.floatbank6_a_air</th>\n",
       "      <th>secondary_cleaner.state.floatbank6_a_level</th>\n",
       "    </tr>\n",
       "  </thead>\n",
       "  <tbody>\n",
       "    <tr>\n",
       "      <td>0</td>\n",
       "      <td>2016-01-15 00:00:00</td>\n",
       "      <td>6.055403</td>\n",
       "      <td>9.889648</td>\n",
       "      <td>5.507324</td>\n",
       "      <td>42.192020</td>\n",
       "      <td>70.541216</td>\n",
       "      <td>10.411962</td>\n",
       "      <td>0.895447</td>\n",
       "      <td>16.904297</td>\n",
       "      <td>2.143149</td>\n",
       "      <td>127.092003</td>\n",
       "      <td>10.128295</td>\n",
       "      <td>7.25</td>\n",
       "      <td>0.988759</td>\n",
       "      <td>8.547551</td>\n",
       "      <td>10.389648</td>\n",
       "      <td>19.529297</td>\n",
       "      <td>34.174427</td>\n",
       "      <td>14.936526</td>\n",
       "      <td>2.534912</td>\n",
       "      <td>7.476074</td>\n",
       "      <td>2.106679</td>\n",
       "      <td>1549.775757</td>\n",
       "      <td>-498.912140</td>\n",
       "      <td>1551.434204</td>\n",
       "      <td>-516.403442</td>\n",
       "      <td>1549.873901</td>\n",
       "      <td>-498.666595</td>\n",
       "      <td>1554.367432</td>\n",
       "      <td>-493.428131</td>\n",
       "      <td>41885.707031</td>\n",
       "      <td>3481.779053</td>\n",
       "      <td>3520.337158</td>\n",
       "      <td>2.838687</td>\n",
       "      <td>6.100378</td>\n",
       "      <td>2.284912</td>\n",
       "      <td>523.546326</td>\n",
       "      <td>55.486599</td>\n",
       "      <td>36.808594</td>\n",
       "      <td>6.486150</td>\n",
       "      <td>11.986616</td>\n",
       "      <td>6.007990</td>\n",
       "      <td>11.836743</td>\n",
       "      <td>6.005818</td>\n",
       "      <td>11.500771</td>\n",
       "      <td>7.101074</td>\n",
       "      <td>28.029297</td>\n",
       "      <td>19.793808</td>\n",
       "      <td>87.107763</td>\n",
       "      <td>5.008018</td>\n",
       "      <td>0.508728</td>\n",
       "      <td>19.154297</td>\n",
       "      <td>1.170244</td>\n",
       "      <td>999.706909</td>\n",
       "      <td>-404.066986</td>\n",
       "      <td>1603.011353</td>\n",
       "      <td>-434.715027</td>\n",
       "      <td>1602.375000</td>\n",
       "      <td>-442.204468</td>\n",
       "      <td>1598.937256</td>\n",
       "      <td>-451.294128</td>\n",
       "      <td>1404.472046</td>\n",
       "      <td>-455.462982</td>\n",
       "      <td>1416.354980</td>\n",
       "      <td>-451.939636</td>\n",
       "      <td>14.500184</td>\n",
       "      <td>4.694824</td>\n",
       "      <td>8.764648</td>\n",
       "      <td>2.606185</td>\n",
       "      <td>25.853109</td>\n",
       "      <td>-498.526489</td>\n",
       "      <td>23.893660</td>\n",
       "      <td>-501.406281</td>\n",
       "      <td>23.961798</td>\n",
       "      <td>-495.262817</td>\n",
       "      <td>21.940409</td>\n",
       "      <td>-499.340973</td>\n",
       "      <td>14.016835</td>\n",
       "      <td>-502.488007</td>\n",
       "      <td>12.099931</td>\n",
       "      <td>-504.715942</td>\n",
       "      <td>9.925633</td>\n",
       "      <td>-498.310211</td>\n",
       "      <td>8.079666</td>\n",
       "      <td>-500.470978</td>\n",
       "      <td>14.151341</td>\n",
       "      <td>-605.841980</td>\n",
       "    </tr>\n",
       "    <tr>\n",
       "      <td>1</td>\n",
       "      <td>2016-01-15 01:00:00</td>\n",
       "      <td>6.029369</td>\n",
       "      <td>9.968944</td>\n",
       "      <td>5.257781</td>\n",
       "      <td>42.701629</td>\n",
       "      <td>69.266198</td>\n",
       "      <td>10.462676</td>\n",
       "      <td>0.927452</td>\n",
       "      <td>16.634514</td>\n",
       "      <td>2.224930</td>\n",
       "      <td>125.629232</td>\n",
       "      <td>10.296251</td>\n",
       "      <td>7.25</td>\n",
       "      <td>1.002663</td>\n",
       "      <td>8.558743</td>\n",
       "      <td>10.497069</td>\n",
       "      <td>19.369147</td>\n",
       "      <td>34.118526</td>\n",
       "      <td>16.250511</td>\n",
       "      <td>3.049646</td>\n",
       "      <td>6.733907</td>\n",
       "      <td>2.353017</td>\n",
       "      <td>1576.166671</td>\n",
       "      <td>-500.904965</td>\n",
       "      <td>1575.950626</td>\n",
       "      <td>-499.865889</td>\n",
       "      <td>1575.994189</td>\n",
       "      <td>-499.315107</td>\n",
       "      <td>1574.479259</td>\n",
       "      <td>-498.931665</td>\n",
       "      <td>42050.861809</td>\n",
       "      <td>3498.370979</td>\n",
       "      <td>3489.981857</td>\n",
       "      <td>2.858998</td>\n",
       "      <td>6.161113</td>\n",
       "      <td>2.266033</td>\n",
       "      <td>525.290581</td>\n",
       "      <td>57.278666</td>\n",
       "      <td>35.753385</td>\n",
       "      <td>6.478583</td>\n",
       "      <td>11.971193</td>\n",
       "      <td>6.005766</td>\n",
       "      <td>11.996163</td>\n",
       "      <td>6.012594</td>\n",
       "      <td>11.615865</td>\n",
       "      <td>7.278807</td>\n",
       "      <td>28.067063</td>\n",
       "      <td>20.050975</td>\n",
       "      <td>86.843261</td>\n",
       "      <td>4.955378</td>\n",
       "      <td>0.536689</td>\n",
       "      <td>18.965234</td>\n",
       "      <td>1.184827</td>\n",
       "      <td>1000.286398</td>\n",
       "      <td>-400.065196</td>\n",
       "      <td>1600.754587</td>\n",
       "      <td>-449.953435</td>\n",
       "      <td>1600.479580</td>\n",
       "      <td>-449.830646</td>\n",
       "      <td>1600.527589</td>\n",
       "      <td>-449.953649</td>\n",
       "      <td>1399.227084</td>\n",
       "      <td>-450.869848</td>\n",
       "      <td>1399.719514</td>\n",
       "      <td>-450.119001</td>\n",
       "      <td>14.265474</td>\n",
       "      <td>4.592547</td>\n",
       "      <td>9.001494</td>\n",
       "      <td>2.488248</td>\n",
       "      <td>25.880539</td>\n",
       "      <td>-499.989656</td>\n",
       "      <td>23.889530</td>\n",
       "      <td>-500.372428</td>\n",
       "      <td>23.970550</td>\n",
       "      <td>-500.085473</td>\n",
       "      <td>22.085714</td>\n",
       "      <td>-499.446897</td>\n",
       "      <td>13.992281</td>\n",
       "      <td>-505.503262</td>\n",
       "      <td>11.950531</td>\n",
       "      <td>-501.331529</td>\n",
       "      <td>10.039245</td>\n",
       "      <td>-500.169983</td>\n",
       "      <td>7.984757</td>\n",
       "      <td>-500.582168</td>\n",
       "      <td>13.998353</td>\n",
       "      <td>-599.787184</td>\n",
       "    </tr>\n",
       "    <tr>\n",
       "      <td>2</td>\n",
       "      <td>2016-01-15 02:00:00</td>\n",
       "      <td>6.055926</td>\n",
       "      <td>10.213995</td>\n",
       "      <td>5.383759</td>\n",
       "      <td>42.657501</td>\n",
       "      <td>68.116445</td>\n",
       "      <td>10.507046</td>\n",
       "      <td>0.953716</td>\n",
       "      <td>16.208849</td>\n",
       "      <td>2.257889</td>\n",
       "      <td>123.819808</td>\n",
       "      <td>11.316280</td>\n",
       "      <td>7.25</td>\n",
       "      <td>0.991265</td>\n",
       "      <td>8.603505</td>\n",
       "      <td>10.354494</td>\n",
       "      <td>19.167579</td>\n",
       "      <td>33.969464</td>\n",
       "      <td>16.491823</td>\n",
       "      <td>3.124664</td>\n",
       "      <td>6.471768</td>\n",
       "      <td>2.416800</td>\n",
       "      <td>1601.556163</td>\n",
       "      <td>-499.997791</td>\n",
       "      <td>1600.386685</td>\n",
       "      <td>-500.607762</td>\n",
       "      <td>1602.003542</td>\n",
       "      <td>-500.870069</td>\n",
       "      <td>1599.541515</td>\n",
       "      <td>-499.827444</td>\n",
       "      <td>42018.101184</td>\n",
       "      <td>3495.348910</td>\n",
       "      <td>3502.359819</td>\n",
       "      <td>2.945989</td>\n",
       "      <td>6.116455</td>\n",
       "      <td>2.159622</td>\n",
       "      <td>530.026610</td>\n",
       "      <td>57.510649</td>\n",
       "      <td>35.971630</td>\n",
       "      <td>6.362222</td>\n",
       "      <td>11.920603</td>\n",
       "      <td>6.197377</td>\n",
       "      <td>11.920305</td>\n",
       "      <td>6.204633</td>\n",
       "      <td>11.695753</td>\n",
       "      <td>7.216833</td>\n",
       "      <td>27.454037</td>\n",
       "      <td>19.737170</td>\n",
       "      <td>86.842308</td>\n",
       "      <td>4.843460</td>\n",
       "      <td>0.546416</td>\n",
       "      <td>18.808533</td>\n",
       "      <td>1.162562</td>\n",
       "      <td>999.719565</td>\n",
       "      <td>-400.074028</td>\n",
       "      <td>1599.337330</td>\n",
       "      <td>-450.008530</td>\n",
       "      <td>1599.672797</td>\n",
       "      <td>-449.954491</td>\n",
       "      <td>1599.849325</td>\n",
       "      <td>-449.954185</td>\n",
       "      <td>1399.180945</td>\n",
       "      <td>-449.937588</td>\n",
       "      <td>1400.316682</td>\n",
       "      <td>-450.527147</td>\n",
       "      <td>14.115662</td>\n",
       "      <td>4.624775</td>\n",
       "      <td>8.842896</td>\n",
       "      <td>2.458187</td>\n",
       "      <td>26.005245</td>\n",
       "      <td>-499.929616</td>\n",
       "      <td>23.886657</td>\n",
       "      <td>-499.951928</td>\n",
       "      <td>23.913535</td>\n",
       "      <td>-499.442343</td>\n",
       "      <td>23.957717</td>\n",
       "      <td>-499.901982</td>\n",
       "      <td>14.015015</td>\n",
       "      <td>-502.520901</td>\n",
       "      <td>11.912783</td>\n",
       "      <td>-501.133383</td>\n",
       "      <td>10.070913</td>\n",
       "      <td>-500.129135</td>\n",
       "      <td>8.013877</td>\n",
       "      <td>-500.517572</td>\n",
       "      <td>14.028663</td>\n",
       "      <td>-601.427363</td>\n",
       "    </tr>\n",
       "    <tr>\n",
       "      <td>3</td>\n",
       "      <td>2016-01-15 03:00:00</td>\n",
       "      <td>6.047977</td>\n",
       "      <td>9.977019</td>\n",
       "      <td>4.858634</td>\n",
       "      <td>42.689819</td>\n",
       "      <td>68.347543</td>\n",
       "      <td>10.422762</td>\n",
       "      <td>0.883763</td>\n",
       "      <td>16.532835</td>\n",
       "      <td>2.146849</td>\n",
       "      <td>122.270188</td>\n",
       "      <td>11.322140</td>\n",
       "      <td>7.25</td>\n",
       "      <td>0.996739</td>\n",
       "      <td>7.221879</td>\n",
       "      <td>8.496563</td>\n",
       "      <td>15.978538</td>\n",
       "      <td>28.260743</td>\n",
       "      <td>16.024359</td>\n",
       "      <td>2.960362</td>\n",
       "      <td>6.843791</td>\n",
       "      <td>2.262051</td>\n",
       "      <td>1599.968720</td>\n",
       "      <td>-500.951778</td>\n",
       "      <td>1600.659236</td>\n",
       "      <td>-499.677094</td>\n",
       "      <td>1600.304144</td>\n",
       "      <td>-500.727997</td>\n",
       "      <td>1600.449520</td>\n",
       "      <td>-500.052575</td>\n",
       "      <td>42029.447991</td>\n",
       "      <td>3498.578313</td>\n",
       "      <td>3499.162912</td>\n",
       "      <td>3.002340</td>\n",
       "      <td>6.043309</td>\n",
       "      <td>2.037807</td>\n",
       "      <td>542.590390</td>\n",
       "      <td>57.792734</td>\n",
       "      <td>36.862241</td>\n",
       "      <td>6.118189</td>\n",
       "      <td>11.630094</td>\n",
       "      <td>6.203177</td>\n",
       "      <td>11.692450</td>\n",
       "      <td>6.196578</td>\n",
       "      <td>11.915047</td>\n",
       "      <td>7.175616</td>\n",
       "      <td>27.341277</td>\n",
       "      <td>19.320810</td>\n",
       "      <td>87.226430</td>\n",
       "      <td>4.655288</td>\n",
       "      <td>0.542525</td>\n",
       "      <td>19.330200</td>\n",
       "      <td>1.079755</td>\n",
       "      <td>999.814770</td>\n",
       "      <td>-400.200179</td>\n",
       "      <td>1600.059442</td>\n",
       "      <td>-450.619948</td>\n",
       "      <td>1600.012842</td>\n",
       "      <td>-449.910497</td>\n",
       "      <td>1597.725177</td>\n",
       "      <td>-450.130127</td>\n",
       "      <td>1400.943157</td>\n",
       "      <td>-450.030142</td>\n",
       "      <td>1400.234743</td>\n",
       "      <td>-449.790835</td>\n",
       "      <td>13.732071</td>\n",
       "      <td>4.482453</td>\n",
       "      <td>9.122857</td>\n",
       "      <td>2.322062</td>\n",
       "      <td>25.942508</td>\n",
       "      <td>-499.176749</td>\n",
       "      <td>23.955516</td>\n",
       "      <td>-499.848796</td>\n",
       "      <td>23.966838</td>\n",
       "      <td>-500.008812</td>\n",
       "      <td>23.954443</td>\n",
       "      <td>-499.944710</td>\n",
       "      <td>14.036510</td>\n",
       "      <td>-500.857308</td>\n",
       "      <td>11.999550</td>\n",
       "      <td>-501.193686</td>\n",
       "      <td>9.970366</td>\n",
       "      <td>-499.201640</td>\n",
       "      <td>7.977324</td>\n",
       "      <td>-500.255908</td>\n",
       "      <td>14.005551</td>\n",
       "      <td>-599.996129</td>\n",
       "    </tr>\n",
       "    <tr>\n",
       "      <td>4</td>\n",
       "      <td>2016-01-15 04:00:00</td>\n",
       "      <td>6.148599</td>\n",
       "      <td>10.142511</td>\n",
       "      <td>4.939416</td>\n",
       "      <td>42.774141</td>\n",
       "      <td>66.927016</td>\n",
       "      <td>10.360302</td>\n",
       "      <td>0.792826</td>\n",
       "      <td>16.525686</td>\n",
       "      <td>2.055292</td>\n",
       "      <td>117.988169</td>\n",
       "      <td>11.913613</td>\n",
       "      <td>7.25</td>\n",
       "      <td>1.009869</td>\n",
       "      <td>9.089428</td>\n",
       "      <td>9.986786</td>\n",
       "      <td>19.199864</td>\n",
       "      <td>33.044932</td>\n",
       "      <td>16.480185</td>\n",
       "      <td>3.112100</td>\n",
       "      <td>6.550154</td>\n",
       "      <td>2.277073</td>\n",
       "      <td>1601.339707</td>\n",
       "      <td>-498.975456</td>\n",
       "      <td>1601.437854</td>\n",
       "      <td>-500.323246</td>\n",
       "      <td>1599.581894</td>\n",
       "      <td>-500.888152</td>\n",
       "      <td>1602.649541</td>\n",
       "      <td>-500.593010</td>\n",
       "      <td>42125.354245</td>\n",
       "      <td>3494.800771</td>\n",
       "      <td>3506.679315</td>\n",
       "      <td>3.169615</td>\n",
       "      <td>6.060915</td>\n",
       "      <td>1.786875</td>\n",
       "      <td>540.531893</td>\n",
       "      <td>56.047189</td>\n",
       "      <td>34.347666</td>\n",
       "      <td>5.663707</td>\n",
       "      <td>10.957755</td>\n",
       "      <td>6.198826</td>\n",
       "      <td>10.960521</td>\n",
       "      <td>6.194897</td>\n",
       "      <td>12.411054</td>\n",
       "      <td>7.240205</td>\n",
       "      <td>27.041023</td>\n",
       "      <td>19.216101</td>\n",
       "      <td>86.688794</td>\n",
       "      <td>4.552800</td>\n",
       "      <td>0.515438</td>\n",
       "      <td>19.267422</td>\n",
       "      <td>1.012642</td>\n",
       "      <td>999.678690</td>\n",
       "      <td>-399.752729</td>\n",
       "      <td>1600.208824</td>\n",
       "      <td>-449.599614</td>\n",
       "      <td>1600.357732</td>\n",
       "      <td>-450.034364</td>\n",
       "      <td>1599.759049</td>\n",
       "      <td>-449.909799</td>\n",
       "      <td>1401.560902</td>\n",
       "      <td>-448.877187</td>\n",
       "      <td>1401.160227</td>\n",
       "      <td>-450.407128</td>\n",
       "      <td>14.079996</td>\n",
       "      <td>4.470737</td>\n",
       "      <td>8.871028</td>\n",
       "      <td>2.330448</td>\n",
       "      <td>26.024787</td>\n",
       "      <td>-500.279091</td>\n",
       "      <td>23.955345</td>\n",
       "      <td>-500.593614</td>\n",
       "      <td>23.985703</td>\n",
       "      <td>-500.083811</td>\n",
       "      <td>23.958945</td>\n",
       "      <td>-499.990309</td>\n",
       "      <td>14.027298</td>\n",
       "      <td>-499.838632</td>\n",
       "      <td>11.953070</td>\n",
       "      <td>-501.053894</td>\n",
       "      <td>9.925709</td>\n",
       "      <td>-501.686727</td>\n",
       "      <td>7.894242</td>\n",
       "      <td>-500.356035</td>\n",
       "      <td>13.996647</td>\n",
       "      <td>-601.496691</td>\n",
       "    </tr>\n",
       "  </tbody>\n",
       "</table>\n",
       "</div>"
      ],
      "text/plain": [
       "                  date  final.output.concentrate_ag  \\\n",
       "0  2016-01-15 00:00:00                     6.055403   \n",
       "1  2016-01-15 01:00:00                     6.029369   \n",
       "2  2016-01-15 02:00:00                     6.055926   \n",
       "3  2016-01-15 03:00:00                     6.047977   \n",
       "4  2016-01-15 04:00:00                     6.148599   \n",
       "\n",
       "   final.output.concentrate_pb  final.output.concentrate_sol  \\\n",
       "0                     9.889648                      5.507324   \n",
       "1                     9.968944                      5.257781   \n",
       "2                    10.213995                      5.383759   \n",
       "3                     9.977019                      4.858634   \n",
       "4                    10.142511                      4.939416   \n",
       "\n",
       "   final.output.concentrate_au  final.output.recovery  final.output.tail_ag  \\\n",
       "0                    42.192020              70.541216             10.411962   \n",
       "1                    42.701629              69.266198             10.462676   \n",
       "2                    42.657501              68.116445             10.507046   \n",
       "3                    42.689819              68.347543             10.422762   \n",
       "4                    42.774141              66.927016             10.360302   \n",
       "\n",
       "   final.output.tail_pb  final.output.tail_sol  final.output.tail_au  \\\n",
       "0              0.895447              16.904297              2.143149   \n",
       "1              0.927452              16.634514              2.224930   \n",
       "2              0.953716              16.208849              2.257889   \n",
       "3              0.883763              16.532835              2.146849   \n",
       "4              0.792826              16.525686              2.055292   \n",
       "\n",
       "   primary_cleaner.input.sulfate  primary_cleaner.input.depressant  \\\n",
       "0                     127.092003                         10.128295   \n",
       "1                     125.629232                         10.296251   \n",
       "2                     123.819808                         11.316280   \n",
       "3                     122.270188                         11.322140   \n",
       "4                     117.988169                         11.913613   \n",
       "\n",
       "   primary_cleaner.input.feed_size  primary_cleaner.input.xanthate  \\\n",
       "0                             7.25                        0.988759   \n",
       "1                             7.25                        1.002663   \n",
       "2                             7.25                        0.991265   \n",
       "3                             7.25                        0.996739   \n",
       "4                             7.25                        1.009869   \n",
       "\n",
       "   primary_cleaner.output.concentrate_ag  \\\n",
       "0                               8.547551   \n",
       "1                               8.558743   \n",
       "2                               8.603505   \n",
       "3                               7.221879   \n",
       "4                               9.089428   \n",
       "\n",
       "   primary_cleaner.output.concentrate_pb  \\\n",
       "0                              10.389648   \n",
       "1                              10.497069   \n",
       "2                              10.354494   \n",
       "3                               8.496563   \n",
       "4                               9.986786   \n",
       "\n",
       "   primary_cleaner.output.concentrate_sol  \\\n",
       "0                               19.529297   \n",
       "1                               19.369147   \n",
       "2                               19.167579   \n",
       "3                               15.978538   \n",
       "4                               19.199864   \n",
       "\n",
       "   primary_cleaner.output.concentrate_au  primary_cleaner.output.tail_ag  \\\n",
       "0                              34.174427                       14.936526   \n",
       "1                              34.118526                       16.250511   \n",
       "2                              33.969464                       16.491823   \n",
       "3                              28.260743                       16.024359   \n",
       "4                              33.044932                       16.480185   \n",
       "\n",
       "   primary_cleaner.output.tail_pb  primary_cleaner.output.tail_sol  \\\n",
       "0                        2.534912                         7.476074   \n",
       "1                        3.049646                         6.733907   \n",
       "2                        3.124664                         6.471768   \n",
       "3                        2.960362                         6.843791   \n",
       "4                        3.112100                         6.550154   \n",
       "\n",
       "   primary_cleaner.output.tail_au  primary_cleaner.state.floatbank8_a_air  \\\n",
       "0                        2.106679                             1549.775757   \n",
       "1                        2.353017                             1576.166671   \n",
       "2                        2.416800                             1601.556163   \n",
       "3                        2.262051                             1599.968720   \n",
       "4                        2.277073                             1601.339707   \n",
       "\n",
       "   primary_cleaner.state.floatbank8_a_level  \\\n",
       "0                               -498.912140   \n",
       "1                               -500.904965   \n",
       "2                               -499.997791   \n",
       "3                               -500.951778   \n",
       "4                               -498.975456   \n",
       "\n",
       "   primary_cleaner.state.floatbank8_b_air  \\\n",
       "0                             1551.434204   \n",
       "1                             1575.950626   \n",
       "2                             1600.386685   \n",
       "3                             1600.659236   \n",
       "4                             1601.437854   \n",
       "\n",
       "   primary_cleaner.state.floatbank8_b_level  \\\n",
       "0                               -516.403442   \n",
       "1                               -499.865889   \n",
       "2                               -500.607762   \n",
       "3                               -499.677094   \n",
       "4                               -500.323246   \n",
       "\n",
       "   primary_cleaner.state.floatbank8_c_air  \\\n",
       "0                             1549.873901   \n",
       "1                             1575.994189   \n",
       "2                             1602.003542   \n",
       "3                             1600.304144   \n",
       "4                             1599.581894   \n",
       "\n",
       "   primary_cleaner.state.floatbank8_c_level  \\\n",
       "0                               -498.666595   \n",
       "1                               -499.315107   \n",
       "2                               -500.870069   \n",
       "3                               -500.727997   \n",
       "4                               -500.888152   \n",
       "\n",
       "   primary_cleaner.state.floatbank8_d_air  \\\n",
       "0                             1554.367432   \n",
       "1                             1574.479259   \n",
       "2                             1599.541515   \n",
       "3                             1600.449520   \n",
       "4                             1602.649541   \n",
       "\n",
       "   primary_cleaner.state.floatbank8_d_level  \\\n",
       "0                               -493.428131   \n",
       "1                               -498.931665   \n",
       "2                               -499.827444   \n",
       "3                               -500.052575   \n",
       "4                               -500.593010   \n",
       "\n",
       "   rougher.calculation.sulfate_to_au_concentrate  \\\n",
       "0                                   41885.707031   \n",
       "1                                   42050.861809   \n",
       "2                                   42018.101184   \n",
       "3                                   42029.447991   \n",
       "4                                   42125.354245   \n",
       "\n",
       "   rougher.calculation.floatbank10_sulfate_to_au_feed  \\\n",
       "0                                        3481.779053    \n",
       "1                                        3498.370979    \n",
       "2                                        3495.348910    \n",
       "3                                        3498.578313    \n",
       "4                                        3494.800771    \n",
       "\n",
       "   rougher.calculation.floatbank11_sulfate_to_au_feed  \\\n",
       "0                                        3520.337158    \n",
       "1                                        3489.981857    \n",
       "2                                        3502.359819    \n",
       "3                                        3499.162912    \n",
       "4                                        3506.679315    \n",
       "\n",
       "   rougher.calculation.au_pb_ratio  rougher.input.feed_ag  \\\n",
       "0                         2.838687               6.100378   \n",
       "1                         2.858998               6.161113   \n",
       "2                         2.945989               6.116455   \n",
       "3                         3.002340               6.043309   \n",
       "4                         3.169615               6.060915   \n",
       "\n",
       "   rougher.input.feed_pb  rougher.input.feed_rate  rougher.input.feed_size  \\\n",
       "0               2.284912               523.546326                55.486599   \n",
       "1               2.266033               525.290581                57.278666   \n",
       "2               2.159622               530.026610                57.510649   \n",
       "3               2.037807               542.590390                57.792734   \n",
       "4               1.786875               540.531893                56.047189   \n",
       "\n",
       "   rougher.input.feed_sol  rougher.input.feed_au  \\\n",
       "0               36.808594               6.486150   \n",
       "1               35.753385               6.478583   \n",
       "2               35.971630               6.362222   \n",
       "3               36.862241               6.118189   \n",
       "4               34.347666               5.663707   \n",
       "\n",
       "   rougher.input.floatbank10_sulfate  rougher.input.floatbank10_xanthate  \\\n",
       "0                          11.986616                            6.007990   \n",
       "1                          11.971193                            6.005766   \n",
       "2                          11.920603                            6.197377   \n",
       "3                          11.630094                            6.203177   \n",
       "4                          10.957755                            6.198826   \n",
       "\n",
       "   rougher.input.floatbank11_sulfate  rougher.input.floatbank11_xanthate  \\\n",
       "0                          11.836743                            6.005818   \n",
       "1                          11.996163                            6.012594   \n",
       "2                          11.920305                            6.204633   \n",
       "3                          11.692450                            6.196578   \n",
       "4                          10.960521                            6.194897   \n",
       "\n",
       "   rougher.output.concentrate_ag  rougher.output.concentrate_pb  \\\n",
       "0                      11.500771                       7.101074   \n",
       "1                      11.615865                       7.278807   \n",
       "2                      11.695753                       7.216833   \n",
       "3                      11.915047                       7.175616   \n",
       "4                      12.411054                       7.240205   \n",
       "\n",
       "   rougher.output.concentrate_sol  rougher.output.concentrate_au  \\\n",
       "0                       28.029297                      19.793808   \n",
       "1                       28.067063                      20.050975   \n",
       "2                       27.454037                      19.737170   \n",
       "3                       27.341277                      19.320810   \n",
       "4                       27.041023                      19.216101   \n",
       "\n",
       "   rougher.output.recovery  rougher.output.tail_ag  rougher.output.tail_pb  \\\n",
       "0                87.107763                5.008018                0.508728   \n",
       "1                86.843261                4.955378                0.536689   \n",
       "2                86.842308                4.843460                0.546416   \n",
       "3                87.226430                4.655288                0.542525   \n",
       "4                86.688794                4.552800                0.515438   \n",
       "\n",
       "   rougher.output.tail_sol  rougher.output.tail_au  \\\n",
       "0                19.154297                1.170244   \n",
       "1                18.965234                1.184827   \n",
       "2                18.808533                1.162562   \n",
       "3                19.330200                1.079755   \n",
       "4                19.267422                1.012642   \n",
       "\n",
       "   rougher.state.floatbank10_a_air  rougher.state.floatbank10_a_level  \\\n",
       "0                       999.706909                        -404.066986   \n",
       "1                      1000.286398                        -400.065196   \n",
       "2                       999.719565                        -400.074028   \n",
       "3                       999.814770                        -400.200179   \n",
       "4                       999.678690                        -399.752729   \n",
       "\n",
       "   rougher.state.floatbank10_b_air  rougher.state.floatbank10_b_level  \\\n",
       "0                      1603.011353                        -434.715027   \n",
       "1                      1600.754587                        -449.953435   \n",
       "2                      1599.337330                        -450.008530   \n",
       "3                      1600.059442                        -450.619948   \n",
       "4                      1600.208824                        -449.599614   \n",
       "\n",
       "   rougher.state.floatbank10_c_air  rougher.state.floatbank10_c_level  \\\n",
       "0                      1602.375000                        -442.204468   \n",
       "1                      1600.479580                        -449.830646   \n",
       "2                      1599.672797                        -449.954491   \n",
       "3                      1600.012842                        -449.910497   \n",
       "4                      1600.357732                        -450.034364   \n",
       "\n",
       "   rougher.state.floatbank10_d_air  rougher.state.floatbank10_d_level  \\\n",
       "0                      1598.937256                        -451.294128   \n",
       "1                      1600.527589                        -449.953649   \n",
       "2                      1599.849325                        -449.954185   \n",
       "3                      1597.725177                        -450.130127   \n",
       "4                      1599.759049                        -449.909799   \n",
       "\n",
       "   rougher.state.floatbank10_e_air  rougher.state.floatbank10_e_level  \\\n",
       "0                      1404.472046                        -455.462982   \n",
       "1                      1399.227084                        -450.869848   \n",
       "2                      1399.180945                        -449.937588   \n",
       "3                      1400.943157                        -450.030142   \n",
       "4                      1401.560902                        -448.877187   \n",
       "\n",
       "   rougher.state.floatbank10_f_air  rougher.state.floatbank10_f_level  \\\n",
       "0                      1416.354980                        -451.939636   \n",
       "1                      1399.719514                        -450.119001   \n",
       "2                      1400.316682                        -450.527147   \n",
       "3                      1400.234743                        -449.790835   \n",
       "4                      1401.160227                        -450.407128   \n",
       "\n",
       "   secondary_cleaner.output.tail_ag  secondary_cleaner.output.tail_pb  \\\n",
       "0                         14.500184                          4.694824   \n",
       "1                         14.265474                          4.592547   \n",
       "2                         14.115662                          4.624775   \n",
       "3                         13.732071                          4.482453   \n",
       "4                         14.079996                          4.470737   \n",
       "\n",
       "   secondary_cleaner.output.tail_sol  secondary_cleaner.output.tail_au  \\\n",
       "0                           8.764648                          2.606185   \n",
       "1                           9.001494                          2.488248   \n",
       "2                           8.842896                          2.458187   \n",
       "3                           9.122857                          2.322062   \n",
       "4                           8.871028                          2.330448   \n",
       "\n",
       "   secondary_cleaner.state.floatbank2_a_air  \\\n",
       "0                                 25.853109   \n",
       "1                                 25.880539   \n",
       "2                                 26.005245   \n",
       "3                                 25.942508   \n",
       "4                                 26.024787   \n",
       "\n",
       "   secondary_cleaner.state.floatbank2_a_level  \\\n",
       "0                                 -498.526489   \n",
       "1                                 -499.989656   \n",
       "2                                 -499.929616   \n",
       "3                                 -499.176749   \n",
       "4                                 -500.279091   \n",
       "\n",
       "   secondary_cleaner.state.floatbank2_b_air  \\\n",
       "0                                 23.893660   \n",
       "1                                 23.889530   \n",
       "2                                 23.886657   \n",
       "3                                 23.955516   \n",
       "4                                 23.955345   \n",
       "\n",
       "   secondary_cleaner.state.floatbank2_b_level  \\\n",
       "0                                 -501.406281   \n",
       "1                                 -500.372428   \n",
       "2                                 -499.951928   \n",
       "3                                 -499.848796   \n",
       "4                                 -500.593614   \n",
       "\n",
       "   secondary_cleaner.state.floatbank3_a_air  \\\n",
       "0                                 23.961798   \n",
       "1                                 23.970550   \n",
       "2                                 23.913535   \n",
       "3                                 23.966838   \n",
       "4                                 23.985703   \n",
       "\n",
       "   secondary_cleaner.state.floatbank3_a_level  \\\n",
       "0                                 -495.262817   \n",
       "1                                 -500.085473   \n",
       "2                                 -499.442343   \n",
       "3                                 -500.008812   \n",
       "4                                 -500.083811   \n",
       "\n",
       "   secondary_cleaner.state.floatbank3_b_air  \\\n",
       "0                                 21.940409   \n",
       "1                                 22.085714   \n",
       "2                                 23.957717   \n",
       "3                                 23.954443   \n",
       "4                                 23.958945   \n",
       "\n",
       "   secondary_cleaner.state.floatbank3_b_level  \\\n",
       "0                                 -499.340973   \n",
       "1                                 -499.446897   \n",
       "2                                 -499.901982   \n",
       "3                                 -499.944710   \n",
       "4                                 -499.990309   \n",
       "\n",
       "   secondary_cleaner.state.floatbank4_a_air  \\\n",
       "0                                 14.016835   \n",
       "1                                 13.992281   \n",
       "2                                 14.015015   \n",
       "3                                 14.036510   \n",
       "4                                 14.027298   \n",
       "\n",
       "   secondary_cleaner.state.floatbank4_a_level  \\\n",
       "0                                 -502.488007   \n",
       "1                                 -505.503262   \n",
       "2                                 -502.520901   \n",
       "3                                 -500.857308   \n",
       "4                                 -499.838632   \n",
       "\n",
       "   secondary_cleaner.state.floatbank4_b_air  \\\n",
       "0                                 12.099931   \n",
       "1                                 11.950531   \n",
       "2                                 11.912783   \n",
       "3                                 11.999550   \n",
       "4                                 11.953070   \n",
       "\n",
       "   secondary_cleaner.state.floatbank4_b_level  \\\n",
       "0                                 -504.715942   \n",
       "1                                 -501.331529   \n",
       "2                                 -501.133383   \n",
       "3                                 -501.193686   \n",
       "4                                 -501.053894   \n",
       "\n",
       "   secondary_cleaner.state.floatbank5_a_air  \\\n",
       "0                                  9.925633   \n",
       "1                                 10.039245   \n",
       "2                                 10.070913   \n",
       "3                                  9.970366   \n",
       "4                                  9.925709   \n",
       "\n",
       "   secondary_cleaner.state.floatbank5_a_level  \\\n",
       "0                                 -498.310211   \n",
       "1                                 -500.169983   \n",
       "2                                 -500.129135   \n",
       "3                                 -499.201640   \n",
       "4                                 -501.686727   \n",
       "\n",
       "   secondary_cleaner.state.floatbank5_b_air  \\\n",
       "0                                  8.079666   \n",
       "1                                  7.984757   \n",
       "2                                  8.013877   \n",
       "3                                  7.977324   \n",
       "4                                  7.894242   \n",
       "\n",
       "   secondary_cleaner.state.floatbank5_b_level  \\\n",
       "0                                 -500.470978   \n",
       "1                                 -500.582168   \n",
       "2                                 -500.517572   \n",
       "3                                 -500.255908   \n",
       "4                                 -500.356035   \n",
       "\n",
       "   secondary_cleaner.state.floatbank6_a_air  \\\n",
       "0                                 14.151341   \n",
       "1                                 13.998353   \n",
       "2                                 14.028663   \n",
       "3                                 14.005551   \n",
       "4                                 13.996647   \n",
       "\n",
       "   secondary_cleaner.state.floatbank6_a_level  \n",
       "0                                 -605.841980  \n",
       "1                                 -599.787184  \n",
       "2                                 -601.427363  \n",
       "3                                 -599.996129  \n",
       "4                                 -601.496691  "
      ]
     },
     "metadata": {},
     "output_type": "display_data"
    },
    {
     "data": {
      "text/html": [
       "<div>\n",
       "<style scoped>\n",
       "    .dataframe tbody tr th:only-of-type {\n",
       "        vertical-align: middle;\n",
       "    }\n",
       "\n",
       "    .dataframe tbody tr th {\n",
       "        vertical-align: top;\n",
       "    }\n",
       "\n",
       "    .dataframe thead th {\n",
       "        text-align: right;\n",
       "    }\n",
       "</style>\n",
       "<table border=\"1\" class=\"dataframe\">\n",
       "  <thead>\n",
       "    <tr style=\"text-align: right;\">\n",
       "      <th></th>\n",
       "      <th>date</th>\n",
       "      <th>primary_cleaner.input.sulfate</th>\n",
       "      <th>primary_cleaner.input.depressant</th>\n",
       "      <th>primary_cleaner.input.feed_size</th>\n",
       "      <th>primary_cleaner.input.xanthate</th>\n",
       "      <th>primary_cleaner.state.floatbank8_a_air</th>\n",
       "      <th>primary_cleaner.state.floatbank8_a_level</th>\n",
       "      <th>primary_cleaner.state.floatbank8_b_air</th>\n",
       "      <th>primary_cleaner.state.floatbank8_b_level</th>\n",
       "      <th>primary_cleaner.state.floatbank8_c_air</th>\n",
       "      <th>primary_cleaner.state.floatbank8_c_level</th>\n",
       "      <th>primary_cleaner.state.floatbank8_d_air</th>\n",
       "      <th>primary_cleaner.state.floatbank8_d_level</th>\n",
       "      <th>rougher.input.feed_ag</th>\n",
       "      <th>rougher.input.feed_pb</th>\n",
       "      <th>rougher.input.feed_rate</th>\n",
       "      <th>rougher.input.feed_size</th>\n",
       "      <th>rougher.input.feed_sol</th>\n",
       "      <th>rougher.input.feed_au</th>\n",
       "      <th>rougher.input.floatbank10_sulfate</th>\n",
       "      <th>rougher.input.floatbank10_xanthate</th>\n",
       "      <th>rougher.input.floatbank11_sulfate</th>\n",
       "      <th>rougher.input.floatbank11_xanthate</th>\n",
       "      <th>rougher.state.floatbank10_a_air</th>\n",
       "      <th>rougher.state.floatbank10_a_level</th>\n",
       "      <th>rougher.state.floatbank10_b_air</th>\n",
       "      <th>rougher.state.floatbank10_b_level</th>\n",
       "      <th>rougher.state.floatbank10_c_air</th>\n",
       "      <th>rougher.state.floatbank10_c_level</th>\n",
       "      <th>rougher.state.floatbank10_d_air</th>\n",
       "      <th>rougher.state.floatbank10_d_level</th>\n",
       "      <th>rougher.state.floatbank10_e_air</th>\n",
       "      <th>rougher.state.floatbank10_e_level</th>\n",
       "      <th>rougher.state.floatbank10_f_air</th>\n",
       "      <th>rougher.state.floatbank10_f_level</th>\n",
       "      <th>secondary_cleaner.state.floatbank2_a_air</th>\n",
       "      <th>secondary_cleaner.state.floatbank2_a_level</th>\n",
       "      <th>secondary_cleaner.state.floatbank2_b_air</th>\n",
       "      <th>secondary_cleaner.state.floatbank2_b_level</th>\n",
       "      <th>secondary_cleaner.state.floatbank3_a_air</th>\n",
       "      <th>secondary_cleaner.state.floatbank3_a_level</th>\n",
       "      <th>secondary_cleaner.state.floatbank3_b_air</th>\n",
       "      <th>secondary_cleaner.state.floatbank3_b_level</th>\n",
       "      <th>secondary_cleaner.state.floatbank4_a_air</th>\n",
       "      <th>secondary_cleaner.state.floatbank4_a_level</th>\n",
       "      <th>secondary_cleaner.state.floatbank4_b_air</th>\n",
       "      <th>secondary_cleaner.state.floatbank4_b_level</th>\n",
       "      <th>secondary_cleaner.state.floatbank5_a_air</th>\n",
       "      <th>secondary_cleaner.state.floatbank5_a_level</th>\n",
       "      <th>secondary_cleaner.state.floatbank5_b_air</th>\n",
       "      <th>secondary_cleaner.state.floatbank5_b_level</th>\n",
       "      <th>secondary_cleaner.state.floatbank6_a_air</th>\n",
       "      <th>secondary_cleaner.state.floatbank6_a_level</th>\n",
       "    </tr>\n",
       "  </thead>\n",
       "  <tbody>\n",
       "    <tr>\n",
       "      <td>0</td>\n",
       "      <td>2016-09-01 00:59:59</td>\n",
       "      <td>210.800909</td>\n",
       "      <td>14.993118</td>\n",
       "      <td>8.080000</td>\n",
       "      <td>1.005021</td>\n",
       "      <td>1398.981301</td>\n",
       "      <td>-500.225577</td>\n",
       "      <td>1399.144926</td>\n",
       "      <td>-499.919735</td>\n",
       "      <td>1400.102998</td>\n",
       "      <td>-500.704369</td>\n",
       "      <td>1399.001695</td>\n",
       "      <td>-499.485144</td>\n",
       "      <td>13.128569</td>\n",
       "      <td>5.636710</td>\n",
       "      <td>489.793655</td>\n",
       "      <td>62.710452</td>\n",
       "      <td>42.022440</td>\n",
       "      <td>12.084103</td>\n",
       "      <td>16.922877</td>\n",
       "      <td>6.153479</td>\n",
       "      <td>16.867518</td>\n",
       "      <td>6.150709</td>\n",
       "      <td>1001.849317</td>\n",
       "      <td>-350.301265</td>\n",
       "      <td>1249.738612</td>\n",
       "      <td>-399.107531</td>\n",
       "      <td>1249.750520</td>\n",
       "      <td>-399.396730</td>\n",
       "      <td>1198.287855</td>\n",
       "      <td>-399.488594</td>\n",
       "      <td>999.472250</td>\n",
       "      <td>-399.530962</td>\n",
       "      <td>949.566189</td>\n",
       "      <td>-398.180807</td>\n",
       "      <td>24.938200</td>\n",
       "      <td>-500.490963</td>\n",
       "      <td>14.947607</td>\n",
       "      <td>-500.013837</td>\n",
       "      <td>20.018166</td>\n",
       "      <td>-450.395995</td>\n",
       "      <td>13.987058</td>\n",
       "      <td>-449.831513</td>\n",
       "      <td>12.023554</td>\n",
       "      <td>-497.795834</td>\n",
       "      <td>8.016656</td>\n",
       "      <td>-501.289139</td>\n",
       "      <td>7.946562</td>\n",
       "      <td>-432.317850</td>\n",
       "      <td>4.872511</td>\n",
       "      <td>-500.037437</td>\n",
       "      <td>26.705889</td>\n",
       "      <td>-499.709414</td>\n",
       "    </tr>\n",
       "    <tr>\n",
       "      <td>1</td>\n",
       "      <td>2016-09-01 01:59:59</td>\n",
       "      <td>215.392455</td>\n",
       "      <td>14.987471</td>\n",
       "      <td>8.080000</td>\n",
       "      <td>0.990469</td>\n",
       "      <td>1398.777912</td>\n",
       "      <td>-500.057435</td>\n",
       "      <td>1398.055362</td>\n",
       "      <td>-499.778182</td>\n",
       "      <td>1396.151033</td>\n",
       "      <td>-499.240168</td>\n",
       "      <td>1399.508091</td>\n",
       "      <td>-500.416324</td>\n",
       "      <td>13.036280</td>\n",
       "      <td>5.526065</td>\n",
       "      <td>490.104534</td>\n",
       "      <td>61.961163</td>\n",
       "      <td>41.187903</td>\n",
       "      <td>11.918977</td>\n",
       "      <td>17.002532</td>\n",
       "      <td>5.999043</td>\n",
       "      <td>16.996063</td>\n",
       "      <td>6.002315</td>\n",
       "      <td>998.690785</td>\n",
       "      <td>-350.425704</td>\n",
       "      <td>1248.395457</td>\n",
       "      <td>-399.946025</td>\n",
       "      <td>1249.514451</td>\n",
       "      <td>-399.630810</td>\n",
       "      <td>1200.506459</td>\n",
       "      <td>-399.942434</td>\n",
       "      <td>1000.002114</td>\n",
       "      <td>-399.491528</td>\n",
       "      <td>950.200009</td>\n",
       "      <td>-405.787514</td>\n",
       "      <td>24.923466</td>\n",
       "      <td>-499.813963</td>\n",
       "      <td>14.930873</td>\n",
       "      <td>-500.764452</td>\n",
       "      <td>19.988503</td>\n",
       "      <td>-450.114024</td>\n",
       "      <td>14.092981</td>\n",
       "      <td>-450.059163</td>\n",
       "      <td>12.058140</td>\n",
       "      <td>-498.695773</td>\n",
       "      <td>8.130979</td>\n",
       "      <td>-499.634209</td>\n",
       "      <td>7.958270</td>\n",
       "      <td>-525.839648</td>\n",
       "      <td>4.878850</td>\n",
       "      <td>-500.162375</td>\n",
       "      <td>25.019940</td>\n",
       "      <td>-499.819438</td>\n",
       "    </tr>\n",
       "    <tr>\n",
       "      <td>2</td>\n",
       "      <td>2016-09-01 02:59:59</td>\n",
       "      <td>215.259946</td>\n",
       "      <td>12.884934</td>\n",
       "      <td>7.786667</td>\n",
       "      <td>0.996043</td>\n",
       "      <td>1398.493666</td>\n",
       "      <td>-500.868360</td>\n",
       "      <td>1398.860436</td>\n",
       "      <td>-499.764529</td>\n",
       "      <td>1398.075709</td>\n",
       "      <td>-502.151509</td>\n",
       "      <td>1399.497088</td>\n",
       "      <td>-499.715479</td>\n",
       "      <td>13.138412</td>\n",
       "      <td>5.426561</td>\n",
       "      <td>489.617969</td>\n",
       "      <td>66.903807</td>\n",
       "      <td>42.546294</td>\n",
       "      <td>12.091332</td>\n",
       "      <td>16.992520</td>\n",
       "      <td>5.850632</td>\n",
       "      <td>16.982096</td>\n",
       "      <td>5.853594</td>\n",
       "      <td>998.516720</td>\n",
       "      <td>-349.783538</td>\n",
       "      <td>1247.440748</td>\n",
       "      <td>-400.264330</td>\n",
       "      <td>1248.207204</td>\n",
       "      <td>-401.074405</td>\n",
       "      <td>1199.770026</td>\n",
       "      <td>-400.790582</td>\n",
       "      <td>999.925519</td>\n",
       "      <td>-399.236999</td>\n",
       "      <td>950.320481</td>\n",
       "      <td>-400.864340</td>\n",
       "      <td>24.908732</td>\n",
       "      <td>-500.304035</td>\n",
       "      <td>14.996511</td>\n",
       "      <td>-500.993821</td>\n",
       "      <td>20.039689</td>\n",
       "      <td>-450.263164</td>\n",
       "      <td>14.077881</td>\n",
       "      <td>-449.660997</td>\n",
       "      <td>11.962366</td>\n",
       "      <td>-498.767484</td>\n",
       "      <td>8.096893</td>\n",
       "      <td>-500.827423</td>\n",
       "      <td>8.071056</td>\n",
       "      <td>-500.801673</td>\n",
       "      <td>4.905125</td>\n",
       "      <td>-499.828510</td>\n",
       "      <td>24.994862</td>\n",
       "      <td>-500.622559</td>\n",
       "    </tr>\n",
       "    <tr>\n",
       "      <td>3</td>\n",
       "      <td>2016-09-01 03:59:59</td>\n",
       "      <td>215.336236</td>\n",
       "      <td>12.006805</td>\n",
       "      <td>7.640000</td>\n",
       "      <td>0.863514</td>\n",
       "      <td>1399.618111</td>\n",
       "      <td>-498.863574</td>\n",
       "      <td>1397.440120</td>\n",
       "      <td>-499.211024</td>\n",
       "      <td>1400.129303</td>\n",
       "      <td>-498.355873</td>\n",
       "      <td>1401.065165</td>\n",
       "      <td>-501.038738</td>\n",
       "      <td>12.400507</td>\n",
       "      <td>5.114758</td>\n",
       "      <td>476.618130</td>\n",
       "      <td>59.865919</td>\n",
       "      <td>41.060195</td>\n",
       "      <td>12.181597</td>\n",
       "      <td>16.532144</td>\n",
       "      <td>5.801935</td>\n",
       "      <td>16.515277</td>\n",
       "      <td>5.803657</td>\n",
       "      <td>1000.276604</td>\n",
       "      <td>-350.172597</td>\n",
       "      <td>1251.322675</td>\n",
       "      <td>-398.655289</td>\n",
       "      <td>1250.493702</td>\n",
       "      <td>-399.746728</td>\n",
       "      <td>1199.398691</td>\n",
       "      <td>-397.503052</td>\n",
       "      <td>1001.930679</td>\n",
       "      <td>-400.437573</td>\n",
       "      <td>950.735324</td>\n",
       "      <td>-399.802986</td>\n",
       "      <td>24.893998</td>\n",
       "      <td>-499.382374</td>\n",
       "      <td>14.916674</td>\n",
       "      <td>-499.862299</td>\n",
       "      <td>20.031100</td>\n",
       "      <td>-449.372570</td>\n",
       "      <td>14.013968</td>\n",
       "      <td>-449.526900</td>\n",
       "      <td>12.033091</td>\n",
       "      <td>-498.350935</td>\n",
       "      <td>8.074946</td>\n",
       "      <td>-499.474407</td>\n",
       "      <td>7.897085</td>\n",
       "      <td>-500.868509</td>\n",
       "      <td>4.931400</td>\n",
       "      <td>-499.963623</td>\n",
       "      <td>24.948919</td>\n",
       "      <td>-498.709987</td>\n",
       "    </tr>\n",
       "    <tr>\n",
       "      <td>4</td>\n",
       "      <td>2016-09-01 04:59:59</td>\n",
       "      <td>199.099327</td>\n",
       "      <td>10.682530</td>\n",
       "      <td>7.530000</td>\n",
       "      <td>0.805575</td>\n",
       "      <td>1401.268123</td>\n",
       "      <td>-500.808305</td>\n",
       "      <td>1398.128818</td>\n",
       "      <td>-499.504543</td>\n",
       "      <td>1402.172226</td>\n",
       "      <td>-500.810606</td>\n",
       "      <td>1399.480508</td>\n",
       "      <td>-499.374053</td>\n",
       "      <td>11.327427</td>\n",
       "      <td>4.767383</td>\n",
       "      <td>488.248117</td>\n",
       "      <td>63.315324</td>\n",
       "      <td>41.269161</td>\n",
       "      <td>11.290425</td>\n",
       "      <td>13.607257</td>\n",
       "      <td>5.738081</td>\n",
       "      <td>13.650053</td>\n",
       "      <td>5.739634</td>\n",
       "      <td>996.541302</td>\n",
       "      <td>-350.562517</td>\n",
       "      <td>1304.658848</td>\n",
       "      <td>-399.511519</td>\n",
       "      <td>1306.455515</td>\n",
       "      <td>-399.050685</td>\n",
       "      <td>1248.699349</td>\n",
       "      <td>-400.876894</td>\n",
       "      <td>1058.839106</td>\n",
       "      <td>-398.988239</td>\n",
       "      <td>949.645313</td>\n",
       "      <td>-399.277632</td>\n",
       "      <td>24.886905</td>\n",
       "      <td>-499.357375</td>\n",
       "      <td>14.979233</td>\n",
       "      <td>-500.186804</td>\n",
       "      <td>19.962364</td>\n",
       "      <td>-450.638828</td>\n",
       "      <td>14.009245</td>\n",
       "      <td>-450.022259</td>\n",
       "      <td>12.025367</td>\n",
       "      <td>-500.786497</td>\n",
       "      <td>8.054678</td>\n",
       "      <td>-500.397500</td>\n",
       "      <td>8.107890</td>\n",
       "      <td>-509.526725</td>\n",
       "      <td>4.957674</td>\n",
       "      <td>-500.360026</td>\n",
       "      <td>25.003331</td>\n",
       "      <td>-500.856333</td>\n",
       "    </tr>\n",
       "  </tbody>\n",
       "</table>\n",
       "</div>"
      ],
      "text/plain": [
       "                  date  primary_cleaner.input.sulfate  \\\n",
       "0  2016-09-01 00:59:59                     210.800909   \n",
       "1  2016-09-01 01:59:59                     215.392455   \n",
       "2  2016-09-01 02:59:59                     215.259946   \n",
       "3  2016-09-01 03:59:59                     215.336236   \n",
       "4  2016-09-01 04:59:59                     199.099327   \n",
       "\n",
       "   primary_cleaner.input.depressant  primary_cleaner.input.feed_size  \\\n",
       "0                         14.993118                         8.080000   \n",
       "1                         14.987471                         8.080000   \n",
       "2                         12.884934                         7.786667   \n",
       "3                         12.006805                         7.640000   \n",
       "4                         10.682530                         7.530000   \n",
       "\n",
       "   primary_cleaner.input.xanthate  primary_cleaner.state.floatbank8_a_air  \\\n",
       "0                        1.005021                             1398.981301   \n",
       "1                        0.990469                             1398.777912   \n",
       "2                        0.996043                             1398.493666   \n",
       "3                        0.863514                             1399.618111   \n",
       "4                        0.805575                             1401.268123   \n",
       "\n",
       "   primary_cleaner.state.floatbank8_a_level  \\\n",
       "0                               -500.225577   \n",
       "1                               -500.057435   \n",
       "2                               -500.868360   \n",
       "3                               -498.863574   \n",
       "4                               -500.808305   \n",
       "\n",
       "   primary_cleaner.state.floatbank8_b_air  \\\n",
       "0                             1399.144926   \n",
       "1                             1398.055362   \n",
       "2                             1398.860436   \n",
       "3                             1397.440120   \n",
       "4                             1398.128818   \n",
       "\n",
       "   primary_cleaner.state.floatbank8_b_level  \\\n",
       "0                               -499.919735   \n",
       "1                               -499.778182   \n",
       "2                               -499.764529   \n",
       "3                               -499.211024   \n",
       "4                               -499.504543   \n",
       "\n",
       "   primary_cleaner.state.floatbank8_c_air  \\\n",
       "0                             1400.102998   \n",
       "1                             1396.151033   \n",
       "2                             1398.075709   \n",
       "3                             1400.129303   \n",
       "4                             1402.172226   \n",
       "\n",
       "   primary_cleaner.state.floatbank8_c_level  \\\n",
       "0                               -500.704369   \n",
       "1                               -499.240168   \n",
       "2                               -502.151509   \n",
       "3                               -498.355873   \n",
       "4                               -500.810606   \n",
       "\n",
       "   primary_cleaner.state.floatbank8_d_air  \\\n",
       "0                             1399.001695   \n",
       "1                             1399.508091   \n",
       "2                             1399.497088   \n",
       "3                             1401.065165   \n",
       "4                             1399.480508   \n",
       "\n",
       "   primary_cleaner.state.floatbank8_d_level  rougher.input.feed_ag  \\\n",
       "0                               -499.485144              13.128569   \n",
       "1                               -500.416324              13.036280   \n",
       "2                               -499.715479              13.138412   \n",
       "3                               -501.038738              12.400507   \n",
       "4                               -499.374053              11.327427   \n",
       "\n",
       "   rougher.input.feed_pb  rougher.input.feed_rate  rougher.input.feed_size  \\\n",
       "0               5.636710               489.793655                62.710452   \n",
       "1               5.526065               490.104534                61.961163   \n",
       "2               5.426561               489.617969                66.903807   \n",
       "3               5.114758               476.618130                59.865919   \n",
       "4               4.767383               488.248117                63.315324   \n",
       "\n",
       "   rougher.input.feed_sol  rougher.input.feed_au  \\\n",
       "0               42.022440              12.084103   \n",
       "1               41.187903              11.918977   \n",
       "2               42.546294              12.091332   \n",
       "3               41.060195              12.181597   \n",
       "4               41.269161              11.290425   \n",
       "\n",
       "   rougher.input.floatbank10_sulfate  rougher.input.floatbank10_xanthate  \\\n",
       "0                          16.922877                            6.153479   \n",
       "1                          17.002532                            5.999043   \n",
       "2                          16.992520                            5.850632   \n",
       "3                          16.532144                            5.801935   \n",
       "4                          13.607257                            5.738081   \n",
       "\n",
       "   rougher.input.floatbank11_sulfate  rougher.input.floatbank11_xanthate  \\\n",
       "0                          16.867518                            6.150709   \n",
       "1                          16.996063                            6.002315   \n",
       "2                          16.982096                            5.853594   \n",
       "3                          16.515277                            5.803657   \n",
       "4                          13.650053                            5.739634   \n",
       "\n",
       "   rougher.state.floatbank10_a_air  rougher.state.floatbank10_a_level  \\\n",
       "0                      1001.849317                        -350.301265   \n",
       "1                       998.690785                        -350.425704   \n",
       "2                       998.516720                        -349.783538   \n",
       "3                      1000.276604                        -350.172597   \n",
       "4                       996.541302                        -350.562517   \n",
       "\n",
       "   rougher.state.floatbank10_b_air  rougher.state.floatbank10_b_level  \\\n",
       "0                      1249.738612                        -399.107531   \n",
       "1                      1248.395457                        -399.946025   \n",
       "2                      1247.440748                        -400.264330   \n",
       "3                      1251.322675                        -398.655289   \n",
       "4                      1304.658848                        -399.511519   \n",
       "\n",
       "   rougher.state.floatbank10_c_air  rougher.state.floatbank10_c_level  \\\n",
       "0                      1249.750520                        -399.396730   \n",
       "1                      1249.514451                        -399.630810   \n",
       "2                      1248.207204                        -401.074405   \n",
       "3                      1250.493702                        -399.746728   \n",
       "4                      1306.455515                        -399.050685   \n",
       "\n",
       "   rougher.state.floatbank10_d_air  rougher.state.floatbank10_d_level  \\\n",
       "0                      1198.287855                        -399.488594   \n",
       "1                      1200.506459                        -399.942434   \n",
       "2                      1199.770026                        -400.790582   \n",
       "3                      1199.398691                        -397.503052   \n",
       "4                      1248.699349                        -400.876894   \n",
       "\n",
       "   rougher.state.floatbank10_e_air  rougher.state.floatbank10_e_level  \\\n",
       "0                       999.472250                        -399.530962   \n",
       "1                      1000.002114                        -399.491528   \n",
       "2                       999.925519                        -399.236999   \n",
       "3                      1001.930679                        -400.437573   \n",
       "4                      1058.839106                        -398.988239   \n",
       "\n",
       "   rougher.state.floatbank10_f_air  rougher.state.floatbank10_f_level  \\\n",
       "0                       949.566189                        -398.180807   \n",
       "1                       950.200009                        -405.787514   \n",
       "2                       950.320481                        -400.864340   \n",
       "3                       950.735324                        -399.802986   \n",
       "4                       949.645313                        -399.277632   \n",
       "\n",
       "   secondary_cleaner.state.floatbank2_a_air  \\\n",
       "0                                 24.938200   \n",
       "1                                 24.923466   \n",
       "2                                 24.908732   \n",
       "3                                 24.893998   \n",
       "4                                 24.886905   \n",
       "\n",
       "   secondary_cleaner.state.floatbank2_a_level  \\\n",
       "0                                 -500.490963   \n",
       "1                                 -499.813963   \n",
       "2                                 -500.304035   \n",
       "3                                 -499.382374   \n",
       "4                                 -499.357375   \n",
       "\n",
       "   secondary_cleaner.state.floatbank2_b_air  \\\n",
       "0                                 14.947607   \n",
       "1                                 14.930873   \n",
       "2                                 14.996511   \n",
       "3                                 14.916674   \n",
       "4                                 14.979233   \n",
       "\n",
       "   secondary_cleaner.state.floatbank2_b_level  \\\n",
       "0                                 -500.013837   \n",
       "1                                 -500.764452   \n",
       "2                                 -500.993821   \n",
       "3                                 -499.862299   \n",
       "4                                 -500.186804   \n",
       "\n",
       "   secondary_cleaner.state.floatbank3_a_air  \\\n",
       "0                                 20.018166   \n",
       "1                                 19.988503   \n",
       "2                                 20.039689   \n",
       "3                                 20.031100   \n",
       "4                                 19.962364   \n",
       "\n",
       "   secondary_cleaner.state.floatbank3_a_level  \\\n",
       "0                                 -450.395995   \n",
       "1                                 -450.114024   \n",
       "2                                 -450.263164   \n",
       "3                                 -449.372570   \n",
       "4                                 -450.638828   \n",
       "\n",
       "   secondary_cleaner.state.floatbank3_b_air  \\\n",
       "0                                 13.987058   \n",
       "1                                 14.092981   \n",
       "2                                 14.077881   \n",
       "3                                 14.013968   \n",
       "4                                 14.009245   \n",
       "\n",
       "   secondary_cleaner.state.floatbank3_b_level  \\\n",
       "0                                 -449.831513   \n",
       "1                                 -450.059163   \n",
       "2                                 -449.660997   \n",
       "3                                 -449.526900   \n",
       "4                                 -450.022259   \n",
       "\n",
       "   secondary_cleaner.state.floatbank4_a_air  \\\n",
       "0                                 12.023554   \n",
       "1                                 12.058140   \n",
       "2                                 11.962366   \n",
       "3                                 12.033091   \n",
       "4                                 12.025367   \n",
       "\n",
       "   secondary_cleaner.state.floatbank4_a_level  \\\n",
       "0                                 -497.795834   \n",
       "1                                 -498.695773   \n",
       "2                                 -498.767484   \n",
       "3                                 -498.350935   \n",
       "4                                 -500.786497   \n",
       "\n",
       "   secondary_cleaner.state.floatbank4_b_air  \\\n",
       "0                                  8.016656   \n",
       "1                                  8.130979   \n",
       "2                                  8.096893   \n",
       "3                                  8.074946   \n",
       "4                                  8.054678   \n",
       "\n",
       "   secondary_cleaner.state.floatbank4_b_level  \\\n",
       "0                                 -501.289139   \n",
       "1                                 -499.634209   \n",
       "2                                 -500.827423   \n",
       "3                                 -499.474407   \n",
       "4                                 -500.397500   \n",
       "\n",
       "   secondary_cleaner.state.floatbank5_a_air  \\\n",
       "0                                  7.946562   \n",
       "1                                  7.958270   \n",
       "2                                  8.071056   \n",
       "3                                  7.897085   \n",
       "4                                  8.107890   \n",
       "\n",
       "   secondary_cleaner.state.floatbank5_a_level  \\\n",
       "0                                 -432.317850   \n",
       "1                                 -525.839648   \n",
       "2                                 -500.801673   \n",
       "3                                 -500.868509   \n",
       "4                                 -509.526725   \n",
       "\n",
       "   secondary_cleaner.state.floatbank5_b_air  \\\n",
       "0                                  4.872511   \n",
       "1                                  4.878850   \n",
       "2                                  4.905125   \n",
       "3                                  4.931400   \n",
       "4                                  4.957674   \n",
       "\n",
       "   secondary_cleaner.state.floatbank5_b_level  \\\n",
       "0                                 -500.037437   \n",
       "1                                 -500.162375   \n",
       "2                                 -499.828510   \n",
       "3                                 -499.963623   \n",
       "4                                 -500.360026   \n",
       "\n",
       "   secondary_cleaner.state.floatbank6_a_air  \\\n",
       "0                                 26.705889   \n",
       "1                                 25.019940   \n",
       "2                                 24.994862   \n",
       "3                                 24.948919   \n",
       "4                                 25.003331   \n",
       "\n",
       "   secondary_cleaner.state.floatbank6_a_level  \n",
       "0                                 -499.709414  \n",
       "1                                 -499.819438  \n",
       "2                                 -500.622559  \n",
       "3                                 -498.709987  \n",
       "4                                 -500.856333  "
      ]
     },
     "metadata": {},
     "output_type": "display_data"
    },
    {
     "data": {
      "text/html": [
       "<div>\n",
       "<style scoped>\n",
       "    .dataframe tbody tr th:only-of-type {\n",
       "        vertical-align: middle;\n",
       "    }\n",
       "\n",
       "    .dataframe tbody tr th {\n",
       "        vertical-align: top;\n",
       "    }\n",
       "\n",
       "    .dataframe thead th {\n",
       "        text-align: right;\n",
       "    }\n",
       "</style>\n",
       "<table border=\"1\" class=\"dataframe\">\n",
       "  <thead>\n",
       "    <tr style=\"text-align: right;\">\n",
       "      <th></th>\n",
       "      <th>date</th>\n",
       "      <th>final.output.concentrate_ag</th>\n",
       "      <th>final.output.concentrate_pb</th>\n",
       "      <th>final.output.concentrate_sol</th>\n",
       "      <th>final.output.concentrate_au</th>\n",
       "      <th>final.output.recovery</th>\n",
       "      <th>final.output.tail_ag</th>\n",
       "      <th>final.output.tail_pb</th>\n",
       "      <th>final.output.tail_sol</th>\n",
       "      <th>final.output.tail_au</th>\n",
       "      <th>primary_cleaner.input.sulfate</th>\n",
       "      <th>primary_cleaner.input.depressant</th>\n",
       "      <th>primary_cleaner.input.feed_size</th>\n",
       "      <th>primary_cleaner.input.xanthate</th>\n",
       "      <th>primary_cleaner.output.concentrate_ag</th>\n",
       "      <th>primary_cleaner.output.concentrate_pb</th>\n",
       "      <th>primary_cleaner.output.concentrate_sol</th>\n",
       "      <th>primary_cleaner.output.concentrate_au</th>\n",
       "      <th>primary_cleaner.output.tail_ag</th>\n",
       "      <th>primary_cleaner.output.tail_pb</th>\n",
       "      <th>primary_cleaner.output.tail_sol</th>\n",
       "      <th>primary_cleaner.output.tail_au</th>\n",
       "      <th>primary_cleaner.state.floatbank8_a_air</th>\n",
       "      <th>primary_cleaner.state.floatbank8_a_level</th>\n",
       "      <th>primary_cleaner.state.floatbank8_b_air</th>\n",
       "      <th>primary_cleaner.state.floatbank8_b_level</th>\n",
       "      <th>primary_cleaner.state.floatbank8_c_air</th>\n",
       "      <th>primary_cleaner.state.floatbank8_c_level</th>\n",
       "      <th>primary_cleaner.state.floatbank8_d_air</th>\n",
       "      <th>primary_cleaner.state.floatbank8_d_level</th>\n",
       "      <th>rougher.calculation.sulfate_to_au_concentrate</th>\n",
       "      <th>rougher.calculation.floatbank10_sulfate_to_au_feed</th>\n",
       "      <th>rougher.calculation.floatbank11_sulfate_to_au_feed</th>\n",
       "      <th>rougher.calculation.au_pb_ratio</th>\n",
       "      <th>rougher.input.feed_ag</th>\n",
       "      <th>rougher.input.feed_pb</th>\n",
       "      <th>rougher.input.feed_rate</th>\n",
       "      <th>rougher.input.feed_size</th>\n",
       "      <th>rougher.input.feed_sol</th>\n",
       "      <th>rougher.input.feed_au</th>\n",
       "      <th>rougher.input.floatbank10_sulfate</th>\n",
       "      <th>rougher.input.floatbank10_xanthate</th>\n",
       "      <th>rougher.input.floatbank11_sulfate</th>\n",
       "      <th>rougher.input.floatbank11_xanthate</th>\n",
       "      <th>rougher.output.concentrate_ag</th>\n",
       "      <th>rougher.output.concentrate_pb</th>\n",
       "      <th>rougher.output.concentrate_sol</th>\n",
       "      <th>rougher.output.concentrate_au</th>\n",
       "      <th>rougher.output.recovery</th>\n",
       "      <th>rougher.output.tail_ag</th>\n",
       "      <th>rougher.output.tail_pb</th>\n",
       "      <th>rougher.output.tail_sol</th>\n",
       "      <th>rougher.output.tail_au</th>\n",
       "      <th>rougher.state.floatbank10_a_air</th>\n",
       "      <th>rougher.state.floatbank10_a_level</th>\n",
       "      <th>rougher.state.floatbank10_b_air</th>\n",
       "      <th>rougher.state.floatbank10_b_level</th>\n",
       "      <th>rougher.state.floatbank10_c_air</th>\n",
       "      <th>rougher.state.floatbank10_c_level</th>\n",
       "      <th>rougher.state.floatbank10_d_air</th>\n",
       "      <th>rougher.state.floatbank10_d_level</th>\n",
       "      <th>rougher.state.floatbank10_e_air</th>\n",
       "      <th>rougher.state.floatbank10_e_level</th>\n",
       "      <th>rougher.state.floatbank10_f_air</th>\n",
       "      <th>rougher.state.floatbank10_f_level</th>\n",
       "      <th>secondary_cleaner.output.tail_ag</th>\n",
       "      <th>secondary_cleaner.output.tail_pb</th>\n",
       "      <th>secondary_cleaner.output.tail_sol</th>\n",
       "      <th>secondary_cleaner.output.tail_au</th>\n",
       "      <th>secondary_cleaner.state.floatbank2_a_air</th>\n",
       "      <th>secondary_cleaner.state.floatbank2_a_level</th>\n",
       "      <th>secondary_cleaner.state.floatbank2_b_air</th>\n",
       "      <th>secondary_cleaner.state.floatbank2_b_level</th>\n",
       "      <th>secondary_cleaner.state.floatbank3_a_air</th>\n",
       "      <th>secondary_cleaner.state.floatbank3_a_level</th>\n",
       "      <th>secondary_cleaner.state.floatbank3_b_air</th>\n",
       "      <th>secondary_cleaner.state.floatbank3_b_level</th>\n",
       "      <th>secondary_cleaner.state.floatbank4_a_air</th>\n",
       "      <th>secondary_cleaner.state.floatbank4_a_level</th>\n",
       "      <th>secondary_cleaner.state.floatbank4_b_air</th>\n",
       "      <th>secondary_cleaner.state.floatbank4_b_level</th>\n",
       "      <th>secondary_cleaner.state.floatbank5_a_air</th>\n",
       "      <th>secondary_cleaner.state.floatbank5_a_level</th>\n",
       "      <th>secondary_cleaner.state.floatbank5_b_air</th>\n",
       "      <th>secondary_cleaner.state.floatbank5_b_level</th>\n",
       "      <th>secondary_cleaner.state.floatbank6_a_air</th>\n",
       "      <th>secondary_cleaner.state.floatbank6_a_level</th>\n",
       "    </tr>\n",
       "  </thead>\n",
       "  <tbody>\n",
       "    <tr>\n",
       "      <td>0</td>\n",
       "      <td>2016-01-15 00:00:00</td>\n",
       "      <td>6.055403</td>\n",
       "      <td>9.889648</td>\n",
       "      <td>5.507324</td>\n",
       "      <td>42.192020</td>\n",
       "      <td>70.541216</td>\n",
       "      <td>10.411962</td>\n",
       "      <td>0.895447</td>\n",
       "      <td>16.904297</td>\n",
       "      <td>2.143149</td>\n",
       "      <td>127.092003</td>\n",
       "      <td>10.128295</td>\n",
       "      <td>7.25</td>\n",
       "      <td>0.988759</td>\n",
       "      <td>8.547551</td>\n",
       "      <td>10.389648</td>\n",
       "      <td>19.529297</td>\n",
       "      <td>34.174427</td>\n",
       "      <td>14.936526</td>\n",
       "      <td>2.534912</td>\n",
       "      <td>7.476074</td>\n",
       "      <td>2.106679</td>\n",
       "      <td>1549.775757</td>\n",
       "      <td>-498.912140</td>\n",
       "      <td>1551.434204</td>\n",
       "      <td>-516.403442</td>\n",
       "      <td>1549.873901</td>\n",
       "      <td>-498.666595</td>\n",
       "      <td>1554.367432</td>\n",
       "      <td>-493.428131</td>\n",
       "      <td>41885.707031</td>\n",
       "      <td>3481.779053</td>\n",
       "      <td>3520.337158</td>\n",
       "      <td>2.838687</td>\n",
       "      <td>6.100378</td>\n",
       "      <td>2.284912</td>\n",
       "      <td>523.546326</td>\n",
       "      <td>55.486599</td>\n",
       "      <td>36.808594</td>\n",
       "      <td>6.486150</td>\n",
       "      <td>11.986616</td>\n",
       "      <td>6.007990</td>\n",
       "      <td>11.836743</td>\n",
       "      <td>6.005818</td>\n",
       "      <td>11.500771</td>\n",
       "      <td>7.101074</td>\n",
       "      <td>28.029297</td>\n",
       "      <td>19.793808</td>\n",
       "      <td>87.107763</td>\n",
       "      <td>5.008018</td>\n",
       "      <td>0.508728</td>\n",
       "      <td>19.154297</td>\n",
       "      <td>1.170244</td>\n",
       "      <td>999.706909</td>\n",
       "      <td>-404.066986</td>\n",
       "      <td>1603.011353</td>\n",
       "      <td>-434.715027</td>\n",
       "      <td>1602.375000</td>\n",
       "      <td>-442.204468</td>\n",
       "      <td>1598.937256</td>\n",
       "      <td>-451.294128</td>\n",
       "      <td>1404.472046</td>\n",
       "      <td>-455.462982</td>\n",
       "      <td>1416.354980</td>\n",
       "      <td>-451.939636</td>\n",
       "      <td>14.500184</td>\n",
       "      <td>4.694824</td>\n",
       "      <td>8.764648</td>\n",
       "      <td>2.606185</td>\n",
       "      <td>25.853109</td>\n",
       "      <td>-498.526489</td>\n",
       "      <td>23.893660</td>\n",
       "      <td>-501.406281</td>\n",
       "      <td>23.961798</td>\n",
       "      <td>-495.262817</td>\n",
       "      <td>21.940409</td>\n",
       "      <td>-499.340973</td>\n",
       "      <td>14.016835</td>\n",
       "      <td>-502.488007</td>\n",
       "      <td>12.099931</td>\n",
       "      <td>-504.715942</td>\n",
       "      <td>9.925633</td>\n",
       "      <td>-498.310211</td>\n",
       "      <td>8.079666</td>\n",
       "      <td>-500.470978</td>\n",
       "      <td>14.151341</td>\n",
       "      <td>-605.841980</td>\n",
       "    </tr>\n",
       "    <tr>\n",
       "      <td>1</td>\n",
       "      <td>2016-01-15 01:00:00</td>\n",
       "      <td>6.029369</td>\n",
       "      <td>9.968944</td>\n",
       "      <td>5.257781</td>\n",
       "      <td>42.701629</td>\n",
       "      <td>69.266198</td>\n",
       "      <td>10.462676</td>\n",
       "      <td>0.927452</td>\n",
       "      <td>16.634514</td>\n",
       "      <td>2.224930</td>\n",
       "      <td>125.629232</td>\n",
       "      <td>10.296251</td>\n",
       "      <td>7.25</td>\n",
       "      <td>1.002663</td>\n",
       "      <td>8.558743</td>\n",
       "      <td>10.497069</td>\n",
       "      <td>19.369147</td>\n",
       "      <td>34.118526</td>\n",
       "      <td>16.250511</td>\n",
       "      <td>3.049646</td>\n",
       "      <td>6.733907</td>\n",
       "      <td>2.353017</td>\n",
       "      <td>1576.166671</td>\n",
       "      <td>-500.904965</td>\n",
       "      <td>1575.950626</td>\n",
       "      <td>-499.865889</td>\n",
       "      <td>1575.994189</td>\n",
       "      <td>-499.315107</td>\n",
       "      <td>1574.479259</td>\n",
       "      <td>-498.931665</td>\n",
       "      <td>42050.861809</td>\n",
       "      <td>3498.370979</td>\n",
       "      <td>3489.981857</td>\n",
       "      <td>2.858998</td>\n",
       "      <td>6.161113</td>\n",
       "      <td>2.266033</td>\n",
       "      <td>525.290581</td>\n",
       "      <td>57.278666</td>\n",
       "      <td>35.753385</td>\n",
       "      <td>6.478583</td>\n",
       "      <td>11.971193</td>\n",
       "      <td>6.005766</td>\n",
       "      <td>11.996163</td>\n",
       "      <td>6.012594</td>\n",
       "      <td>11.615865</td>\n",
       "      <td>7.278807</td>\n",
       "      <td>28.067063</td>\n",
       "      <td>20.050975</td>\n",
       "      <td>86.843261</td>\n",
       "      <td>4.955378</td>\n",
       "      <td>0.536689</td>\n",
       "      <td>18.965234</td>\n",
       "      <td>1.184827</td>\n",
       "      <td>1000.286398</td>\n",
       "      <td>-400.065196</td>\n",
       "      <td>1600.754587</td>\n",
       "      <td>-449.953435</td>\n",
       "      <td>1600.479580</td>\n",
       "      <td>-449.830646</td>\n",
       "      <td>1600.527589</td>\n",
       "      <td>-449.953649</td>\n",
       "      <td>1399.227084</td>\n",
       "      <td>-450.869848</td>\n",
       "      <td>1399.719514</td>\n",
       "      <td>-450.119001</td>\n",
       "      <td>14.265474</td>\n",
       "      <td>4.592547</td>\n",
       "      <td>9.001494</td>\n",
       "      <td>2.488248</td>\n",
       "      <td>25.880539</td>\n",
       "      <td>-499.989656</td>\n",
       "      <td>23.889530</td>\n",
       "      <td>-500.372428</td>\n",
       "      <td>23.970550</td>\n",
       "      <td>-500.085473</td>\n",
       "      <td>22.085714</td>\n",
       "      <td>-499.446897</td>\n",
       "      <td>13.992281</td>\n",
       "      <td>-505.503262</td>\n",
       "      <td>11.950531</td>\n",
       "      <td>-501.331529</td>\n",
       "      <td>10.039245</td>\n",
       "      <td>-500.169983</td>\n",
       "      <td>7.984757</td>\n",
       "      <td>-500.582168</td>\n",
       "      <td>13.998353</td>\n",
       "      <td>-599.787184</td>\n",
       "    </tr>\n",
       "    <tr>\n",
       "      <td>2</td>\n",
       "      <td>2016-01-15 02:00:00</td>\n",
       "      <td>6.055926</td>\n",
       "      <td>10.213995</td>\n",
       "      <td>5.383759</td>\n",
       "      <td>42.657501</td>\n",
       "      <td>68.116445</td>\n",
       "      <td>10.507046</td>\n",
       "      <td>0.953716</td>\n",
       "      <td>16.208849</td>\n",
       "      <td>2.257889</td>\n",
       "      <td>123.819808</td>\n",
       "      <td>11.316280</td>\n",
       "      <td>7.25</td>\n",
       "      <td>0.991265</td>\n",
       "      <td>8.603505</td>\n",
       "      <td>10.354494</td>\n",
       "      <td>19.167579</td>\n",
       "      <td>33.969464</td>\n",
       "      <td>16.491823</td>\n",
       "      <td>3.124664</td>\n",
       "      <td>6.471768</td>\n",
       "      <td>2.416800</td>\n",
       "      <td>1601.556163</td>\n",
       "      <td>-499.997791</td>\n",
       "      <td>1600.386685</td>\n",
       "      <td>-500.607762</td>\n",
       "      <td>1602.003542</td>\n",
       "      <td>-500.870069</td>\n",
       "      <td>1599.541515</td>\n",
       "      <td>-499.827444</td>\n",
       "      <td>42018.101184</td>\n",
       "      <td>3495.348910</td>\n",
       "      <td>3502.359819</td>\n",
       "      <td>2.945989</td>\n",
       "      <td>6.116455</td>\n",
       "      <td>2.159622</td>\n",
       "      <td>530.026610</td>\n",
       "      <td>57.510649</td>\n",
       "      <td>35.971630</td>\n",
       "      <td>6.362222</td>\n",
       "      <td>11.920603</td>\n",
       "      <td>6.197377</td>\n",
       "      <td>11.920305</td>\n",
       "      <td>6.204633</td>\n",
       "      <td>11.695753</td>\n",
       "      <td>7.216833</td>\n",
       "      <td>27.454037</td>\n",
       "      <td>19.737170</td>\n",
       "      <td>86.842308</td>\n",
       "      <td>4.843460</td>\n",
       "      <td>0.546416</td>\n",
       "      <td>18.808533</td>\n",
       "      <td>1.162562</td>\n",
       "      <td>999.719565</td>\n",
       "      <td>-400.074028</td>\n",
       "      <td>1599.337330</td>\n",
       "      <td>-450.008530</td>\n",
       "      <td>1599.672797</td>\n",
       "      <td>-449.954491</td>\n",
       "      <td>1599.849325</td>\n",
       "      <td>-449.954185</td>\n",
       "      <td>1399.180945</td>\n",
       "      <td>-449.937588</td>\n",
       "      <td>1400.316682</td>\n",
       "      <td>-450.527147</td>\n",
       "      <td>14.115662</td>\n",
       "      <td>4.624775</td>\n",
       "      <td>8.842896</td>\n",
       "      <td>2.458187</td>\n",
       "      <td>26.005245</td>\n",
       "      <td>-499.929616</td>\n",
       "      <td>23.886657</td>\n",
       "      <td>-499.951928</td>\n",
       "      <td>23.913535</td>\n",
       "      <td>-499.442343</td>\n",
       "      <td>23.957717</td>\n",
       "      <td>-499.901982</td>\n",
       "      <td>14.015015</td>\n",
       "      <td>-502.520901</td>\n",
       "      <td>11.912783</td>\n",
       "      <td>-501.133383</td>\n",
       "      <td>10.070913</td>\n",
       "      <td>-500.129135</td>\n",
       "      <td>8.013877</td>\n",
       "      <td>-500.517572</td>\n",
       "      <td>14.028663</td>\n",
       "      <td>-601.427363</td>\n",
       "    </tr>\n",
       "    <tr>\n",
       "      <td>3</td>\n",
       "      <td>2016-01-15 03:00:00</td>\n",
       "      <td>6.047977</td>\n",
       "      <td>9.977019</td>\n",
       "      <td>4.858634</td>\n",
       "      <td>42.689819</td>\n",
       "      <td>68.347543</td>\n",
       "      <td>10.422762</td>\n",
       "      <td>0.883763</td>\n",
       "      <td>16.532835</td>\n",
       "      <td>2.146849</td>\n",
       "      <td>122.270188</td>\n",
       "      <td>11.322140</td>\n",
       "      <td>7.25</td>\n",
       "      <td>0.996739</td>\n",
       "      <td>7.221879</td>\n",
       "      <td>8.496563</td>\n",
       "      <td>15.978538</td>\n",
       "      <td>28.260743</td>\n",
       "      <td>16.024359</td>\n",
       "      <td>2.960362</td>\n",
       "      <td>6.843791</td>\n",
       "      <td>2.262051</td>\n",
       "      <td>1599.968720</td>\n",
       "      <td>-500.951778</td>\n",
       "      <td>1600.659236</td>\n",
       "      <td>-499.677094</td>\n",
       "      <td>1600.304144</td>\n",
       "      <td>-500.727997</td>\n",
       "      <td>1600.449520</td>\n",
       "      <td>-500.052575</td>\n",
       "      <td>42029.447991</td>\n",
       "      <td>3498.578313</td>\n",
       "      <td>3499.162912</td>\n",
       "      <td>3.002340</td>\n",
       "      <td>6.043309</td>\n",
       "      <td>2.037807</td>\n",
       "      <td>542.590390</td>\n",
       "      <td>57.792734</td>\n",
       "      <td>36.862241</td>\n",
       "      <td>6.118189</td>\n",
       "      <td>11.630094</td>\n",
       "      <td>6.203177</td>\n",
       "      <td>11.692450</td>\n",
       "      <td>6.196578</td>\n",
       "      <td>11.915047</td>\n",
       "      <td>7.175616</td>\n",
       "      <td>27.341277</td>\n",
       "      <td>19.320810</td>\n",
       "      <td>87.226430</td>\n",
       "      <td>4.655288</td>\n",
       "      <td>0.542525</td>\n",
       "      <td>19.330200</td>\n",
       "      <td>1.079755</td>\n",
       "      <td>999.814770</td>\n",
       "      <td>-400.200179</td>\n",
       "      <td>1600.059442</td>\n",
       "      <td>-450.619948</td>\n",
       "      <td>1600.012842</td>\n",
       "      <td>-449.910497</td>\n",
       "      <td>1597.725177</td>\n",
       "      <td>-450.130127</td>\n",
       "      <td>1400.943157</td>\n",
       "      <td>-450.030142</td>\n",
       "      <td>1400.234743</td>\n",
       "      <td>-449.790835</td>\n",
       "      <td>13.732071</td>\n",
       "      <td>4.482453</td>\n",
       "      <td>9.122857</td>\n",
       "      <td>2.322062</td>\n",
       "      <td>25.942508</td>\n",
       "      <td>-499.176749</td>\n",
       "      <td>23.955516</td>\n",
       "      <td>-499.848796</td>\n",
       "      <td>23.966838</td>\n",
       "      <td>-500.008812</td>\n",
       "      <td>23.954443</td>\n",
       "      <td>-499.944710</td>\n",
       "      <td>14.036510</td>\n",
       "      <td>-500.857308</td>\n",
       "      <td>11.999550</td>\n",
       "      <td>-501.193686</td>\n",
       "      <td>9.970366</td>\n",
       "      <td>-499.201640</td>\n",
       "      <td>7.977324</td>\n",
       "      <td>-500.255908</td>\n",
       "      <td>14.005551</td>\n",
       "      <td>-599.996129</td>\n",
       "    </tr>\n",
       "    <tr>\n",
       "      <td>4</td>\n",
       "      <td>2016-01-15 04:00:00</td>\n",
       "      <td>6.148599</td>\n",
       "      <td>10.142511</td>\n",
       "      <td>4.939416</td>\n",
       "      <td>42.774141</td>\n",
       "      <td>66.927016</td>\n",
       "      <td>10.360302</td>\n",
       "      <td>0.792826</td>\n",
       "      <td>16.525686</td>\n",
       "      <td>2.055292</td>\n",
       "      <td>117.988169</td>\n",
       "      <td>11.913613</td>\n",
       "      <td>7.25</td>\n",
       "      <td>1.009869</td>\n",
       "      <td>9.089428</td>\n",
       "      <td>9.986786</td>\n",
       "      <td>19.199864</td>\n",
       "      <td>33.044932</td>\n",
       "      <td>16.480185</td>\n",
       "      <td>3.112100</td>\n",
       "      <td>6.550154</td>\n",
       "      <td>2.277073</td>\n",
       "      <td>1601.339707</td>\n",
       "      <td>-498.975456</td>\n",
       "      <td>1601.437854</td>\n",
       "      <td>-500.323246</td>\n",
       "      <td>1599.581894</td>\n",
       "      <td>-500.888152</td>\n",
       "      <td>1602.649541</td>\n",
       "      <td>-500.593010</td>\n",
       "      <td>42125.354245</td>\n",
       "      <td>3494.800771</td>\n",
       "      <td>3506.679315</td>\n",
       "      <td>3.169615</td>\n",
       "      <td>6.060915</td>\n",
       "      <td>1.786875</td>\n",
       "      <td>540.531893</td>\n",
       "      <td>56.047189</td>\n",
       "      <td>34.347666</td>\n",
       "      <td>5.663707</td>\n",
       "      <td>10.957755</td>\n",
       "      <td>6.198826</td>\n",
       "      <td>10.960521</td>\n",
       "      <td>6.194897</td>\n",
       "      <td>12.411054</td>\n",
       "      <td>7.240205</td>\n",
       "      <td>27.041023</td>\n",
       "      <td>19.216101</td>\n",
       "      <td>86.688794</td>\n",
       "      <td>4.552800</td>\n",
       "      <td>0.515438</td>\n",
       "      <td>19.267422</td>\n",
       "      <td>1.012642</td>\n",
       "      <td>999.678690</td>\n",
       "      <td>-399.752729</td>\n",
       "      <td>1600.208824</td>\n",
       "      <td>-449.599614</td>\n",
       "      <td>1600.357732</td>\n",
       "      <td>-450.034364</td>\n",
       "      <td>1599.759049</td>\n",
       "      <td>-449.909799</td>\n",
       "      <td>1401.560902</td>\n",
       "      <td>-448.877187</td>\n",
       "      <td>1401.160227</td>\n",
       "      <td>-450.407128</td>\n",
       "      <td>14.079996</td>\n",
       "      <td>4.470737</td>\n",
       "      <td>8.871028</td>\n",
       "      <td>2.330448</td>\n",
       "      <td>26.024787</td>\n",
       "      <td>-500.279091</td>\n",
       "      <td>23.955345</td>\n",
       "      <td>-500.593614</td>\n",
       "      <td>23.985703</td>\n",
       "      <td>-500.083811</td>\n",
       "      <td>23.958945</td>\n",
       "      <td>-499.990309</td>\n",
       "      <td>14.027298</td>\n",
       "      <td>-499.838632</td>\n",
       "      <td>11.953070</td>\n",
       "      <td>-501.053894</td>\n",
       "      <td>9.925709</td>\n",
       "      <td>-501.686727</td>\n",
       "      <td>7.894242</td>\n",
       "      <td>-500.356035</td>\n",
       "      <td>13.996647</td>\n",
       "      <td>-601.496691</td>\n",
       "    </tr>\n",
       "  </tbody>\n",
       "</table>\n",
       "</div>"
      ],
      "text/plain": [
       "                  date  final.output.concentrate_ag  \\\n",
       "0  2016-01-15 00:00:00                     6.055403   \n",
       "1  2016-01-15 01:00:00                     6.029369   \n",
       "2  2016-01-15 02:00:00                     6.055926   \n",
       "3  2016-01-15 03:00:00                     6.047977   \n",
       "4  2016-01-15 04:00:00                     6.148599   \n",
       "\n",
       "   final.output.concentrate_pb  final.output.concentrate_sol  \\\n",
       "0                     9.889648                      5.507324   \n",
       "1                     9.968944                      5.257781   \n",
       "2                    10.213995                      5.383759   \n",
       "3                     9.977019                      4.858634   \n",
       "4                    10.142511                      4.939416   \n",
       "\n",
       "   final.output.concentrate_au  final.output.recovery  final.output.tail_ag  \\\n",
       "0                    42.192020              70.541216             10.411962   \n",
       "1                    42.701629              69.266198             10.462676   \n",
       "2                    42.657501              68.116445             10.507046   \n",
       "3                    42.689819              68.347543             10.422762   \n",
       "4                    42.774141              66.927016             10.360302   \n",
       "\n",
       "   final.output.tail_pb  final.output.tail_sol  final.output.tail_au  \\\n",
       "0              0.895447              16.904297              2.143149   \n",
       "1              0.927452              16.634514              2.224930   \n",
       "2              0.953716              16.208849              2.257889   \n",
       "3              0.883763              16.532835              2.146849   \n",
       "4              0.792826              16.525686              2.055292   \n",
       "\n",
       "   primary_cleaner.input.sulfate  primary_cleaner.input.depressant  \\\n",
       "0                     127.092003                         10.128295   \n",
       "1                     125.629232                         10.296251   \n",
       "2                     123.819808                         11.316280   \n",
       "3                     122.270188                         11.322140   \n",
       "4                     117.988169                         11.913613   \n",
       "\n",
       "   primary_cleaner.input.feed_size  primary_cleaner.input.xanthate  \\\n",
       "0                             7.25                        0.988759   \n",
       "1                             7.25                        1.002663   \n",
       "2                             7.25                        0.991265   \n",
       "3                             7.25                        0.996739   \n",
       "4                             7.25                        1.009869   \n",
       "\n",
       "   primary_cleaner.output.concentrate_ag  \\\n",
       "0                               8.547551   \n",
       "1                               8.558743   \n",
       "2                               8.603505   \n",
       "3                               7.221879   \n",
       "4                               9.089428   \n",
       "\n",
       "   primary_cleaner.output.concentrate_pb  \\\n",
       "0                              10.389648   \n",
       "1                              10.497069   \n",
       "2                              10.354494   \n",
       "3                               8.496563   \n",
       "4                               9.986786   \n",
       "\n",
       "   primary_cleaner.output.concentrate_sol  \\\n",
       "0                               19.529297   \n",
       "1                               19.369147   \n",
       "2                               19.167579   \n",
       "3                               15.978538   \n",
       "4                               19.199864   \n",
       "\n",
       "   primary_cleaner.output.concentrate_au  primary_cleaner.output.tail_ag  \\\n",
       "0                              34.174427                       14.936526   \n",
       "1                              34.118526                       16.250511   \n",
       "2                              33.969464                       16.491823   \n",
       "3                              28.260743                       16.024359   \n",
       "4                              33.044932                       16.480185   \n",
       "\n",
       "   primary_cleaner.output.tail_pb  primary_cleaner.output.tail_sol  \\\n",
       "0                        2.534912                         7.476074   \n",
       "1                        3.049646                         6.733907   \n",
       "2                        3.124664                         6.471768   \n",
       "3                        2.960362                         6.843791   \n",
       "4                        3.112100                         6.550154   \n",
       "\n",
       "   primary_cleaner.output.tail_au  primary_cleaner.state.floatbank8_a_air  \\\n",
       "0                        2.106679                             1549.775757   \n",
       "1                        2.353017                             1576.166671   \n",
       "2                        2.416800                             1601.556163   \n",
       "3                        2.262051                             1599.968720   \n",
       "4                        2.277073                             1601.339707   \n",
       "\n",
       "   primary_cleaner.state.floatbank8_a_level  \\\n",
       "0                               -498.912140   \n",
       "1                               -500.904965   \n",
       "2                               -499.997791   \n",
       "3                               -500.951778   \n",
       "4                               -498.975456   \n",
       "\n",
       "   primary_cleaner.state.floatbank8_b_air  \\\n",
       "0                             1551.434204   \n",
       "1                             1575.950626   \n",
       "2                             1600.386685   \n",
       "3                             1600.659236   \n",
       "4                             1601.437854   \n",
       "\n",
       "   primary_cleaner.state.floatbank8_b_level  \\\n",
       "0                               -516.403442   \n",
       "1                               -499.865889   \n",
       "2                               -500.607762   \n",
       "3                               -499.677094   \n",
       "4                               -500.323246   \n",
       "\n",
       "   primary_cleaner.state.floatbank8_c_air  \\\n",
       "0                             1549.873901   \n",
       "1                             1575.994189   \n",
       "2                             1602.003542   \n",
       "3                             1600.304144   \n",
       "4                             1599.581894   \n",
       "\n",
       "   primary_cleaner.state.floatbank8_c_level  \\\n",
       "0                               -498.666595   \n",
       "1                               -499.315107   \n",
       "2                               -500.870069   \n",
       "3                               -500.727997   \n",
       "4                               -500.888152   \n",
       "\n",
       "   primary_cleaner.state.floatbank8_d_air  \\\n",
       "0                             1554.367432   \n",
       "1                             1574.479259   \n",
       "2                             1599.541515   \n",
       "3                             1600.449520   \n",
       "4                             1602.649541   \n",
       "\n",
       "   primary_cleaner.state.floatbank8_d_level  \\\n",
       "0                               -493.428131   \n",
       "1                               -498.931665   \n",
       "2                               -499.827444   \n",
       "3                               -500.052575   \n",
       "4                               -500.593010   \n",
       "\n",
       "   rougher.calculation.sulfate_to_au_concentrate  \\\n",
       "0                                   41885.707031   \n",
       "1                                   42050.861809   \n",
       "2                                   42018.101184   \n",
       "3                                   42029.447991   \n",
       "4                                   42125.354245   \n",
       "\n",
       "   rougher.calculation.floatbank10_sulfate_to_au_feed  \\\n",
       "0                                        3481.779053    \n",
       "1                                        3498.370979    \n",
       "2                                        3495.348910    \n",
       "3                                        3498.578313    \n",
       "4                                        3494.800771    \n",
       "\n",
       "   rougher.calculation.floatbank11_sulfate_to_au_feed  \\\n",
       "0                                        3520.337158    \n",
       "1                                        3489.981857    \n",
       "2                                        3502.359819    \n",
       "3                                        3499.162912    \n",
       "4                                        3506.679315    \n",
       "\n",
       "   rougher.calculation.au_pb_ratio  rougher.input.feed_ag  \\\n",
       "0                         2.838687               6.100378   \n",
       "1                         2.858998               6.161113   \n",
       "2                         2.945989               6.116455   \n",
       "3                         3.002340               6.043309   \n",
       "4                         3.169615               6.060915   \n",
       "\n",
       "   rougher.input.feed_pb  rougher.input.feed_rate  rougher.input.feed_size  \\\n",
       "0               2.284912               523.546326                55.486599   \n",
       "1               2.266033               525.290581                57.278666   \n",
       "2               2.159622               530.026610                57.510649   \n",
       "3               2.037807               542.590390                57.792734   \n",
       "4               1.786875               540.531893                56.047189   \n",
       "\n",
       "   rougher.input.feed_sol  rougher.input.feed_au  \\\n",
       "0               36.808594               6.486150   \n",
       "1               35.753385               6.478583   \n",
       "2               35.971630               6.362222   \n",
       "3               36.862241               6.118189   \n",
       "4               34.347666               5.663707   \n",
       "\n",
       "   rougher.input.floatbank10_sulfate  rougher.input.floatbank10_xanthate  \\\n",
       "0                          11.986616                            6.007990   \n",
       "1                          11.971193                            6.005766   \n",
       "2                          11.920603                            6.197377   \n",
       "3                          11.630094                            6.203177   \n",
       "4                          10.957755                            6.198826   \n",
       "\n",
       "   rougher.input.floatbank11_sulfate  rougher.input.floatbank11_xanthate  \\\n",
       "0                          11.836743                            6.005818   \n",
       "1                          11.996163                            6.012594   \n",
       "2                          11.920305                            6.204633   \n",
       "3                          11.692450                            6.196578   \n",
       "4                          10.960521                            6.194897   \n",
       "\n",
       "   rougher.output.concentrate_ag  rougher.output.concentrate_pb  \\\n",
       "0                      11.500771                       7.101074   \n",
       "1                      11.615865                       7.278807   \n",
       "2                      11.695753                       7.216833   \n",
       "3                      11.915047                       7.175616   \n",
       "4                      12.411054                       7.240205   \n",
       "\n",
       "   rougher.output.concentrate_sol  rougher.output.concentrate_au  \\\n",
       "0                       28.029297                      19.793808   \n",
       "1                       28.067063                      20.050975   \n",
       "2                       27.454037                      19.737170   \n",
       "3                       27.341277                      19.320810   \n",
       "4                       27.041023                      19.216101   \n",
       "\n",
       "   rougher.output.recovery  rougher.output.tail_ag  rougher.output.tail_pb  \\\n",
       "0                87.107763                5.008018                0.508728   \n",
       "1                86.843261                4.955378                0.536689   \n",
       "2                86.842308                4.843460                0.546416   \n",
       "3                87.226430                4.655288                0.542525   \n",
       "4                86.688794                4.552800                0.515438   \n",
       "\n",
       "   rougher.output.tail_sol  rougher.output.tail_au  \\\n",
       "0                19.154297                1.170244   \n",
       "1                18.965234                1.184827   \n",
       "2                18.808533                1.162562   \n",
       "3                19.330200                1.079755   \n",
       "4                19.267422                1.012642   \n",
       "\n",
       "   rougher.state.floatbank10_a_air  rougher.state.floatbank10_a_level  \\\n",
       "0                       999.706909                        -404.066986   \n",
       "1                      1000.286398                        -400.065196   \n",
       "2                       999.719565                        -400.074028   \n",
       "3                       999.814770                        -400.200179   \n",
       "4                       999.678690                        -399.752729   \n",
       "\n",
       "   rougher.state.floatbank10_b_air  rougher.state.floatbank10_b_level  \\\n",
       "0                      1603.011353                        -434.715027   \n",
       "1                      1600.754587                        -449.953435   \n",
       "2                      1599.337330                        -450.008530   \n",
       "3                      1600.059442                        -450.619948   \n",
       "4                      1600.208824                        -449.599614   \n",
       "\n",
       "   rougher.state.floatbank10_c_air  rougher.state.floatbank10_c_level  \\\n",
       "0                      1602.375000                        -442.204468   \n",
       "1                      1600.479580                        -449.830646   \n",
       "2                      1599.672797                        -449.954491   \n",
       "3                      1600.012842                        -449.910497   \n",
       "4                      1600.357732                        -450.034364   \n",
       "\n",
       "   rougher.state.floatbank10_d_air  rougher.state.floatbank10_d_level  \\\n",
       "0                      1598.937256                        -451.294128   \n",
       "1                      1600.527589                        -449.953649   \n",
       "2                      1599.849325                        -449.954185   \n",
       "3                      1597.725177                        -450.130127   \n",
       "4                      1599.759049                        -449.909799   \n",
       "\n",
       "   rougher.state.floatbank10_e_air  rougher.state.floatbank10_e_level  \\\n",
       "0                      1404.472046                        -455.462982   \n",
       "1                      1399.227084                        -450.869848   \n",
       "2                      1399.180945                        -449.937588   \n",
       "3                      1400.943157                        -450.030142   \n",
       "4                      1401.560902                        -448.877187   \n",
       "\n",
       "   rougher.state.floatbank10_f_air  rougher.state.floatbank10_f_level  \\\n",
       "0                      1416.354980                        -451.939636   \n",
       "1                      1399.719514                        -450.119001   \n",
       "2                      1400.316682                        -450.527147   \n",
       "3                      1400.234743                        -449.790835   \n",
       "4                      1401.160227                        -450.407128   \n",
       "\n",
       "   secondary_cleaner.output.tail_ag  secondary_cleaner.output.tail_pb  \\\n",
       "0                         14.500184                          4.694824   \n",
       "1                         14.265474                          4.592547   \n",
       "2                         14.115662                          4.624775   \n",
       "3                         13.732071                          4.482453   \n",
       "4                         14.079996                          4.470737   \n",
       "\n",
       "   secondary_cleaner.output.tail_sol  secondary_cleaner.output.tail_au  \\\n",
       "0                           8.764648                          2.606185   \n",
       "1                           9.001494                          2.488248   \n",
       "2                           8.842896                          2.458187   \n",
       "3                           9.122857                          2.322062   \n",
       "4                           8.871028                          2.330448   \n",
       "\n",
       "   secondary_cleaner.state.floatbank2_a_air  \\\n",
       "0                                 25.853109   \n",
       "1                                 25.880539   \n",
       "2                                 26.005245   \n",
       "3                                 25.942508   \n",
       "4                                 26.024787   \n",
       "\n",
       "   secondary_cleaner.state.floatbank2_a_level  \\\n",
       "0                                 -498.526489   \n",
       "1                                 -499.989656   \n",
       "2                                 -499.929616   \n",
       "3                                 -499.176749   \n",
       "4                                 -500.279091   \n",
       "\n",
       "   secondary_cleaner.state.floatbank2_b_air  \\\n",
       "0                                 23.893660   \n",
       "1                                 23.889530   \n",
       "2                                 23.886657   \n",
       "3                                 23.955516   \n",
       "4                                 23.955345   \n",
       "\n",
       "   secondary_cleaner.state.floatbank2_b_level  \\\n",
       "0                                 -501.406281   \n",
       "1                                 -500.372428   \n",
       "2                                 -499.951928   \n",
       "3                                 -499.848796   \n",
       "4                                 -500.593614   \n",
       "\n",
       "   secondary_cleaner.state.floatbank3_a_air  \\\n",
       "0                                 23.961798   \n",
       "1                                 23.970550   \n",
       "2                                 23.913535   \n",
       "3                                 23.966838   \n",
       "4                                 23.985703   \n",
       "\n",
       "   secondary_cleaner.state.floatbank3_a_level  \\\n",
       "0                                 -495.262817   \n",
       "1                                 -500.085473   \n",
       "2                                 -499.442343   \n",
       "3                                 -500.008812   \n",
       "4                                 -500.083811   \n",
       "\n",
       "   secondary_cleaner.state.floatbank3_b_air  \\\n",
       "0                                 21.940409   \n",
       "1                                 22.085714   \n",
       "2                                 23.957717   \n",
       "3                                 23.954443   \n",
       "4                                 23.958945   \n",
       "\n",
       "   secondary_cleaner.state.floatbank3_b_level  \\\n",
       "0                                 -499.340973   \n",
       "1                                 -499.446897   \n",
       "2                                 -499.901982   \n",
       "3                                 -499.944710   \n",
       "4                                 -499.990309   \n",
       "\n",
       "   secondary_cleaner.state.floatbank4_a_air  \\\n",
       "0                                 14.016835   \n",
       "1                                 13.992281   \n",
       "2                                 14.015015   \n",
       "3                                 14.036510   \n",
       "4                                 14.027298   \n",
       "\n",
       "   secondary_cleaner.state.floatbank4_a_level  \\\n",
       "0                                 -502.488007   \n",
       "1                                 -505.503262   \n",
       "2                                 -502.520901   \n",
       "3                                 -500.857308   \n",
       "4                                 -499.838632   \n",
       "\n",
       "   secondary_cleaner.state.floatbank4_b_air  \\\n",
       "0                                 12.099931   \n",
       "1                                 11.950531   \n",
       "2                                 11.912783   \n",
       "3                                 11.999550   \n",
       "4                                 11.953070   \n",
       "\n",
       "   secondary_cleaner.state.floatbank4_b_level  \\\n",
       "0                                 -504.715942   \n",
       "1                                 -501.331529   \n",
       "2                                 -501.133383   \n",
       "3                                 -501.193686   \n",
       "4                                 -501.053894   \n",
       "\n",
       "   secondary_cleaner.state.floatbank5_a_air  \\\n",
       "0                                  9.925633   \n",
       "1                                 10.039245   \n",
       "2                                 10.070913   \n",
       "3                                  9.970366   \n",
       "4                                  9.925709   \n",
       "\n",
       "   secondary_cleaner.state.floatbank5_a_level  \\\n",
       "0                                 -498.310211   \n",
       "1                                 -500.169983   \n",
       "2                                 -500.129135   \n",
       "3                                 -499.201640   \n",
       "4                                 -501.686727   \n",
       "\n",
       "   secondary_cleaner.state.floatbank5_b_air  \\\n",
       "0                                  8.079666   \n",
       "1                                  7.984757   \n",
       "2                                  8.013877   \n",
       "3                                  7.977324   \n",
       "4                                  7.894242   \n",
       "\n",
       "   secondary_cleaner.state.floatbank5_b_level  \\\n",
       "0                                 -500.470978   \n",
       "1                                 -500.582168   \n",
       "2                                 -500.517572   \n",
       "3                                 -500.255908   \n",
       "4                                 -500.356035   \n",
       "\n",
       "   secondary_cleaner.state.floatbank6_a_air  \\\n",
       "0                                 14.151341   \n",
       "1                                 13.998353   \n",
       "2                                 14.028663   \n",
       "3                                 14.005551   \n",
       "4                                 13.996647   \n",
       "\n",
       "   secondary_cleaner.state.floatbank6_a_level  \n",
       "0                                 -605.841980  \n",
       "1                                 -599.787184  \n",
       "2                                 -601.427363  \n",
       "3                                 -599.996129  \n",
       "4                                 -601.496691  "
      ]
     },
     "metadata": {},
     "output_type": "display_data"
    }
   ],
   "source": [
    "display(train.head())\n",
    "display(test.head())\n",
    "display(full.head())"
   ]
  },
  {
   "cell_type": "code",
   "execution_count": 4,
   "metadata": {},
   "outputs": [],
   "source": [
    "tables = [train, test, full]"
   ]
  },
  {
   "cell_type": "markdown",
   "metadata": {},
   "source": [
    "**Описание данных:**  "
   ]
  },
  {
   "cell_type": "markdown",
   "metadata": {},
   "source": [
    "**Технологический процесс**  \n",
    "Rougher feed — исходное сырье  \n",
    "Rougher additions (или reagent additions) — флотационные реагенты: Xanthate, Sulphate, Depressant  \n",
    "- Xanthate — ксантогенат (промотер, или активатор флотации);  \n",
    "- Sulphate — сульфат (на данном производстве сульфид натрия);  \n",
    "- Depressant — депрессант (силикат натрия).  \n",
    "\n",
    "Rougher process (англ. «грубый процесс») — флотация  \n",
    "Rougher tails — отвальные хвосты  \n",
    "Float banks — флотационная установка  \n",
    "Cleaner process — очистка  \n",
    "Rougher Au — черновой концентрат золота  \n",
    "Final Au — финальный концентрат золота  \n",
    "\n",
    "**Параметры этапов**  \n",
    "air amount — объём воздуха  \n",
    "fluid levels — уровень жидкости  \n",
    "feed size — размер гранул сырья  \n",
    "feed rate — скорость подачи  "
   ]
  },
  {
   "cell_type": "markdown",
   "metadata": {},
   "source": [
    "**Наименование признаков:**  "
   ]
  },
  {
   "cell_type": "markdown",
   "metadata": {},
   "source": [
    "[этап].[тип_параметра].[название_параметра]  \n",
    "Пример: rougher.input.feed_ag  \n",
    "\n",
    "**Возможные значения для блока [этап]:**  \n",
    "rougher — флотация  \n",
    "primary_cleaner — первичная очистка  \n",
    "secondary_cleaner — вторичная очистка  \n",
    "final — финальные характеристики  \n",
    "\n",
    "**Возможные значения для блока [тип_параметра]:**  \n",
    "input — параметры сырья  \n",
    "output — параметры продукта  \n",
    "state — параметры, характеризующие текущее состояние этапа  \n",
    "calculation — расчётные характеристики  "
   ]
  },
  {
   "cell_type": "code",
   "execution_count": 5,
   "metadata": {},
   "outputs": [
    {
     "name": "stdout",
     "output_type": "stream",
     "text": [
      "<class 'pandas.core.frame.DataFrame'>\n",
      "RangeIndex: 16860 entries, 0 to 16859\n",
      "Data columns (total 87 columns):\n",
      "date                                                  16860 non-null object\n",
      "final.output.concentrate_ag                           16788 non-null float64\n",
      "final.output.concentrate_pb                           16788 non-null float64\n",
      "final.output.concentrate_sol                          16490 non-null float64\n",
      "final.output.concentrate_au                           16789 non-null float64\n",
      "final.output.recovery                                 15339 non-null float64\n",
      "final.output.tail_ag                                  16794 non-null float64\n",
      "final.output.tail_pb                                  16677 non-null float64\n",
      "final.output.tail_sol                                 16715 non-null float64\n",
      "final.output.tail_au                                  16794 non-null float64\n",
      "primary_cleaner.input.sulfate                         15553 non-null float64\n",
      "primary_cleaner.input.depressant                      15598 non-null float64\n",
      "primary_cleaner.input.feed_size                       16860 non-null float64\n",
      "primary_cleaner.input.xanthate                        15875 non-null float64\n",
      "primary_cleaner.output.concentrate_ag                 16778 non-null float64\n",
      "primary_cleaner.output.concentrate_pb                 16502 non-null float64\n",
      "primary_cleaner.output.concentrate_sol                16224 non-null float64\n",
      "primary_cleaner.output.concentrate_au                 16778 non-null float64\n",
      "primary_cleaner.output.tail_ag                        16777 non-null float64\n",
      "primary_cleaner.output.tail_pb                        16761 non-null float64\n",
      "primary_cleaner.output.tail_sol                       16579 non-null float64\n",
      "primary_cleaner.output.tail_au                        16777 non-null float64\n",
      "primary_cleaner.state.floatbank8_a_air                16820 non-null float64\n",
      "primary_cleaner.state.floatbank8_a_level              16827 non-null float64\n",
      "primary_cleaner.state.floatbank8_b_air                16820 non-null float64\n",
      "primary_cleaner.state.floatbank8_b_level              16833 non-null float64\n",
      "primary_cleaner.state.floatbank8_c_air                16822 non-null float64\n",
      "primary_cleaner.state.floatbank8_c_level              16833 non-null float64\n",
      "primary_cleaner.state.floatbank8_d_air                16821 non-null float64\n",
      "primary_cleaner.state.floatbank8_d_level              16833 non-null float64\n",
      "rougher.calculation.sulfate_to_au_concentrate         16833 non-null float64\n",
      "rougher.calculation.floatbank10_sulfate_to_au_feed    16833 non-null float64\n",
      "rougher.calculation.floatbank11_sulfate_to_au_feed    16833 non-null float64\n",
      "rougher.calculation.au_pb_ratio                       15618 non-null float64\n",
      "rougher.input.feed_ag                                 16778 non-null float64\n",
      "rougher.input.feed_pb                                 16632 non-null float64\n",
      "rougher.input.feed_rate                               16347 non-null float64\n",
      "rougher.input.feed_size                               16443 non-null float64\n",
      "rougher.input.feed_sol                                16568 non-null float64\n",
      "rougher.input.feed_au                                 16777 non-null float64\n",
      "rougher.input.floatbank10_sulfate                     15816 non-null float64\n",
      "rougher.input.floatbank10_xanthate                    16514 non-null float64\n",
      "rougher.input.floatbank11_sulfate                     16237 non-null float64\n",
      "rougher.input.floatbank11_xanthate                    14956 non-null float64\n",
      "rougher.output.concentrate_ag                         16778 non-null float64\n",
      "rougher.output.concentrate_pb                         16778 non-null float64\n",
      "rougher.output.concentrate_sol                        16698 non-null float64\n",
      "rougher.output.concentrate_au                         16778 non-null float64\n",
      "rougher.output.recovery                               14287 non-null float64\n",
      "rougher.output.tail_ag                                14610 non-null float64\n",
      "rougher.output.tail_pb                                16778 non-null float64\n",
      "rougher.output.tail_sol                               14611 non-null float64\n",
      "rougher.output.tail_au                                14611 non-null float64\n",
      "rougher.state.floatbank10_a_air                       16807 non-null float64\n",
      "rougher.state.floatbank10_a_level                     16807 non-null float64\n",
      "rougher.state.floatbank10_b_air                       16807 non-null float64\n",
      "rougher.state.floatbank10_b_level                     16807 non-null float64\n",
      "rougher.state.floatbank10_c_air                       16807 non-null float64\n",
      "rougher.state.floatbank10_c_level                     16814 non-null float64\n",
      "rougher.state.floatbank10_d_air                       16802 non-null float64\n",
      "rougher.state.floatbank10_d_level                     16809 non-null float64\n",
      "rougher.state.floatbank10_e_air                       16257 non-null float64\n",
      "rougher.state.floatbank10_e_level                     16809 non-null float64\n",
      "rougher.state.floatbank10_f_air                       16802 non-null float64\n",
      "rougher.state.floatbank10_f_level                     16802 non-null float64\n",
      "secondary_cleaner.output.tail_ag                      16776 non-null float64\n",
      "secondary_cleaner.output.tail_pb                      16764 non-null float64\n",
      "secondary_cleaner.output.tail_sol                     14874 non-null float64\n",
      "secondary_cleaner.output.tail_au                      16778 non-null float64\n",
      "secondary_cleaner.state.floatbank2_a_air              16497 non-null float64\n",
      "secondary_cleaner.state.floatbank2_a_level            16751 non-null float64\n",
      "secondary_cleaner.state.floatbank2_b_air              16705 non-null float64\n",
      "secondary_cleaner.state.floatbank2_b_level            16748 non-null float64\n",
      "secondary_cleaner.state.floatbank3_a_air              16763 non-null float64\n",
      "secondary_cleaner.state.floatbank3_a_level            16747 non-null float64\n",
      "secondary_cleaner.state.floatbank3_b_air              16752 non-null float64\n",
      "secondary_cleaner.state.floatbank3_b_level            16750 non-null float64\n",
      "secondary_cleaner.state.floatbank4_a_air              16731 non-null float64\n",
      "secondary_cleaner.state.floatbank4_a_level            16747 non-null float64\n",
      "secondary_cleaner.state.floatbank4_b_air              16768 non-null float64\n",
      "secondary_cleaner.state.floatbank4_b_level            16767 non-null float64\n",
      "secondary_cleaner.state.floatbank5_a_air              16775 non-null float64\n",
      "secondary_cleaner.state.floatbank5_a_level            16775 non-null float64\n",
      "secondary_cleaner.state.floatbank5_b_air              16775 non-null float64\n",
      "secondary_cleaner.state.floatbank5_b_level            16776 non-null float64\n",
      "secondary_cleaner.state.floatbank6_a_air              16757 non-null float64\n",
      "secondary_cleaner.state.floatbank6_a_level            16775 non-null float64\n",
      "dtypes: float64(86), object(1)\n",
      "memory usage: 11.2+ MB\n",
      "None\n",
      "<class 'pandas.core.frame.DataFrame'>\n",
      "RangeIndex: 5856 entries, 0 to 5855\n",
      "Data columns (total 53 columns):\n",
      "date                                          5856 non-null object\n",
      "primary_cleaner.input.sulfate                 5554 non-null float64\n",
      "primary_cleaner.input.depressant              5572 non-null float64\n",
      "primary_cleaner.input.feed_size               5856 non-null float64\n",
      "primary_cleaner.input.xanthate                5690 non-null float64\n",
      "primary_cleaner.state.floatbank8_a_air        5840 non-null float64\n",
      "primary_cleaner.state.floatbank8_a_level      5840 non-null float64\n",
      "primary_cleaner.state.floatbank8_b_air        5840 non-null float64\n",
      "primary_cleaner.state.floatbank8_b_level      5840 non-null float64\n",
      "primary_cleaner.state.floatbank8_c_air        5840 non-null float64\n",
      "primary_cleaner.state.floatbank8_c_level      5840 non-null float64\n",
      "primary_cleaner.state.floatbank8_d_air        5840 non-null float64\n",
      "primary_cleaner.state.floatbank8_d_level      5840 non-null float64\n",
      "rougher.input.feed_ag                         5840 non-null float64\n",
      "rougher.input.feed_pb                         5840 non-null float64\n",
      "rougher.input.feed_rate                       5816 non-null float64\n",
      "rougher.input.feed_size                       5834 non-null float64\n",
      "rougher.input.feed_sol                        5789 non-null float64\n",
      "rougher.input.feed_au                         5840 non-null float64\n",
      "rougher.input.floatbank10_sulfate             5599 non-null float64\n",
      "rougher.input.floatbank10_xanthate            5733 non-null float64\n",
      "rougher.input.floatbank11_sulfate             5801 non-null float64\n",
      "rougher.input.floatbank11_xanthate            5503 non-null float64\n",
      "rougher.state.floatbank10_a_air               5839 non-null float64\n",
      "rougher.state.floatbank10_a_level             5840 non-null float64\n",
      "rougher.state.floatbank10_b_air               5839 non-null float64\n",
      "rougher.state.floatbank10_b_level             5840 non-null float64\n",
      "rougher.state.floatbank10_c_air               5839 non-null float64\n",
      "rougher.state.floatbank10_c_level             5840 non-null float64\n",
      "rougher.state.floatbank10_d_air               5839 non-null float64\n",
      "rougher.state.floatbank10_d_level             5840 non-null float64\n",
      "rougher.state.floatbank10_e_air               5839 non-null float64\n",
      "rougher.state.floatbank10_e_level             5840 non-null float64\n",
      "rougher.state.floatbank10_f_air               5839 non-null float64\n",
      "rougher.state.floatbank10_f_level             5840 non-null float64\n",
      "secondary_cleaner.state.floatbank2_a_air      5836 non-null float64\n",
      "secondary_cleaner.state.floatbank2_a_level    5840 non-null float64\n",
      "secondary_cleaner.state.floatbank2_b_air      5833 non-null float64\n",
      "secondary_cleaner.state.floatbank2_b_level    5840 non-null float64\n",
      "secondary_cleaner.state.floatbank3_a_air      5822 non-null float64\n",
      "secondary_cleaner.state.floatbank3_a_level    5840 non-null float64\n",
      "secondary_cleaner.state.floatbank3_b_air      5840 non-null float64\n",
      "secondary_cleaner.state.floatbank3_b_level    5840 non-null float64\n",
      "secondary_cleaner.state.floatbank4_a_air      5840 non-null float64\n",
      "secondary_cleaner.state.floatbank4_a_level    5840 non-null float64\n",
      "secondary_cleaner.state.floatbank4_b_air      5840 non-null float64\n",
      "secondary_cleaner.state.floatbank4_b_level    5840 non-null float64\n",
      "secondary_cleaner.state.floatbank5_a_air      5840 non-null float64\n",
      "secondary_cleaner.state.floatbank5_a_level    5840 non-null float64\n",
      "secondary_cleaner.state.floatbank5_b_air      5840 non-null float64\n",
      "secondary_cleaner.state.floatbank5_b_level    5840 non-null float64\n",
      "secondary_cleaner.state.floatbank6_a_air      5840 non-null float64\n",
      "secondary_cleaner.state.floatbank6_a_level    5840 non-null float64\n",
      "dtypes: float64(52), object(1)\n",
      "memory usage: 2.4+ MB\n",
      "None\n",
      "<class 'pandas.core.frame.DataFrame'>\n",
      "RangeIndex: 22716 entries, 0 to 22715\n",
      "Data columns (total 87 columns):\n",
      "date                                                  22716 non-null object\n",
      "final.output.concentrate_ag                           22627 non-null float64\n",
      "final.output.concentrate_pb                           22629 non-null float64\n",
      "final.output.concentrate_sol                          22331 non-null float64\n",
      "final.output.concentrate_au                           22630 non-null float64\n",
      "final.output.recovery                                 20753 non-null float64\n",
      "final.output.tail_ag                                  22633 non-null float64\n",
      "final.output.tail_pb                                  22516 non-null float64\n",
      "final.output.tail_sol                                 22445 non-null float64\n",
      "final.output.tail_au                                  22635 non-null float64\n",
      "primary_cleaner.input.sulfate                         21107 non-null float64\n",
      "primary_cleaner.input.depressant                      21170 non-null float64\n",
      "primary_cleaner.input.feed_size                       22716 non-null float64\n",
      "primary_cleaner.input.xanthate                        21565 non-null float64\n",
      "primary_cleaner.output.concentrate_ag                 22618 non-null float64\n",
      "primary_cleaner.output.concentrate_pb                 22268 non-null float64\n",
      "primary_cleaner.output.concentrate_sol                21918 non-null float64\n",
      "primary_cleaner.output.concentrate_au                 22618 non-null float64\n",
      "primary_cleaner.output.tail_ag                        22614 non-null float64\n",
      "primary_cleaner.output.tail_pb                        22594 non-null float64\n",
      "primary_cleaner.output.tail_sol                       22365 non-null float64\n",
      "primary_cleaner.output.tail_au                        22617 non-null float64\n",
      "primary_cleaner.state.floatbank8_a_air                22660 non-null float64\n",
      "primary_cleaner.state.floatbank8_a_level              22667 non-null float64\n",
      "primary_cleaner.state.floatbank8_b_air                22660 non-null float64\n",
      "primary_cleaner.state.floatbank8_b_level              22673 non-null float64\n",
      "primary_cleaner.state.floatbank8_c_air                22662 non-null float64\n",
      "primary_cleaner.state.floatbank8_c_level              22673 non-null float64\n",
      "primary_cleaner.state.floatbank8_d_air                22661 non-null float64\n",
      "primary_cleaner.state.floatbank8_d_level              22673 non-null float64\n",
      "rougher.calculation.sulfate_to_au_concentrate         22672 non-null float64\n",
      "rougher.calculation.floatbank10_sulfate_to_au_feed    22672 non-null float64\n",
      "rougher.calculation.floatbank11_sulfate_to_au_feed    22672 non-null float64\n",
      "rougher.calculation.au_pb_ratio                       21089 non-null float64\n",
      "rougher.input.feed_ag                                 22618 non-null float64\n",
      "rougher.input.feed_pb                                 22472 non-null float64\n",
      "rougher.input.feed_rate                               22163 non-null float64\n",
      "rougher.input.feed_size                               22277 non-null float64\n",
      "rougher.input.feed_sol                                22357 non-null float64\n",
      "rougher.input.feed_au                                 22617 non-null float64\n",
      "rougher.input.floatbank10_sulfate                     21415 non-null float64\n",
      "rougher.input.floatbank10_xanthate                    22247 non-null float64\n",
      "rougher.input.floatbank11_sulfate                     22038 non-null float64\n",
      "rougher.input.floatbank11_xanthate                    20459 non-null float64\n",
      "rougher.output.concentrate_ag                         22618 non-null float64\n",
      "rougher.output.concentrate_pb                         22618 non-null float64\n",
      "rougher.output.concentrate_sol                        22526 non-null float64\n",
      "rougher.output.concentrate_au                         22618 non-null float64\n",
      "rougher.output.recovery                               19597 non-null float64\n",
      "rougher.output.tail_ag                                19979 non-null float64\n",
      "rougher.output.tail_pb                                22618 non-null float64\n",
      "rougher.output.tail_sol                               19980 non-null float64\n",
      "rougher.output.tail_au                                19980 non-null float64\n",
      "rougher.state.floatbank10_a_air                       22646 non-null float64\n",
      "rougher.state.floatbank10_a_level                     22647 non-null float64\n",
      "rougher.state.floatbank10_b_air                       22646 non-null float64\n",
      "rougher.state.floatbank10_b_level                     22647 non-null float64\n",
      "rougher.state.floatbank10_c_air                       22646 non-null float64\n",
      "rougher.state.floatbank10_c_level                     22654 non-null float64\n",
      "rougher.state.floatbank10_d_air                       22641 non-null float64\n",
      "rougher.state.floatbank10_d_level                     22649 non-null float64\n",
      "rougher.state.floatbank10_e_air                       22096 non-null float64\n",
      "rougher.state.floatbank10_e_level                     22649 non-null float64\n",
      "rougher.state.floatbank10_f_air                       22641 non-null float64\n",
      "rougher.state.floatbank10_f_level                     22642 non-null float64\n",
      "secondary_cleaner.output.tail_ag                      22616 non-null float64\n",
      "secondary_cleaner.output.tail_pb                      22600 non-null float64\n",
      "secondary_cleaner.output.tail_sol                     20501 non-null float64\n",
      "secondary_cleaner.output.tail_au                      22618 non-null float64\n",
      "secondary_cleaner.state.floatbank2_a_air              22333 non-null float64\n",
      "secondary_cleaner.state.floatbank2_a_level            22591 non-null float64\n",
      "secondary_cleaner.state.floatbank2_b_air              22538 non-null float64\n",
      "secondary_cleaner.state.floatbank2_b_level            22588 non-null float64\n",
      "secondary_cleaner.state.floatbank3_a_air              22585 non-null float64\n",
      "secondary_cleaner.state.floatbank3_a_level            22587 non-null float64\n",
      "secondary_cleaner.state.floatbank3_b_air              22592 non-null float64\n",
      "secondary_cleaner.state.floatbank3_b_level            22590 non-null float64\n",
      "secondary_cleaner.state.floatbank4_a_air              22571 non-null float64\n",
      "secondary_cleaner.state.floatbank4_a_level            22587 non-null float64\n",
      "secondary_cleaner.state.floatbank4_b_air              22608 non-null float64\n",
      "secondary_cleaner.state.floatbank4_b_level            22607 non-null float64\n",
      "secondary_cleaner.state.floatbank5_a_air              22615 non-null float64\n",
      "secondary_cleaner.state.floatbank5_a_level            22615 non-null float64\n",
      "secondary_cleaner.state.floatbank5_b_air              22615 non-null float64\n",
      "secondary_cleaner.state.floatbank5_b_level            22616 non-null float64\n",
      "secondary_cleaner.state.floatbank6_a_air              22597 non-null float64\n",
      "secondary_cleaner.state.floatbank6_a_level            22615 non-null float64\n",
      "dtypes: float64(86), object(1)\n",
      "memory usage: 15.1+ MB\n",
      "None\n"
     ]
    }
   ],
   "source": [
    "print(train.info())\n",
    "print(test.info())\n",
    "print(full.info())"
   ]
  },
  {
   "cell_type": "markdown",
   "metadata": {},
   "source": [
    "**Данные для обучения:**\n",
    "- 87 колонок\n",
    "- 16860 строк\n",
    "- есть пропуски в данных\n",
    "\n",
    "**Данные для теста:**\n",
    "- 53 колонки\n",
    "- 5856 строк\n",
    "- есть пропуски в данных\n",
    "\n",
    "**Полный датасет:**\n",
    "- 87 колонок\n",
    "- 22716 строк\n",
    "- есть пропуски в данных"
   ]
  },
  {
   "cell_type": "markdown",
   "metadata": {},
   "source": [
    "Изменим тип данных в колонке с датой:"
   ]
  },
  {
   "cell_type": "code",
   "execution_count": 6,
   "metadata": {},
   "outputs": [],
   "source": [
    "train['date'] = pd.to_datetime(train['date'], format='%Y-%m-%d')\n",
    "test['date'] = pd.to_datetime(test['date'], format='%Y-%m-%d')\n",
    "full['date'] = pd.to_datetime(full['date'], format='%Y-%m-%d')"
   ]
  },
  {
   "cell_type": "markdown",
   "metadata": {},
   "source": [
    "Посмотрим на распределение данных по датам:"
   ]
  },
  {
   "cell_type": "code",
   "execution_count": 7,
   "metadata": {},
   "outputs": [
    {
     "data": {
      "image/png": "[encoded data removed]",
      "text/plain": [
       "<Figure size 1152x144 with 1 Axes>"
      ]
     },
     "metadata": {},
     "output_type": "display_data"
    }
   ],
   "source": [
    "plt.figure(figsize=(16,2))\n",
    "\n",
    "plt.plot(train['date'], [0]*len(train['date']), '|', label = 'train')\n",
    "plt.plot(test['date'], [1]*len(test['date']), '|', label = 'test')\n",
    "plt.plot(full['date'], [2]*len(full['date']), '|', label = 'full')\n",
    "plt.ylim(-1, 7)\n",
    "plt.legend();"
   ]
  },
  {
   "cell_type": "markdown",
   "metadata": {},
   "source": [
    "На графике видно как полный датасет был разделен на тренировочный и тестовый.  \n",
    "В данных скорее всего нет временной зависимости, так что все в порядке.  \n",
    "Проверим полный датасет на дубликаты."
   ]
  },
  {
   "cell_type": "code",
   "execution_count": 8,
   "metadata": {},
   "outputs": [
    {
     "data": {
      "text/plain": [
       "0"
      ]
     },
     "execution_count": 8,
     "metadata": {},
     "output_type": "execute_result"
    }
   ],
   "source": [
    "full.duplicated().sum()"
   ]
  },
  {
   "cell_type": "markdown",
   "metadata": {},
   "source": [
    "### Проверка расчета эффективности обогащения"
   ]
  },
  {
   "cell_type": "markdown",
   "metadata": {},
   "source": [
    "Нужно смоделировать процесс восстановления золота из золотосодержащей руды. Для прогноза коэффициента нужно найти долю золота в концентратах и хвостах. Причём важен не только финальный продукт, но и черновой концентрат."
   ]
  },
  {
   "cell_type": "markdown",
   "metadata": {},
   "source": [
    "Эффективность обогащения рассчитывается по формуле:  \n",
    "\n",
    "Recovery = C * (F-T) / F * (C-T) * 100%\n",
    "\n",
    "где:  \n",
    "C — доля золота в концентрате после флотации/очистки;  \n",
    "F — доля золота в сырье/концентрате до флотации/очистки;  \n",
    "T — доля золота в отвальных хвостах после флотации/очистки.  "
   ]
  },
  {
   "cell_type": "code",
   "execution_count": 9,
   "metadata": {},
   "outputs": [],
   "source": [
    "train.dropna(subset=['rougher.output.concentrate_au', 'rougher.input.feed_au', \n",
    "                     'rougher.output.tail_au','rougher.output.recovery'], inplace=True)"
   ]
  },
  {
   "cell_type": "code",
   "execution_count": 10,
   "metadata": {},
   "outputs": [
    {
     "name": "stdout",
     "output_type": "stream",
     "text": [
      "Абсолютная средняя ошибка: 9.444891926100695e-15\n"
     ]
    }
   ],
   "source": [
    "C = train['rougher.output.concentrate_au']\n",
    "F = train['rougher.input.feed_au']\n",
    "T = train['rougher.output.tail_au']\n",
    "calculated_recovery = (C*(F-T))/(F*(C-T))*100\n",
    "recovery = train['rougher.output.recovery']\n",
    "print('Абсолютная средняя ошибка:', mean_absolute_error(recovery, calculated_recovery))"
   ]
  },
  {
   "cell_type": "markdown",
   "metadata": {},
   "source": [
    "Значение близко к нулю, значит расчет корректный."
   ]
  },
  {
   "cell_type": "markdown",
   "metadata": {},
   "source": [
    "### Анализ признаков, недоступных в тестовой выборке"
   ]
  },
  {
   "cell_type": "markdown",
   "metadata": {},
   "source": [
    "Посмотрим какие признаки есть в тренировочном датасете, но нет в тестовом:"
   ]
  },
  {
   "cell_type": "code",
   "execution_count": 11,
   "metadata": {},
   "outputs": [
    {
     "data": {
      "text/plain": [
       "{'final.output.concentrate_ag',\n",
       " 'final.output.concentrate_au',\n",
       " 'final.output.concentrate_pb',\n",
       " 'final.output.concentrate_sol',\n",
       " 'final.output.recovery',\n",
       " 'final.output.tail_ag',\n",
       " 'final.output.tail_au',\n",
       " 'final.output.tail_pb',\n",
       " 'final.output.tail_sol',\n",
       " 'primary_cleaner.output.concentrate_ag',\n",
       " 'primary_cleaner.output.concentrate_au',\n",
       " 'primary_cleaner.output.concentrate_pb',\n",
       " 'primary_cleaner.output.concentrate_sol',\n",
       " 'primary_cleaner.output.tail_ag',\n",
       " 'primary_cleaner.output.tail_au',\n",
       " 'primary_cleaner.output.tail_pb',\n",
       " 'primary_cleaner.output.tail_sol',\n",
       " 'rougher.calculation.au_pb_ratio',\n",
       " 'rougher.calculation.floatbank10_sulfate_to_au_feed',\n",
       " 'rougher.calculation.floatbank11_sulfate_to_au_feed',\n",
       " 'rougher.calculation.sulfate_to_au_concentrate',\n",
       " 'rougher.output.concentrate_ag',\n",
       " 'rougher.output.concentrate_au',\n",
       " 'rougher.output.concentrate_pb',\n",
       " 'rougher.output.concentrate_sol',\n",
       " 'rougher.output.recovery',\n",
       " 'rougher.output.tail_ag',\n",
       " 'rougher.output.tail_au',\n",
       " 'rougher.output.tail_pb',\n",
       " 'rougher.output.tail_sol',\n",
       " 'secondary_cleaner.output.tail_ag',\n",
       " 'secondary_cleaner.output.tail_au',\n",
       " 'secondary_cleaner.output.tail_pb',\n",
       " 'secondary_cleaner.output.tail_sol'}"
      ]
     },
     "execution_count": 11,
     "metadata": {},
     "output_type": "execute_result"
    }
   ],
   "source": [
    "set(train.columns) - set(test.columns)"
   ]
  },
  {
   "cell_type": "markdown",
   "metadata": {},
   "source": [
    "В тестовой выборке нет признаков output, так как это целевые признаки.\n",
    "Так же в тесте нет признаков calculation для этапа rougher, видимо эти данные рассчитываются позднее и не доступны во время процесса."
   ]
  },
  {
   "cell_type": "markdown",
   "metadata": {},
   "source": [
    "### Предобработка данных"
   ]
  },
  {
   "cell_type": "markdown",
   "metadata": {},
   "source": [
    "Изучим пропуски в данных:"
   ]
  },
  {
   "cell_type": "code",
   "execution_count": 12,
   "metadata": {},
   "outputs": [],
   "source": [
    "def isnull(df):\n",
    "    df_isnull = df.isnull().sum().to_frame(name = 'Количество пропусков')\n",
    "    df_isnull['Процент пропусков'] = df.isna().mean()*100\n",
    "    df_sorted = df_isnull.sort_values(by=['Процент пропусков'],ascending=False).head(15)\n",
    "    return df_sorted"
   ]
  },
  {
   "cell_type": "code",
   "execution_count": 13,
   "metadata": {},
   "outputs": [
    {
     "data": {
      "text/html": [
       "<div>\n",
       "<style scoped>\n",
       "    .dataframe tbody tr th:only-of-type {\n",
       "        vertical-align: middle;\n",
       "    }\n",
       "\n",
       "    .dataframe tbody tr th {\n",
       "        vertical-align: top;\n",
       "    }\n",
       "\n",
       "    .dataframe thead th {\n",
       "        text-align: right;\n",
       "    }\n",
       "</style>\n",
       "<table border=\"1\" class=\"dataframe\">\n",
       "  <thead>\n",
       "    <tr style=\"text-align: right;\">\n",
       "      <th></th>\n",
       "      <th>Количество пропусков</th>\n",
       "      <th>Процент пропусков</th>\n",
       "    </tr>\n",
       "  </thead>\n",
       "  <tbody>\n",
       "    <tr>\n",
       "      <td>rougher.output.recovery</td>\n",
       "      <td>3119</td>\n",
       "      <td>13.730410</td>\n",
       "    </tr>\n",
       "    <tr>\n",
       "      <td>rougher.output.tail_ag</td>\n",
       "      <td>2737</td>\n",
       "      <td>12.048776</td>\n",
       "    </tr>\n",
       "    <tr>\n",
       "      <td>rougher.output.tail_au</td>\n",
       "      <td>2736</td>\n",
       "      <td>12.044374</td>\n",
       "    </tr>\n",
       "    <tr>\n",
       "      <td>rougher.output.tail_sol</td>\n",
       "      <td>2736</td>\n",
       "      <td>12.044374</td>\n",
       "    </tr>\n",
       "    <tr>\n",
       "      <td>rougher.input.floatbank11_xanthate</td>\n",
       "      <td>2257</td>\n",
       "      <td>9.935728</td>\n",
       "    </tr>\n",
       "    <tr>\n",
       "      <td>secondary_cleaner.output.tail_sol</td>\n",
       "      <td>2215</td>\n",
       "      <td>9.750836</td>\n",
       "    </tr>\n",
       "    <tr>\n",
       "      <td>final.output.recovery</td>\n",
       "      <td>1963</td>\n",
       "      <td>8.641486</td>\n",
       "    </tr>\n",
       "    <tr>\n",
       "      <td>rougher.calculation.au_pb_ratio</td>\n",
       "      <td>1627</td>\n",
       "      <td>7.162353</td>\n",
       "    </tr>\n",
       "    <tr>\n",
       "      <td>primary_cleaner.input.sulfate</td>\n",
       "      <td>1609</td>\n",
       "      <td>7.083113</td>\n",
       "    </tr>\n",
       "    <tr>\n",
       "      <td>primary_cleaner.input.depressant</td>\n",
       "      <td>1546</td>\n",
       "      <td>6.805776</td>\n",
       "    </tr>\n",
       "    <tr>\n",
       "      <td>rougher.input.floatbank10_sulfate</td>\n",
       "      <td>1301</td>\n",
       "      <td>5.727241</td>\n",
       "    </tr>\n",
       "    <tr>\n",
       "      <td>primary_cleaner.input.xanthate</td>\n",
       "      <td>1151</td>\n",
       "      <td>5.066913</td>\n",
       "    </tr>\n",
       "    <tr>\n",
       "      <td>primary_cleaner.output.concentrate_sol</td>\n",
       "      <td>798</td>\n",
       "      <td>3.512942</td>\n",
       "    </tr>\n",
       "    <tr>\n",
       "      <td>rougher.input.floatbank11_sulfate</td>\n",
       "      <td>678</td>\n",
       "      <td>2.984680</td>\n",
       "    </tr>\n",
       "    <tr>\n",
       "      <td>rougher.state.floatbank10_e_air</td>\n",
       "      <td>620</td>\n",
       "      <td>2.729354</td>\n",
       "    </tr>\n",
       "  </tbody>\n",
       "</table>\n",
       "</div>"
      ],
      "text/plain": [
       "                                        Количество пропусков  \\\n",
       "rougher.output.recovery                                 3119   \n",
       "rougher.output.tail_ag                                  2737   \n",
       "rougher.output.tail_au                                  2736   \n",
       "rougher.output.tail_sol                                 2736   \n",
       "rougher.input.floatbank11_xanthate                      2257   \n",
       "secondary_cleaner.output.tail_sol                       2215   \n",
       "final.output.recovery                                   1963   \n",
       "rougher.calculation.au_pb_ratio                         1627   \n",
       "primary_cleaner.input.sulfate                           1609   \n",
       "primary_cleaner.input.depressant                        1546   \n",
       "rougher.input.floatbank10_sulfate                       1301   \n",
       "primary_cleaner.input.xanthate                          1151   \n",
       "primary_cleaner.output.concentrate_sol                   798   \n",
       "rougher.input.floatbank11_sulfate                        678   \n",
       "rougher.state.floatbank10_e_air                          620   \n",
       "\n",
       "                                        Процент пропусков  \n",
       "rougher.output.recovery                         13.730410  \n",
       "rougher.output.tail_ag                          12.048776  \n",
       "rougher.output.tail_au                          12.044374  \n",
       "rougher.output.tail_sol                         12.044374  \n",
       "rougher.input.floatbank11_xanthate               9.935728  \n",
       "secondary_cleaner.output.tail_sol                9.750836  \n",
       "final.output.recovery                            8.641486  \n",
       "rougher.calculation.au_pb_ratio                  7.162353  \n",
       "primary_cleaner.input.sulfate                    7.083113  \n",
       "primary_cleaner.input.depressant                 6.805776  \n",
       "rougher.input.floatbank10_sulfate                5.727241  \n",
       "primary_cleaner.input.xanthate                   5.066913  \n",
       "primary_cleaner.output.concentrate_sol           3.512942  \n",
       "rougher.input.floatbank11_sulfate                2.984680  \n",
       "rougher.state.floatbank10_e_air                  2.729354  "
      ]
     },
     "metadata": {},
     "output_type": "display_data"
    }
   ],
   "source": [
    "#Пропуски в полном датасете\n",
    "display(isnull(full))"
   ]
  },
  {
   "cell_type": "code",
   "execution_count": 32,
   "metadata": {},
   "outputs": [
    {
     "data": {
      "text/html": [
       "<div>\n",
       "<style scoped>\n",
       "    .dataframe tbody tr th:only-of-type {\n",
       "        vertical-align: middle;\n",
       "    }\n",
       "\n",
       "    .dataframe tbody tr th {\n",
       "        vertical-align: top;\n",
       "    }\n",
       "\n",
       "    .dataframe thead th {\n",
       "        text-align: right;\n",
       "    }\n",
       "</style>\n",
       "<table border=\"1\" class=\"dataframe\">\n",
       "  <thead>\n",
       "    <tr style=\"text-align: right;\">\n",
       "      <th></th>\n",
       "      <th>Количество пропусков</th>\n",
       "      <th>Процент пропусков</th>\n",
       "    </tr>\n",
       "  </thead>\n",
       "  <tbody>\n",
       "    <tr>\n",
       "      <td>date</td>\n",
       "      <td>0</td>\n",
       "      <td>0.0</td>\n",
       "    </tr>\n",
       "    <tr>\n",
       "      <td>rougher.state.floatbank10_b_air</td>\n",
       "      <td>0</td>\n",
       "      <td>0.0</td>\n",
       "    </tr>\n",
       "    <tr>\n",
       "      <td>rougher.state.floatbank10_f_air</td>\n",
       "      <td>0</td>\n",
       "      <td>0.0</td>\n",
       "    </tr>\n",
       "    <tr>\n",
       "      <td>rougher.state.floatbank10_e_level</td>\n",
       "      <td>0</td>\n",
       "      <td>0.0</td>\n",
       "    </tr>\n",
       "    <tr>\n",
       "      <td>rougher.state.floatbank10_e_air</td>\n",
       "      <td>0</td>\n",
       "      <td>0.0</td>\n",
       "    </tr>\n",
       "    <tr>\n",
       "      <td>rougher.state.floatbank10_d_level</td>\n",
       "      <td>0</td>\n",
       "      <td>0.0</td>\n",
       "    </tr>\n",
       "    <tr>\n",
       "      <td>rougher.state.floatbank10_d_air</td>\n",
       "      <td>0</td>\n",
       "      <td>0.0</td>\n",
       "    </tr>\n",
       "    <tr>\n",
       "      <td>rougher.state.floatbank10_c_level</td>\n",
       "      <td>0</td>\n",
       "      <td>0.0</td>\n",
       "    </tr>\n",
       "    <tr>\n",
       "      <td>rougher.state.floatbank10_c_air</td>\n",
       "      <td>0</td>\n",
       "      <td>0.0</td>\n",
       "    </tr>\n",
       "    <tr>\n",
       "      <td>rougher.state.floatbank10_b_level</td>\n",
       "      <td>0</td>\n",
       "      <td>0.0</td>\n",
       "    </tr>\n",
       "    <tr>\n",
       "      <td>rougher.state.floatbank10_a_level</td>\n",
       "      <td>0</td>\n",
       "      <td>0.0</td>\n",
       "    </tr>\n",
       "    <tr>\n",
       "      <td>secondary_cleaner.output.tail_ag</td>\n",
       "      <td>0</td>\n",
       "      <td>0.0</td>\n",
       "    </tr>\n",
       "    <tr>\n",
       "      <td>rougher.state.floatbank10_a_air</td>\n",
       "      <td>0</td>\n",
       "      <td>0.0</td>\n",
       "    </tr>\n",
       "    <tr>\n",
       "      <td>rougher.output.tail_au</td>\n",
       "      <td>0</td>\n",
       "      <td>0.0</td>\n",
       "    </tr>\n",
       "    <tr>\n",
       "      <td>rougher.output.tail_sol</td>\n",
       "      <td>0</td>\n",
       "      <td>0.0</td>\n",
       "    </tr>\n",
       "  </tbody>\n",
       "</table>\n",
       "</div>"
      ],
      "text/plain": [
       "                                   Количество пропусков  Процент пропусков\n",
       "date                                                  0                0.0\n",
       "rougher.state.floatbank10_b_air                       0                0.0\n",
       "rougher.state.floatbank10_f_air                       0                0.0\n",
       "rougher.state.floatbank10_e_level                     0                0.0\n",
       "rougher.state.floatbank10_e_air                       0                0.0\n",
       "rougher.state.floatbank10_d_level                     0                0.0\n",
       "rougher.state.floatbank10_d_air                       0                0.0\n",
       "rougher.state.floatbank10_c_level                     0                0.0\n",
       "rougher.state.floatbank10_c_air                       0                0.0\n",
       "rougher.state.floatbank10_b_level                     0                0.0\n",
       "rougher.state.floatbank10_a_level                     0                0.0\n",
       "secondary_cleaner.output.tail_ag                      0                0.0\n",
       "rougher.state.floatbank10_a_air                       0                0.0\n",
       "rougher.output.tail_au                                0                0.0\n",
       "rougher.output.tail_sol                               0                0.0"
      ]
     },
     "metadata": {},
     "output_type": "display_data"
    }
   ],
   "source": [
    "#Пропуски в тренировочном датасете\n",
    "display(isnull(train))"
   ]
  },
  {
   "cell_type": "code",
   "execution_count": 15,
   "metadata": {},
   "outputs": [
    {
     "data": {
      "text/html": [
       "<div>\n",
       "<style scoped>\n",
       "    .dataframe tbody tr th:only-of-type {\n",
       "        vertical-align: middle;\n",
       "    }\n",
       "\n",
       "    .dataframe tbody tr th {\n",
       "        vertical-align: top;\n",
       "    }\n",
       "\n",
       "    .dataframe thead th {\n",
       "        text-align: right;\n",
       "    }\n",
       "</style>\n",
       "<table border=\"1\" class=\"dataframe\">\n",
       "  <thead>\n",
       "    <tr style=\"text-align: right;\">\n",
       "      <th></th>\n",
       "      <th>Количество пропусков</th>\n",
       "      <th>Процент пропусков</th>\n",
       "    </tr>\n",
       "  </thead>\n",
       "  <tbody>\n",
       "    <tr>\n",
       "      <td>rougher.input.floatbank11_xanthate</td>\n",
       "      <td>353</td>\n",
       "      <td>6.028005</td>\n",
       "    </tr>\n",
       "    <tr>\n",
       "      <td>primary_cleaner.input.sulfate</td>\n",
       "      <td>302</td>\n",
       "      <td>5.157104</td>\n",
       "    </tr>\n",
       "    <tr>\n",
       "      <td>primary_cleaner.input.depressant</td>\n",
       "      <td>284</td>\n",
       "      <td>4.849727</td>\n",
       "    </tr>\n",
       "    <tr>\n",
       "      <td>rougher.input.floatbank10_sulfate</td>\n",
       "      <td>257</td>\n",
       "      <td>4.388661</td>\n",
       "    </tr>\n",
       "    <tr>\n",
       "      <td>primary_cleaner.input.xanthate</td>\n",
       "      <td>166</td>\n",
       "      <td>2.834699</td>\n",
       "    </tr>\n",
       "    <tr>\n",
       "      <td>rougher.input.floatbank10_xanthate</td>\n",
       "      <td>123</td>\n",
       "      <td>2.100410</td>\n",
       "    </tr>\n",
       "    <tr>\n",
       "      <td>rougher.input.feed_sol</td>\n",
       "      <td>67</td>\n",
       "      <td>1.144126</td>\n",
       "    </tr>\n",
       "    <tr>\n",
       "      <td>rougher.input.floatbank11_sulfate</td>\n",
       "      <td>55</td>\n",
       "      <td>0.939208</td>\n",
       "    </tr>\n",
       "    <tr>\n",
       "      <td>rougher.input.feed_rate</td>\n",
       "      <td>40</td>\n",
       "      <td>0.683060</td>\n",
       "    </tr>\n",
       "    <tr>\n",
       "      <td>secondary_cleaner.state.floatbank3_a_air</td>\n",
       "      <td>34</td>\n",
       "      <td>0.580601</td>\n",
       "    </tr>\n",
       "    <tr>\n",
       "      <td>secondary_cleaner.state.floatbank2_b_air</td>\n",
       "      <td>23</td>\n",
       "      <td>0.392760</td>\n",
       "    </tr>\n",
       "    <tr>\n",
       "      <td>rougher.input.feed_size</td>\n",
       "      <td>22</td>\n",
       "      <td>0.375683</td>\n",
       "    </tr>\n",
       "    <tr>\n",
       "      <td>secondary_cleaner.state.floatbank2_a_air</td>\n",
       "      <td>20</td>\n",
       "      <td>0.341530</td>\n",
       "    </tr>\n",
       "    <tr>\n",
       "      <td>rougher.state.floatbank10_a_air</td>\n",
       "      <td>17</td>\n",
       "      <td>0.290301</td>\n",
       "    </tr>\n",
       "    <tr>\n",
       "      <td>rougher.state.floatbank10_c_air</td>\n",
       "      <td>17</td>\n",
       "      <td>0.290301</td>\n",
       "    </tr>\n",
       "  </tbody>\n",
       "</table>\n",
       "</div>"
      ],
      "text/plain": [
       "                                          Количество пропусков  \\\n",
       "rougher.input.floatbank11_xanthate                         353   \n",
       "primary_cleaner.input.sulfate                              302   \n",
       "primary_cleaner.input.depressant                           284   \n",
       "rougher.input.floatbank10_sulfate                          257   \n",
       "primary_cleaner.input.xanthate                             166   \n",
       "rougher.input.floatbank10_xanthate                         123   \n",
       "rougher.input.feed_sol                                      67   \n",
       "rougher.input.floatbank11_sulfate                           55   \n",
       "rougher.input.feed_rate                                     40   \n",
       "secondary_cleaner.state.floatbank3_a_air                    34   \n",
       "secondary_cleaner.state.floatbank2_b_air                    23   \n",
       "rougher.input.feed_size                                     22   \n",
       "secondary_cleaner.state.floatbank2_a_air                    20   \n",
       "rougher.state.floatbank10_a_air                             17   \n",
       "rougher.state.floatbank10_c_air                             17   \n",
       "\n",
       "                                          Процент пропусков  \n",
       "rougher.input.floatbank11_xanthate                 6.028005  \n",
       "primary_cleaner.input.sulfate                      5.157104  \n",
       "primary_cleaner.input.depressant                   4.849727  \n",
       "rougher.input.floatbank10_sulfate                  4.388661  \n",
       "primary_cleaner.input.xanthate                     2.834699  \n",
       "rougher.input.floatbank10_xanthate                 2.100410  \n",
       "rougher.input.feed_sol                             1.144126  \n",
       "rougher.input.floatbank11_sulfate                  0.939208  \n",
       "rougher.input.feed_rate                            0.683060  \n",
       "secondary_cleaner.state.floatbank3_a_air           0.580601  \n",
       "secondary_cleaner.state.floatbank2_b_air           0.392760  \n",
       "rougher.input.feed_size                            0.375683  \n",
       "secondary_cleaner.state.floatbank2_a_air           0.341530  \n",
       "rougher.state.floatbank10_a_air                    0.290301  \n",
       "rougher.state.floatbank10_c_air                    0.290301  "
      ]
     },
     "metadata": {},
     "output_type": "display_data"
    }
   ],
   "source": [
    "#Пропуски в тестовом датасете\n",
    "display(isnull(test))"
   ]
  },
  {
   "cell_type": "markdown",
   "metadata": {},
   "source": [
    "Строки с пропусками в целевых признаках удаляем полностью."
   ]
  },
  {
   "cell_type": "code",
   "execution_count": 16,
   "metadata": {},
   "outputs": [],
   "source": [
    "targets_cols = ['rougher.output.recovery','final.output.recovery']"
   ]
  },
  {
   "cell_type": "code",
   "execution_count": 29,
   "metadata": {},
   "outputs": [
    {
     "data": {
      "text/plain": [
       "rougher.output.recovery    0\n",
       "final.output.recovery      0\n",
       "dtype: int64"
      ]
     },
     "execution_count": 29,
     "metadata": {},
     "output_type": "execute_result"
    }
   ],
   "source": [
    "train[targets_cols].isna().sum()"
   ]
  },
  {
   "cell_type": "code",
   "execution_count": 28,
   "metadata": {},
   "outputs": [
    {
     "data": {
      "text/plain": [
       "rougher.output.recovery    0\n",
       "final.output.recovery      0\n",
       "dtype: int64"
      ]
     },
     "execution_count": 28,
     "metadata": {},
     "output_type": "execute_result"
    }
   ],
   "source": [
    "full[targets_cols].isna().sum()"
   ]
  },
  {
   "cell_type": "code",
   "execution_count": 30,
   "metadata": {},
   "outputs": [
    {
     "name": "stdout",
     "output_type": "stream",
     "text": [
      "(19439, 87)\n",
      "(14149, 87)\n"
     ]
    }
   ],
   "source": [
    "print(full.shape)\n",
    "print(train.shape)"
   ]
  },
  {
   "cell_type": "code",
   "execution_count": 26,
   "metadata": {},
   "outputs": [],
   "source": [
    "train = train.dropna(subset = ['rougher.output.recovery', 'final.output.recovery'])\n",
    "full = full.dropna(subset = ['rougher.output.recovery', 'final.output.recovery'])"
   ]
  },
  {
   "cell_type": "markdown",
   "metadata": {},
   "source": [
    "Далее заполним пропуски методом ffil. Этот метод заполнит пропусками предыдущими значениями, что по постановке задачи звучит наиболее логично, так как данные связаны логически технологическим процессом."
   ]
  },
  {
   "cell_type": "code",
   "execution_count": 31,
   "metadata": {},
   "outputs": [],
   "source": [
    "train = train.fillna(method='ffill')\n",
    "test = test.fillna(method='ffill')\n",
    "full = full.fillna(method='ffill')"
   ]
  },
  {
   "cell_type": "markdown",
   "metadata": {},
   "source": [
    "## Анализ данных"
   ]
  },
  {
   "cell_type": "markdown",
   "metadata": {},
   "source": [
    "### Анализ концентрации металлов (Au, Ag, Pb) на различных этапах очистки."
   ]
  },
  {
   "cell_type": "code",
   "execution_count": 33,
   "metadata": {},
   "outputs": [],
   "source": [
    "metals = ['au', 'ag', 'pb']\n",
    "stages = ['rougher.input.feed_',\n",
    "           'rougher.output.concentrate_',\n",
    "           'primary_cleaner.output.concentrate_',\n",
    "           'final.output.concentrate_']"
   ]
  },
  {
   "cell_type": "code",
   "execution_count": 34,
   "metadata": {},
   "outputs": [
    {
     "data": {
      "image/png": "[encoded data removed]",
      "text/plain": [
       "<Figure size 1152x432 with 1 Axes>"
      ]
     },
     "metadata": {},
     "output_type": "display_data"
    },
    {
     "data": {
      "image/png": "[encoded data removed]",
      "text/plain": [
       "<Figure size 1152x432 with 1 Axes>"
      ]
     },
     "metadata": {},
     "output_type": "display_data"
    },
    {
     "data": {
      "image/png": "[encoded data removed]",
      "text/plain": [
       "<Figure size 1152x432 with 1 Axes>"
      ]
     },
     "metadata": {},
     "output_type": "display_data"
    }
   ],
   "source": [
    "for metal in metals:\n",
    "    cols = [s + metal for s in stages]\n",
    "    plt.figure(figsize = (16,6))\n",
    "    ax = sns.violinplot(data = train[cols])\n",
    "    plt.title('Изменение концентрации '+metal, size = 16)\n",
    "    plt.xlabel('Стадия')\n",
    "    plt.ylabel('Значения');"
   ]
  },
  {
   "cell_type": "markdown",
   "metadata": {},
   "source": [
    "Концентрация золота повышается с каждым этапом, концентрация свница также растет. Концентрация серебра растет после флотации, а затем уменьшается с каждой стадией. Есть нулевые значения, что, видимо, соответсвует пустой породе."
   ]
  },
  {
   "cell_type": "markdown",
   "metadata": {},
   "source": [
    "### Сравнение распределений размеров гранул сырья на обучающей и тестовой выборках."
   ]
  },
  {
   "cell_type": "code",
   "execution_count": 35,
   "metadata": {},
   "outputs": [
    {
     "data": {
      "image/png": "[encoded data removed]",
      "text/plain": [
       "<Figure size 1152x432 with 1 Axes>"
      ]
     },
     "metadata": {},
     "output_type": "display_data"
    }
   ],
   "source": [
    "plt.figure(figsize = (16,6))\n",
    "sns.distplot(train['rougher.input.feed_size'], label = 'Размер гранул в обучающей выборке')\n",
    "sns.distplot(test['rougher.input.feed_size'], label = 'Размер гранул в тестовой выборке')\n",
    "plt.title('Распределение размеров гранул сырья')\n",
    "plt.xlabel('Размер гранул')\n",
    "plt.ylabel('Частота')\n",
    "plt.legend();"
   ]
  },
  {
   "cell_type": "markdown",
   "metadata": {},
   "source": [
    "Распределения визуально похожи и не сильно отличаются друг от друга, так что оценка модели будет правильной."
   ]
  },
  {
   "cell_type": "markdown",
   "metadata": {},
   "source": [
    "### Исследование суммарной концентрации всех веществ на разных стадиях."
   ]
  },
  {
   "cell_type": "markdown",
   "metadata": {},
   "source": [
    "Проанализируем суммарную концентрацию всех веществ на разных стадиях: в сырье, в черновом и финальном концентратах. Исследуем аномальные значения в суммарном распределении."
   ]
  },
  {
   "cell_type": "code",
   "execution_count": 36,
   "metadata": {},
   "outputs": [
    {
     "data": {
      "image/png": "[encoded data removed]",
      "text/plain": [
       "<Figure size 1152x432 with 1 Axes>"
      ]
     },
     "metadata": {},
     "output_type": "display_data"
    }
   ],
   "source": [
    "materials = metals + ['sol']\n",
    "plt.figure(figsize = (16,6))\n",
    "for s in stages:\n",
    "    cols = [s + m for m in materials]\n",
    "    csum = train[cols].apply(np.sum, axis = 1)\n",
    "    sns.distplot(csum, label = s[:-1])\n",
    "    plt.title('Суммарная концентрация веществ на разных стадиях', size = 16)\n",
    "    plt.xlabel('Концентрация')\n",
    "    plt.ylabel('Частота')\n",
    "    plt.legend();"
   ]
  },
  {
   "cell_type": "markdown",
   "metadata": {},
   "source": [
    "На графике есть очень низкие и нулевые значения. Приблизим график."
   ]
  },
  {
   "cell_type": "code",
   "execution_count": 37,
   "metadata": {},
   "outputs": [
    {
     "data": {
      "image/png": "[encoded data removed]",
      "text/plain": [
       "<Figure size 1152x432 with 1 Axes>"
      ]
     },
     "metadata": {},
     "output_type": "display_data"
    }
   ],
   "source": [
    "plt.figure(figsize = (16,6))\n",
    "for s in stages:\n",
    "    cols = [s + m for m in materials]\n",
    "    csum = train[cols].apply(np.sum, axis = 1)\n",
    "    sns.distplot(csum[csum<1], label = s[:-1])\n",
    "    plt.title('Суммарная концентрация веществ на разных стадиях', size = 16)\n",
    "    plt.xlabel('Концентрация')\n",
    "    plt.ylabel('Частота')\n",
    "    plt.legend();"
   ]
  },
  {
   "cell_type": "markdown",
   "metadata": {},
   "source": [
    "Удалим аномальные значения до 0.2 и посмотрим на новое распределение."
   ]
  },
  {
   "cell_type": "code",
   "execution_count": 38,
   "metadata": {},
   "outputs": [],
   "source": [
    "for s in stages:\n",
    "    cols = [s + m for m in materials]\n",
    "    csum_train = train[cols].apply(np.sum, axis = 1)\n",
    "    train_ids = csum_train[csum_train>0.2].index\n",
    "    train = train.loc[train_ids, :]\n",
    "    try:\n",
    "        csum_test = test[cols].apply(np.sum, axis = 1)\n",
    "        test_ids = csum_test[csum_test>0.2].index\n",
    "        test = test.loc[test_ids, :]\n",
    "    except: pass"
   ]
  },
  {
   "cell_type": "code",
   "execution_count": 39,
   "metadata": {},
   "outputs": [
    {
     "data": {
      "image/png": "[encoded data removed]",
      "text/plain": [
       "<Figure size 1152x432 with 1 Axes>"
      ]
     },
     "metadata": {},
     "output_type": "display_data"
    }
   ],
   "source": [
    "plt.figure(figsize = (16,6))\n",
    "for s in stages:\n",
    "    cols = [s + m for m in materials]\n",
    "    csum = train[cols].apply(np.sum, axis = 1)\n",
    "    sns.distplot(csum, label = s[:-1])\n",
    "    plt.title('Суммарная концентрация веществ после удаления аномальных значений', size = 16)\n",
    "    plt.xlabel('Концентрация')\n",
    "    plt.ylabel('Частота')\n",
    "    plt.legend();"
   ]
  },
  {
   "cell_type": "code",
   "execution_count": 40,
   "metadata": {},
   "outputs": [
    {
     "data": {
      "text/plain": [
       "(5485, 53)"
      ]
     },
     "execution_count": 40,
     "metadata": {},
     "output_type": "execute_result"
    }
   ],
   "source": [
    "test.shape"
   ]
  },
  {
   "cell_type": "code",
   "execution_count": 41,
   "metadata": {},
   "outputs": [
    {
     "data": {
      "text/plain": [
       "(13601, 87)"
      ]
     },
     "execution_count": 41,
     "metadata": {},
     "output_type": "execute_result"
    }
   ],
   "source": [
    "train.shape"
   ]
  },
  {
   "cell_type": "markdown",
   "metadata": {},
   "source": [
    "## Модель"
   ]
  },
  {
   "cell_type": "markdown",
   "metadata": {},
   "source": [
    "Напишем функцию для расчета метрики sMAPE."
   ]
  },
  {
   "cell_type": "code",
   "execution_count": 42,
   "metadata": {},
   "outputs": [],
   "source": [
    "def smape(true, predict):\n",
    "    true = np.array(true)\n",
    "    predict = np.array(predict)\n",
    "    \n",
    "    predict_rougher=predict[:,0]\n",
    "    true_rougher=true[:,0]\n",
    "    predict_final=predict[:,1]\n",
    "    true_final=true[:,1]\n",
    "    \n",
    "    smape_rougher=np.sum(abs(true_rougher-predict_rougher)/((abs(true_rougher)+abs(predict_rougher))/2))\n",
    "    smape_rougher=smape_rougher/len(true_rougher)*100\n",
    "       \n",
    "    smape_final=np.sum(abs(true_final-predict_final)/((abs(true_final)+abs(predict_final))/2))\n",
    "    smape_final=smape_final/len(true_final)*100\n",
    "    \n",
    "    smape=0.25*smape_rougher+0.75*smape_final\n",
    "    return smape"
   ]
  },
  {
   "cell_type": "markdown",
   "metadata": {},
   "source": [
    "Разделим данные на features и target.  \n",
    "Нужно спрогнозировать сразу две величины:\n",
    "- эффективность обогащения чернового концентрата rougher.output.recovery;\n",
    "- эффективность обогащения финального концентрата final.output.recovery."
   ]
  },
  {
   "cell_type": "code",
   "execution_count": 43,
   "metadata": {},
   "outputs": [],
   "source": [
    "features_cols = test.columns\n",
    "targets_cols = ['rougher.output.recovery','final.output.recovery']"
   ]
  },
  {
   "cell_type": "code",
   "execution_count": 44,
   "metadata": {},
   "outputs": [],
   "source": [
    "features_train = train[features_cols]\n",
    "features_train = features_train.drop(['date'],axis=1)\n",
    "target_train = train[targets_cols]"
   ]
  },
  {
   "cell_type": "code",
   "execution_count": 45,
   "metadata": {},
   "outputs": [],
   "source": [
    "features_test = full[full['date'].isin(test['date'])][test.columns].drop(columns = ['date'])\n",
    "target_test = full[full['date'].isin(test['date'])][targets_cols]"
   ]
  },
  {
   "cell_type": "code",
   "execution_count": 46,
   "metadata": {},
   "outputs": [],
   "source": [
    "rns = 2021"
   ]
  },
  {
   "cell_type": "code",
   "execution_count": 47,
   "metadata": {},
   "outputs": [],
   "source": [
    "smape_scorer = make_scorer(smape, greater_is_better=False)"
   ]
  },
  {
   "cell_type": "markdown",
   "metadata": {},
   "source": [
    "**Линейная регрессия**"
   ]
  },
  {
   "cell_type": "code",
   "execution_count": 48,
   "metadata": {},
   "outputs": [
    {
     "name": "stdout",
     "output_type": "stream",
     "text": [
      "SMAPE линейной регрессии:  -7.127141038218636\n",
      "CPU times: user 810 ms, sys: 483 ms, total: 1.29 s\n",
      "Wall time: 1.24 s\n"
     ]
    }
   ],
   "source": [
    "%%time\n",
    "\n",
    "lr = LinearRegression()\n",
    "shuffle = KFold(n_splits=6, random_state=rns, shuffle=True)\n",
    "print('SMAPE линейной регрессии: ', cross_val_score(lr, features_train, target_train, cv=shuffle, scoring=smape_scorer).mean())"
   ]
  },
  {
   "cell_type": "markdown",
   "metadata": {},
   "source": [
    "**Случайный лес**"
   ]
  },
  {
   "cell_type": "code",
   "execution_count": 49,
   "metadata": {},
   "outputs": [
    {
     "name": "stdout",
     "output_type": "stream",
     "text": [
      "SMAPE случайного леса:  -5.0770880260459474\n",
      "CPU times: user 39.3 s, sys: 33.7 ms, total: 39.3 s\n",
      "Wall time: 39.7 s\n"
     ]
    }
   ],
   "source": [
    "%%time\n",
    "\n",
    "rf = RandomForestRegressor()\n",
    "shuffle = KFold(n_splits=6, random_state=rns, shuffle=True)\n",
    "print('SMAPE случайного леса: ', cross_val_score(rf, features_train, target_train, cv=shuffle, scoring=smape_scorer).mean())"
   ]
  },
  {
   "cell_type": "markdown",
   "metadata": {},
   "source": [
    "Проверим модель случайного леса на тестовой выборке."
   ]
  },
  {
   "cell_type": "code",
   "execution_count": 50,
   "metadata": {},
   "outputs": [
    {
     "data": {
      "text/plain": [
       "RandomForestRegressor(bootstrap=True, criterion='mse', max_depth=None,\n",
       "                      max_features='auto', max_leaf_nodes=None,\n",
       "                      min_impurity_decrease=0.0, min_impurity_split=None,\n",
       "                      min_samples_leaf=1, min_samples_split=2,\n",
       "                      min_weight_fraction_leaf=0.0, n_estimators=10,\n",
       "                      n_jobs=None, oob_score=False, random_state=None,\n",
       "                      verbose=0, warm_start=False)"
      ]
     },
     "execution_count": 50,
     "metadata": {},
     "output_type": "execute_result"
    }
   ],
   "source": [
    "rf.fit(features_train, target_train)"
   ]
  },
  {
   "cell_type": "code",
   "execution_count": 123,
   "metadata": {},
   "outputs": [],
   "source": [
    "predictions_rf = rf.predict(features_test)"
   ]
  },
  {
   "cell_type": "code",
   "execution_count": 52,
   "metadata": {},
   "outputs": [
    {
     "data": {
      "text/plain": [
       "10.727303400254035"
      ]
     },
     "execution_count": 52,
     "metadata": {},
     "output_type": "execute_result"
    }
   ],
   "source": [
    "smape(target_test, predictions_rf)"
   ]
  },
  {
   "cell_type": "markdown",
   "metadata": {},
   "source": [
    "Проверим модель линейной регрессии на тестовой выборке."
   ]
  },
  {
   "cell_type": "code",
   "execution_count": 119,
   "metadata": {},
   "outputs": [
    {
     "data": {
      "text/plain": [
       "LinearRegression(copy_X=True, fit_intercept=True, n_jobs=None, normalize=False)"
      ]
     },
     "execution_count": 119,
     "metadata": {},
     "output_type": "execute_result"
    }
   ],
   "source": [
    "lr.fit(features_train, target_train)"
   ]
  },
  {
   "cell_type": "code",
   "execution_count": 120,
   "metadata": {},
   "outputs": [],
   "source": [
    "predictions_lr = lr.predict(features_test)"
   ]
  },
  {
   "cell_type": "code",
   "execution_count": 121,
   "metadata": {},
   "outputs": [
    {
     "data": {
      "text/plain": [
       "9.354846952699297"
      ]
     },
     "execution_count": 121,
     "metadata": {},
     "output_type": "execute_result"
    }
   ],
   "source": [
    "smape(target_test, predictions_lr)"
   ]
  },
  {
   "cell_type": "markdown",
   "metadata": {},
   "source": [
    "Проверим модель, сравнив ее с константной:"
   ]
  },
  {
   "cell_type": "code",
   "execution_count": 114,
   "metadata": {},
   "outputs": [
    {
     "data": {
      "text/plain": [
       "(5290, 2)"
      ]
     },
     "execution_count": 114,
     "metadata": {},
     "output_type": "execute_result"
    }
   ],
   "source": [
    "predictions.shape"
   ]
  },
  {
   "cell_type": "code",
   "execution_count": 115,
   "metadata": {},
   "outputs": [],
   "source": [
    "predictions1 = []\n",
    "predictions2 = []\n",
    "for i in range(len(predictions)):\n",
    "    predictions1.append(predictions[:,0].mean())\n",
    "    predictions2.append(predictions[:,1].mean())"
   ]
  },
  {
   "cell_type": "code",
   "execution_count": 116,
   "metadata": {},
   "outputs": [],
   "source": [
    "predictions_const = np.column_stack([predictions1, predictions2])"
   ]
  },
  {
   "cell_type": "code",
   "execution_count": 117,
   "metadata": {},
   "outputs": [
    {
     "data": {
      "text/plain": [
       "(5290, 2)"
      ]
     },
     "execution_count": 117,
     "metadata": {},
     "output_type": "execute_result"
    }
   ],
   "source": [
    "predictions_const.shape"
   ]
  },
  {
   "cell_type": "code",
   "execution_count": 124,
   "metadata": {},
   "outputs": [
    {
     "name": "stdout",
     "output_type": "stream",
     "text": [
      "SMAPE константной модели 10.373414203372011\n",
      "SMAPE линейной регресии 9.354846952699297\n",
      "SMAPE случайного леса 10.727303400254035\n"
     ]
    }
   ],
   "source": [
    "print('SMAPE константной модели', smape(target_test, predictions_const))\n",
    "print('SMAPE линейной регресии', smape(target_test, predictions_lr))\n",
    "print('SMAPE случайного леса', smape(target_test, predictions_rf))"
   ]
  },
  {
   "cell_type": "markdown",
   "metadata": {},
   "source": [
    "**Вывод**  \n",
    "При сравнении моделей с константной моделью, которая всегда предсказывает среднее, лучший результат показла модель линейной регресии. Модель случайного леса показла результат хуже, чем константная модель. "
   ]
  }
 ],
 "metadata": {
  "ExecuteTimeLog": [
   {
    "duration": 1173,
    "start_time": "2021-06-10T13:55:09.766Z"
   },
   {
    "duration": 865,
    "start_time": "2021-06-10T14:03:32.654Z"
   },
   {
    "duration": 54,
    "start_time": "2021-06-10T14:03:58.538Z"
   },
   {
    "duration": 792,
    "start_time": "2021-06-10T14:11:10.354Z"
   },
   {
    "duration": 52,
    "start_time": "2021-06-10T14:11:11.253Z"
   },
   {
    "duration": 2,
    "start_time": "2021-06-10T14:11:26.108Z"
   },
   {
    "duration": 3,
    "start_time": "2021-06-10T14:11:36.233Z"
   },
   {
    "duration": 821,
    "start_time": "2021-06-10T14:11:44.519Z"
   },
   {
    "duration": 61,
    "start_time": "2021-06-10T14:12:54.901Z"
   },
   {
    "duration": 163,
    "start_time": "2021-06-10T14:12:58.705Z"
   },
   {
    "duration": 166,
    "start_time": "2021-06-10T14:13:08.525Z"
   },
   {
    "duration": 16,
    "start_time": "2021-06-10T14:43:00.659Z"
   },
   {
    "duration": 48,
    "start_time": "2021-06-10T15:12:00.051Z"
   },
   {
    "duration": 54,
    "start_time": "2021-06-10T15:12:11.205Z"
   },
   {
    "duration": 273,
    "start_time": "2021-06-10T15:12:33.841Z"
   },
   {
    "duration": 7535,
    "start_time": "2021-06-10T15:12:45.023Z"
   },
   {
    "duration": 188,
    "start_time": "2021-06-10T15:13:08.480Z"
   },
   {
    "duration": 15,
    "start_time": "2021-06-10T15:13:23.946Z"
   },
   {
    "duration": 16,
    "start_time": "2021-06-10T15:28:23.215Z"
   },
   {
    "duration": 17,
    "start_time": "2021-06-10T15:36:38.004Z"
   },
   {
    "duration": 15,
    "start_time": "2021-06-10T15:36:54.865Z"
   },
   {
    "duration": 30,
    "start_time": "2021-06-10T15:37:10.942Z"
   },
   {
    "duration": 29,
    "start_time": "2021-06-10T15:40:03.684Z"
   },
   {
    "duration": 1177,
    "start_time": "2021-06-10T15:47:06.792Z"
   },
   {
    "duration": 8,
    "start_time": "2021-06-10T15:47:22.739Z"
   },
   {
    "duration": 13,
    "start_time": "2021-06-10T15:47:51.103Z"
   },
   {
    "duration": 26,
    "start_time": "2021-06-10T15:47:55.321Z"
   },
   {
    "duration": 17,
    "start_time": "2021-06-10T15:48:06.329Z"
   },
   {
    "duration": 293,
    "start_time": "2021-06-10T15:48:19.422Z"
   },
   {
    "duration": 287,
    "start_time": "2021-06-10T15:48:54.394Z"
   },
   {
    "duration": 361,
    "start_time": "2021-06-10T15:49:45.588Z"
   },
   {
    "duration": 304,
    "start_time": "2021-06-10T15:50:18.370Z"
   },
   {
    "duration": 316,
    "start_time": "2021-06-10T15:50:51.468Z"
   },
   {
    "duration": 311,
    "start_time": "2021-06-10T15:51:08.505Z"
   },
   {
    "duration": 333,
    "start_time": "2021-06-10T15:51:52.541Z"
   },
   {
    "duration": 326,
    "start_time": "2021-06-10T15:52:05.486Z"
   },
   {
    "duration": 367,
    "start_time": "2021-06-10T15:52:28.250Z"
   },
   {
    "duration": 370,
    "start_time": "2021-06-10T15:52:47.172Z"
   },
   {
    "duration": 388,
    "start_time": "2021-06-10T15:53:24.083Z"
   },
   {
    "duration": 380,
    "start_time": "2021-06-10T15:53:58.536Z"
   },
   {
    "duration": 391,
    "start_time": "2021-06-10T15:54:08.478Z"
   },
   {
    "duration": 366,
    "start_time": "2021-06-10T15:57:06.433Z"
   },
   {
    "duration": 367,
    "start_time": "2021-06-10T15:57:20.093Z"
   },
   {
    "duration": 108,
    "start_time": "2021-06-10T16:01:49.568Z"
   },
   {
    "duration": 4,
    "start_time": "2021-06-10T16:04:41.061Z"
   },
   {
    "duration": 144,
    "start_time": "2021-06-10T16:04:43.596Z"
   },
   {
    "duration": 22,
    "start_time": "2021-06-10T16:06:01.434Z"
   },
   {
    "duration": 21,
    "start_time": "2021-06-10T16:06:22.063Z"
   },
   {
    "duration": 21,
    "start_time": "2021-06-10T16:06:36.918Z"
   },
   {
    "duration": 18,
    "start_time": "2021-06-10T16:06:43.150Z"
   },
   {
    "duration": 14,
    "start_time": "2021-06-10T16:07:03.106Z"
   },
   {
    "duration": 10,
    "start_time": "2021-06-10T16:07:07.410Z"
   },
   {
    "duration": 10,
    "start_time": "2021-06-10T16:07:12.290Z"
   },
   {
    "duration": 9,
    "start_time": "2021-06-10T16:07:23.320Z"
   },
   {
    "duration": 9,
    "start_time": "2021-06-10T16:08:00.863Z"
   },
   {
    "duration": 4,
    "start_time": "2021-06-10T16:09:11.694Z"
   },
   {
    "duration": 25,
    "start_time": "2021-06-10T16:09:53.029Z"
   },
   {
    "duration": 32,
    "start_time": "2021-06-10T16:10:03.628Z"
   },
   {
    "duration": 14,
    "start_time": "2021-06-10T16:10:17.906Z"
   },
   {
    "duration": 3,
    "start_time": "2021-06-10T16:10:34.477Z"
   },
   {
    "duration": 18,
    "start_time": "2021-06-10T16:10:34.882Z"
   },
   {
    "duration": 38,
    "start_time": "2021-06-10T16:10:47.161Z"
   },
   {
    "duration": 180,
    "start_time": "2021-06-10T16:11:02.873Z"
   },
   {
    "duration": 176,
    "start_time": "2021-06-10T16:11:06.698Z"
   },
   {
    "duration": 39,
    "start_time": "2021-06-10T16:11:33.593Z"
   },
   {
    "duration": 20,
    "start_time": "2021-06-10T16:11:55.589Z"
   },
   {
    "duration": 4,
    "start_time": "2021-06-10T16:12:06.142Z"
   },
   {
    "duration": 19,
    "start_time": "2021-06-10T16:12:06.293Z"
   },
   {
    "duration": 20,
    "start_time": "2021-06-10T16:12:37.368Z"
   },
   {
    "duration": 22,
    "start_time": "2021-06-10T16:12:57.163Z"
   },
   {
    "duration": 20,
    "start_time": "2021-06-10T16:13:03.862Z"
   },
   {
    "duration": 13,
    "start_time": "2021-06-10T16:13:32.983Z"
   },
   {
    "duration": 20,
    "start_time": "2021-06-10T16:13:35.281Z"
   },
   {
    "duration": 18,
    "start_time": "2021-06-10T16:13:49.954Z"
   },
   {
    "duration": 16,
    "start_time": "2021-06-10T16:13:58.789Z"
   },
   {
    "duration": 12,
    "start_time": "2021-06-10T16:14:05.620Z"
   },
   {
    "duration": 59,
    "start_time": "2021-06-10T16:15:49.310Z"
   },
   {
    "duration": 4,
    "start_time": "2021-06-10T16:16:04.979Z"
   },
   {
    "duration": 11,
    "start_time": "2021-06-10T16:33:29.211Z"
   },
   {
    "duration": 12,
    "start_time": "2021-06-10T16:33:37.353Z"
   },
   {
    "duration": 3,
    "start_time": "2021-06-10T16:40:58.508Z"
   },
   {
    "duration": 1170,
    "start_time": "2021-06-10T16:42:48.369Z"
   },
   {
    "duration": 952,
    "start_time": "2021-06-10T16:42:49.542Z"
   },
   {
    "duration": 170,
    "start_time": "2021-06-10T16:42:50.500Z"
   },
   {
    "duration": 2,
    "start_time": "2021-06-10T16:42:50.672Z"
   },
   {
    "duration": 55,
    "start_time": "2021-06-10T16:42:50.676Z"
   },
   {
    "duration": 19,
    "start_time": "2021-06-10T16:42:50.733Z"
   },
   {
    "duration": 458,
    "start_time": "2021-06-10T16:42:50.753Z"
   },
   {
    "duration": 119,
    "start_time": "2021-06-10T16:42:51.213Z"
   },
   {
    "duration": 5,
    "start_time": "2021-06-10T16:42:51.333Z"
   },
   {
    "duration": 7,
    "start_time": "2021-06-10T16:42:51.339Z"
   },
   {
    "duration": 54,
    "start_time": "2021-06-10T16:42:51.347Z"
   },
   {
    "duration": 18,
    "start_time": "2021-06-10T16:42:51.404Z"
   },
   {
    "duration": 10,
    "start_time": "2021-06-10T16:42:51.424Z"
   },
   {
    "duration": 2,
    "start_time": "2021-06-10T16:42:51.436Z"
   },
   {
    "duration": 358,
    "start_time": "2021-06-11T08:22:55.886Z"
   },
   {
    "duration": 1444,
    "start_time": "2021-06-11T08:23:14.895Z"
   },
   {
    "duration": 1036,
    "start_time": "2021-06-11T08:23:16.341Z"
   },
   {
    "duration": 492,
    "start_time": "2021-06-11T08:23:17.382Z"
   },
   {
    "duration": 3,
    "start_time": "2021-06-11T08:23:17.876Z"
   },
   {
    "duration": 111,
    "start_time": "2021-06-11T08:23:17.882Z"
   },
   {
    "duration": 79,
    "start_time": "2021-06-11T08:23:17.995Z"
   },
   {
    "duration": 688,
    "start_time": "2021-06-11T08:23:18.077Z"
   },
   {
    "duration": 206,
    "start_time": "2021-06-11T08:23:18.768Z"
   },
   {
    "duration": 15,
    "start_time": "2021-06-11T08:23:18.976Z"
   },
   {
    "duration": 113,
    "start_time": "2021-06-11T08:23:18.993Z"
   },
   {
    "duration": -1718,
    "start_time": "2021-06-11T08:23:20.826Z"
   },
   {
    "duration": -1718,
    "start_time": "2021-06-11T08:23:20.828Z"
   },
   {
    "duration": -1721,
    "start_time": "2021-06-11T08:23:20.832Z"
   },
   {
    "duration": -1720,
    "start_time": "2021-06-11T08:23:20.833Z"
   },
   {
    "duration": -1721,
    "start_time": "2021-06-11T08:23:20.835Z"
   },
   {
    "duration": -1721,
    "start_time": "2021-06-11T08:23:20.836Z"
   },
   {
    "duration": 472,
    "start_time": "2021-06-11T08:23:41.818Z"
   },
   {
    "duration": 3,
    "start_time": "2021-06-11T08:23:58.178Z"
   },
   {
    "duration": 4,
    "start_time": "2021-06-11T08:24:01.835Z"
   },
   {
    "duration": 5,
    "start_time": "2021-06-11T08:24:10.255Z"
   },
   {
    "duration": 15,
    "start_time": "2021-06-11T08:24:28.002Z"
   },
   {
    "duration": 114,
    "start_time": "2021-06-11T08:24:36.737Z"
   },
   {
    "duration": 190,
    "start_time": "2021-06-11T08:28:43.990Z"
   },
   {
    "duration": 1461,
    "start_time": "2021-06-11T08:28:59.301Z"
   },
   {
    "duration": 972,
    "start_time": "2021-06-11T08:29:00.764Z"
   },
   {
    "duration": 257,
    "start_time": "2021-06-11T08:29:01.739Z"
   },
   {
    "duration": 4,
    "start_time": "2021-06-11T08:29:01.998Z"
   },
   {
    "duration": 86,
    "start_time": "2021-06-11T08:29:02.004Z"
   },
   {
    "duration": 21,
    "start_time": "2021-06-11T08:29:02.093Z"
   },
   {
    "duration": 669,
    "start_time": "2021-06-11T08:29:02.117Z"
   },
   {
    "duration": 209,
    "start_time": "2021-06-11T08:29:02.790Z"
   },
   {
    "duration": 16,
    "start_time": "2021-06-11T08:29:03.001Z"
   },
   {
    "duration": 110,
    "start_time": "2021-06-11T08:29:03.019Z"
   },
   {
    "duration": -1710,
    "start_time": "2021-06-11T08:29:04.842Z"
   },
   {
    "duration": -1714,
    "start_time": "2021-06-11T08:29:04.847Z"
   },
   {
    "duration": -1717,
    "start_time": "2021-06-11T08:29:04.851Z"
   },
   {
    "duration": -1723,
    "start_time": "2021-06-11T08:29:04.858Z"
   },
   {
    "duration": -1724,
    "start_time": "2021-06-11T08:29:04.860Z"
   },
   {
    "duration": -1725,
    "start_time": "2021-06-11T08:29:04.863Z"
   },
   {
    "duration": 471,
    "start_time": "2021-06-11T08:35:27.465Z"
   },
   {
    "duration": 40,
    "start_time": "2021-06-11T08:35:48.966Z"
   },
   {
    "duration": 9,
    "start_time": "2021-06-11T08:35:52.944Z"
   },
   {
    "duration": 1521,
    "start_time": "2021-06-11T08:36:23.048Z"
   },
   {
    "duration": 1360,
    "start_time": "2021-06-11T08:36:24.572Z"
   },
   {
    "duration": 264,
    "start_time": "2021-06-11T08:36:25.935Z"
   },
   {
    "duration": 3,
    "start_time": "2021-06-11T08:36:26.202Z"
   },
   {
    "duration": 84,
    "start_time": "2021-06-11T08:36:26.208Z"
   },
   {
    "duration": 24,
    "start_time": "2021-06-11T08:36:26.295Z"
   },
   {
    "duration": 672,
    "start_time": "2021-06-11T08:36:26.321Z"
   },
   {
    "duration": 212,
    "start_time": "2021-06-11T08:36:26.996Z"
   },
   {
    "duration": 3,
    "start_time": "2021-06-11T08:36:27.212Z"
   },
   {
    "duration": 493,
    "start_time": "2021-06-11T08:36:27.218Z"
   },
   {
    "duration": -1708,
    "start_time": "2021-06-11T08:36:29.422Z"
   },
   {
    "duration": -1715,
    "start_time": "2021-06-11T08:36:29.430Z"
   },
   {
    "duration": -1715,
    "start_time": "2021-06-11T08:36:29.432Z"
   },
   {
    "duration": -1722,
    "start_time": "2021-06-11T08:36:29.440Z"
   },
   {
    "duration": -1721,
    "start_time": "2021-06-11T08:36:29.442Z"
   },
   {
    "duration": -1722,
    "start_time": "2021-06-11T08:36:29.444Z"
   },
   {
    "duration": 16,
    "start_time": "2021-06-11T08:36:42.466Z"
   },
   {
    "duration": 11,
    "start_time": "2021-06-11T08:36:43.272Z"
   },
   {
    "duration": 451,
    "start_time": "2021-06-11T08:36:59.021Z"
   },
   {
    "duration": 413,
    "start_time": "2021-06-11T08:37:05.564Z"
   },
   {
    "duration": 365,
    "start_time": "2021-06-11T08:37:30.112Z"
   },
   {
    "duration": 9374,
    "start_time": "2021-06-11T08:37:41.704Z"
   },
   {
    "duration": 354,
    "start_time": "2021-06-11T08:38:02.198Z"
   },
   {
    "duration": 11,
    "start_time": "2021-06-11T08:40:53.307Z"
   },
   {
    "duration": 100,
    "start_time": "2021-06-11T08:41:42.058Z"
   },
   {
    "duration": 109,
    "start_time": "2021-06-11T08:42:16.207Z"
   },
   {
    "duration": 11,
    "start_time": "2021-06-11T08:43:43.715Z"
   },
   {
    "duration": 6,
    "start_time": "2021-06-11T08:44:33.651Z"
   },
   {
    "duration": 370,
    "start_time": "2021-06-11T08:46:09.687Z"
   },
   {
    "duration": 5,
    "start_time": "2021-06-11T08:46:12.213Z"
   },
   {
    "duration": 27,
    "start_time": "2021-06-11T08:46:12.969Z"
   },
   {
    "duration": 21,
    "start_time": "2021-06-11T08:46:30.677Z"
   },
   {
    "duration": 17,
    "start_time": "2021-06-11T08:46:34.926Z"
   },
   {
    "duration": 15,
    "start_time": "2021-06-11T08:46:54.681Z"
   },
   {
    "duration": 385,
    "start_time": "2021-06-11T08:56:42.756Z"
   },
   {
    "duration": 13176,
    "start_time": "2021-06-11T08:57:51.868Z"
   },
   {
    "duration": 1492,
    "start_time": "2021-06-11T09:05:59.771Z"
   },
   {
    "duration": 357,
    "start_time": "2021-06-11T09:06:08.721Z"
   },
   {
    "duration": 5,
    "start_time": "2021-06-11T09:06:11.930Z"
   },
   {
    "duration": 2198,
    "start_time": "2021-06-11T09:06:12.264Z"
   },
   {
    "duration": 2265,
    "start_time": "2021-06-11T09:08:32.883Z"
   },
   {
    "duration": 2281,
    "start_time": "2021-06-11T09:08:42.691Z"
   },
   {
    "duration": 1941,
    "start_time": "2021-06-11T09:08:51.463Z"
   },
   {
    "duration": 2365,
    "start_time": "2021-06-11T09:09:01.497Z"
   },
   {
    "duration": 4790,
    "start_time": "2021-06-11T09:10:30.963Z"
   },
   {
    "duration": 305,
    "start_time": "2021-06-11T09:16:07.246Z"
   },
   {
    "duration": 697,
    "start_time": "2021-06-11T09:16:15.785Z"
   },
   {
    "duration": 810,
    "start_time": "2021-06-11T09:16:43.775Z"
   },
   {
    "duration": 868,
    "start_time": "2021-06-11T09:18:57.881Z"
   },
   {
    "duration": 1051,
    "start_time": "2021-06-11T09:19:22.442Z"
   },
   {
    "duration": 95,
    "start_time": "2021-06-11T09:20:13.155Z"
   },
   {
    "duration": 11189,
    "start_time": "2021-06-11T09:34:14.534Z"
   },
   {
    "duration": 9695,
    "start_time": "2021-06-11T09:34:38.153Z"
   },
   {
    "duration": 9109,
    "start_time": "2021-06-11T09:35:34.376Z"
   },
   {
    "duration": 2653,
    "start_time": "2021-06-11T09:36:28.114Z"
   },
   {
    "duration": 2632,
    "start_time": "2021-06-11T09:36:36.482Z"
   },
   {
    "duration": 10249,
    "start_time": "2021-06-11T09:36:51.228Z"
   },
   {
    "duration": 10763,
    "start_time": "2021-06-11T09:37:42.211Z"
   },
   {
    "duration": 10730,
    "start_time": "2021-06-11T09:39:17.738Z"
   },
   {
    "duration": 10685,
    "start_time": "2021-06-11T09:39:43.806Z"
   },
   {
    "duration": 11010,
    "start_time": "2021-06-11T09:40:11.094Z"
   },
   {
    "duration": 14563,
    "start_time": "2021-06-11T09:40:59.289Z"
   },
   {
    "duration": 16619,
    "start_time": "2021-06-11T09:44:22.834Z"
   },
   {
    "duration": 16468,
    "start_time": "2021-06-11T09:44:57.622Z"
   },
   {
    "duration": 10320,
    "start_time": "2021-06-11T09:45:28.304Z"
   },
   {
    "duration": 337,
    "start_time": "2021-06-11T09:57:16.805Z"
   },
   {
    "duration": 310,
    "start_time": "2021-06-11T09:57:59.536Z"
   },
   {
    "duration": 353,
    "start_time": "2021-06-11T10:01:20.730Z"
   },
   {
    "duration": 6,
    "start_time": "2021-06-11T10:01:41.600Z"
   },
   {
    "duration": 677,
    "start_time": "2021-06-11T10:01:46.731Z"
   },
   {
    "duration": 6207,
    "start_time": "2021-06-11T10:02:06.442Z"
   },
   {
    "duration": 9398,
    "start_time": "2021-06-11T10:02:51.766Z"
   },
   {
    "duration": 10304,
    "start_time": "2021-06-11T10:03:11.276Z"
   },
   {
    "duration": 122,
    "start_time": "2021-06-11T10:03:54.469Z"
   },
   {
    "duration": 9891,
    "start_time": "2021-06-11T10:04:10.372Z"
   },
   {
    "duration": 11315,
    "start_time": "2021-06-11T10:04:22.626Z"
   },
   {
    "duration": 294,
    "start_time": "2021-06-11T10:04:37.576Z"
   },
   {
    "duration": 75,
    "start_time": "2021-06-11T10:04:42.690Z"
   },
   {
    "duration": 6,
    "start_time": "2021-06-11T10:04:53.023Z"
   },
   {
    "duration": 6,
    "start_time": "2021-06-11T10:05:22.315Z"
   },
   {
    "duration": 6,
    "start_time": "2021-06-11T10:14:47.949Z"
   },
   {
    "duration": 54,
    "start_time": "2021-06-11T10:16:18.396Z"
   },
   {
    "duration": 6,
    "start_time": "2021-06-11T10:18:20.663Z"
   },
   {
    "duration": 114,
    "start_time": "2021-06-11T10:31:51.076Z"
   },
   {
    "duration": 118,
    "start_time": "2021-06-11T10:32:04.268Z"
   },
   {
    "duration": 24,
    "start_time": "2021-06-11T10:36:04.144Z"
   },
   {
    "duration": 5,
    "start_time": "2021-06-11T10:39:11.107Z"
   },
   {
    "duration": 302,
    "start_time": "2021-06-11T10:39:42.632Z"
   },
   {
    "duration": 4,
    "start_time": "2021-06-11T10:39:46.250Z"
   },
   {
    "duration": 6,
    "start_time": "2021-06-11T10:39:47.710Z"
   },
   {
    "duration": 5,
    "start_time": "2021-06-11T10:39:58.920Z"
   },
   {
    "duration": 7,
    "start_time": "2021-06-11T10:41:00.363Z"
   },
   {
    "duration": 74,
    "start_time": "2021-06-11T10:41:05.219Z"
   },
   {
    "duration": 104,
    "start_time": "2021-06-11T10:41:56.909Z"
   },
   {
    "duration": 10,
    "start_time": "2021-06-11T10:42:23.746Z"
   },
   {
    "duration": 109,
    "start_time": "2021-06-11T10:42:25.869Z"
   },
   {
    "duration": 15,
    "start_time": "2021-06-11T10:42:56.582Z"
   },
   {
    "duration": 13,
    "start_time": "2021-06-11T10:43:00.910Z"
   },
   {
    "duration": 6,
    "start_time": "2021-06-11T10:43:14.743Z"
   },
   {
    "duration": 19,
    "start_time": "2021-06-11T10:49:42.386Z"
   },
   {
    "duration": 73,
    "start_time": "2021-06-11T10:49:46.524Z"
   },
   {
    "duration": 12,
    "start_time": "2021-06-11T10:49:57.104Z"
   },
   {
    "duration": 71,
    "start_time": "2021-06-11T10:50:04.648Z"
   },
   {
    "duration": 3,
    "start_time": "2021-06-11T10:51:34.203Z"
   },
   {
    "duration": 362,
    "start_time": "2021-06-11T10:54:00.389Z"
   },
   {
    "duration": 352,
    "start_time": "2021-06-11T10:54:13.531Z"
   },
   {
    "duration": 68,
    "start_time": "2021-06-11T10:54:45.223Z"
   },
   {
    "duration": 9,
    "start_time": "2021-06-11T10:54:51.631Z"
   },
   {
    "duration": 15,
    "start_time": "2021-06-11T10:54:59.743Z"
   },
   {
    "duration": 8,
    "start_time": "2021-06-11T10:55:09.444Z"
   },
   {
    "duration": 8,
    "start_time": "2021-06-11T10:55:18.610Z"
   },
   {
    "duration": 15,
    "start_time": "2021-06-11T10:55:55.987Z"
   },
   {
    "duration": 8,
    "start_time": "2021-06-11T10:56:12.618Z"
   },
   {
    "duration": 73,
    "start_time": "2021-06-11T10:56:28.184Z"
   },
   {
    "duration": 2704,
    "start_time": "2021-06-11T10:57:07.906Z"
   },
   {
    "duration": 987,
    "start_time": "2021-06-11T10:57:10.613Z"
   },
   {
    "duration": 236,
    "start_time": "2021-06-11T10:57:11.603Z"
   },
   {
    "duration": 20,
    "start_time": "2021-06-11T10:57:11.842Z"
   },
   {
    "duration": 63,
    "start_time": "2021-06-11T10:57:11.865Z"
   },
   {
    "duration": 40,
    "start_time": "2021-06-11T10:57:11.931Z"
   },
   {
    "duration": 645,
    "start_time": "2021-06-11T10:57:11.973Z"
   },
   {
    "duration": 204,
    "start_time": "2021-06-11T10:57:12.620Z"
   },
   {
    "duration": 15,
    "start_time": "2021-06-11T10:57:12.828Z"
   },
   {
    "duration": 27,
    "start_time": "2021-06-11T10:57:12.846Z"
   },
   {
    "duration": 6,
    "start_time": "2021-06-11T10:57:12.875Z"
   },
   {
    "duration": 20,
    "start_time": "2021-06-11T10:57:12.883Z"
   },
   {
    "duration": 31,
    "start_time": "2021-06-11T10:57:12.906Z"
   },
   {
    "duration": 20,
    "start_time": "2021-06-11T10:57:12.962Z"
   },
   {
    "duration": 16,
    "start_time": "2021-06-11T10:57:12.984Z"
   },
   {
    "duration": 12,
    "start_time": "2021-06-11T10:57:13.002Z"
   },
   {
    "duration": 5,
    "start_time": "2021-06-11T10:57:13.018Z"
   },
   {
    "duration": 4453,
    "start_time": "2021-06-11T10:57:13.063Z"
   },
   {
    "duration": 988,
    "start_time": "2021-06-11T10:57:17.518Z"
   },
   {
    "duration": 11311,
    "start_time": "2021-06-11T10:57:18.508Z"
   },
   {
    "duration": 10404,
    "start_time": "2021-06-11T10:57:29.821Z"
   },
   {
    "duration": 10140,
    "start_time": "2021-06-11T10:57:40.228Z"
   },
   {
    "duration": 10395,
    "start_time": "2021-06-11T10:57:50.371Z"
   },
   {
    "duration": 5,
    "start_time": "2021-06-11T10:58:00.768Z"
   },
   {
    "duration": 36,
    "start_time": "2021-06-11T10:58:00.775Z"
   },
   {
    "duration": 22,
    "start_time": "2021-06-11T10:58:00.813Z"
   },
   {
    "duration": 26,
    "start_time": "2021-06-11T10:58:00.840Z"
   },
   {
    "duration": 32,
    "start_time": "2021-06-11T10:58:00.868Z"
   },
   {
    "duration": 30,
    "start_time": "2021-06-11T10:58:00.902Z"
   },
   {
    "duration": 5,
    "start_time": "2021-06-11T10:58:00.934Z"
   },
   {
    "duration": 31,
    "start_time": "2021-06-11T10:58:00.941Z"
   },
   {
    "duration": 1670,
    "start_time": "2021-06-11T10:58:11.731Z"
   },
   {
    "duration": 999,
    "start_time": "2021-06-11T10:58:13.404Z"
   },
   {
    "duration": 245,
    "start_time": "2021-06-11T10:58:14.406Z"
   },
   {
    "duration": 4,
    "start_time": "2021-06-11T10:58:14.662Z"
   },
   {
    "duration": 65,
    "start_time": "2021-06-11T10:58:14.668Z"
   },
   {
    "duration": 48,
    "start_time": "2021-06-11T10:58:14.736Z"
   },
   {
    "duration": 642,
    "start_time": "2021-06-11T10:58:14.787Z"
   },
   {
    "duration": 205,
    "start_time": "2021-06-11T10:58:15.435Z"
   },
   {
    "duration": 22,
    "start_time": "2021-06-11T10:58:15.643Z"
   },
   {
    "duration": 12,
    "start_time": "2021-06-11T10:58:15.668Z"
   },
   {
    "duration": 12,
    "start_time": "2021-06-11T10:58:15.683Z"
   },
   {
    "duration": 12,
    "start_time": "2021-06-11T10:58:15.698Z"
   },
   {
    "duration": 65,
    "start_time": "2021-06-11T10:58:15.713Z"
   },
   {
    "duration": 29,
    "start_time": "2021-06-11T10:58:15.781Z"
   },
   {
    "duration": 19,
    "start_time": "2021-06-11T10:58:15.812Z"
   },
   {
    "duration": 27,
    "start_time": "2021-06-11T10:58:15.862Z"
   },
   {
    "duration": 4,
    "start_time": "2021-06-11T10:58:15.891Z"
   },
   {
    "duration": 4643,
    "start_time": "2021-06-11T10:58:15.897Z"
   },
   {
    "duration": 1185,
    "start_time": "2021-06-11T10:58:20.543Z"
   },
   {
    "duration": -109,
    "start_time": "2021-06-11T10:58:21.841Z"
   },
   {
    "duration": -107,
    "start_time": "2021-06-11T10:58:21.842Z"
   },
   {
    "duration": -107,
    "start_time": "2021-06-11T10:58:21.844Z"
   },
   {
    "duration": -107,
    "start_time": "2021-06-11T10:58:21.846Z"
   },
   {
    "duration": -100,
    "start_time": "2021-06-11T10:58:21.862Z"
   },
   {
    "duration": -102,
    "start_time": "2021-06-11T10:58:21.866Z"
   },
   {
    "duration": -102,
    "start_time": "2021-06-11T10:58:21.868Z"
   },
   {
    "duration": -102,
    "start_time": "2021-06-11T10:58:21.870Z"
   },
   {
    "duration": -102,
    "start_time": "2021-06-11T10:58:21.872Z"
   },
   {
    "duration": -100,
    "start_time": "2021-06-11T10:58:21.873Z"
   },
   {
    "duration": -100,
    "start_time": "2021-06-11T10:58:21.875Z"
   },
   {
    "duration": 29,
    "start_time": "2021-06-11T10:58:44.130Z"
   },
   {
    "duration": 2053,
    "start_time": "2021-06-11T10:58:49.183Z"
   },
   {
    "duration": 1171,
    "start_time": "2021-06-11T10:58:51.239Z"
   },
   {
    "duration": 263,
    "start_time": "2021-06-11T10:58:52.414Z"
   },
   {
    "duration": 5,
    "start_time": "2021-06-11T10:58:52.680Z"
   },
   {
    "duration": 84,
    "start_time": "2021-06-11T10:58:52.688Z"
   },
   {
    "duration": 22,
    "start_time": "2021-06-11T10:58:52.774Z"
   },
   {
    "duration": 666,
    "start_time": "2021-06-11T10:58:52.798Z"
   },
   {
    "duration": 208,
    "start_time": "2021-06-11T10:58:53.468Z"
   },
   {
    "duration": 15,
    "start_time": "2021-06-11T10:58:53.679Z"
   },
   {
    "duration": 14,
    "start_time": "2021-06-11T10:58:53.696Z"
   },
   {
    "duration": 11,
    "start_time": "2021-06-11T10:58:53.712Z"
   },
   {
    "duration": 13,
    "start_time": "2021-06-11T10:58:53.725Z"
   },
   {
    "duration": 30,
    "start_time": "2021-06-11T10:58:53.763Z"
   },
   {
    "duration": 21,
    "start_time": "2021-06-11T10:58:53.795Z"
   },
   {
    "duration": 46,
    "start_time": "2021-06-11T10:58:53.819Z"
   },
   {
    "duration": 27,
    "start_time": "2021-06-11T10:58:53.868Z"
   },
   {
    "duration": 4,
    "start_time": "2021-06-11T10:58:53.897Z"
   },
   {
    "duration": 4098,
    "start_time": "2021-06-11T10:58:53.903Z"
   },
   {
    "duration": 938,
    "start_time": "2021-06-11T10:58:58.004Z"
   },
   {
    "duration": 11428,
    "start_time": "2021-06-11T10:58:58.945Z"
   },
   {
    "duration": 10599,
    "start_time": "2021-06-11T10:59:10.376Z"
   },
   {
    "duration": 10388,
    "start_time": "2021-06-11T10:59:20.977Z"
   },
   {
    "duration": 10477,
    "start_time": "2021-06-11T10:59:31.370Z"
   },
   {
    "duration": 14,
    "start_time": "2021-06-11T10:59:41.849Z"
   },
   {
    "duration": 9,
    "start_time": "2021-06-11T10:59:41.865Z"
   },
   {
    "duration": 14,
    "start_time": "2021-06-11T10:59:41.876Z"
   },
   {
    "duration": 6,
    "start_time": "2021-06-11T10:59:41.892Z"
   },
   {
    "duration": 14,
    "start_time": "2021-06-11T10:59:41.900Z"
   },
   {
    "duration": 48,
    "start_time": "2021-06-11T10:59:41.916Z"
   },
   {
    "duration": 3,
    "start_time": "2021-06-11T10:59:41.966Z"
   },
   {
    "duration": 13,
    "start_time": "2021-06-11T11:00:24.914Z"
   },
   {
    "duration": 7,
    "start_time": "2021-06-11T11:00:34.945Z"
   },
   {
    "duration": 9,
    "start_time": "2021-06-11T11:00:41.853Z"
   },
   {
    "duration": 203,
    "start_time": "2021-06-11T11:00:58.266Z"
   },
   {
    "duration": 6,
    "start_time": "2021-06-11T11:03:00.254Z"
   },
   {
    "duration": 1533,
    "start_time": "2021-06-11T11:04:03.135Z"
   },
   {
    "duration": 6,
    "start_time": "2021-06-11T11:05:20.247Z"
   },
   {
    "duration": 2477,
    "start_time": "2021-06-11T11:05:40.191Z"
   },
   {
    "duration": 6,
    "start_time": "2021-06-11T11:05:46.828Z"
   },
   {
    "duration": 463,
    "start_time": "2021-06-11T11:06:29.481Z"
   },
   {
    "duration": 332,
    "start_time": "2021-06-11T11:06:38.311Z"
   },
   {
    "duration": 297,
    "start_time": "2021-06-11T11:06:44.269Z"
   },
   {
    "duration": 2867,
    "start_time": "2021-06-11T11:09:48.003Z"
   },
   {
    "duration": 6,
    "start_time": "2021-06-11T11:11:08.339Z"
   },
   {
    "duration": 3020,
    "start_time": "2021-06-11T11:11:15.547Z"
   },
   {
    "duration": 1474,
    "start_time": "2021-06-11T11:13:23.589Z"
   },
   {
    "duration": 1410,
    "start_time": "2021-06-11T11:15:05.062Z"
   },
   {
    "duration": 32148,
    "start_time": "2021-06-11T11:15:22.887Z"
   },
   {
    "duration": 562,
    "start_time": "2021-06-11T11:22:04.744Z"
   },
   {
    "duration": 160,
    "start_time": "2021-06-11T11:22:30.508Z"
   },
   {
    "duration": 7,
    "start_time": "2021-06-11T11:22:35.445Z"
   },
   {
    "duration": 561,
    "start_time": "2021-06-11T11:22:45.027Z"
   },
   {
    "duration": 288,
    "start_time": "2021-06-11T11:23:22.975Z"
   },
   {
    "duration": 7,
    "start_time": "2021-06-11T11:23:58.303Z"
   },
   {
    "duration": 319,
    "start_time": "2021-06-11T11:25:39.241Z"
   },
   {
    "duration": 336,
    "start_time": "2021-06-11T11:25:42.336Z"
   },
   {
    "duration": -32,
    "start_time": "2021-06-11T11:25:42.707Z"
   },
   {
    "duration": 5,
    "start_time": "2021-06-11T11:26:05.947Z"
   },
   {
    "duration": 815,
    "start_time": "2021-06-11T11:26:06.494Z"
   },
   {
    "duration": 293,
    "start_time": "2021-06-11T11:26:07.524Z"
   },
   {
    "duration": 3,
    "start_time": "2021-06-11T11:26:28.143Z"
   },
   {
    "duration": 167,
    "start_time": "2021-06-11T11:26:29.698Z"
   },
   {
    "duration": 8,
    "start_time": "2021-06-11T11:26:31.587Z"
   },
   {
    "duration": 11,
    "start_time": "2021-06-11T11:26:40.143Z"
   },
   {
    "duration": 352,
    "start_time": "2021-06-11T11:28:43.179Z"
   },
   {
    "duration": 371,
    "start_time": "2021-06-11T11:58:42.781Z"
   },
   {
    "duration": 11,
    "start_time": "2021-06-11T11:59:34.333Z"
   },
   {
    "duration": 4,
    "start_time": "2021-06-11T11:59:37.973Z"
   },
   {
    "duration": 329,
    "start_time": "2021-06-11T12:07:36.761Z"
   },
   {
    "duration": -112,
    "start_time": "2021-06-11T12:07:37.204Z"
   },
   {
    "duration": 348,
    "start_time": "2021-06-11T12:07:53.028Z"
   },
   {
    "duration": 3,
    "start_time": "2021-06-11T12:08:02.662Z"
   },
   {
    "duration": 3071,
    "start_time": "2021-06-11T12:08:03.921Z"
   },
   {
    "duration": 838,
    "start_time": "2021-06-11T12:08:53.824Z"
   },
   {
    "duration": 2730,
    "start_time": "2021-06-11T12:09:25.927Z"
   },
   {
    "duration": 110,
    "start_time": "2021-06-11T12:09:44.245Z"
   },
   {
    "duration": 358,
    "start_time": "2021-06-11T12:10:55.195Z"
   },
   {
    "duration": 133,
    "start_time": "2021-06-11T12:11:00.547Z"
   },
   {
    "duration": 2872,
    "start_time": "2021-06-11T12:11:01.523Z"
   },
   {
    "duration": 4,
    "start_time": "2021-06-11T12:12:24.952Z"
   },
   {
    "duration": 5,
    "start_time": "2021-06-11T12:12:30.873Z"
   },
   {
    "duration": 5,
    "start_time": "2021-06-11T12:12:35.370Z"
   },
   {
    "duration": 13,
    "start_time": "2021-06-11T12:13:00.598Z"
   },
   {
    "duration": 13,
    "start_time": "2021-06-11T12:21:39.572Z"
   },
   {
    "duration": 4,
    "start_time": "2021-06-11T12:21:59.024Z"
   },
   {
    "duration": 5,
    "start_time": "2021-06-11T12:22:15.172Z"
   },
   {
    "duration": 6,
    "start_time": "2021-06-11T12:22:26.648Z"
   },
   {
    "duration": 363,
    "start_time": "2021-06-11T12:24:48.654Z"
   },
   {
    "duration": 5,
    "start_time": "2021-06-11T12:25:08.091Z"
   },
   {
    "duration": 343,
    "start_time": "2021-06-11T12:25:08.736Z"
   },
   {
    "duration": 330,
    "start_time": "2021-06-11T12:25:26.931Z"
   },
   {
    "duration": 5,
    "start_time": "2021-06-11T12:26:26.755Z"
   },
   {
    "duration": 14,
    "start_time": "2021-06-11T12:26:28.953Z"
   },
   {
    "duration": 18,
    "start_time": "2021-06-11T12:26:30.929Z"
   },
   {
    "duration": 394,
    "start_time": "2021-06-11T12:26:37.754Z"
   },
   {
    "duration": 5,
    "start_time": "2021-06-11T12:27:08.207Z"
   },
   {
    "duration": 7,
    "start_time": "2021-06-11T12:27:15.257Z"
   },
   {
    "duration": 9,
    "start_time": "2021-06-11T12:27:41.179Z"
   },
   {
    "duration": 6,
    "start_time": "2021-06-11T12:27:45.433Z"
   },
   {
    "duration": 6,
    "start_time": "2021-06-11T12:28:30.389Z"
   },
   {
    "duration": 12,
    "start_time": "2021-06-11T12:28:37.211Z"
   },
   {
    "duration": 79,
    "start_time": "2021-06-11T12:28:52.725Z"
   },
   {
    "duration": 13,
    "start_time": "2021-06-11T12:29:19.681Z"
   },
   {
    "duration": 362,
    "start_time": "2021-06-11T12:29:45.933Z"
   },
   {
    "duration": 357,
    "start_time": "2021-06-11T12:31:05.845Z"
   },
   {
    "duration": 403,
    "start_time": "2021-06-11T12:31:13.832Z"
   },
   {
    "duration": 6,
    "start_time": "2021-06-11T12:31:31.213Z"
   },
   {
    "duration": 373,
    "start_time": "2021-06-11T12:31:46.838Z"
   },
   {
    "duration": 79,
    "start_time": "2021-06-11T12:33:06.329Z"
   },
   {
    "duration": 449,
    "start_time": "2021-06-11T12:33:36.471Z"
   },
   {
    "duration": 4,
    "start_time": "2021-06-11T12:34:31.084Z"
   },
   {
    "duration": 14,
    "start_time": "2021-06-11T12:34:39.582Z"
   },
   {
    "duration": 324,
    "start_time": "2021-06-11T12:35:05.777Z"
   },
   {
    "duration": 1571,
    "start_time": "2021-06-11T12:35:58.243Z"
   },
   {
    "duration": 1037,
    "start_time": "2021-06-11T12:35:59.816Z"
   },
   {
    "duration": 269,
    "start_time": "2021-06-11T12:36:00.857Z"
   },
   {
    "duration": 4,
    "start_time": "2021-06-11T12:36:01.129Z"
   },
   {
    "duration": 86,
    "start_time": "2021-06-11T12:36:01.135Z"
   },
   {
    "duration": 38,
    "start_time": "2021-06-11T12:36:01.224Z"
   },
   {
    "duration": 672,
    "start_time": "2021-06-11T12:36:01.264Z"
   },
   {
    "duration": 213,
    "start_time": "2021-06-11T12:36:01.942Z"
   },
   {
    "duration": 20,
    "start_time": "2021-06-11T12:36:02.158Z"
   },
   {
    "duration": 13,
    "start_time": "2021-06-11T12:36:02.180Z"
   },
   {
    "duration": 6,
    "start_time": "2021-06-11T12:36:02.195Z"
   },
   {
    "duration": 5,
    "start_time": "2021-06-11T12:36:02.204Z"
   },
   {
    "duration": 76,
    "start_time": "2021-06-11T12:36:02.212Z"
   },
   {
    "duration": 20,
    "start_time": "2021-06-11T12:36:02.290Z"
   },
   {
    "duration": 57,
    "start_time": "2021-06-11T12:36:02.313Z"
   },
   {
    "duration": 35,
    "start_time": "2021-06-11T12:36:02.373Z"
   },
   {
    "duration": 5,
    "start_time": "2021-06-11T12:36:02.411Z"
   },
   {
    "duration": 4178,
    "start_time": "2021-06-11T12:36:02.419Z"
   },
   {
    "duration": 971,
    "start_time": "2021-06-11T12:36:06.599Z"
   },
   {
    "duration": 11325,
    "start_time": "2021-06-11T12:36:07.575Z"
   },
   {
    "duration": 13510,
    "start_time": "2021-06-11T12:36:18.903Z"
   },
   {
    "duration": 10557,
    "start_time": "2021-06-11T12:36:32.416Z"
   },
   {
    "duration": 11043,
    "start_time": "2021-06-11T12:36:42.978Z"
   },
   {
    "duration": 6,
    "start_time": "2021-06-11T12:36:54.025Z"
   },
   {
    "duration": 14,
    "start_time": "2021-06-11T12:36:54.033Z"
   },
   {
    "duration": 6,
    "start_time": "2021-06-11T12:36:54.064Z"
   },
   {
    "duration": 6,
    "start_time": "2021-06-11T12:36:54.073Z"
   },
   {
    "duration": 16,
    "start_time": "2021-06-11T12:36:54.082Z"
   },
   {
    "duration": 22,
    "start_time": "2021-06-11T12:36:54.101Z"
   },
   {
    "duration": 39,
    "start_time": "2021-06-11T12:36:54.126Z"
   },
   {
    "duration": 14,
    "start_time": "2021-06-11T12:36:54.178Z"
   },
   {
    "duration": 8,
    "start_time": "2021-06-11T12:36:54.195Z"
   },
   {
    "duration": 509,
    "start_time": "2021-06-11T12:36:54.206Z"
   },
   {
    "duration": -127,
    "start_time": "2021-06-11T12:36:54.846Z"
   },
   {
    "duration": -130,
    "start_time": "2021-06-11T12:36:54.851Z"
   },
   {
    "duration": 117,
    "start_time": "2021-06-11T12:37:22.960Z"
   },
   {
    "duration": 74,
    "start_time": "2021-06-11T12:37:31.897Z"
   },
   {
    "duration": 79,
    "start_time": "2021-06-11T12:37:44.950Z"
   },
   {
    "duration": 13,
    "start_time": "2021-06-11T12:37:59.287Z"
   },
   {
    "duration": 5,
    "start_time": "2021-06-11T12:38:06.470Z"
   },
   {
    "duration": 374,
    "start_time": "2021-06-11T12:38:08.608Z"
   },
   {
    "duration": 4,
    "start_time": "2021-06-11T12:39:04.679Z"
   },
   {
    "duration": 350,
    "start_time": "2021-06-11T12:39:04.890Z"
   },
   {
    "duration": 4,
    "start_time": "2021-06-11T12:39:11.305Z"
   },
   {
    "duration": 362,
    "start_time": "2021-06-11T12:39:11.476Z"
   },
   {
    "duration": 4,
    "start_time": "2021-06-11T12:39:28.424Z"
   },
   {
    "duration": 12,
    "start_time": "2021-06-11T12:39:28.941Z"
   },
   {
    "duration": 18,
    "start_time": "2021-06-11T12:39:30.397Z"
   },
   {
    "duration": 3,
    "start_time": "2021-06-11T12:39:30.918Z"
   },
   {
    "duration": 3,
    "start_time": "2021-06-11T12:39:31.383Z"
   },
   {
    "duration": 330,
    "start_time": "2021-06-11T12:42:41.516Z"
   },
   {
    "duration": 781,
    "start_time": "2021-06-11T12:42:52.993Z"
   },
   {
    "duration": 2627,
    "start_time": "2021-06-11T12:43:21.736Z"
   },
   {
    "duration": 17,
    "start_time": "2021-06-11T12:43:36.157Z"
   },
   {
    "duration": 8,
    "start_time": "2021-06-11T12:43:58.606Z"
   },
   {
    "duration": 4,
    "start_time": "2021-06-11T12:44:18.673Z"
   },
   {
    "duration": 654,
    "start_time": "2021-06-11T12:44:21.508Z"
   },
   {
    "duration": 6,
    "start_time": "2021-06-11T12:45:13.633Z"
   },
   {
    "duration": 8,
    "start_time": "2021-06-11T12:45:49.992Z"
   },
   {
    "duration": 5,
    "start_time": "2021-06-11T12:45:59.127Z"
   },
   {
    "duration": 7,
    "start_time": "2021-06-11T12:46:27.823Z"
   },
   {
    "duration": 8,
    "start_time": "2021-06-11T12:46:50.156Z"
   },
   {
    "duration": 5,
    "start_time": "2021-06-11T12:46:53.189Z"
   },
   {
    "duration": 6,
    "start_time": "2021-06-11T12:47:01.281Z"
   },
   {
    "duration": 5,
    "start_time": "2021-06-11T12:48:08.363Z"
   },
   {
    "duration": 4,
    "start_time": "2021-06-11T12:48:09.849Z"
   },
   {
    "duration": 342,
    "start_time": "2021-06-11T12:51:27.007Z"
   },
   {
    "duration": 7,
    "start_time": "2021-06-11T12:52:11.066Z"
   },
   {
    "duration": 12,
    "start_time": "2021-06-11T12:52:25.285Z"
   },
   {
    "duration": 13,
    "start_time": "2021-06-11T12:52:33.529Z"
   },
   {
    "duration": 13,
    "start_time": "2021-06-11T12:52:54.023Z"
   },
   {
    "duration": 387,
    "start_time": "2021-06-11T12:53:21.071Z"
   },
   {
    "duration": 310,
    "start_time": "2021-06-11T12:53:33.754Z"
   },
   {
    "duration": 322,
    "start_time": "2021-06-11T12:55:52.967Z"
   },
   {
    "duration": 423,
    "start_time": "2021-06-11T12:56:36.380Z"
   },
   {
    "duration": 6,
    "start_time": "2021-06-11T12:56:48.909Z"
   },
   {
    "duration": 4,
    "start_time": "2021-06-11T12:59:55.266Z"
   },
   {
    "duration": 374,
    "start_time": "2021-06-11T13:00:03.628Z"
   },
   {
    "duration": 4,
    "start_time": "2021-06-11T13:00:22.553Z"
   },
   {
    "duration": 3020,
    "start_time": "2021-06-11T13:00:23.185Z"
   },
   {
    "duration": 4,
    "start_time": "2021-06-11T13:03:40.765Z"
   },
   {
    "duration": 1786,
    "start_time": "2021-06-11T13:04:05.486Z"
   },
   {
    "duration": 6,
    "start_time": "2021-06-11T13:04:12.356Z"
   },
   {
    "duration": 6,
    "start_time": "2021-06-11T13:04:18.519Z"
   },
   {
    "duration": 3,
    "start_time": "2021-06-11T13:10:50.021Z"
   },
   {
    "duration": 37519,
    "start_time": "2021-06-11T13:10:51.583Z"
   },
   {
    "duration": 6,
    "start_time": "2021-06-11T13:12:27.296Z"
   },
   {
    "duration": 8,
    "start_time": "2021-06-11T13:23:07.160Z"
   },
   {
    "duration": 344,
    "start_time": "2021-06-11T13:24:19.136Z"
   },
   {
    "duration": 149,
    "start_time": "2021-06-11T13:24:27.414Z"
   },
   {
    "duration": 435,
    "start_time": "2021-06-11T13:24:54.669Z"
   },
   {
    "duration": 668,
    "start_time": "2021-06-11T13:24:58.699Z"
   },
   {
    "duration": 5,
    "start_time": "2021-06-11T13:25:23.350Z"
   },
   {
    "duration": 365,
    "start_time": "2021-06-11T13:26:05.726Z"
   },
   {
    "duration": 8859,
    "start_time": "2021-06-11T13:26:08.089Z"
   },
   {
    "duration": 10,
    "start_time": "2021-06-11T13:26:19.399Z"
   },
   {
    "duration": 111,
    "start_time": "2021-06-11T13:33:10.765Z"
   },
   {
    "duration": 401,
    "start_time": "2021-06-11T13:35:46.614Z"
   },
   {
    "duration": 14,
    "start_time": "2021-06-11T13:36:04.126Z"
   },
   {
    "duration": 72,
    "start_time": "2021-06-11T13:36:14.957Z"
   },
   {
    "duration": 13,
    "start_time": "2021-06-11T13:36:21.422Z"
   },
   {
    "duration": 4,
    "start_time": "2021-06-11T13:36:39.388Z"
   },
   {
    "duration": 16,
    "start_time": "2021-06-11T13:36:40.046Z"
   },
   {
    "duration": 19,
    "start_time": "2021-06-11T13:36:40.874Z"
   },
   {
    "duration": 3,
    "start_time": "2021-06-11T13:36:41.964Z"
   },
   {
    "duration": 14,
    "start_time": "2021-06-11T13:36:47.042Z"
   },
   {
    "duration": 342,
    "start_time": "2021-06-11T13:36:55.687Z"
   },
   {
    "duration": 13,
    "start_time": "2021-06-11T13:37:00.802Z"
   },
   {
    "duration": 12,
    "start_time": "2021-06-11T13:37:25.540Z"
   },
   {
    "duration": 16,
    "start_time": "2021-06-11T13:37:25.975Z"
   },
   {
    "duration": 453,
    "start_time": "2021-06-11T13:37:27.919Z"
   },
   {
    "duration": 8,
    "start_time": "2021-06-11T13:37:47.360Z"
   },
   {
    "duration": 9,
    "start_time": "2021-06-11T13:37:54.415Z"
   },
   {
    "duration": 9050,
    "start_time": "2021-06-11T13:40:45.325Z"
   },
   {
    "duration": 339,
    "start_time": "2021-06-11T13:42:27.542Z"
   },
   {
    "duration": 72,
    "start_time": "2021-06-11T13:42:31.254Z"
   },
   {
    "duration": 13,
    "start_time": "2021-06-11T13:42:38.590Z"
   },
   {
    "duration": 21,
    "start_time": "2021-06-11T13:44:34.797Z"
   },
   {
    "duration": 19,
    "start_time": "2021-06-11T13:44:35.080Z"
   },
   {
    "duration": 3,
    "start_time": "2021-06-11T13:44:49.131Z"
   },
   {
    "duration": 580,
    "start_time": "2021-06-11T13:46:52.915Z"
   },
   {
    "duration": 7,
    "start_time": "2021-06-11T13:47:42.265Z"
   },
   {
    "duration": 1282,
    "start_time": "2021-06-11T13:47:48.285Z"
   },
   {
    "duration": 3,
    "start_time": "2021-06-11T13:48:18.261Z"
   },
   {
    "duration": 1239,
    "start_time": "2021-06-11T13:48:34.824Z"
   },
   {
    "duration": 1353,
    "start_time": "2021-06-11T13:48:54.617Z"
   },
   {
    "duration": 39755,
    "start_time": "2021-06-11T13:50:03.201Z"
   },
   {
    "duration": 1412,
    "start_time": "2021-06-11T13:50:54.653Z"
   },
   {
    "duration": 39594,
    "start_time": "2021-06-11T13:50:58.047Z"
   },
   {
    "duration": 1270,
    "start_time": "2021-06-11T13:52:04.095Z"
   },
   {
    "duration": 39663,
    "start_time": "2021-06-11T13:52:28.962Z"
   },
   {
    "duration": 319,
    "start_time": "2021-06-11T14:02:55.124Z"
   },
   {
    "duration": 356,
    "start_time": "2021-06-11T14:03:00.668Z"
   },
   {
    "duration": 8169,
    "start_time": "2021-06-11T14:03:19.548Z"
   },
   {
    "duration": 15,
    "start_time": "2021-06-11T14:03:47.350Z"
   },
   {
    "duration": 6,
    "start_time": "2021-06-11T14:04:03.856Z"
   },
   {
    "duration": 5,
    "start_time": "2021-06-11T14:04:22.035Z"
   },
   {
    "duration": 5,
    "start_time": "2021-06-11T14:05:14.021Z"
   },
   {
    "duration": 7,
    "start_time": "2021-06-11T14:05:28.561Z"
   },
   {
    "duration": 1581,
    "start_time": "2021-06-12T06:23:52.558Z"
   },
   {
    "duration": 991,
    "start_time": "2021-06-12T06:23:54.142Z"
   },
   {
    "duration": 249,
    "start_time": "2021-06-12T06:23:55.136Z"
   },
   {
    "duration": 4,
    "start_time": "2021-06-12T06:24:01.179Z"
   },
   {
    "duration": 58,
    "start_time": "2021-06-12T06:24:29.292Z"
   },
   {
    "duration": 26,
    "start_time": "2021-06-12T06:24:31.220Z"
   },
   {
    "duration": 592,
    "start_time": "2021-06-12T06:24:34.435Z"
   },
   {
    "duration": 199,
    "start_time": "2021-06-12T06:24:39.595Z"
   },
   {
    "duration": 16,
    "start_time": "2021-06-12T06:25:50.788Z"
   },
   {
    "duration": 54,
    "start_time": "2021-06-12T06:25:50.988Z"
   },
   {
    "duration": 6,
    "start_time": "2021-06-12T06:26:06.029Z"
   },
   {
    "duration": 6,
    "start_time": "2021-06-12T06:26:22.716Z"
   },
   {
    "duration": 31,
    "start_time": "2021-06-12T06:26:23.274Z"
   },
   {
    "duration": 23,
    "start_time": "2021-06-12T06:26:24.276Z"
   },
   {
    "duration": 18,
    "start_time": "2021-06-12T06:26:25.227Z"
   },
   {
    "duration": 29,
    "start_time": "2021-06-12T06:26:28.563Z"
   },
   {
    "duration": 4,
    "start_time": "2021-06-12T06:27:18.774Z"
   },
   {
    "duration": 4047,
    "start_time": "2021-06-12T06:27:18.998Z"
   },
   {
    "duration": 902,
    "start_time": "2021-06-12T06:27:44.900Z"
   },
   {
    "duration": 10669,
    "start_time": "2021-06-12T06:28:00.748Z"
   },
   {
    "duration": 9953,
    "start_time": "2021-06-12T06:28:11.420Z"
   },
   {
    "duration": 9923,
    "start_time": "2021-06-12T06:28:21.376Z"
   },
   {
    "duration": 10208,
    "start_time": "2021-06-12T06:28:31.302Z"
   },
   {
    "duration": 5,
    "start_time": "2021-06-12T06:28:41.512Z"
   },
   {
    "duration": 7,
    "start_time": "2021-06-12T06:28:41.520Z"
   },
   {
    "duration": 6,
    "start_time": "2021-06-12T06:28:46.070Z"
   },
   {
    "duration": 4,
    "start_time": "2021-06-12T06:28:49.451Z"
   },
   {
    "duration": 11,
    "start_time": "2021-06-12T06:28:56.852Z"
   },
   {
    "duration": 16,
    "start_time": "2021-06-12T06:28:58.452Z"
   },
   {
    "duration": 3,
    "start_time": "2021-06-12T06:28:58.932Z"
   },
   {
    "duration": 4,
    "start_time": "2021-06-12T06:28:59.132Z"
   },
   {
    "duration": 1899,
    "start_time": "2021-06-12T06:29:31.597Z"
   },
   {
    "duration": 38620,
    "start_time": "2021-06-12T06:29:41.367Z"
   },
   {
    "duration": 8173,
    "start_time": "2021-06-12T06:30:19.989Z"
   },
   {
    "duration": 27,
    "start_time": "2021-06-12T06:30:28.165Z"
   },
   {
    "duration": 6,
    "start_time": "2021-06-12T06:30:28.195Z"
   },
   {
    "duration": 4,
    "start_time": "2021-06-12T07:43:01.493Z"
   },
   {
    "duration": 407,
    "start_time": "2021-06-12T07:43:46.525Z"
   },
   {
    "duration": 1595,
    "start_time": "2021-06-12T07:44:07.485Z"
   },
   {
    "duration": 1032,
    "start_time": "2021-06-12T07:44:09.083Z"
   },
   {
    "duration": 314,
    "start_time": "2021-06-12T07:44:10.118Z"
   },
   {
    "duration": 3,
    "start_time": "2021-06-12T07:44:10.435Z"
   },
   {
    "duration": 168,
    "start_time": "2021-06-12T07:44:10.441Z"
   },
   {
    "duration": 23,
    "start_time": "2021-06-12T07:44:10.611Z"
   },
   {
    "duration": 849,
    "start_time": "2021-06-12T07:44:10.636Z"
   },
   {
    "duration": 210,
    "start_time": "2021-06-12T07:44:11.489Z"
   },
   {
    "duration": 15,
    "start_time": "2021-06-12T07:44:11.710Z"
   },
   {
    "duration": 12,
    "start_time": "2021-06-12T07:44:11.728Z"
   },
   {
    "duration": 7,
    "start_time": "2021-06-12T07:44:11.743Z"
   },
   {
    "duration": 6,
    "start_time": "2021-06-12T07:44:11.752Z"
   },
   {
    "duration": 68,
    "start_time": "2021-06-12T07:44:11.760Z"
   },
   {
    "duration": 22,
    "start_time": "2021-06-12T07:44:11.830Z"
   },
   {
    "duration": 16,
    "start_time": "2021-06-12T07:44:11.854Z"
   },
   {
    "duration": 60,
    "start_time": "2021-06-12T07:44:11.872Z"
   },
   {
    "duration": 3,
    "start_time": "2021-06-12T07:44:11.935Z"
   },
   {
    "duration": 149,
    "start_time": "2021-06-12T07:44:11.941Z"
   },
   {
    "duration": -806,
    "start_time": "2021-06-12T07:44:12.899Z"
   },
   {
    "duration": -809,
    "start_time": "2021-06-12T07:44:12.904Z"
   },
   {
    "duration": -819,
    "start_time": "2021-06-12T07:44:12.915Z"
   },
   {
    "duration": -824,
    "start_time": "2021-06-12T07:44:12.922Z"
   },
   {
    "duration": -827,
    "start_time": "2021-06-12T07:44:12.926Z"
   },
   {
    "duration": -830,
    "start_time": "2021-06-12T07:44:12.930Z"
   },
   {
    "duration": -834,
    "start_time": "2021-06-12T07:44:12.935Z"
   },
   {
    "duration": -835,
    "start_time": "2021-06-12T07:44:12.938Z"
   },
   {
    "duration": -838,
    "start_time": "2021-06-12T07:44:12.942Z"
   },
   {
    "duration": -847,
    "start_time": "2021-06-12T07:44:12.953Z"
   },
   {
    "duration": -849,
    "start_time": "2021-06-12T07:44:12.956Z"
   },
   {
    "duration": -851,
    "start_time": "2021-06-12T07:44:12.959Z"
   },
   {
    "duration": -854,
    "start_time": "2021-06-12T07:44:12.963Z"
   },
   {
    "duration": -861,
    "start_time": "2021-06-12T07:44:12.972Z"
   },
   {
    "duration": -872,
    "start_time": "2021-06-12T07:44:12.984Z"
   },
   {
    "duration": -874,
    "start_time": "2021-06-12T07:44:12.988Z"
   },
   {
    "duration": -876,
    "start_time": "2021-06-12T07:44:12.991Z"
   },
   {
    "duration": -878,
    "start_time": "2021-06-12T07:44:12.994Z"
   },
   {
    "duration": -884,
    "start_time": "2021-06-12T07:44:13.002Z"
   },
   {
    "duration": -888,
    "start_time": "2021-06-12T07:44:13.007Z"
   },
   {
    "duration": -894,
    "start_time": "2021-06-12T07:44:13.014Z"
   },
   {
    "duration": 474,
    "start_time": "2021-06-12T07:44:45.630Z"
   },
   {
    "duration": 9,
    "start_time": "2021-06-12T07:45:28.976Z"
   },
   {
    "duration": 10,
    "start_time": "2021-06-12T07:45:58.456Z"
   },
   {
    "duration": 1560,
    "start_time": "2021-06-12T07:47:41.108Z"
   },
   {
    "duration": 1018,
    "start_time": "2021-06-12T07:47:42.671Z"
   },
   {
    "duration": 262,
    "start_time": "2021-06-12T07:47:43.692Z"
   },
   {
    "duration": 4,
    "start_time": "2021-06-12T07:47:43.958Z"
   },
   {
    "duration": 82,
    "start_time": "2021-06-12T07:47:43.965Z"
   },
   {
    "duration": 23,
    "start_time": "2021-06-12T07:47:44.050Z"
   },
   {
    "duration": 647,
    "start_time": "2021-06-12T07:47:44.076Z"
   },
   {
    "duration": 210,
    "start_time": "2021-06-12T07:47:44.726Z"
   },
   {
    "duration": 15,
    "start_time": "2021-06-12T07:47:44.939Z"
   },
   {
    "duration": 13,
    "start_time": "2021-06-12T07:47:44.956Z"
   },
   {
    "duration": 6,
    "start_time": "2021-06-12T07:47:44.972Z"
   },
   {
    "duration": 31,
    "start_time": "2021-06-12T07:47:44.980Z"
   },
   {
    "duration": 51,
    "start_time": "2021-06-12T07:47:45.013Z"
   },
   {
    "duration": 21,
    "start_time": "2021-06-12T07:47:45.066Z"
   },
   {
    "duration": 32,
    "start_time": "2021-06-12T07:47:45.090Z"
   },
   {
    "duration": 4,
    "start_time": "2021-06-12T07:47:45.124Z"
   },
   {
    "duration": 11,
    "start_time": "2021-06-12T07:47:45.130Z"
   },
   {
    "duration": 117,
    "start_time": "2021-06-12T07:47:45.143Z"
   },
   {
    "duration": -924,
    "start_time": "2021-06-12T07:47:46.188Z"
   },
   {
    "duration": -928,
    "start_time": "2021-06-12T07:47:46.193Z"
   },
   {
    "duration": -931,
    "start_time": "2021-06-12T07:47:46.197Z"
   },
   {
    "duration": -933,
    "start_time": "2021-06-12T07:47:46.201Z"
   },
   {
    "duration": -936,
    "start_time": "2021-06-12T07:47:46.205Z"
   },
   {
    "duration": -938,
    "start_time": "2021-06-12T07:47:46.209Z"
   },
   {
    "duration": -940,
    "start_time": "2021-06-12T07:47:46.212Z"
   },
   {
    "duration": -943,
    "start_time": "2021-06-12T07:47:46.216Z"
   },
   {
    "duration": -944,
    "start_time": "2021-06-12T07:47:46.219Z"
   },
   {
    "duration": -947,
    "start_time": "2021-06-12T07:47:46.223Z"
   },
   {
    "duration": -949,
    "start_time": "2021-06-12T07:47:46.226Z"
   },
   {
    "duration": -952,
    "start_time": "2021-06-12T07:47:46.231Z"
   },
   {
    "duration": -954,
    "start_time": "2021-06-12T07:47:46.234Z"
   },
   {
    "duration": -956,
    "start_time": "2021-06-12T07:47:46.238Z"
   },
   {
    "duration": -968,
    "start_time": "2021-06-12T07:47:46.251Z"
   },
   {
    "duration": -972,
    "start_time": "2021-06-12T07:47:46.256Z"
   },
   {
    "duration": -975,
    "start_time": "2021-06-12T07:47:46.261Z"
   },
   {
    "duration": -977,
    "start_time": "2021-06-12T07:47:46.264Z"
   },
   {
    "duration": -980,
    "start_time": "2021-06-12T07:47:46.268Z"
   },
   {
    "duration": -982,
    "start_time": "2021-06-12T07:47:46.272Z"
   },
   {
    "duration": -984,
    "start_time": "2021-06-12T07:47:46.275Z"
   },
   {
    "duration": 9,
    "start_time": "2021-06-12T07:48:06.839Z"
   },
   {
    "duration": 5,
    "start_time": "2021-06-12T07:49:38.027Z"
   },
   {
    "duration": 16,
    "start_time": "2021-06-12T07:52:21.040Z"
   },
   {
    "duration": 8,
    "start_time": "2021-06-12T07:52:39.873Z"
   },
   {
    "duration": 11,
    "start_time": "2021-06-12T07:52:45.382Z"
   },
   {
    "duration": 1554,
    "start_time": "2021-06-12T07:53:24.812Z"
   },
   {
    "duration": 1063,
    "start_time": "2021-06-12T07:53:26.369Z"
   },
   {
    "duration": 475,
    "start_time": "2021-06-12T07:53:27.436Z"
   },
   {
    "duration": 4,
    "start_time": "2021-06-12T07:53:27.915Z"
   },
   {
    "duration": 199,
    "start_time": "2021-06-12T07:53:27.922Z"
   },
   {
    "duration": 96,
    "start_time": "2021-06-12T07:53:28.125Z"
   },
   {
    "duration": 1050,
    "start_time": "2021-06-12T07:53:28.224Z"
   },
   {
    "duration": 215,
    "start_time": "2021-06-12T07:53:29.280Z"
   },
   {
    "duration": 21,
    "start_time": "2021-06-12T07:53:29.499Z"
   },
   {
    "duration": 15,
    "start_time": "2021-06-12T07:53:29.522Z"
   },
   {
    "duration": 6,
    "start_time": "2021-06-12T07:53:29.540Z"
   },
   {
    "duration": 7,
    "start_time": "2021-06-12T07:53:29.548Z"
   },
   {
    "duration": 65,
    "start_time": "2021-06-12T07:53:29.557Z"
   },
   {
    "duration": 26,
    "start_time": "2021-06-12T07:53:29.624Z"
   },
   {
    "duration": 17,
    "start_time": "2021-06-12T07:53:29.652Z"
   },
   {
    "duration": 4,
    "start_time": "2021-06-12T07:53:29.671Z"
   },
   {
    "duration": 9,
    "start_time": "2021-06-12T07:53:29.709Z"
   },
   {
    "duration": 10,
    "start_time": "2021-06-12T07:53:29.720Z"
   },
   {
    "duration": 5,
    "start_time": "2021-06-12T07:53:29.732Z"
   },
   {
    "duration": 1085,
    "start_time": "2021-06-12T07:53:29.739Z"
   },
   {
    "duration": -874,
    "start_time": "2021-06-12T07:53:31.702Z"
   },
   {
    "duration": -877,
    "start_time": "2021-06-12T07:53:31.707Z"
   },
   {
    "duration": -880,
    "start_time": "2021-06-12T07:53:31.711Z"
   },
   {
    "duration": -883,
    "start_time": "2021-06-12T07:53:31.715Z"
   },
   {
    "duration": -885,
    "start_time": "2021-06-12T07:53:31.718Z"
   },
   {
    "duration": -888,
    "start_time": "2021-06-12T07:53:31.723Z"
   },
   {
    "duration": -896,
    "start_time": "2021-06-12T07:53:31.732Z"
   },
   {
    "duration": -903,
    "start_time": "2021-06-12T07:53:31.740Z"
   },
   {
    "duration": -907,
    "start_time": "2021-06-12T07:53:31.745Z"
   },
   {
    "duration": -910,
    "start_time": "2021-06-12T07:53:31.749Z"
   },
   {
    "duration": -912,
    "start_time": "2021-06-12T07:53:31.752Z"
   },
   {
    "duration": -914,
    "start_time": "2021-06-12T07:53:31.756Z"
   },
   {
    "duration": -916,
    "start_time": "2021-06-12T07:53:31.759Z"
   },
   {
    "duration": -918,
    "start_time": "2021-06-12T07:53:31.762Z"
   },
   {
    "duration": -921,
    "start_time": "2021-06-12T07:53:31.766Z"
   },
   {
    "duration": -933,
    "start_time": "2021-06-12T07:53:31.780Z"
   },
   {
    "duration": -939,
    "start_time": "2021-06-12T07:53:31.787Z"
   },
   {
    "duration": -979,
    "start_time": "2021-06-12T07:53:31.828Z"
   },
   {
    "duration": -981,
    "start_time": "2021-06-12T07:53:31.831Z"
   },
   {
    "duration": -984,
    "start_time": "2021-06-12T07:53:31.835Z"
   },
   {
    "duration": -985,
    "start_time": "2021-06-12T07:53:31.838Z"
   },
   {
    "duration": -987,
    "start_time": "2021-06-12T07:53:31.842Z"
   },
   {
    "duration": 326,
    "start_time": "2021-06-12T07:58:02.995Z"
   },
   {
    "duration": 381,
    "start_time": "2021-06-12T07:58:11.903Z"
   },
   {
    "duration": 353,
    "start_time": "2021-06-12T07:58:21.523Z"
   },
   {
    "duration": 346,
    "start_time": "2021-06-12T07:59:14.653Z"
   },
   {
    "duration": 368,
    "start_time": "2021-06-12T07:59:39.431Z"
   },
   {
    "duration": 359,
    "start_time": "2021-06-12T08:00:12.892Z"
   },
   {
    "duration": 366,
    "start_time": "2021-06-12T08:01:15.479Z"
   },
   {
    "duration": 379,
    "start_time": "2021-06-12T08:01:38.133Z"
   },
   {
    "duration": 109,
    "start_time": "2021-06-12T08:02:02.672Z"
   },
   {
    "duration": 351,
    "start_time": "2021-06-12T08:03:56.932Z"
   },
   {
    "duration": 17,
    "start_time": "2021-06-12T08:05:45.845Z"
   },
   {
    "duration": 112,
    "start_time": "2021-06-12T08:06:00.645Z"
   },
   {
    "duration": 20,
    "start_time": "2021-06-12T08:06:30.144Z"
   },
   {
    "duration": 8,
    "start_time": "2021-06-12T08:07:13.610Z"
   },
   {
    "duration": 9,
    "start_time": "2021-06-12T08:07:29.614Z"
   },
   {
    "duration": 11,
    "start_time": "2021-06-12T08:07:48.302Z"
   },
   {
    "duration": 18,
    "start_time": "2021-06-12T08:07:56.352Z"
   },
   {
    "duration": 1634,
    "start_time": "2021-06-12T08:08:46.297Z"
   },
   {
    "duration": 1310,
    "start_time": "2021-06-12T08:08:47.933Z"
   },
   {
    "duration": 300,
    "start_time": "2021-06-12T08:08:49.246Z"
   },
   {
    "duration": 4,
    "start_time": "2021-06-12T08:08:49.549Z"
   },
   {
    "duration": 86,
    "start_time": "2021-06-12T08:08:49.555Z"
   },
   {
    "duration": 23,
    "start_time": "2021-06-12T08:08:49.644Z"
   },
   {
    "duration": 651,
    "start_time": "2021-06-12T08:08:49.669Z"
   },
   {
    "duration": 209,
    "start_time": "2021-06-12T08:08:50.322Z"
   },
   {
    "duration": 15,
    "start_time": "2021-06-12T08:08:50.535Z"
   },
   {
    "duration": 13,
    "start_time": "2021-06-12T08:08:50.553Z"
   },
   {
    "duration": 7,
    "start_time": "2021-06-12T08:08:50.569Z"
   },
   {
    "duration": 35,
    "start_time": "2021-06-12T08:08:50.578Z"
   },
   {
    "duration": 35,
    "start_time": "2021-06-12T08:08:50.615Z"
   },
   {
    "duration": 22,
    "start_time": "2021-06-12T08:08:50.653Z"
   },
   {
    "duration": 45,
    "start_time": "2021-06-12T08:08:50.678Z"
   },
   {
    "duration": 4,
    "start_time": "2021-06-12T08:08:50.725Z"
   },
   {
    "duration": 15,
    "start_time": "2021-06-12T08:08:50.732Z"
   },
   {
    "duration": 9,
    "start_time": "2021-06-12T08:08:50.750Z"
   },
   {
    "duration": 47,
    "start_time": "2021-06-12T08:08:50.762Z"
   },
   {
    "duration": 122,
    "start_time": "2021-06-12T08:08:50.812Z"
   },
   {
    "duration": -807,
    "start_time": "2021-06-12T08:08:51.744Z"
   },
   {
    "duration": -814,
    "start_time": "2021-06-12T08:08:51.752Z"
   },
   {
    "duration": -829,
    "start_time": "2021-06-12T08:08:51.769Z"
   },
   {
    "duration": -844,
    "start_time": "2021-06-12T08:08:51.785Z"
   },
   {
    "duration": -862,
    "start_time": "2021-06-12T08:08:51.804Z"
   },
   {
    "duration": -877,
    "start_time": "2021-06-12T08:08:51.820Z"
   },
   {
    "duration": -894,
    "start_time": "2021-06-12T08:08:51.839Z"
   },
   {
    "duration": -901,
    "start_time": "2021-06-12T08:08:51.847Z"
   },
   {
    "duration": -917,
    "start_time": "2021-06-12T08:08:51.864Z"
   },
   {
    "duration": -919,
    "start_time": "2021-06-12T08:08:51.867Z"
   },
   {
    "duration": -921,
    "start_time": "2021-06-12T08:08:51.871Z"
   },
   {
    "duration": -923,
    "start_time": "2021-06-12T08:08:51.874Z"
   },
   {
    "duration": -926,
    "start_time": "2021-06-12T08:08:51.878Z"
   },
   {
    "duration": -928,
    "start_time": "2021-06-12T08:08:51.881Z"
   },
   {
    "duration": -930,
    "start_time": "2021-06-12T08:08:51.884Z"
   },
   {
    "duration": -932,
    "start_time": "2021-06-12T08:08:51.888Z"
   },
   {
    "duration": -939,
    "start_time": "2021-06-12T08:08:51.896Z"
   },
   {
    "duration": -941,
    "start_time": "2021-06-12T08:08:51.899Z"
   },
   {
    "duration": -949,
    "start_time": "2021-06-12T08:08:51.908Z"
   },
   {
    "duration": -951,
    "start_time": "2021-06-12T08:08:51.911Z"
   },
   {
    "duration": -953,
    "start_time": "2021-06-12T08:08:51.914Z"
   },
   {
    "duration": 21,
    "start_time": "2021-06-12T08:09:01.111Z"
   },
   {
    "duration": 116,
    "start_time": "2021-06-12T08:09:16.036Z"
   },
   {
    "duration": 121,
    "start_time": "2021-06-12T08:09:32.117Z"
   },
   {
    "duration": 12,
    "start_time": "2021-06-12T08:10:50.527Z"
   },
   {
    "duration": 17,
    "start_time": "2021-06-12T08:11:01.558Z"
   },
   {
    "duration": 5,
    "start_time": "2021-06-12T08:11:15.627Z"
   },
   {
    "duration": 8,
    "start_time": "2021-06-12T08:11:28.222Z"
   },
   {
    "duration": 8,
    "start_time": "2021-06-12T08:11:29.477Z"
   },
   {
    "duration": 484,
    "start_time": "2021-06-12T08:12:19.267Z"
   },
   {
    "duration": 367,
    "start_time": "2021-06-12T08:13:54.374Z"
   },
   {
    "duration": 383,
    "start_time": "2021-06-12T08:18:27.655Z"
   },
   {
    "duration": 24,
    "start_time": "2021-06-12T08:19:00.057Z"
   },
   {
    "duration": 384,
    "start_time": "2021-06-12T08:19:10.987Z"
   },
   {
    "duration": 4,
    "start_time": "2021-06-12T08:19:26.528Z"
   },
   {
    "duration": 4,
    "start_time": "2021-06-12T08:19:38.663Z"
   },
   {
    "duration": 1851,
    "start_time": "2021-06-12T08:20:16.437Z"
   },
   {
    "duration": 1011,
    "start_time": "2021-06-12T08:20:18.290Z"
   },
   {
    "duration": 255,
    "start_time": "2021-06-12T08:20:19.303Z"
   },
   {
    "duration": 3,
    "start_time": "2021-06-12T08:20:19.561Z"
   },
   {
    "duration": 83,
    "start_time": "2021-06-12T08:20:19.566Z"
   },
   {
    "duration": 24,
    "start_time": "2021-06-12T08:20:19.651Z"
   },
   {
    "duration": 658,
    "start_time": "2021-06-12T08:20:19.677Z"
   },
   {
    "duration": 210,
    "start_time": "2021-06-12T08:20:20.337Z"
   },
   {
    "duration": 16,
    "start_time": "2021-06-12T08:20:20.551Z"
   },
   {
    "duration": 27,
    "start_time": "2021-06-12T08:20:20.570Z"
   },
   {
    "duration": 12,
    "start_time": "2021-06-12T08:20:20.599Z"
   },
   {
    "duration": 11,
    "start_time": "2021-06-12T08:20:20.613Z"
   },
   {
    "duration": 44,
    "start_time": "2021-06-12T08:20:20.627Z"
   },
   {
    "duration": 36,
    "start_time": "2021-06-12T08:20:20.673Z"
   },
   {
    "duration": 16,
    "start_time": "2021-06-12T08:20:20.712Z"
   },
   {
    "duration": 49,
    "start_time": "2021-06-12T08:20:20.731Z"
   },
   {
    "duration": 22,
    "start_time": "2021-06-12T08:20:20.783Z"
   },
   {
    "duration": 22,
    "start_time": "2021-06-12T08:20:20.807Z"
   },
   {
    "duration": 119,
    "start_time": "2021-06-12T08:20:20.831Z"
   },
   {
    "duration": -2305,
    "start_time": "2021-06-12T08:20:23.258Z"
   },
   {
    "duration": -2308,
    "start_time": "2021-06-12T08:20:23.262Z"
   },
   {
    "duration": -2311,
    "start_time": "2021-06-12T08:20:23.266Z"
   },
   {
    "duration": -2313,
    "start_time": "2021-06-12T08:20:23.270Z"
   },
   {
    "duration": -2316,
    "start_time": "2021-06-12T08:20:23.274Z"
   },
   {
    "duration": -2400,
    "start_time": "2021-06-12T08:20:23.359Z"
   },
   {
    "duration": -2404,
    "start_time": "2021-06-12T08:20:23.365Z"
   },
   {
    "duration": -2406,
    "start_time": "2021-06-12T08:20:23.368Z"
   },
   {
    "duration": -2409,
    "start_time": "2021-06-12T08:20:23.372Z"
   },
   {
    "duration": -2410,
    "start_time": "2021-06-12T08:20:23.375Z"
   },
   {
    "duration": -2413,
    "start_time": "2021-06-12T08:20:23.379Z"
   },
   {
    "duration": -2415,
    "start_time": "2021-06-12T08:20:23.382Z"
   },
   {
    "duration": -2418,
    "start_time": "2021-06-12T08:20:23.386Z"
   },
   {
    "duration": -2419,
    "start_time": "2021-06-12T08:20:23.389Z"
   },
   {
    "duration": -2421,
    "start_time": "2021-06-12T08:20:23.392Z"
   },
   {
    "duration": -2461,
    "start_time": "2021-06-12T08:20:23.433Z"
   },
   {
    "duration": -2468,
    "start_time": "2021-06-12T08:20:23.442Z"
   },
   {
    "duration": -2470,
    "start_time": "2021-06-12T08:20:23.445Z"
   },
   {
    "duration": -2473,
    "start_time": "2021-06-12T08:20:23.449Z"
   },
   {
    "duration": -2474,
    "start_time": "2021-06-12T08:20:23.452Z"
   },
   {
    "duration": -2477,
    "start_time": "2021-06-12T08:20:23.456Z"
   },
   {
    "duration": -2479,
    "start_time": "2021-06-12T08:20:23.459Z"
   },
   {
    "duration": 4,
    "start_time": "2021-06-12T08:21:03.785Z"
   },
   {
    "duration": 26,
    "start_time": "2021-06-12T08:21:08.315Z"
   },
   {
    "duration": 4,
    "start_time": "2021-06-12T08:21:12.015Z"
   },
   {
    "duration": 10,
    "start_time": "2021-06-12T08:21:21.546Z"
   },
   {
    "duration": 9,
    "start_time": "2021-06-12T08:21:25.366Z"
   },
   {
    "duration": 25,
    "start_time": "2021-06-12T08:21:48.704Z"
   },
   {
    "duration": 5,
    "start_time": "2021-06-12T08:21:51.814Z"
   },
   {
    "duration": 9,
    "start_time": "2021-06-12T08:21:54.876Z"
   },
   {
    "duration": 9,
    "start_time": "2021-06-12T08:21:58.056Z"
   },
   {
    "duration": 5,
    "start_time": "2021-06-12T08:22:36.923Z"
   },
   {
    "duration": 22,
    "start_time": "2021-06-12T08:22:54.759Z"
   },
   {
    "duration": 23,
    "start_time": "2021-06-12T08:23:15.014Z"
   },
   {
    "duration": 4,
    "start_time": "2021-06-12T08:23:34.751Z"
   },
   {
    "duration": 4161,
    "start_time": "2021-06-12T08:23:37.194Z"
   },
   {
    "duration": 928,
    "start_time": "2021-06-12T08:23:56.595Z"
   },
   {
    "duration": 10911,
    "start_time": "2021-06-12T08:24:06.303Z"
   },
   {
    "duration": 10438,
    "start_time": "2021-06-12T08:24:56.362Z"
   },
   {
    "duration": 10309,
    "start_time": "2021-06-12T08:26:49.450Z"
   },
   {
    "duration": 10600,
    "start_time": "2021-06-12T08:27:57.709Z"
   },
   {
    "duration": 5,
    "start_time": "2021-06-12T08:28:18.287Z"
   },
   {
    "duration": 5,
    "start_time": "2021-06-12T08:28:18.921Z"
   },
   {
    "duration": 8,
    "start_time": "2021-06-12T08:28:30.890Z"
   },
   {
    "duration": 4,
    "start_time": "2021-06-12T08:28:51.639Z"
   },
   {
    "duration": 11,
    "start_time": "2021-06-12T08:28:54.342Z"
   },
   {
    "duration": 15,
    "start_time": "2021-06-12T08:28:55.466Z"
   },
   {
    "duration": 3,
    "start_time": "2021-06-12T08:29:01.539Z"
   },
   {
    "duration": 4,
    "start_time": "2021-06-12T08:29:02.726Z"
   },
   {
    "duration": 1344,
    "start_time": "2021-06-12T08:29:14.766Z"
   },
   {
    "duration": 39735,
    "start_time": "2021-06-12T08:29:23.875Z"
   },
   {
    "duration": 8064,
    "start_time": "2021-06-12T08:30:21.984Z"
   },
   {
    "duration": 17,
    "start_time": "2021-06-12T08:30:30.052Z"
   },
   {
    "duration": 15,
    "start_time": "2021-06-12T08:30:30.072Z"
   },
   {
    "duration": 5,
    "start_time": "2021-06-12T08:31:54.880Z"
   },
   {
    "duration": 5,
    "start_time": "2021-06-12T08:32:07.444Z"
   },
   {
    "duration": 503,
    "start_time": "2021-06-12T08:35:36.335Z"
   },
   {
    "duration": 342,
    "start_time": "2021-06-12T08:36:06.019Z"
   },
   {
    "duration": 338,
    "start_time": "2021-06-12T08:39:07.016Z"
   },
   {
    "duration": 370,
    "start_time": "2021-06-12T08:39:19.586Z"
   },
   {
    "duration": 536,
    "start_time": "2021-06-12T08:42:35.781Z"
   },
   {
    "duration": 5,
    "start_time": "2021-06-12T08:42:59.124Z"
   },
   {
    "duration": 5,
    "start_time": "2021-06-12T08:43:45.057Z"
   },
   {
    "duration": 549,
    "start_time": "2021-06-12T08:43:55.963Z"
   },
   {
    "duration": 3,
    "start_time": "2021-06-12T08:47:12.492Z"
   },
   {
    "duration": 5,
    "start_time": "2021-06-12T08:47:19.353Z"
   },
   {
    "duration": 6,
    "start_time": "2021-06-12T08:47:30.185Z"
   },
   {
    "duration": 3,
    "start_time": "2021-06-12T08:47:40.449Z"
   },
   {
    "duration": 5,
    "start_time": "2021-06-12T08:47:44.257Z"
   },
   {
    "duration": 404,
    "start_time": "2021-06-12T08:48:04.567Z"
   },
   {
    "duration": 4,
    "start_time": "2021-06-12T08:48:58.479Z"
   },
   {
    "duration": 4,
    "start_time": "2021-06-12T08:49:33.164Z"
   },
   {
    "duration": 5,
    "start_time": "2021-06-12T08:49:49.321Z"
   },
   {
    "duration": 4,
    "start_time": "2021-06-12T08:52:52.511Z"
   },
   {
    "duration": 5,
    "start_time": "2021-06-12T08:52:53.360Z"
   },
   {
    "duration": 84,
    "start_time": "2021-06-12T08:55:56.223Z"
   },
   {
    "duration": 39,
    "start_time": "2021-06-12T08:55:57.205Z"
   },
   {
    "duration": 5,
    "start_time": "2021-06-12T08:56:05.857Z"
   },
   {
    "duration": 7,
    "start_time": "2021-06-12T08:56:27.385Z"
   },
   {
    "duration": 6,
    "start_time": "2021-06-12T08:59:09.820Z"
   },
   {
    "duration": 5,
    "start_time": "2021-06-12T08:59:15.208Z"
   },
   {
    "duration": 136,
    "start_time": "2021-06-12T08:59:48.877Z"
   },
   {
    "duration": 4,
    "start_time": "2021-06-12T09:00:17.161Z"
   },
   {
    "duration": 27,
    "start_time": "2021-06-12T09:00:26.516Z"
   },
   {
    "duration": 5,
    "start_time": "2021-06-12T09:00:41.911Z"
   },
   {
    "duration": 688,
    "start_time": "2021-06-12T09:02:56.671Z"
   },
   {
    "duration": 4,
    "start_time": "2021-06-12T09:03:03.471Z"
   },
   {
    "duration": 6,
    "start_time": "2021-06-12T09:03:03.634Z"
   },
   {
    "duration": 135,
    "start_time": "2021-06-12T09:03:36.666Z"
   },
   {
    "duration": 6,
    "start_time": "2021-06-12T09:06:03.660Z"
   },
   {
    "duration": 5,
    "start_time": "2021-06-12T09:06:04.660Z"
   },
   {
    "duration": 6,
    "start_time": "2021-06-12T09:06:14.719Z"
   },
   {
    "duration": 5,
    "start_time": "2021-06-12T09:06:33.862Z"
   },
   {
    "duration": 6,
    "start_time": "2021-06-12T09:06:34.711Z"
   },
   {
    "duration": 5,
    "start_time": "2021-06-12T09:07:43.662Z"
   },
   {
    "duration": 6,
    "start_time": "2021-06-12T09:07:44.664Z"
   },
   {
    "duration": 138,
    "start_time": "2021-06-12T09:07:54.760Z"
   },
   {
    "duration": 4,
    "start_time": "2021-06-12T09:07:55.822Z"
   },
   {
    "duration": 6,
    "start_time": "2021-06-12T09:07:56.726Z"
   },
   {
    "duration": 6,
    "start_time": "2021-06-12T09:08:11.105Z"
   },
   {
    "duration": 5,
    "start_time": "2021-06-12T09:08:32.680Z"
   },
   {
    "duration": 6,
    "start_time": "2021-06-12T09:09:33.244Z"
   },
   {
    "duration": 340,
    "start_time": "2021-06-12T09:10:39.809Z"
   },
   {
    "duration": 4,
    "start_time": "2021-06-12T09:13:08.066Z"
   },
   {
    "duration": 21,
    "start_time": "2021-06-12T09:13:12.028Z"
   },
   {
    "duration": 21,
    "start_time": "2021-06-12T09:14:34.332Z"
   },
   {
    "duration": 5,
    "start_time": "2021-06-12T09:14:48.999Z"
   },
   {
    "duration": 355,
    "start_time": "2021-06-12T09:14:53.518Z"
   },
   {
    "duration": 404,
    "start_time": "2021-06-12T09:45:59.732Z"
   },
   {
    "duration": 4,
    "start_time": "2021-06-12T09:46:19.702Z"
   },
   {
    "duration": 131,
    "start_time": "2021-06-12T09:46:31.814Z"
   },
   {
    "duration": 5,
    "start_time": "2021-06-12T09:46:46.451Z"
   },
   {
    "duration": 6,
    "start_time": "2021-06-12T09:46:47.291Z"
   },
   {
    "duration": 6,
    "start_time": "2021-06-12T09:46:54.596Z"
   },
   {
    "duration": 121,
    "start_time": "2021-06-12T09:50:09.098Z"
   },
   {
    "duration": 13,
    "start_time": "2021-06-12T09:50:32.425Z"
   },
   {
    "duration": 6,
    "start_time": "2021-06-12T09:50:39.444Z"
   },
   {
    "duration": 362,
    "start_time": "2021-06-12T09:53:08.520Z"
   },
   {
    "duration": 15,
    "start_time": "2021-06-12T09:53:24.441Z"
   },
   {
    "duration": 7,
    "start_time": "2021-06-12T09:53:34.623Z"
   }
  ],
  "kernelspec": {
   "display_name": "Python 3",
   "language": "python",
   "name": "python3"
  },
  "language_info": {
   "codemirror_mode": {
    "name": "ipython",
    "version": 3
   },
   "file_extension": ".py",
   "mimetype": "text/x-python",
   "name": "python",
   "nbconvert_exporter": "python",
   "pygments_lexer": "ipython3",
   "version": "3.9.5"
  },
  "toc": {
   "base_numbering": 1,
   "nav_menu": {},
   "number_sections": true,
   "sideBar": true,
   "skip_h1_title": true,
   "title_cell": "Содержание",
   "title_sidebar": "Contents",
   "toc_cell": true,
   "toc_position": {
    "height": "calc(100% - 180px)",
    "left": "10px",
    "top": "150px",
    "width": "165px"
   },
   "toc_section_display": true,
   "toc_window_display": true
  }
 },
 "nbformat": 4,
 "nbformat_minor": 2
}
